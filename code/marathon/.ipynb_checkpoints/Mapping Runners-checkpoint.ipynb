{
 "cells": [
  {
   "cell_type": "markdown",
   "metadata": {},
   "source": [
    "# Where do US marathon runners live? "
   ]
  },
  {
   "cell_type": "markdown",
   "metadata": {},
   "source": [
    "Pitch: Recent attempts by Nike to 'perfect' the marathon put attention on the great feat of long-distance running. While elite marathon runners are considered some of the best athletes in the world, recreational marathon running has grown exponentially in the past decade (with well over half a million finishers in the United States last year). \n",
    "\n",
    "The biggest marathons in the US - Boston, Chicago and LA, bring runners from around the world to compete for prize money or just the chance to run on historic routes. For the project, I want to explore where runners with the US come from...and how far are they willing to travel to compete in some of the most well-known races. \n",
    "\n",
    "With this, I hope to answer questions such as: \n",
    "* What city holds the most amount of traveling runners? (as in people who don't live in the LA area travel to LA)\n",
    "* What is the average distance traveled? \n",
    "\n",
    "Possible tite: \n",
    "* In the biggest US marathons, runners travel XXX miles to compete\n",
    "* Traveling for races becomes a new part of running culture "
   ]
  },
  {
   "cell_type": "code",
   "execution_count": 1,
   "metadata": {
    "collapsed": true
   },
   "outputs": [],
   "source": [
    "import pandas as pd\n",
    "import requests\n",
    "import geopandas as gpd\n",
    "%matplotlib inline"
   ]
  },
  {
   "cell_type": "markdown",
   "metadata": {},
   "source": [
    "Step One: Read in slightly cleaned up CSV files of finishers (5,000 men and 5,000 women)"
   ]
  },
  {
   "cell_type": "code",
   "execution_count": 15,
   "metadata": {},
   "outputs": [
    {
     "data": {
      "text/plain": [
       "(26410, 6)"
      ]
     },
     "execution_count": 15,
     "metadata": {},
     "output_type": "execute_result"
    }
   ],
   "source": [
    "df_boston = pd.read_csv('BostonMarathon.csv')\n",
    "df_boston.head()\n",
    "df_boston.shape"
   ]
  },
  {
   "cell_type": "code",
   "execution_count": 11,
   "metadata": {},
   "outputs": [
    {
     "data": {
      "text/plain": [
       "(9996, 7)"
      ]
     },
     "execution_count": 11,
     "metadata": {},
     "output_type": "execute_result"
    }
   ],
   "source": [
    "df_chicago = pd.read_csv('ChicagoMarathon.csv')\n",
    "df_chicago.head()\n",
    "df_chicago.shape"
   ]
  },
  {
   "cell_type": "code",
   "execution_count": 14,
   "metadata": {},
   "outputs": [
    {
     "data": {
      "text/plain": [
       "(10840, 6)"
      ]
     },
     "execution_count": 14,
     "metadata": {},
     "output_type": "execute_result"
    }
   ],
   "source": [
    "df_LA = pd.read_csv('LAMarathon.csv')\n",
    "df_LA.head()\n",
    "df_LA.shape"
   ]
  },
  {
   "cell_type": "code",
   "execution_count": 18,
   "metadata": {},
   "outputs": [
    {
     "data": {
      "text/plain": [
       "USA)    6944\n",
       "MEX)     377\n",
       "CAN)     372\n",
       "GBR)     240\n",
       "ESP)     146\n",
       "FRA)     140\n",
       "JPN)     120\n",
       "BRA)     119\n",
       "CHN)     105\n",
       "CRC)     104\n",
       "GER)     103\n",
       "ITA)      80\n",
       "COL)      67\n",
       "AUS)      64\n",
       "VEN)      61\n",
       "GUA)      56\n",
       "CHI)      52\n",
       "NED)      46\n",
       "POL)      46\n",
       "ARG)      44\n",
       "IRL)      44\n",
       "SWE)      41\n",
       "DEN)      38\n",
       "HKG)      37\n",
       "SUI)      33\n",
       "Name: Country, dtype: int64"
      ]
     },
     "execution_count": 18,
     "metadata": {},
     "output_type": "execute_result"
    }
   ],
   "source": [
    "df_chicago['Country'].value_counts().head(25)"
   ]
  },
  {
   "cell_type": "code",
   "execution_count": null,
   "metadata": {
    "collapsed": true
   },
   "outputs": [],
   "source": []
  }
 ],
 "metadata": {
  "kernelspec": {
   "display_name": "Python 3",
   "language": "python",
   "name": "python3"
  },
  "language_info": {
   "codemirror_mode": {
    "name": "ipython",
    "version": 3
   },
   "file_extension": ".py",
   "mimetype": "text/x-python",
   "name": "python",
   "nbconvert_exporter": "python",
   "pygments_lexer": "ipython3",
   "version": "3.6.1"
  }
 },
 "nbformat": 4,
 "nbformat_minor": 2
}
