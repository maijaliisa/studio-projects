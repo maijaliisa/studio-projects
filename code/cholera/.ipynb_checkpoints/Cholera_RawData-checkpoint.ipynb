{
 "cells": [
  {
   "cell_type": "code",
   "execution_count": null,
   "metadata": {
    "collapsed": true
   },
   "outputs": [],
   "source": [
    "import pandas as pd\n",
    "%matplotlib inline\n",
    "import matplotlib.pyplot as plt"
   ]
  },
  {
   "cell_type": "code",
   "execution_count": 20,
   "metadata": {
    "collapsed": true,
    "scrolled": true
   },
   "outputs": [],
   "source": [
    "df_haiti = pd.read_csv('cholera_cleaned.csv')\n",
    "#df_haiti.set_index('Month', inplace=True)\n",
    "#dataset from https://data.humdata.org/dataset/haiti-number-of-cholera-cases-per-month-since-2010 "
   ]
  },
  {
   "cell_type": "code",
   "execution_count": 21,
   "metadata": {
    "scrolled": true
   },
   "outputs": [
    {
     "data": {
      "text/html": [
       "<div>\n",
       "<style>\n",
       "    .dataframe thead tr:only-child th {\n",
       "        text-align: right;\n",
       "    }\n",
       "\n",
       "    .dataframe thead th {\n",
       "        text-align: left;\n",
       "    }\n",
       "\n",
       "    .dataframe tbody tr th {\n",
       "        vertical-align: top;\n",
       "    }\n",
       "</style>\n",
       "<table border=\"1\" class=\"dataframe\">\n",
       "  <thead>\n",
       "    <tr style=\"text-align: right;\">\n",
       "      <th></th>\n",
       "      <th>Month</th>\n",
       "      <th>Monthly deaths</th>\n",
       "      <th>Monthly cases</th>\n",
       "    </tr>\n",
       "  </thead>\n",
       "  <tbody>\n",
       "    <tr>\n",
       "      <th>0</th>\n",
       "      <td>31-Oct-10</td>\n",
       "      <td>557</td>\n",
       "      <td>20905</td>\n",
       "    </tr>\n",
       "    <tr>\n",
       "      <th>1</th>\n",
       "      <td>30-Nov-10</td>\n",
       "      <td>1590</td>\n",
       "      <td>69688</td>\n",
       "    </tr>\n",
       "    <tr>\n",
       "      <th>2</th>\n",
       "      <td>31-Dec-10</td>\n",
       "      <td>1954</td>\n",
       "      <td>94617</td>\n",
       "    </tr>\n",
       "    <tr>\n",
       "      <th>3</th>\n",
       "      <td>31-Jan-11</td>\n",
       "      <td>573</td>\n",
       "      <td>54710</td>\n",
       "    </tr>\n",
       "    <tr>\n",
       "      <th>4</th>\n",
       "      <td>28-Feb-11</td>\n",
       "      <td>186</td>\n",
       "      <td>28372</td>\n",
       "    </tr>\n",
       "    <tr>\n",
       "      <th>5</th>\n",
       "      <td>31-Mar-11</td>\n",
       "      <td>138</td>\n",
       "      <td>24993</td>\n",
       "    </tr>\n",
       "    <tr>\n",
       "      <th>6</th>\n",
       "      <td>30-Apr-11</td>\n",
       "      <td>161</td>\n",
       "      <td>18835</td>\n",
       "    </tr>\n",
       "    <tr>\n",
       "      <th>7</th>\n",
       "      <td>31-May-11</td>\n",
       "      <td>193</td>\n",
       "      <td>29785</td>\n",
       "    </tr>\n",
       "    <tr>\n",
       "      <th>8</th>\n",
       "      <td>30-Jun-11</td>\n",
       "      <td>546</td>\n",
       "      <td>56352</td>\n",
       "    </tr>\n",
       "    <tr>\n",
       "      <th>9</th>\n",
       "      <td>31-Jul-11</td>\n",
       "      <td>361</td>\n",
       "      <td>39207</td>\n",
       "    </tr>\n",
       "    <tr>\n",
       "      <th>10</th>\n",
       "      <td>31-Aug-11</td>\n",
       "      <td>202</td>\n",
       "      <td>24924</td>\n",
       "    </tr>\n",
       "    <tr>\n",
       "      <th>11</th>\n",
       "      <td>30-Sep-11</td>\n",
       "      <td>195</td>\n",
       "      <td>23253</td>\n",
       "    </tr>\n",
       "    <tr>\n",
       "      <th>12</th>\n",
       "      <td>31-Oct-11</td>\n",
       "      <td>205</td>\n",
       "      <td>28135</td>\n",
       "    </tr>\n",
       "    <tr>\n",
       "      <th>13</th>\n",
       "      <td>30-Nov-11</td>\n",
       "      <td>120</td>\n",
       "      <td>17023</td>\n",
       "    </tr>\n",
       "    <tr>\n",
       "      <th>14</th>\n",
       "      <td>31-Dec-11</td>\n",
       "      <td>47</td>\n",
       "      <td>6250</td>\n",
       "    </tr>\n",
       "    <tr>\n",
       "      <th>15</th>\n",
       "      <td>31-Jan-12</td>\n",
       "      <td>9</td>\n",
       "      <td>4367</td>\n",
       "    </tr>\n",
       "    <tr>\n",
       "      <th>16</th>\n",
       "      <td>29-Feb-12</td>\n",
       "      <td>18</td>\n",
       "      <td>3186</td>\n",
       "    </tr>\n",
       "    <tr>\n",
       "      <th>17</th>\n",
       "      <td>31-Mar-12</td>\n",
       "      <td>34</td>\n",
       "      <td>3279</td>\n",
       "    </tr>\n",
       "    <tr>\n",
       "      <th>18</th>\n",
       "      <td>30-Apr-12</td>\n",
       "      <td>52</td>\n",
       "      <td>6026</td>\n",
       "    </tr>\n",
       "    <tr>\n",
       "      <th>19</th>\n",
       "      <td>31-May-12</td>\n",
       "      <td>112</td>\n",
       "      <td>14338</td>\n",
       "    </tr>\n",
       "    <tr>\n",
       "      <th>20</th>\n",
       "      <td>30-Jun-12</td>\n",
       "      <td>110</td>\n",
       "      <td>9942</td>\n",
       "    </tr>\n",
       "    <tr>\n",
       "      <th>21</th>\n",
       "      <td>31-Jul-12</td>\n",
       "      <td>61</td>\n",
       "      <td>6673</td>\n",
       "    </tr>\n",
       "    <tr>\n",
       "      <th>22</th>\n",
       "      <td>31-Aug-12</td>\n",
       "      <td>64</td>\n",
       "      <td>6001</td>\n",
       "    </tr>\n",
       "    <tr>\n",
       "      <th>23</th>\n",
       "      <td>30-Sep-12</td>\n",
       "      <td>75</td>\n",
       "      <td>7621</td>\n",
       "    </tr>\n",
       "    <tr>\n",
       "      <th>24</th>\n",
       "      <td>31-Oct-12</td>\n",
       "      <td>100</td>\n",
       "      <td>11830</td>\n",
       "    </tr>\n",
       "    <tr>\n",
       "      <th>25</th>\n",
       "      <td>30-Nov-12</td>\n",
       "      <td>131</td>\n",
       "      <td>15238</td>\n",
       "    </tr>\n",
       "    <tr>\n",
       "      <th>26</th>\n",
       "      <td>31-Dec-12</td>\n",
       "      <td>142</td>\n",
       "      <td>12853</td>\n",
       "    </tr>\n",
       "    <tr>\n",
       "      <th>27</th>\n",
       "      <td>31-Jan-13</td>\n",
       "      <td>86</td>\n",
       "      <td>7257</td>\n",
       "    </tr>\n",
       "    <tr>\n",
       "      <th>28</th>\n",
       "      <td>28-Feb-13</td>\n",
       "      <td>14</td>\n",
       "      <td>4332</td>\n",
       "    </tr>\n",
       "    <tr>\n",
       "      <th>29</th>\n",
       "      <td>31-Mar-13</td>\n",
       "      <td>24</td>\n",
       "      <td>3433</td>\n",
       "    </tr>\n",
       "    <tr>\n",
       "      <th>...</th>\n",
       "      <td>...</td>\n",
       "      <td>...</td>\n",
       "      <td>...</td>\n",
       "    </tr>\n",
       "    <tr>\n",
       "      <th>36</th>\n",
       "      <td>31-Oct-13</td>\n",
       "      <td>99</td>\n",
       "      <td>7162</td>\n",
       "    </tr>\n",
       "    <tr>\n",
       "      <th>37</th>\n",
       "      <td>30-Nov-13</td>\n",
       "      <td>81</td>\n",
       "      <td>6962</td>\n",
       "    </tr>\n",
       "    <tr>\n",
       "      <th>38</th>\n",
       "      <td>31-Dec-13</td>\n",
       "      <td>62</td>\n",
       "      <td>2593</td>\n",
       "    </tr>\n",
       "    <tr>\n",
       "      <th>39</th>\n",
       "      <td>31-Jan-14</td>\n",
       "      <td>14</td>\n",
       "      <td>1629</td>\n",
       "    </tr>\n",
       "    <tr>\n",
       "      <th>40</th>\n",
       "      <td>28-Feb-14</td>\n",
       "      <td>4</td>\n",
       "      <td>1259</td>\n",
       "    </tr>\n",
       "    <tr>\n",
       "      <th>41</th>\n",
       "      <td>31-Mar-14</td>\n",
       "      <td>10</td>\n",
       "      <td>889</td>\n",
       "    </tr>\n",
       "    <tr>\n",
       "      <th>42</th>\n",
       "      <td>30-Apr-14</td>\n",
       "      <td>4</td>\n",
       "      <td>866</td>\n",
       "    </tr>\n",
       "    <tr>\n",
       "      <th>43</th>\n",
       "      <td>31-May-14</td>\n",
       "      <td>3</td>\n",
       "      <td>902</td>\n",
       "    </tr>\n",
       "    <tr>\n",
       "      <th>44</th>\n",
       "      <td>30-Jun-14</td>\n",
       "      <td>14</td>\n",
       "      <td>1017</td>\n",
       "    </tr>\n",
       "    <tr>\n",
       "      <th>45</th>\n",
       "      <td>31-Jul-14</td>\n",
       "      <td>7</td>\n",
       "      <td>1148</td>\n",
       "    </tr>\n",
       "    <tr>\n",
       "      <th>46</th>\n",
       "      <td>31-Aug-14</td>\n",
       "      <td>13</td>\n",
       "      <td>1025</td>\n",
       "    </tr>\n",
       "    <tr>\n",
       "      <th>47</th>\n",
       "      <td>30-Sep-14</td>\n",
       "      <td>28</td>\n",
       "      <td>1839</td>\n",
       "    </tr>\n",
       "    <tr>\n",
       "      <th>48</th>\n",
       "      <td>31-Oct-14</td>\n",
       "      <td>52</td>\n",
       "      <td>4577</td>\n",
       "    </tr>\n",
       "    <tr>\n",
       "      <th>49</th>\n",
       "      <td>30-Nov-14</td>\n",
       "      <td>95</td>\n",
       "      <td>6765</td>\n",
       "    </tr>\n",
       "    <tr>\n",
       "      <th>50</th>\n",
       "      <td>31-Dec-14</td>\n",
       "      <td>53</td>\n",
       "      <td>5392</td>\n",
       "    </tr>\n",
       "    <tr>\n",
       "      <th>51</th>\n",
       "      <td>31-Jan-15</td>\n",
       "      <td>36</td>\n",
       "      <td>4321</td>\n",
       "    </tr>\n",
       "    <tr>\n",
       "      <th>52</th>\n",
       "      <td>28-Feb-15</td>\n",
       "      <td>46</td>\n",
       "      <td>4055</td>\n",
       "    </tr>\n",
       "    <tr>\n",
       "      <th>53</th>\n",
       "      <td>31-Mar-15</td>\n",
       "      <td>22</td>\n",
       "      <td>3041</td>\n",
       "    </tr>\n",
       "    <tr>\n",
       "      <th>54</th>\n",
       "      <td>30-Apr-15</td>\n",
       "      <td>19</td>\n",
       "      <td>3098</td>\n",
       "    </tr>\n",
       "    <tr>\n",
       "      <th>55</th>\n",
       "      <td>31-May-15</td>\n",
       "      <td>13</td>\n",
       "      <td>1702</td>\n",
       "    </tr>\n",
       "    <tr>\n",
       "      <th>56</th>\n",
       "      <td>30-Jun-15</td>\n",
       "      <td>13</td>\n",
       "      <td>1732</td>\n",
       "    </tr>\n",
       "    <tr>\n",
       "      <th>57</th>\n",
       "      <td>31-Jul-15</td>\n",
       "      <td>21</td>\n",
       "      <td>2000</td>\n",
       "    </tr>\n",
       "    <tr>\n",
       "      <th>58</th>\n",
       "      <td>30-Aug-15</td>\n",
       "      <td>22</td>\n",
       "      <td>1744</td>\n",
       "    </tr>\n",
       "    <tr>\n",
       "      <th>59</th>\n",
       "      <td>30-Sep-15</td>\n",
       "      <td>18</td>\n",
       "      <td>2082</td>\n",
       "    </tr>\n",
       "    <tr>\n",
       "      <th>60</th>\n",
       "      <td>30-Oct-15</td>\n",
       "      <td>24</td>\n",
       "      <td>2608</td>\n",
       "    </tr>\n",
       "    <tr>\n",
       "      <th>61</th>\n",
       "      <td>30-Nov-15</td>\n",
       "      <td>63</td>\n",
       "      <td>4944</td>\n",
       "    </tr>\n",
       "    <tr>\n",
       "      <th>62</th>\n",
       "      <td>30-Dec-15</td>\n",
       "      <td>26</td>\n",
       "      <td>5436</td>\n",
       "    </tr>\n",
       "    <tr>\n",
       "      <th>63</th>\n",
       "      <td>30-Jan-16</td>\n",
       "      <td>60</td>\n",
       "      <td>5335</td>\n",
       "    </tr>\n",
       "    <tr>\n",
       "      <th>64</th>\n",
       "      <td>29-Feb-16</td>\n",
       "      <td>35</td>\n",
       "      <td>3264</td>\n",
       "    </tr>\n",
       "    <tr>\n",
       "      <th>65</th>\n",
       "      <td>30-Mar-16</td>\n",
       "      <td>34</td>\n",
       "      <td>3101</td>\n",
       "    </tr>\n",
       "  </tbody>\n",
       "</table>\n",
       "<p>66 rows × 3 columns</p>\n",
       "</div>"
      ],
      "text/plain": [
       "        Month  Monthly deaths  Monthly cases\n",
       "0   31-Oct-10             557          20905\n",
       "1   30-Nov-10            1590          69688\n",
       "2   31-Dec-10            1954          94617\n",
       "3   31-Jan-11             573          54710\n",
       "4   28-Feb-11             186          28372\n",
       "5   31-Mar-11             138          24993\n",
       "6   30-Apr-11             161          18835\n",
       "7   31-May-11             193          29785\n",
       "8   30-Jun-11             546          56352\n",
       "9   31-Jul-11             361          39207\n",
       "10  31-Aug-11             202          24924\n",
       "11  30-Sep-11             195          23253\n",
       "12  31-Oct-11             205          28135\n",
       "13  30-Nov-11             120          17023\n",
       "14  31-Dec-11              47           6250\n",
       "15  31-Jan-12               9           4367\n",
       "16  29-Feb-12              18           3186\n",
       "17  31-Mar-12              34           3279\n",
       "18  30-Apr-12              52           6026\n",
       "19  31-May-12             112          14338\n",
       "20  30-Jun-12             110           9942\n",
       "21  31-Jul-12              61           6673\n",
       "22  31-Aug-12              64           6001\n",
       "23  30-Sep-12              75           7621\n",
       "24  31-Oct-12             100          11830\n",
       "25  30-Nov-12             131          15238\n",
       "26  31-Dec-12             142          12853\n",
       "27  31-Jan-13              86           7257\n",
       "28  28-Feb-13              14           4332\n",
       "29  31-Mar-13              24           3433\n",
       "..        ...             ...            ...\n",
       "36  31-Oct-13              99           7162\n",
       "37  30-Nov-13              81           6962\n",
       "38  31-Dec-13              62           2593\n",
       "39  31-Jan-14              14           1629\n",
       "40  28-Feb-14               4           1259\n",
       "41  31-Mar-14              10            889\n",
       "42  30-Apr-14               4            866\n",
       "43  31-May-14               3            902\n",
       "44  30-Jun-14              14           1017\n",
       "45  31-Jul-14               7           1148\n",
       "46  31-Aug-14              13           1025\n",
       "47  30-Sep-14              28           1839\n",
       "48  31-Oct-14              52           4577\n",
       "49  30-Nov-14              95           6765\n",
       "50  31-Dec-14              53           5392\n",
       "51  31-Jan-15              36           4321\n",
       "52  28-Feb-15              46           4055\n",
       "53  31-Mar-15              22           3041\n",
       "54  30-Apr-15              19           3098\n",
       "55  31-May-15              13           1702\n",
       "56  30-Jun-15              13           1732\n",
       "57  31-Jul-15              21           2000\n",
       "58  30-Aug-15              22           1744\n",
       "59  30-Sep-15              18           2082\n",
       "60  30-Oct-15              24           2608\n",
       "61  30-Nov-15              63           4944\n",
       "62  30-Dec-15              26           5436\n",
       "63  30-Jan-16              60           5335\n",
       "64  29-Feb-16              35           3264\n",
       "65  30-Mar-16              34           3101\n",
       "\n",
       "[66 rows x 3 columns]"
      ]
     },
     "execution_count": 21,
     "metadata": {},
     "output_type": "execute_result"
    }
   ],
   "source": [
    "df_haiti"
   ]
  },
  {
   "cell_type": "code",
   "execution_count": 25,
   "metadata": {},
   "outputs": [
    {
     "data": {
      "text/plain": [
       "Month             object\n",
       "Monthly deaths     int64\n",
       "Monthly cases      int64\n",
       "dtype: object"
      ]
     },
     "execution_count": 25,
     "metadata": {},
     "output_type": "execute_result"
    }
   ],
   "source": [
    "df_haiti.dtypes"
   ]
  },
  {
   "cell_type": "code",
   "execution_count": null,
   "metadata": {},
   "outputs": [],
   "source": [
    "df_haiti.plot(figsize=(20,10))"
   ]
  },
  {
   "cell_type": "code",
   "execution_count": null,
   "metadata": {},
   "outputs": [],
   "source": [
    "#goal - get it to month-over-month datetime "
   ]
  },
  {
   "cell_type": "code",
   "execution_count": 28,
   "metadata": {
    "scrolled": true
   },
   "outputs": [],
   "source": [
    "# http://strftime.org/ \n",
    "df_haiti['Date'] = pd.to_datetime(df_haiti['Month'].astype(str),format='%d-%b-%y') "
   ]
  },
  {
   "cell_type": "code",
   "execution_count": 29,
   "metadata": {},
   "outputs": [
    {
     "data": {
      "text/plain": [
       "Month                     object\n",
       "Monthly deaths             int64\n",
       "Monthly cases              int64\n",
       "Date              datetime64[ns]\n",
       "dtype: object"
      ]
     },
     "execution_count": 29,
     "metadata": {},
     "output_type": "execute_result"
    }
   ],
   "source": [
    "df_haiti.dtypes"
   ]
  },
  {
   "cell_type": "code",
   "execution_count": 31,
   "metadata": {},
   "outputs": [],
   "source": [
    "del df_haiti['Month']"
   ]
  },
  {
   "cell_type": "code",
   "execution_count": 44,
   "metadata": {},
   "outputs": [
    {
     "data": {
      "text/plain": [
       "<matplotlib.axes._subplots.AxesSubplot at 0x115a51978>"
      ]
     },
     "execution_count": 44,
     "metadata": {},
     "output_type": "execute_result"
    },
    {
     "data": {
      "image/png": "[encoded data removed]",
      "text/plain": [
       "<matplotlib.figure.Figure at 0x115a307f0>"
      ]
     },
     "metadata": {},
     "output_type": "display_data"
    }
   ],
   "source": [
    "ax = df_haiti.plot(x='Date',y='Monthly cases',figsize=(20,10))\n",
    "df_haiti.plot(ax=ax,x='Date',y='Monthly deaths',figsize=(20,10),color='red')"
   ]
  },
  {
   "cell_type": "code",
   "execution_count": 48,
   "metadata": {},
   "outputs": [
    {
     "data": {
      "text/plain": [
       "<matplotlib.axes._subplots.AxesSubplot at 0x116929b70>"
      ]
     },
     "execution_count": 48,
     "metadata": {},
     "output_type": "execute_result"
    },
    {
     "data": {
      "image/png": "[encoded data removed]",
      "text/plain": [
       "<matplotlib.figure.Figure at 0x1167cbda0>"
      ]
     },
     "metadata": {},
     "output_type": "display_data"
    }
   ],
   "source": [
    "ax = df_haiti.resample('3M', on='Date')['Monthly cases'].mean().plot(figsize=(20,10), color=\"blue\")\n",
    "df_haiti.resample('3M', on='Date')['Monthly deaths'].mean().plot(ax=ax,figsize=(20,10), color=\"red\")\n",
    "#df_haiti.ylim([0,70000])"
   ]
  },
  {
   "cell_type": "code",
   "execution_count": null,
   "metadata": {
    "collapsed": true
   },
   "outputs": [],
   "source": []
  },
  {
   "cell_type": "code",
   "execution_count": null,
   "metadata": {
    "collapsed": true
   },
   "outputs": [],
   "source": []
  },
  {
   "cell_type": "code",
   "execution_count": null,
   "metadata": {
    "collapsed": true
   },
   "outputs": [],
   "source": [
    "from bs4 import BeautifulSoup\n",
    "import requests"
   ]
  },
  {
   "cell_type": "code",
   "execution_count": null,
   "metadata": {
    "collapsed": true
   },
   "outputs": [],
   "source": [
    "response = requests.get('https://query.nytimes.com/search/sitesearch/?action=click&contentCollection&region=TopBar&WT.nav=searchWidget&module=SearchSubmit&pgtype=Homepage#/Haiti+cholera/from20090101to20161231/allresults/1/allauthors/oldest/')\n",
    "doc = BeautifulSoup(response.text, 'html.parser')"
   ]
  },
  {
   "cell_type": "code",
   "execution_count": null,
   "metadata": {
    "scrolled": false
   },
   "outputs": [],
   "source": [
    "links = doc.find_all('a')\n",
    "\n",
    "for link in links[:10]:\n",
    "    print(\"This is a link\")\n",
    "    print(link.text)"
   ]
  },
  {
   "cell_type": "code",
   "execution_count": null,
   "metadata": {},
   "outputs": [],
   "source": [
    "story = doc.find_all('div', { 'id': 'page' })\n",
    "story\n",
    "#for story in story[:10]:\n",
    "#    print(\"This is a story\")\n",
    "#    print(story.text)"
   ]
  },
  {
   "cell_type": "code",
   "execution_count": null,
   "metadata": {
    "collapsed": true
   },
   "outputs": [],
   "source": []
  }
 ],
 "metadata": {
  "kernelspec": {
   "display_name": "Python 3",
   "language": "python",
   "name": "python3"
  },
  "language_info": {
   "codemirror_mode": {
    "name": "ipython",
    "version": 3
   },
   "file_extension": ".py",
   "mimetype": "text/x-python",
   "name": "python",
   "nbconvert_exporter": "python",
   "pygments_lexer": "ipython3",
   "version": "3.6.1"
  }
 },
 "nbformat": 4,
 "nbformat_minor": 2
}
