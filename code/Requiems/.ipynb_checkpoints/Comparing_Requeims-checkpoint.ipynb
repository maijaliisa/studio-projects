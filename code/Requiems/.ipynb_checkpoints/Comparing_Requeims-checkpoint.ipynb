{
 "cells": [
  {
   "cell_type": "markdown",
   "metadata": {},
   "source": [
    "# Scraping with Beautiful Soup"
   ]
  },
  {
   "cell_type": "code",
   "execution_count": 146,
   "metadata": {
    "collapsed": true
   },
   "outputs": [],
   "source": [
    "# http://www.nytimes.com/1983/04/24/arts/secular-requiems-death-as-public-art.html?pagewanted=all&mcubz=3 "
   ]
  },
  {
   "cell_type": "code",
   "execution_count": 147,
   "metadata": {
    "collapsed": true
   },
   "outputs": [],
   "source": [
    "import pandas as pd\n",
    "from bs4 import BeautifulSoup\n",
    "import requests"
   ]
  },
  {
   "cell_type": "code",
   "execution_count": 148,
   "metadata": {},
   "outputs": [
    {
     "name": "stdout",
     "output_type": "stream",
     "text": [
      "<!DOCTYPE html>\n",
      "<html class=\"client-nojs\" lang=\"en\" dir=\"ltr\">\n",
      "<head>\n",
      "<meta charset=\"UTF-8\"/>\n",
      "<title>Music for the Requiem Mass - Wikipedia</title>\n",
      "<script>document.documentElement.className = document.documentElement.className.replace( /(^|\\s)client-nojs(\\s|$)/, \"$1client-js$2\" );</script>\n",
      "<script>(window.RLQ=window.RLQ||[]).push(function(){mw.config.set({\"wgCanonicalNamespace\":\"\",\"wgCanonicalSpecialPageName\":false,\"wgNamespaceNumber\":0,\"wgPageName\":\"Music_for_the_Requiem_Mass\",\"wgTitle\":\"Music\n"
     ]
    }
   ],
   "source": [
    "r = requests.get('https://en.wikipedia.org/wiki/Music_for_the_Requiem_Mass')\n",
    "print(r.text[0:500])"
   ]
  },
  {
   "cell_type": "code",
   "execution_count": 149,
   "metadata": {
    "collapsed": true
   },
   "outputs": [],
   "source": [
    "soup = BeautifulSoup(r.text, 'html.parser')"
   ]
  },
  {
   "cell_type": "code",
   "execution_count": 150,
   "metadata": {},
   "outputs": [
    {
     "data": {
      "text/plain": [
       "<div class=\"div-col columns column-width\" style=\"-moz-column-width: 35em; -webkit-column-width: 35em; column-width: 35em;\">\n",
       "<h3><span class=\"mw-headline\" id=\"Renaissance\">Renaissance</span><span class=\"mw-editsection\"><span class=\"mw-editsection-bracket\">[</span><a href=\"/w/index.php?title=Music_for_the_Requiem_Mass&amp;action=edit&amp;section=18\" title=\"Edit section: Renaissance\">edit</a><span class=\"mw-editsection-bracket\">]</span></span></h3>\n",
       "<ul>\n",
       "<li><a href=\"/wiki/Giovanni_Francesco_Anerio\" title=\"Giovanni Francesco Anerio\">Giovanni Francesco Anerio</a></li>\n",
       "<li><a class=\"mw-redirect\" href=\"/wiki/Gianmatteo_Asola\" title=\"Gianmatteo Asola\">Gianmatteo Asola</a></li>\n",
       "<li><a href=\"/wiki/Giulio_Belli\" title=\"Giulio Belli\">Giulio Belli</a></li>\n",
       "<li><a href=\"/wiki/Antoine_Brumel\" title=\"Antoine Brumel\">Antoine Brumel</a></li>\n",
       "<li><a href=\"/wiki/Manuel_Cardoso\" title=\"Manuel Cardoso\">Manuel Cardoso</a></li>\n",
       "<li><a href=\"/wiki/Joan_Cererols\" title=\"Joan Cererols\">Joan Cererols</a></li>\n",
       "<li><a href=\"/wiki/Pierre_Certon\" title=\"Pierre Certon\">Pierre Certon</a></li>\n",
       "<li><a class=\"mw-redirect\" href=\"/wiki/Clemens_non_Papa\" title=\"Clemens non Papa\">Clemens non Papa</a></li>\n",
       "<li><a class=\"mw-redirect\" href=\"/wiki/Guillaume_Dufay\" title=\"Guillaume Dufay\">Guillaume Dufay</a> (lost)</li>\n",
       "<li><a href=\"/wiki/Pedro_de_Escobar\" title=\"Pedro de Escobar\">Pedro de Escobar</a></li>\n",
       "<li><a href=\"/wiki/Antoine_de_F%C3%A9vin\" title=\"Antoine de Févin\">Antoine de Févin</a></li>\n",
       "<li><a href=\"/wiki/Francisco_Guerrero_(composer)\" title=\"Francisco Guerrero (composer)\">Francisco Guerrero</a></li>\n",
       "<li><a href=\"/wiki/Jacobus_de_Kerle\" title=\"Jacobus de Kerle\">Jacobus de Kerle</a></li>\n",
       "<li><a href=\"/wiki/Orlande_de_Lassus\" title=\"Orlande de Lassus\">Orlande de Lassus</a></li>\n",
       "<li><a href=\"/wiki/Duarte_Lobo\" title=\"Duarte Lobo\">Duarte Lobo</a></li>\n",
       "<li><a href=\"/wiki/Jean_Maillard\" title=\"Jean Maillard\">Jean Maillard</a></li>\n",
       "<li><a href=\"/wiki/Jacques_Mauduit\" title=\"Jacques Mauduit\">Jacques Mauduit</a></li>\n",
       "<li><a href=\"/wiki/Manuel_Mendes\" title=\"Manuel Mendes\">Manuel Mendes</a></li>\n",
       "<li><a href=\"/wiki/Crist%C3%B3bal_de_Morales\" title=\"Cristóbal de Morales\">Cristóbal de Morales</a></li>\n",
       "<li><a href=\"/wiki/Johannes_Ockeghem\" title=\"Johannes Ockeghem\">Johannes Ockeghem</a> (the earliest to survive)</li>\n",
       "<li><a href=\"/wiki/Giovanni_Pierluigi_da_Palestrina\" title=\"Giovanni Pierluigi da Palestrina\">Giovanni Pierluigi da Palestrina</a></li>\n",
       "<li><a href=\"/wiki/Costanzo_Porta\" title=\"Costanzo Porta\">Costanzo Porta</a></li>\n",
       "<li><a href=\"/wiki/Johannes_Prioris\" title=\"Johannes Prioris\">Johannes Prioris</a></li>\n",
       "<li><a href=\"/wiki/Jean_Richafort\" title=\"Jean Richafort\">Jean Richafort</a></li>\n",
       "<li><a class=\"mw-redirect\" href=\"/wiki/Pedro_Rimonte\" title=\"Pedro Rimonte\">Pedro Rimonte</a></li>\n",
       "<li><a href=\"/wiki/Pierre_de_la_Rue\" title=\"Pierre de la Rue\">Pierre de la Rue</a></li>\n",
       "<li><a href=\"/wiki/Claudin_de_Sermisy\" title=\"Claudin de Sermisy\">Claudin de Sermisy</a></li>\n",
       "<li><a href=\"/wiki/Jacobus_Vaet\" title=\"Jacobus Vaet\">Jacobus Vaet</a></li>\n",
       "<li><a href=\"/wiki/Tom%C3%A1s_Luis_de_Victoria\" title=\"Tomás Luis de Victoria\">Tomás Luis de Victoria</a></li>\n",
       "</ul>\n",
       "<h3><span class=\"mw-headline\" id=\"Baroque\">Baroque</span><span class=\"mw-editsection\"><span class=\"mw-editsection-bracket\">[</span><a href=\"/w/index.php?title=Music_for_the_Requiem_Mass&amp;action=edit&amp;section=19\" title=\"Edit section: Baroque\">edit</a><span class=\"mw-editsection-bracket\">]</span></span></h3>\n",
       "<ul>\n",
       "<li><a href=\"/wiki/Giovanni_Francesco_Anerio\" title=\"Giovanni Francesco Anerio\">Giovanni Francesco Anerio</a></li>\n",
       "<li><a class=\"mw-redirect\" href=\"/wiki/Heinrich_Ignaz_Franz_von_Biber\" title=\"Heinrich Ignaz Franz von Biber\">Heinrich Ignaz Franz von Biber</a></li>\n",
       "<li><a href=\"/wiki/Andr%C3%A9_Campra\" title=\"André Campra\">André Campra</a></li>\n",
       "<li><a href=\"/wiki/Marc-Antoine_Charpentier\" title=\"Marc-Antoine Charpentier\">Marc-Antoine Charpentier</a></li>\n",
       "<li><a href=\"/wiki/Johann_Joseph_Fux\" title=\"Johann Joseph Fux\">Johann Joseph Fux</a></li>\n",
       "<li><a href=\"/wiki/Jean_Gilles_(composer)\" title=\"Jean Gilles (composer)\">Jean Gilles</a></li>\n",
       "<li><a href=\"/wiki/Antonio_Lotti\" title=\"Antonio Lotti\">Antonio Lotti</a> (Requiem in F Major)</li>\n",
       "<li><a href=\"/wiki/Benedetto_Marcello\" title=\"Benedetto Marcello\">Benedetto Marcello</a> (Requiem in the Venetian Manner)</li>\n",
       "<li><a href=\"/wiki/Claudio_Monteverdi\" title=\"Claudio Monteverdi\">Claudio Monteverdi</a> (lost)</li>\n",
       "<li><a href=\"/wiki/Michael_Praetorius\" title=\"Michael Praetorius\">Michael Praetorius</a></li>\n",
       "<li><a href=\"/wiki/Heinrich_Sch%C3%BCtz\" title=\"Heinrich Schütz\">Heinrich Schütz</a></li>\n",
       "<li><a href=\"/wiki/Andrzej_Siewi%C5%84ski\" title=\"Andrzej Siewiński\">Andrzej Siewiński</a></li>\n",
       "<li><a href=\"/wiki/Jan_Dismas_Zelenka\" title=\"Jan Dismas Zelenka\">Jan Dismas Zelenka</a></li>\n",
       "</ul>\n",
       "<h3><span class=\"mw-headline\" id=\"Classical_period\">Classical period</span><span class=\"mw-editsection\"><span class=\"mw-editsection-bracket\">[</span><a href=\"/w/index.php?title=Music_for_the_Requiem_Mass&amp;action=edit&amp;section=20\" title=\"Edit section: Classical period\">edit</a><span class=\"mw-editsection-bracket\">]</span></span></h3>\n",
       "<ul>\n",
       "<li><a href=\"/wiki/Luigi_Cherubini\" title=\"Luigi Cherubini\">Luigi Cherubini</a></li>\n",
       "<li><a href=\"/wiki/Domenico_Cimarosa\" title=\"Domenico Cimarosa\">Domenico Cimarosa</a></li>\n",
       "<li><a href=\"/wiki/Carl_Ditters_von_Dittersdorf\" title=\"Carl Ditters von Dittersdorf\">Carl Ditters von Dittersdorf</a></li>\n",
       "<li><a href=\"/wiki/Joseph_Leopold_Eybler\" title=\"Joseph Leopold Eybler\">Joseph Leopold Eybler</a></li>\n",
       "<li><a href=\"/wiki/Florian_Leopold_Gassmann\" title=\"Florian Leopold Gassmann\">Florian Leopold Gassmann</a></li>\n",
       "<li><a href=\"/wiki/Fran%C3%A7ois-Joseph_Gossec\" title=\"François-Joseph Gossec\">François-Joseph Gossec</a></li>\n",
       "<li><a href=\"/wiki/Johann_Adolph_Hasse\" title=\"Johann Adolph Hasse\">Johann Adolf Hasse</a></li>\n",
       "<li><a href=\"/wiki/Michael_Haydn\" title=\"Michael Haydn\">Michael Haydn</a></li>\n",
       "<li><a href=\"/wiki/Georg_von_Pasterwitz\" title=\"Georg von Pasterwitz\">Georg von Pasterwitz</a></li>\n",
       "<li><a href=\"/wiki/Joseph_Martin_Kraus\" title=\"Joseph Martin Kraus\">Joseph Martin Kraus</a></li>\n",
       "<li><a class=\"mw-redirect\" href=\"/wiki/Andrea_Lucchesi\" title=\"Andrea Lucchesi\">Andrea Lucchesi</a></li>\n",
       "<li><a href=\"/wiki/Giovanni_Battista_Martini\" title=\"Giovanni Battista Martini\">Giovanni Battista Martini</a></li>\n",
       "<li><a href=\"/wiki/Wolfgang_Amadeus_Mozart\" title=\"Wolfgang Amadeus Mozart\">Wolfgang Amadeus Mozart</a></li>\n",
       "<li><a href=\"/wiki/Jos%C3%A9_Maur%C3%ADcio_Nunes_Garcia\" title=\"José Maurício Nunes Garcia\">José Maurício Nunes Garcia</a></li>\n",
       "<li><a href=\"/wiki/Ignaz_Pleyel\" title=\"Ignaz Pleyel\">Ignaz Pleyel</a></li>\n",
       "<li><a href=\"/wiki/Antonio_Salieri\" title=\"Antonio Salieri\">Antonio Salieri</a></li>\n",
       "<li><a href=\"/wiki/Osip_Kozlovsky\" title=\"Osip Kozlovsky\">Osip Kozlovsky</a></li>\n",
       "</ul>\n",
       "<h3><span class=\"mw-headline\" id=\"Romantic_era\">Romantic era</span><span class=\"mw-editsection\"><span class=\"mw-editsection-bracket\">[</span><a href=\"/w/index.php?title=Music_for_the_Requiem_Mass&amp;action=edit&amp;section=21\" title=\"Edit section: Romantic era\">edit</a><span class=\"mw-editsection-bracket\">]</span></span></h3>\n",
       "<ul>\n",
       "<li><a href=\"/wiki/Hector_Berlioz\" title=\"Hector Berlioz\">Hector Berlioz</a></li>\n",
       "<li><a href=\"/wiki/Jo%C3%A3o_Domingos_Bomtempo\" title=\"João Domingos Bomtempo\">João Domingos Bomtempo</a></li>\n",
       "<li><a href=\"/wiki/Johannes_Brahms\" title=\"Johannes Brahms\">Johannes Brahms</a></li>\n",
       "<li><a href=\"/wiki/Anton_Bruckner\" title=\"Anton Bruckner\">Anton Bruckner</a>, <a href=\"/wiki/Requiem_(Bruckner)\" title=\"Requiem (Bruckner)\">Requiem in D minor</a><sup class=\"reference\" id=\"cite_ref-4\"><a href=\"#cite_note-4\">[4]</a></sup></li>\n",
       "<li><a href=\"/wiki/Ferruccio_Busoni\" title=\"Ferruccio Busoni\">Ferruccio Busoni</a></li>\n",
       "<li><a href=\"/wiki/Carl_Czerny\" title=\"Carl Czerny\">Carl Czerny</a></li>\n",
       "<li><a href=\"/wiki/Gaetano_Donizetti\" title=\"Gaetano Donizetti\">Gaetano Donizetti</a></li>\n",
       "<li><a href=\"/wiki/Anton%C3%ADn_Dvo%C5%99%C3%A1k\" title=\"Antonín Dvořák\">Antonín Dvořák</a></li>\n",
       "<li><a href=\"/wiki/Gabriel_Faur%C3%A9\" title=\"Gabriel Fauré\">Gabriel Fauré</a></li>\n",
       "<li><a href=\"/wiki/Charles_Gounod\" title=\"Charles Gounod\">Charles Gounod</a></li>\n",
       "<li><a href=\"/wiki/Franz_Lachner\" title=\"Franz Lachner\">Franz Lachner</a></li>\n",
       "<li><a href=\"/wiki/Franz_Liszt\" title=\"Franz Liszt\">Franz Liszt</a></li>\n",
       "<li><a href=\"/wiki/Giacomo_Puccini\" title=\"Giacomo Puccini\">Giacomo Puccini</a> [Introit only]</li>\n",
       "<li><a href=\"/wiki/Max_Reger\" title=\"Max Reger\">Max Reger</a> <i><a href=\"/wiki/Requiem_(Reger)\" title=\"Requiem (Reger)\">Hebbel Requiem</a></i>, <i>Lateinisches Requiem</i> (fragment)</li>\n",
       "<li><a href=\"/wiki/Anton_Reicha\" title=\"Anton Reicha\">Antonín Rejcha</a></li>\n",
       "<li><a href=\"/wiki/Camille_Saint-Sa%C3%ABns\" title=\"Camille Saint-Saëns\">Camille Saint-Saëns</a></li>\n",
       "<li><a href=\"/wiki/Robert_Schumann\" title=\"Robert Schumann\">Robert Schumann</a></li>\n",
       "<li><a href=\"/wiki/Franz_von_Supp%C3%A9\" title=\"Franz von Suppé\">Franz von Suppé</a></li>\n",
       "<li><a href=\"/wiki/Charles_Villiers_Stanford\" title=\"Charles Villiers Stanford\">Charles Villiers Stanford</a></li>\n",
       "<li><a href=\"/wiki/Giuseppe_Verdi\" title=\"Giuseppe Verdi\">Giuseppe Verdi</a></li>\n",
       "<li><a href=\"/wiki/Richard_Wetz\" title=\"Richard Wetz\">Richard Wetz</a></li>\n",
       "<li><i>See also:</i> <a href=\"/wiki/Messa_per_Rossini\" title=\"Messa per Rossini\">Messa per Rossini</a></li>\n",
       "</ul>\n",
       "<h3><span class=\"mw-headline\" id=\"20th_century\">20th century</span><span class=\"mw-editsection\"><span class=\"mw-editsection-bracket\">[</span><a href=\"/w/index.php?title=Music_for_the_Requiem_Mass&amp;action=edit&amp;section=22\" title=\"Edit section: 20th century\">edit</a><span class=\"mw-editsection-bracket\">]</span></span></h3>\n",
       "<ul>\n",
       "<li><a href=\"/wiki/Mark_Alburger\" title=\"Mark Alburger\">Mark Alburger</a></li>\n",
       "<li><a href=\"/wiki/Malcolm_Archer\" title=\"Malcolm Archer\">Malcolm Archer</a></li>\n",
       "<li><a href=\"/wiki/Vyacheslav_Artyomov\" title=\"Vyacheslav Artyomov\">Vyacheslav Artyomov</a></li>\n",
       "<li><a class=\"new\" href=\"/w/index.php?title=John_Baboukis&amp;action=edit&amp;redlink=1\" title=\"John Baboukis (page does not exist)\">John Baboukis</a>’s Requiem Mass for G.K. Chesterton (1986)<sup class=\"reference\" id=\"cite_ref-5\"><a href=\"#cite_note-5\">[5]</a></sup></li>\n",
       "<li><a href=\"/wiki/Osvaldas_Balakauskas\" title=\"Osvaldas Balakauskas\">Osvaldas Balakauskas</a></li>\n",
       "<li><a href=\"/wiki/Benjamin_Britten\" title=\"Benjamin Britten\">Benjamin Britten</a></li>\n",
       "<li><a href=\"/wiki/Sylvano_Bussotti\" title=\"Sylvano Bussotti\">Sylvano Bussotti</a>'s \"Rara Requiem\" (1969)</li>\n",
       "<li><a href=\"/wiki/Michel_Chion\" title=\"Michel Chion\">Michel Chion</a></li>\n",
       "<li><a href=\"/wiki/Vladimir_Dashkevich\" title=\"Vladimir Dashkevich\">Vladimir Dashkevich</a></li>\n",
       "<li><a class=\"new\" href=\"/w/index.php?title=Stephen_DeCesare&amp;action=edit&amp;redlink=1\" title=\"Stephen DeCesare (page does not exist)\">Stephen DeCesare</a>'s \"Requiem\"</li>\n",
       "<li><a href=\"/wiki/An_American_Requiem\" title=\"An American Requiem\">James DeMars: An American Requiem</a></li>\n",
       "<li><a href=\"/wiki/Edison_Denisov\" title=\"Edison Denisov\">Edison Denisov</a></li>\n",
       "<li><a href=\"/wiki/Alfred_Desenclos\" title=\"Alfred Desenclos\">Alfred Desenclos</a> (1963)</li>\n",
       "<li><a href=\"/wiki/Felix_Draeseke\" title=\"Felix Draeseke\">Felix Draeseke</a> (1910)</li>\n",
       "<li><a href=\"/wiki/Ralph_Dunstan\" title=\"Ralph Dunstan\">Ralph Dunstan</a></li>\n",
       "<li><a href=\"/wiki/Maurice_Durufl%C3%A9\" title=\"Maurice Duruflé\">Maurice Duruflé</a></li>\n",
       "<li><a href=\"/wiki/Lorenzo_Ferrero\" title=\"Lorenzo Ferrero\">Lorenzo Ferrero</a>'s <i><a href=\"/wiki/Lorenzo_Ferrero#Choral_and_vocal_music\" title=\"Lorenzo Ferrero\">Introito</a></i>, part of the <i>Requiem per le vittime della mafia</i></li>\n",
       "<li><a href=\"/wiki/Gerald_Finzi\" title=\"Gerald Finzi\">Gerald Finzi</a>'s <a class=\"external text\" href=\"http://www.geraldfinzi.org/index7dec.html?page=resources/works/requiemDaCamera.html\" rel=\"nofollow\">Requiem da camera</a></li>\n",
       "<li><a href=\"/wiki/John_Foulds\" title=\"John Foulds\">John Foulds</a> \"A World Requiem\"</li>\n",
       "<li><a href=\"/wiki/Howard_Goodall\" title=\"Howard Goodall\">Howard Goodall</a>'s \"Eternal Light: A Requiem\"</li>\n",
       "<li><a href=\"/wiki/William_Harper_(composer)\" title=\"William Harper (composer)\">William Harper</a> \"Requiem\"<sup class=\"reference\" id=\"cite_ref-6\"><a href=\"#cite_note-6\">[6]</a></sup></li>\n",
       "<li><a href=\"/wiki/Hans_Werner_Henze\" title=\"Hans Werner Henze\">Hans Werner Henze</a></li>\n",
       "<li><a href=\"/wiki/Frigyes_Hidas\" title=\"Frigyes Hidas\">Frigyes Hidas</a></li>\n",
       "<li><a href=\"/wiki/Herbert_Howells\" title=\"Herbert Howells\">Herbert Howells</a></li>\n",
       "<li><a href=\"/wiki/Sigurd_Islandsmoen\" title=\"Sigurd Islandsmoen\">Sigurd Islandsmoen</a></li>\n",
       "<li><a href=\"/wiki/Karl_Jenkins\" title=\"Karl Jenkins\">Karl Jenkins</a></li>\n",
       "<li><a href=\"/wiki/Dmitry_Kabalevsky\" title=\"Dmitry Kabalevsky\">Dmitry Kabalevsky</a> (1962)</li>\n",
       "<li><a href=\"/wiki/Volker_David_Kirchner\" title=\"Volker David Kirchner\">Volker David Kirchner</a></li>\n",
       "<li><a href=\"/wiki/St%C3%A5le_Kleiberg\" title=\"Ståle Kleiberg\">Ståle Kleiberg</a></li>\n",
       "<li><a href=\"/wiki/Joonas_Kokkonen\" title=\"Joonas Kokkonen\">Joonas Kokkonen</a></li>\n",
       "<li><a href=\"/wiki/Cyrillus_Kreek\" title=\"Cyrillus Kreek\">Cyrillus Kreek</a></li>\n",
       "<li><a class=\"external text\" href=\"http://www.cpdl.org/wiki/index.php/Huub_de_Lange\" rel=\"nofollow\">Huub de Lange</a></li>\n",
       "<li><a href=\"/wiki/Morten_Lauridsen\" title=\"Morten Lauridsen\">Morten Lauridsen</a> \"Lux Aeterna\"</li>\n",
       "<li><a href=\"/wiki/Philip_Ledger\" title=\"Philip Ledger\">Philip Ledger</a></li>\n",
       "<li><a href=\"/wiki/Kamill%C3%B3_Lendvay\" title=\"Kamilló Lendvay\">Kamilló Lendvay</a></li>\n",
       "<li><a href=\"/wiki/Gy%C3%B6rgy_Ligeti\" title=\"György Ligeti\">György Ligeti</a> (1965)</li>\n",
       "<li><a href=\"/wiki/Nils_Lindberg\" title=\"Nils Lindberg\">Nils Lindberg</a></li>\n",
       "<li><a href=\"/wiki/Andrew_Lloyd_Webber\" title=\"Andrew Lloyd Webber\">Andrew Lloyd Webber</a></li>\n",
       "<li><a href=\"/wiki/Fernando_Lopes-Gra%C3%A7a\" title=\"Fernando Lopes-Graça\">Fernando Lopes-Graça</a></li>\n",
       "<li><a href=\"/wiki/Roman_Maciejewski\" title=\"Roman Maciejewski\">Roman Maciejewski</a></li>\n",
       "<li><a href=\"/wiki/Bruno_Maderna\" title=\"Bruno Maderna\">Bruno Maderna</a> (1946)</li>\n",
       "<li><a href=\"/wiki/Frank_Martin_(composer)\" title=\"Frank Martin (composer)\">Frank Martin</a></li>\n",
       "<li><a href=\"/wiki/Jean-Christian_Michel\" title=\"Jean-Christian Michel\">Jean-Christian Michel</a></li>\n",
       "<li><a href=\"/wiki/Otto_Olsson\" title=\"Otto Olsson\">Otto Olsson</a> (1903)</li>\n",
       "<li><a href=\"/wiki/Ildebrando_Pizzetti\" title=\"Ildebrando Pizzetti\">Ildebrando Pizzetti</a> (1968)</li>\n",
       "<li><a href=\"/wiki/Jocelyn_Pook\" title=\"Jocelyn Pook\">Jocelyn Pook</a></li>\n",
       "<li><a href=\"/wiki/Zbigniew_Preisner\" title=\"Zbigniew Preisner\">Zbigniew Preisner</a></li>\n",
       "<li><a href=\"/wiki/Robert_R%C3%B8nnes\" title=\"Robert Rønnes\">Robert Rønnes</a></li>\n",
       "<li><a href=\"/wiki/John_Rutter\" title=\"John Rutter\">John Rutter</a> (1985)</li>\n",
       "<li><a href=\"/wiki/Joseph_Ryelandt\" title=\"Joseph Ryelandt\">Joseph Ryelandt</a></li>\n",
       "<li><a href=\"/wiki/Shigeaki_Saegusa\" title=\"Shigeaki Saegusa\">Shigeaki Saegusa</a></li>\n",
       "<li><a href=\"/wiki/Alfred_Schnittke\" title=\"Alfred Schnittke\">Alfred Schnittke</a></li>\n",
       "<li><a href=\"/wiki/Giovanni_Sgambati\" title=\"Giovanni Sgambati\">Giovanni Sgambati</a> (1901)</li>\n",
       "<li><a class=\"mw-redirect\" href=\"/wiki/Valentin_Silvestrov\" title=\"Valentin Silvestrov\">Valentin Silvestrov</a></li>\n",
       "<li><a href=\"/wiki/Fredrik_Sixten\" title=\"Fredrik Sixten\">Fredrik Sixten</a></li>\n",
       "<li><a href=\"/wiki/Robert_Steadman\" title=\"Robert Steadman\">Robert Steadman</a></li>\n",
       "<li><a href=\"/wiki/Igor_Stravinsky\" title=\"Igor Stravinsky\">Igor Stravinsky</a></li>\n",
       "<li><a href=\"/wiki/Toru_Takemitsu\" title=\"Toru Takemitsu\">Toru Takemitsu</a></li>\n",
       "<li><a href=\"/wiki/John_Tavener\" title=\"John Tavener\">John Tavener</a></li>\n",
       "<li><a href=\"/wiki/Virgil_Thomson\" title=\"Virgil Thomson\">Virgil Thomson</a></li>\n",
       "<li><a href=\"/wiki/Erkki-Sven_T%C3%BC%C3%BCr\" title=\"Erkki-Sven Tüür\">Erkki-Sven Tüür</a></li>\n",
       "<li><a href=\"/wiki/Malcolm_Williamson\" title=\"Malcolm Williamson\">Malcolm Williamson</a></li>\n",
       "<li><a href=\"/wiki/Bernd_Alois_Zimmermann\" title=\"Bernd Alois Zimmermann\">Bernd Alois Zimmermann</a>: <i><span lang=\"de\" xml:lang=\"de\"><a href=\"/wiki/Requiem_f%C3%BCr_einen_jungen_Dichter\" title=\"Requiem für einen jungen Dichter\">Requiem für einen jungen Dichter</a></span></i> (1969)</li>\n",
       "</ul>\n",
       "<h3><span class=\"mw-headline\" id=\"21st_century\">21st century</span><span class=\"mw-editsection\"><span class=\"mw-editsection-bracket\">[</span><a href=\"/w/index.php?title=Music_for_the_Requiem_Mass&amp;action=edit&amp;section=23\" title=\"Edit section: 21st century\">edit</a><span class=\"mw-editsection-bracket\">]</span></span></h3>\n",
       "<ul>\n",
       "<li><a class=\"new\" href=\"/w/index.php?title=John_Starr_Alexander&amp;action=edit&amp;redlink=1\" title=\"John Starr Alexander (page does not exist)\">John Starr Alexander</a> \"Requiem\" 2001</li>\n",
       "<li><a href=\"/wiki/Lera_Auerbach\" title=\"Lera Auerbach\">Lera Auerbach</a> \"Russian Requiem\"</li>\n",
       "<li><a href=\"/wiki/Leonardo_Balada\" title=\"Leonardo Balada\">Leonardo Balada</a></li>\n",
       "<li><a href=\"/wiki/Troy_Banarzi\" title=\"Troy Banarzi\">Troy Banarzi</a></li>\n",
       "<li><a href=\"/wiki/Virgin_Black\" title=\"Virgin Black\">Virgin Black</a></li>\n",
       "<li><a href=\"/wiki/Jamie_Brown_(composer)\" title=\"Jamie Brown (composer)\">Jamie Brown</a> \"A Cornish Requiem / Requiem Kernewek\"</li>\n",
       "<li><a href=\"/wiki/Paul_Carr_(composer)\" title=\"Paul Carr (composer)\">Paul Carr</a> \"Requiem for an Angel\"</li>\n",
       "<li><a href=\"/wiki/Bob_Chilcott\" title=\"Bob Chilcott\">Bob Chilcott</a><sup class=\"reference\" id=\"cite_ref-7\"><a href=\"#cite_note-7\">[7]</a></sup></li>\n",
       "<li><a href=\"/wiki/Richard_Danielpour\" title=\"Richard Danielpour\">Richard Danielpour: \"An American Requiem\"</a></li>\n",
       "<li><a class=\"new\" href=\"/w/index.php?title=Stephen_DeCesare&amp;action=edit&amp;redlink=1\" title=\"Stephen DeCesare (page does not exist)\">Stephen DeCesare</a> \"Missa De Profunctis\"</li>\n",
       "<li><a href=\"/wiki/Bradley_Ellingboe\" title=\"Bradley Ellingboe\">Bradley Ellingboe</a></li>\n",
       "<li><a href=\"/wiki/Mohammed_Fairouz\" title=\"Mohammed Fairouz\">Mohammed Fairouz</a> \"Requiem Mass\"</li>\n",
       "<li><a href=\"/wiki/Carlo_Forlivesi\" title=\"Carlo Forlivesi\">Carlo Forlivesi</a></li>\n",
       "<li><a href=\"/wiki/Eliza_Gilkyson\" title=\"Eliza Gilkyson\">Eliza Gilkyson</a>, arr. by <a href=\"/wiki/Craig_Hella_Johnson\" title=\"Craig Hella Johnson\">Craig Hella Johnson</a> \"Requiem\"</li>\n",
       "<li><a href=\"/wiki/Howard_Goodall\" title=\"Howard Goodall\">Howard Goodall</a> \"Eternal Light\"</li>\n",
       "<li><a href=\"/wiki/Steve_Gray_(musician)\" title=\"Steve Gray (musician)\">Steve Gray \"Requiem For Choir and Big Band\"</a></li>\n",
       "<li><a href=\"/wiki/Patrick_Hawes\" title=\"Patrick Hawes\">Patrick Hawes</a> \"Lazarus Requiem\"<sup class=\"reference\" id=\"cite_ref-musicweb-international.com_8-0\"><a href=\"#cite_note-musicweb-international.com-8\">[8]</a></sup></li>\n",
       "<li><a href=\"/wiki/Tyzen_Hsiao\" title=\"Tyzen Hsiao\">Tyzen Hsiao</a></li>\n",
       "<li><a href=\"/wiki/Karl_Jenkins\" title=\"Karl Jenkins\">Karl Jenkins</a> \"The Armed Man\" (2000) &amp; \"Requiem\" (2004)</li>\n",
       "<li><a href=\"/wiki/Rami_Khalif%C3%A9\" title=\"Rami Khalifé\">Rami Khalifé</a> (2013)</li>\n",
       "<li><a href=\"/wiki/Iver_Kleive\" title=\"Iver Kleive\">Iver Kleive</a></li>\n",
       "<li><a class=\"mw-redirect\" href=\"/wiki/Fan-Long_Ko\" title=\"Fan-Long Ko\">Fan-Long Ko</a></li>\n",
       "<li><a href=\"/wiki/Thierry_Lancino\" title=\"Thierry Lancino\">Thierry Lancino</a></li>\n",
       "<li><a href=\"/wiki/Gy%C3%B6rgy_Ligeti\" title=\"György Ligeti\">György Ligeti</a> (2006)</li>\n",
       "<li><a href=\"/wiki/Clint_Mansell\" title=\"Clint Mansell\">Clint Mansell</a>, (Theme from <a class=\"mw-redirect\" href=\"/wiki/Requiem_For_A_Dream\" title=\"Requiem For A Dream\">Requiem For A Dream</a> aka '<a href=\"/wiki/Lux_Aeterna_(song)\" title=\"Lux Aeterna (song)\">Lux Aeterna</a>')</li>\n",
       "<li><a href=\"/wiki/Christopher_Rouse_(composer)\" title=\"Christopher Rouse (composer)\">Christopher Rouse</a></li>\n",
       "<li><a href=\"/wiki/Carl_R%C3%BCtti\" title=\"Carl Rütti\">Carl Rütti</a></li>\n",
       "<li><a class=\"new\" href=\"/w/index.php?title=Keiki_Kobayashi&amp;action=edit&amp;redlink=1\" title=\"Keiki Kobayashi (page does not exist)\">Keiki Kobayashi</a>, (Theme from <a href=\"/wiki/Ace_Combat_04:_Shattered_Skies\" title=\"Ace Combat 04: Shattered Skies\">Ace Combat 04: Shattered Skies</a> aka <i>Megalith -Agnus Dei-)</i></li>\n",
       "<li><a href=\"/wiki/Kentaro_Sato\" title=\"Kentaro Sato\">Kentaro Sato</a></li>\n",
       "<li><a class=\"new\" href=\"/w/index.php?title=Mattias_Sk%C3%B6ld&amp;action=edit&amp;redlink=1\" title=\"Mattias Sköld (page does not exist)\">Mattias Sköld</a></li>\n",
       "<li><a class=\"mw-redirect\" href=\"/wiki/Somtow_Sucharitkul\" title=\"Somtow Sucharitkul\">Somtow Sucharitkul</a></li>\n",
       "<li><a href=\"/wiki/John_Tavener\" title=\"John Tavener\">John Tavener</a> (Heartbeat, aka 'Prayer of the Heart' written for <a href=\"/wiki/Bj%C3%B6rk\" title=\"Björk\">Björk</a>)</li>\n",
       "<li><a class=\"new\" href=\"/w/index.php?title=Chris_Williams_(composer)&amp;action=edit&amp;redlink=1\" title=\"Chris Williams (composer) (page does not exist)\">Chris Williams</a> \"Tsunami Requiem\"</li>\n",
       "<li><a href=\"/wiki/Mack_Wilberg\" title=\"Mack Wilberg\">Mack Wilberg</a></li>\n",
       "<li><a href=\"/wiki/David_Crowder_Band\" title=\"David Crowder Band\">David Crowder Band</a> \"<a href=\"/wiki/Give_Us_Rest\" title=\"Give Us Rest\">Give Us Rest</a>\"</li>\n",
       "<li><a href=\"/wiki/Ant%C3%B3nio_Pinho_Vargas\" title=\"António Pinho Vargas\">António Pinho Vargas</a></li>\n",
       "<li><a class=\"new\" href=\"/w/index.php?title=Ehsan_Saboohi&amp;action=edit&amp;redlink=1\" title=\"Ehsan Saboohi (page does not exist)\">Ehsan Saboohi</a> \"Phonemes Requiem\" (2014-2015)<sup class=\"reference\" id=\"cite_ref-9\"><a href=\"#cite_note-9\">[9]</a></sup></li>\n",
       "</ul>\n",
       "<h3><span class=\"mw-headline\" id=\"Requiem_by_language_.28other_than_Latin.29\">Requiem by language (other than Latin)</span><span class=\"mw-editsection\"><span class=\"mw-editsection-bracket\">[</span><a href=\"/w/index.php?title=Music_for_the_Requiem_Mass&amp;action=edit&amp;section=24\" title=\"Edit section: Requiem by language (other than Latin)\">edit</a><span class=\"mw-editsection-bracket\">]</span></span></h3>\n",
       "<p><b>English with Latin</b></p>\n",
       "<ul>\n",
       "<li><a href=\"/wiki/Benjamin_Britten\" title=\"Benjamin Britten\">Benjamin Britten</a>: <i><a href=\"/wiki/War_Requiem\" title=\"War Requiem\">War Requiem</a></i></li>\n",
       "<li><a href=\"/wiki/Richard_Danielpour\" title=\"Richard Danielpour\">Richard Danielpour: An American Requiem</a></li>\n",
       "<li><a href=\"/wiki/Howard_Goodall\" title=\"Howard Goodall\">Howard Goodall</a>: \"Eternal Light\"</li>\n",
       "<li><a href=\"/wiki/Patrick_Hawes\" title=\"Patrick Hawes\">Patrick Hawes</a> \"Lazarus Requiem\"<sup class=\"reference\" id=\"cite_ref-musicweb-international.com_8-1\"><a href=\"#cite_note-musicweb-international.com-8\">[8]</a></sup></li>\n",
       "<li><a href=\"/wiki/Herbert_Howells\" title=\"Herbert Howells\">Herbert Howells</a></li>\n",
       "<li><a href=\"/wiki/John_Rutter\" title=\"John Rutter\">John Rutter</a>: <i><a href=\"/wiki/Requiem_(Rutter)\" title=\"Requiem (Rutter)\">Requiem</a></i></li>\n",
       "<li><a href=\"/wiki/Fredrik_Sixten\" title=\"Fredrik Sixten\">Fredrik Sixten</a></li>\n",
       "<li><a class=\"mw-redirect\" href=\"/wiki/Somtow_Sucharitkul\" title=\"Somtow Sucharitkul\">Somtow Sucharitkul</a></li>\n",
       "<li><a href=\"/wiki/Mack_Wilberg\" title=\"Mack Wilberg\">Mack Wilberg</a></li>\n",
       "</ul>\n",
       "<p><b>Cornish</b></p>\n",
       "<ul>\n",
       "<li><a href=\"/wiki/Jamie_Brown_(composer)\" title=\"Jamie Brown (composer)\">Jamie Brown</a>: <i>A Cornish Requiem / Requiem Kernewek</i></li>\n",
       "</ul>\n",
       "<p><b>Estonian</b></p>\n",
       "<ul>\n",
       "<li><a href=\"/wiki/Cyrillus_Kreek\" title=\"Cyrillus Kreek\">Cyrillus Kreek</a>: <i>Estonian Requiem</i></li>\n",
       "</ul>\n",
       "<p><b>German</b></p>\n",
       "<ul>\n",
       "<li><a href=\"/wiki/Johannes_Brahms\" title=\"Johannes Brahms\">Johannes Brahms</a>: <i><a href=\"/wiki/A_German_Requiem_(Brahms)\" title=\"A German Requiem (Brahms)\">Ein deutsches Requiem</a></i></li>\n",
       "<li><a href=\"/wiki/Michael_Praetorius\" title=\"Michael Praetorius\">Michael Praetorius</a></li>\n",
       "<li><a href=\"/wiki/Max_Reger\" title=\"Max Reger\">Max Reger</a> <i><a href=\"/wiki/Requiem_(Reger)\" title=\"Requiem (Reger)\">Hebbel Requiem</a></i></li>\n",
       "<li><a href=\"/wiki/Franz_Schubert\" title=\"Franz Schubert\">Franz Schubert</a></li>\n",
       "<li><a href=\"/wiki/Heinrich_Sch%C3%BCtz\" title=\"Heinrich Schütz\">Heinrich Schütz</a></li>\n",
       "</ul>\n",
       "<p><b>French, Greek, with Latin</b></p>\n",
       "<ul>\n",
       "<li><a href=\"/wiki/Thierry_Lancino\" title=\"Thierry Lancino\">Thierry Lancino</a></li>\n",
       "</ul>\n",
       "<p><b>French, English, German with Latin</b></p>\n",
       "<ul>\n",
       "<li><a href=\"/wiki/Edison_Denisov\" title=\"Edison Denisov\">Edison Denisov</a></li>\n",
       "</ul>\n",
       "<p><b>Latin and Japanese</b></p>\n",
       "<ul>\n",
       "<li><a href=\"/wiki/Karl_Jenkins\" title=\"Karl Jenkins\">Karl Jenkins</a></li>\n",
       "</ul>\n",
       "<p><b>Latin and German and others</b></p>\n",
       "<ul>\n",
       "<li><a href=\"/wiki/Bernd_Alois_Zimmermann\" title=\"Bernd Alois Zimmermann\">Bernd Alois Zimmermann</a>: <a href=\"/wiki/Requiem_f%C3%BCr_einen_jungen_Dichter\" title=\"Requiem für einen jungen Dichter\">Requiem für einen jungen Dichter</a></li>\n",
       "</ul>\n",
       "<p><b>Latin and Polish</b></p>\n",
       "<ul>\n",
       "<li><a href=\"/wiki/Krzysztof_Penderecki\" title=\"Krzysztof Penderecki\">Krzysztof Penderecki</a>: <i><a href=\"/wiki/Polish_Requiem\" title=\"Polish Requiem\">Polish Requiem</a></i></li>\n",
       "<li><a href=\"/wiki/Zbigniew_Preisner\" title=\"Zbigniew Preisner\">Zbigniew Preisner</a></li>\n",
       "</ul>\n",
       "<p><b>Russian</b></p>\n",
       "<ul>\n",
       "<li><a href=\"/wiki/Lera_Auerbach\" title=\"Lera Auerbach\">Lera Auerbach</a> – <i>Russian Requiem</i>, on Russian Orthodox sacred text and poetry</li>\n",
       "<li><a href=\"/wiki/Vladimir_Dashkevich\" title=\"Vladimir Dashkevich\">Vladimir Dashkevich</a> – <i>Requiem</i> (Text by <a href=\"/wiki/Anna_Akhmatova\" title=\"Anna Akhmatova\">Anna Akhmatova</a>)</li>\n",
       "<li><a href=\"/wiki/Elena_Firsova\" title=\"Elena Firsova\">Elena Firsova</a> – <i>Requiem</i>, Op.100 (Text by <a href=\"/wiki/Anna_Akhmatova\" title=\"Anna Akhmatova\">Anna Akhmatova</a>)</li>\n",
       "<li><a class=\"mw-redirect\" href=\"/wiki/Dmitri_Kabalevsky\" title=\"Dmitri Kabalevsky\">Dmitri Kabalevsky</a> – <i>War Requiem</i> (Text by <a href=\"/wiki/Robert_Rozhdestvensky\" title=\"Robert Rozhdestvensky\">Robert Rozhdestvensky</a>)</li>\n",
       "<li><a href=\"/wiki/Sergei_Taneyev\" title=\"Sergei Taneyev\">Sergei Taneyev</a> – Cantata <i>John of Damascus</i>, Op.1 (Text by <a href=\"/wiki/Aleksey_Konstantinovich_Tolstoy\" title=\"Aleksey Konstantinovich Tolstoy\">Alexey Tolstoy</a>)</li>\n",
       "</ul>\n",
       "<p><b>Taiwanese</b></p>\n",
       "<ul>\n",
       "<li><a href=\"/wiki/Tyzen_Hsiao\" title=\"Tyzen Hsiao\">Tyzen Hsiao</a> – <i><a href=\"/wiki/Ilha_Formosa:_Requiem_for_Formosa%27s_Martyrs\" title=\"Ilha Formosa: Requiem for Formosa's Martyrs\">Ilha Formosa: Requiem for Formosa's Martyrs</a></i>, 2001 (Text by Min-yung Lee, 1994)</li>\n",
       "<li><a class=\"mw-redirect\" href=\"/wiki/Fan-Long_Ko\" title=\"Fan-Long Ko\">Fan-Long Ko</a> – <i>2-28 Requiem</i>, 2008. (Text by Li Kuei-Hsien)</li>\n",
       "</ul>\n",
       "<p><b>Persian, Farsi</b></p>\n",
       "<ul>\n",
       "<li><a class=\"new\" href=\"/w/index.php?title=Ehsan_Saboohi&amp;action=edit&amp;redlink=1\" title=\"Ehsan Saboohi (page does not exist)\">Ehsan Saboohi</a> – <i><a class=\"new\" href=\"/w/index.php?title=Phonemes_Requiem&amp;action=edit&amp;redlink=1\" title=\"Phonemes Requiem (page does not exist)\">Phonemes Requiem</a></i> (For four Soloists, mixed Chorus, Didgeridoo, prepared Tombak, Electronics, Computer)<sup class=\"reference\" id=\"cite_ref-10\"><a href=\"#cite_note-10\">[10]</a></sup></li>\n",
       "</ul>\n",
       "<p><b>Nonlinguistic</b></p>\n",
       "<ul>\n",
       "<li><a href=\"/wiki/Luciano_Berio\" title=\"Luciano Berio\">Luciano Berio</a>'s <i>Requies: in memoriam</i></li>\n",
       "<li><a href=\"/wiki/Benjamin_Britten\" title=\"Benjamin Britten\">Benjamin Britten</a>'s <i><a href=\"/wiki/Sinfonia_da_Requiem\" title=\"Sinfonia da Requiem\">Sinfonia da Requiem</a></i> and <a href=\"/wiki/Arthur_Honegger\" title=\"Arthur Honegger\">Arthur Honegger</a>'s <i><a class=\"mw-redirect\" href=\"/wiki/Symphonie_Liturgique\" title=\"Symphonie Liturgique\">Symphonie Liturgique</a></i> use titles from the traditional Requiem as subtitles of movements.</li>\n",
       "<li><a href=\"/wiki/Carlo_Forlivesi\" title=\"Carlo Forlivesi\">Carlo Forlivesi</a> – <i>Requiem</i>, for 8-channel tape<sup class=\"reference\" id=\"cite_ref-11\"><a href=\"#cite_note-11\">[11]</a></sup></li>\n",
       "<li><a href=\"/wiki/Hans_Werner_Henze\" title=\"Hans Werner Henze\">Hans Werner Henze</a> – <i>Requiem</i> (instrumental)</li>\n",
       "<li><a href=\"/wiki/Wojciech_Kilar\" title=\"Wojciech Kilar\">Wojciech Kilar <i>\"Requiem Father Kolbe\"</i></a></li>\n",
       "</ul>\n",
       "</div>"
      ]
     },
     "execution_count": 150,
     "metadata": {},
     "output_type": "execute_result"
    }
   ],
   "source": [
    "results = soup.find_all('div')[60]#(class='div-col columns column-width')\n",
    "results#.find_all('a')[22]['title']"
   ]
  },
  {
   "cell_type": "code",
   "execution_count": 151,
   "metadata": {
    "scrolled": true
   },
   "outputs": [
    {
     "name": "stdout",
     "output_type": "stream",
     "text": [
      "Giovanni Francesco Anerio, Renaissance\n",
      "Gianmatteo Asola, Renaissance\n",
      "Giulio Belli, Renaissance\n",
      "Antoine Brumel, Renaissance\n",
      "Manuel Cardoso, Renaissance\n",
      "Joan Cererols, Renaissance\n",
      "Pierre Certon, Renaissance\n",
      "Clemens non Papa, Renaissance\n",
      "Guillaume Dufay, Renaissance\n",
      "Pedro de Escobar, Renaissance\n",
      "Antoine de Févin, Renaissance\n",
      "Francisco Guerrero, Renaissance\n",
      "Jacobus de Kerle, Renaissance\n",
      "Orlande de Lassus, Renaissance\n",
      "Duarte Lobo, Renaissance\n",
      "Jean Maillard, Renaissance\n",
      "Jacques Mauduit, Renaissance\n",
      "Manuel Mendes, Renaissance\n",
      "Cristóbal de Morales, Renaissance\n",
      "Johannes Ockeghem, Renaissance\n",
      "Giovanni Pierluigi da Palestrina, Renaissance\n",
      "Costanzo Porta, Renaissance\n",
      "Johannes Prioris, Renaissance\n",
      "Jean Richafort, Renaissance\n",
      "Pedro Rimonte, Renaissance\n",
      "Pierre de la Rue, Renaissance\n",
      "Claudin de Sermisy, Renaissance\n",
      "Jacobus Vaet, Renaissance\n",
      "Tomás Luis de Victoria, Renaissance\n"
     ]
    }
   ],
   "source": [
    "full_list = []\n",
    "renaissance = results.find_all('a')[1:30]\n",
    "for name in renaissance:\n",
    "    name = (name.text + ', Renaissance')\n",
    "    print(name)\n",
    "    full_list.append(name)"
   ]
  },
  {
   "cell_type": "code",
   "execution_count": 152,
   "metadata": {},
   "outputs": [
    {
     "data": {
      "text/plain": [
       "['Giovanni Francesco Anerio, Renaissance',\n",
       " 'Gianmatteo Asola, Renaissance',\n",
       " 'Giulio Belli, Renaissance',\n",
       " 'Antoine Brumel, Renaissance',\n",
       " 'Manuel Cardoso, Renaissance',\n",
       " 'Joan Cererols, Renaissance',\n",
       " 'Pierre Certon, Renaissance',\n",
       " 'Clemens non Papa, Renaissance',\n",
       " 'Guillaume Dufay, Renaissance',\n",
       " 'Pedro de Escobar, Renaissance',\n",
       " 'Antoine de Févin, Renaissance',\n",
       " 'Francisco Guerrero, Renaissance',\n",
       " 'Jacobus de Kerle, Renaissance',\n",
       " 'Orlande de Lassus, Renaissance',\n",
       " 'Duarte Lobo, Renaissance',\n",
       " 'Jean Maillard, Renaissance',\n",
       " 'Jacques Mauduit, Renaissance',\n",
       " 'Manuel Mendes, Renaissance',\n",
       " 'Cristóbal de Morales, Renaissance',\n",
       " 'Johannes Ockeghem, Renaissance',\n",
       " 'Giovanni Pierluigi da Palestrina, Renaissance',\n",
       " 'Costanzo Porta, Renaissance',\n",
       " 'Johannes Prioris, Renaissance',\n",
       " 'Jean Richafort, Renaissance',\n",
       " 'Pedro Rimonte, Renaissance',\n",
       " 'Pierre de la Rue, Renaissance',\n",
       " 'Claudin de Sermisy, Renaissance',\n",
       " 'Jacobus Vaet, Renaissance',\n",
       " 'Tomás Luis de Victoria, Renaissance']"
      ]
     },
     "execution_count": 152,
     "metadata": {},
     "output_type": "execute_result"
    }
   ],
   "source": [
    "full_list"
   ]
  },
  {
   "cell_type": "code",
   "execution_count": 153,
   "metadata": {},
   "outputs": [],
   "source": [
    "#df = pd.DataFrame(renaissance, columns=['Name', 'Period'])"
   ]
  },
  {
   "cell_type": "code",
   "execution_count": 154,
   "metadata": {},
   "outputs": [
    {
     "name": "stdout",
     "output_type": "stream",
     "text": [
      "Heinrich Ignaz Franz von Biber, Baroque\n",
      "André Campra, Baroque\n",
      "Marc-Antoine Charpentier, Baroque\n",
      "Johann Joseph Fux, Baroque\n",
      "Jean Gilles, Baroque\n",
      "Antonio Lotti (Requiem in F Major), Baroque\n",
      "Benedetto Marcello (Requiem in the Venetian Manner), Baroque\n",
      "Claudio Monteverdi (lost), Baroque\n",
      "Michael Praetorius, Baroque\n",
      "Heinrich Schütz, Baroque\n",
      "Andrzej Siewiński, Baroque\n",
      "Jan Dismas Zelenka, Baroque\n"
     ]
    }
   ],
   "source": [
    "baroque = results.find_all('li')[30:42]\n",
    "for name in baroque:\n",
    "    name = (name.text + ', Baroque')\n",
    "    print(name)\n",
    "    full_list.append(name)"
   ]
  },
  {
   "cell_type": "code",
   "execution_count": 155,
   "metadata": {},
   "outputs": [],
   "source": [
    "#full_list"
   ]
  },
  {
   "cell_type": "code",
   "execution_count": 156,
   "metadata": {},
   "outputs": [
    {
     "name": "stdout",
     "output_type": "stream",
     "text": [
      "Luigi Cherubini, Classical\n",
      "Domenico Cimarosa, Classical\n",
      "Carl Ditters von Dittersdorf, Classical\n",
      "Joseph Leopold Eybler, Classical\n",
      "Florian Leopold Gassmann, Classical\n",
      "François-Joseph Gossec, Classical\n",
      "Johann Adolf Hasse, Classical\n",
      "Michael Haydn, Classical\n",
      "Georg von Pasterwitz, Classical\n",
      "Joseph Martin Kraus, Classical\n",
      "Andrea Lucchesi, Classical\n",
      "Giovanni Battista Martini, Classical\n",
      "Wolfgang Amadeus Mozart, Classical\n",
      "José Maurício Nunes Garcia, Classical\n",
      "Ignaz Pleyel, Classical\n",
      "Antonio Salieri, Classical\n",
      "Osip Kozlovsky, Classical\n"
     ]
    }
   ],
   "source": [
    "classical = results.find_all('li')[42:59]\n",
    "for name in classical:\n",
    "    name = (name.text + ', Classical')\n",
    "    print(name)\n",
    "    full_list.append(name)"
   ]
  },
  {
   "cell_type": "code",
   "execution_count": 157,
   "metadata": {},
   "outputs": [
    {
     "data": {
      "text/plain": [
       "['Giovanni Francesco Anerio, Renaissance',\n",
       " 'Gianmatteo Asola, Renaissance',\n",
       " 'Giulio Belli, Renaissance',\n",
       " 'Antoine Brumel, Renaissance',\n",
       " 'Manuel Cardoso, Renaissance',\n",
       " 'Joan Cererols, Renaissance',\n",
       " 'Pierre Certon, Renaissance',\n",
       " 'Clemens non Papa, Renaissance',\n",
       " 'Guillaume Dufay, Renaissance',\n",
       " 'Pedro de Escobar, Renaissance',\n",
       " 'Antoine de Févin, Renaissance',\n",
       " 'Francisco Guerrero, Renaissance',\n",
       " 'Jacobus de Kerle, Renaissance',\n",
       " 'Orlande de Lassus, Renaissance',\n",
       " 'Duarte Lobo, Renaissance',\n",
       " 'Jean Maillard, Renaissance',\n",
       " 'Jacques Mauduit, Renaissance',\n",
       " 'Manuel Mendes, Renaissance',\n",
       " 'Cristóbal de Morales, Renaissance',\n",
       " 'Johannes Ockeghem, Renaissance',\n",
       " 'Giovanni Pierluigi da Palestrina, Renaissance',\n",
       " 'Costanzo Porta, Renaissance',\n",
       " 'Johannes Prioris, Renaissance',\n",
       " 'Jean Richafort, Renaissance',\n",
       " 'Pedro Rimonte, Renaissance',\n",
       " 'Pierre de la Rue, Renaissance',\n",
       " 'Claudin de Sermisy, Renaissance',\n",
       " 'Jacobus Vaet, Renaissance',\n",
       " 'Tomás Luis de Victoria, Renaissance',\n",
       " 'Heinrich Ignaz Franz von Biber, Baroque',\n",
       " 'André Campra, Baroque',\n",
       " 'Marc-Antoine Charpentier, Baroque',\n",
       " 'Johann Joseph Fux, Baroque',\n",
       " 'Jean Gilles, Baroque',\n",
       " 'Antonio Lotti (Requiem in F Major), Baroque',\n",
       " 'Benedetto Marcello (Requiem in the Venetian Manner), Baroque',\n",
       " 'Claudio Monteverdi (lost), Baroque',\n",
       " 'Michael Praetorius, Baroque',\n",
       " 'Heinrich Schütz, Baroque',\n",
       " 'Andrzej Siewiński, Baroque',\n",
       " 'Jan Dismas Zelenka, Baroque',\n",
       " 'Luigi Cherubini, Classical',\n",
       " 'Domenico Cimarosa, Classical',\n",
       " 'Carl Ditters von Dittersdorf, Classical',\n",
       " 'Joseph Leopold Eybler, Classical',\n",
       " 'Florian Leopold Gassmann, Classical',\n",
       " 'François-Joseph Gossec, Classical',\n",
       " 'Johann Adolf Hasse, Classical',\n",
       " 'Michael Haydn, Classical',\n",
       " 'Georg von Pasterwitz, Classical',\n",
       " 'Joseph Martin Kraus, Classical',\n",
       " 'Andrea Lucchesi, Classical',\n",
       " 'Giovanni Battista Martini, Classical',\n",
       " 'Wolfgang Amadeus Mozart, Classical',\n",
       " 'José Maurício Nunes Garcia, Classical',\n",
       " 'Ignaz Pleyel, Classical',\n",
       " 'Antonio Salieri, Classical',\n",
       " 'Osip Kozlovsky, Classical']"
      ]
     },
     "execution_count": 157,
     "metadata": {},
     "output_type": "execute_result"
    }
   ],
   "source": [
    "full_list"
   ]
  },
  {
   "cell_type": "code",
   "execution_count": 158,
   "metadata": {},
   "outputs": [
    {
     "name": "stdout",
     "output_type": "stream",
     "text": [
      "Hector Berlioz, Romantic\n",
      "João Domingos Bomtempo, Romantic\n",
      "Johannes Brahms, Romantic\n",
      "Anton Bruckner, Requiem in D minor[4], Romantic\n",
      "Ferruccio Busoni, Romantic\n",
      "Carl Czerny, Romantic\n",
      "Gaetano Donizetti, Romantic\n",
      "Antonín Dvořák, Romantic\n",
      "Gabriel Fauré, Romantic\n",
      "Charles Gounod, Romantic\n",
      "Franz Lachner, Romantic\n",
      "Franz Liszt, Romantic\n",
      "Giacomo Puccini [Introit only], Romantic\n",
      "Max Reger Hebbel Requiem, Lateinisches Requiem (fragment), Romantic\n",
      "Antonín Rejcha, Romantic\n",
      "Camille Saint-Saëns, Romantic\n",
      "Robert Schumann, Romantic\n",
      "Franz von Suppé, Romantic\n",
      "Charles Villiers Stanford, Romantic\n",
      "Giuseppe Verdi, Romantic\n",
      "Richard Wetz, Romantic\n",
      "See also: Messa per Rossini, Romantic\n"
     ]
    }
   ],
   "source": [
    "romantic = results.find_all('li')[59:81]\n",
    "for name in romantic:\n",
    "    name = (name.text + ', Romantic')\n",
    "    print(name)\n",
    "    full_list.append(name)"
   ]
  },
  {
   "cell_type": "code",
   "execution_count": 159,
   "metadata": {
    "scrolled": true
   },
   "outputs": [
    {
     "name": "stdout",
     "output_type": "stream",
     "text": [
      "Mark Alburger, 20th Century\n",
      "Malcolm Archer, 20th Century\n",
      "Vyacheslav Artyomov, 20th Century\n",
      "John Baboukis’s Requiem Mass for G.K. Chesterton (1986)[5], 20th Century\n",
      "Osvaldas Balakauskas, 20th Century\n",
      "Benjamin Britten, 20th Century\n",
      "Sylvano Bussotti's \"Rara Requiem\" (1969), 20th Century\n",
      "Michel Chion, 20th Century\n",
      "Vladimir Dashkevich, 20th Century\n",
      "Stephen DeCesare's \"Requiem\", 20th Century\n",
      "James DeMars: An American Requiem, 20th Century\n",
      "Edison Denisov, 20th Century\n",
      "Alfred Desenclos (1963), 20th Century\n",
      "Felix Draeseke (1910), 20th Century\n",
      "Ralph Dunstan, 20th Century\n",
      "Maurice Duruflé, 20th Century\n",
      "Lorenzo Ferrero's Introito, part of the Requiem per le vittime della mafia, 20th Century\n",
      "Gerald Finzi's Requiem da camera, 20th Century\n",
      "John Foulds \"A World Requiem\", 20th Century\n",
      "Howard Goodall's \"Eternal Light: A Requiem\", 20th Century\n",
      "William Harper \"Requiem\"[6], 20th Century\n",
      "Hans Werner Henze, 20th Century\n",
      "Frigyes Hidas, 20th Century\n",
      "Herbert Howells, 20th Century\n",
      "Sigurd Islandsmoen, 20th Century\n",
      "Karl Jenkins, 20th Century\n",
      "Dmitry Kabalevsky (1962), 20th Century\n",
      "Volker David Kirchner, 20th Century\n",
      "Ståle Kleiberg, 20th Century\n",
      "Joonas Kokkonen, 20th Century\n",
      "Cyrillus Kreek, 20th Century\n",
      "Huub de Lange, 20th Century\n",
      "Morten Lauridsen \"Lux Aeterna\", 20th Century\n",
      "Philip Ledger, 20th Century\n",
      "Kamilló Lendvay, 20th Century\n",
      "György Ligeti (1965), 20th Century\n",
      "Nils Lindberg, 20th Century\n",
      "Andrew Lloyd Webber, 20th Century\n",
      "Fernando Lopes-Graça, 20th Century\n",
      "Roman Maciejewski, 20th Century\n",
      "Bruno Maderna (1946), 20th Century\n",
      "Frank Martin, 20th Century\n",
      "Jean-Christian Michel, 20th Century\n",
      "Otto Olsson (1903), 20th Century\n",
      "Ildebrando Pizzetti (1968), 20th Century\n",
      "Jocelyn Pook, 20th Century\n",
      "Zbigniew Preisner, 20th Century\n",
      "Robert Rønnes, 20th Century\n",
      "John Rutter (1985), 20th Century\n",
      "Joseph Ryelandt, 20th Century\n",
      "Shigeaki Saegusa, 20th Century\n",
      "Alfred Schnittke, 20th Century\n",
      "Giovanni Sgambati (1901), 20th Century\n",
      "Valentin Silvestrov, 20th Century\n",
      "Fredrik Sixten, 20th Century\n",
      "Robert Steadman, 20th Century\n",
      "Igor Stravinsky, 20th Century\n",
      "Toru Takemitsu, 20th Century\n",
      "John Tavener, 20th Century\n",
      "Virgil Thomson, 20th Century\n",
      "Erkki-Sven Tüür, 20th Century\n",
      "Malcolm Williamson, 20th Century\n",
      "Bernd Alois Zimmermann: Requiem für einen jungen Dichter (1969), 20th Century\n"
     ]
    }
   ],
   "source": [
    "twentiethcentury = results.find_all('li')[81:144]\n",
    "for name in twentiethcentury:\n",
    "    name = (name.text + \", 20th Century\")\n",
    "    print(name)\n",
    "    full_list.append(name)"
   ]
  },
  {
   "cell_type": "code",
   "execution_count": 160,
   "metadata": {
    "scrolled": true
   },
   "outputs": [
    {
     "name": "stdout",
     "output_type": "stream",
     "text": [
      "John Starr Alexander \"Requiem\" 2001, 21st Century\n",
      "Lera Auerbach \"Russian Requiem\", 21st Century\n",
      "Leonardo Balada, 21st Century\n",
      "Troy Banarzi, 21st Century\n",
      "Virgin Black, 21st Century\n",
      "Jamie Brown \"A Cornish Requiem / Requiem Kernewek\", 21st Century\n",
      "Paul Carr \"Requiem for an Angel\", 21st Century\n",
      "Bob Chilcott[7], 21st Century\n",
      "Richard Danielpour: \"An American Requiem\", 21st Century\n",
      "Stephen DeCesare \"Missa De Profunctis\", 21st Century\n",
      "Bradley Ellingboe, 21st Century\n",
      "Mohammed Fairouz \"Requiem Mass\", 21st Century\n",
      "Carlo Forlivesi, 21st Century\n",
      "Eliza Gilkyson, arr. by Craig Hella Johnson \"Requiem\", 21st Century\n",
      "Howard Goodall \"Eternal Light\", 21st Century\n",
      "Steve Gray \"Requiem For Choir and Big Band\", 21st Century\n",
      "Patrick Hawes \"Lazarus Requiem\"[8], 21st Century\n",
      "Tyzen Hsiao, 21st Century\n",
      "Karl Jenkins \"The Armed Man\" (2000) & \"Requiem\" (2004), 21st Century\n",
      "Rami Khalifé (2013), 21st Century\n",
      "Iver Kleive, 21st Century\n",
      "Fan-Long Ko, 21st Century\n",
      "Thierry Lancino, 21st Century\n",
      "György Ligeti (2006), 21st Century\n",
      "Clint Mansell, (Theme from Requiem For A Dream aka 'Lux Aeterna'), 21st Century\n",
      "Christopher Rouse, 21st Century\n",
      "Carl Rütti, 21st Century\n",
      "Keiki Kobayashi, (Theme from Ace Combat 04: Shattered Skies aka Megalith -Agnus Dei-), 21st Century\n",
      "Kentaro Sato, 21st Century\n",
      "Mattias Sköld, 21st Century\n",
      "Somtow Sucharitkul, 21st Century\n",
      "John Tavener (Heartbeat, aka 'Prayer of the Heart' written for Björk), 21st Century\n",
      "Chris Williams \"Tsunami Requiem\", 21st Century\n",
      "Mack Wilberg, 21st Century\n",
      "David Crowder Band \"Give Us Rest\", 21st Century\n",
      "António Pinho Vargas, 21st Century\n",
      "Ehsan Saboohi \"Phonemes Requiem\" (2014-2015)[9], 21st Century\n"
     ]
    }
   ],
   "source": [
    "twentyfirst = results.find_all('li')[144:181]\n",
    "for name in twentyfirst:\n",
    "    name = (name.text + \", 21st Century\")\n",
    "    print(name)\n",
    "    full_list.append(name)"
   ]
  },
  {
   "cell_type": "code",
   "execution_count": 161,
   "metadata": {},
   "outputs": [
    {
     "data": {
      "text/plain": [
       "['Giovanni Francesco Anerio, Renaissance',\n",
       " 'Gianmatteo Asola, Renaissance',\n",
       " 'Giulio Belli, Renaissance',\n",
       " 'Antoine Brumel, Renaissance',\n",
       " 'Manuel Cardoso, Renaissance',\n",
       " 'Joan Cererols, Renaissance',\n",
       " 'Pierre Certon, Renaissance',\n",
       " 'Clemens non Papa, Renaissance',\n",
       " 'Guillaume Dufay, Renaissance',\n",
       " 'Pedro de Escobar, Renaissance',\n",
       " 'Antoine de Févin, Renaissance',\n",
       " 'Francisco Guerrero, Renaissance',\n",
       " 'Jacobus de Kerle, Renaissance',\n",
       " 'Orlande de Lassus, Renaissance',\n",
       " 'Duarte Lobo, Renaissance',\n",
       " 'Jean Maillard, Renaissance',\n",
       " 'Jacques Mauduit, Renaissance',\n",
       " 'Manuel Mendes, Renaissance',\n",
       " 'Cristóbal de Morales, Renaissance',\n",
       " 'Johannes Ockeghem, Renaissance',\n",
       " 'Giovanni Pierluigi da Palestrina, Renaissance',\n",
       " 'Costanzo Porta, Renaissance',\n",
       " 'Johannes Prioris, Renaissance',\n",
       " 'Jean Richafort, Renaissance',\n",
       " 'Pedro Rimonte, Renaissance',\n",
       " 'Pierre de la Rue, Renaissance',\n",
       " 'Claudin de Sermisy, Renaissance',\n",
       " 'Jacobus Vaet, Renaissance',\n",
       " 'Tomás Luis de Victoria, Renaissance',\n",
       " 'Heinrich Ignaz Franz von Biber, Baroque',\n",
       " 'André Campra, Baroque',\n",
       " 'Marc-Antoine Charpentier, Baroque',\n",
       " 'Johann Joseph Fux, Baroque',\n",
       " 'Jean Gilles, Baroque',\n",
       " 'Antonio Lotti (Requiem in F Major), Baroque',\n",
       " 'Benedetto Marcello (Requiem in the Venetian Manner), Baroque',\n",
       " 'Claudio Monteverdi (lost), Baroque',\n",
       " 'Michael Praetorius, Baroque',\n",
       " 'Heinrich Schütz, Baroque',\n",
       " 'Andrzej Siewiński, Baroque',\n",
       " 'Jan Dismas Zelenka, Baroque',\n",
       " 'Luigi Cherubini, Classical',\n",
       " 'Domenico Cimarosa, Classical',\n",
       " 'Carl Ditters von Dittersdorf, Classical',\n",
       " 'Joseph Leopold Eybler, Classical',\n",
       " 'Florian Leopold Gassmann, Classical',\n",
       " 'François-Joseph Gossec, Classical',\n",
       " 'Johann Adolf Hasse, Classical',\n",
       " 'Michael Haydn, Classical',\n",
       " 'Georg von Pasterwitz, Classical',\n",
       " 'Joseph Martin Kraus, Classical',\n",
       " 'Andrea Lucchesi, Classical',\n",
       " 'Giovanni Battista Martini, Classical',\n",
       " 'Wolfgang Amadeus Mozart, Classical',\n",
       " 'José Maurício Nunes Garcia, Classical',\n",
       " 'Ignaz Pleyel, Classical',\n",
       " 'Antonio Salieri, Classical',\n",
       " 'Osip Kozlovsky, Classical',\n",
       " 'Hector Berlioz, Romantic',\n",
       " 'João Domingos Bomtempo, Romantic',\n",
       " 'Johannes Brahms, Romantic',\n",
       " 'Anton Bruckner, Requiem in D minor[4], Romantic',\n",
       " 'Ferruccio Busoni, Romantic',\n",
       " 'Carl Czerny, Romantic',\n",
       " 'Gaetano Donizetti, Romantic',\n",
       " 'Antonín Dvořák, Romantic',\n",
       " 'Gabriel Fauré, Romantic',\n",
       " 'Charles Gounod, Romantic',\n",
       " 'Franz Lachner, Romantic',\n",
       " 'Franz Liszt, Romantic',\n",
       " 'Giacomo Puccini [Introit only], Romantic',\n",
       " 'Max Reger Hebbel Requiem, Lateinisches Requiem (fragment), Romantic',\n",
       " 'Antonín Rejcha, Romantic',\n",
       " 'Camille Saint-Saëns, Romantic',\n",
       " 'Robert Schumann, Romantic',\n",
       " 'Franz von Suppé, Romantic',\n",
       " 'Charles Villiers Stanford, Romantic',\n",
       " 'Giuseppe Verdi, Romantic',\n",
       " 'Richard Wetz, Romantic',\n",
       " 'See also: Messa per Rossini, Romantic',\n",
       " 'Mark Alburger, 20th Century',\n",
       " 'Malcolm Archer, 20th Century',\n",
       " 'Vyacheslav Artyomov, 20th Century',\n",
       " 'John Baboukis’s Requiem Mass for G.K. Chesterton (1986)[5], 20th Century',\n",
       " 'Osvaldas Balakauskas, 20th Century',\n",
       " 'Benjamin Britten, 20th Century',\n",
       " 'Sylvano Bussotti\\'s \"Rara Requiem\" (1969), 20th Century',\n",
       " 'Michel Chion, 20th Century',\n",
       " 'Vladimir Dashkevich, 20th Century',\n",
       " 'Stephen DeCesare\\'s \"Requiem\", 20th Century',\n",
       " 'James DeMars: An American Requiem, 20th Century',\n",
       " 'Edison Denisov, 20th Century',\n",
       " 'Alfred Desenclos (1963), 20th Century',\n",
       " 'Felix Draeseke (1910), 20th Century',\n",
       " 'Ralph Dunstan, 20th Century',\n",
       " 'Maurice Duruflé, 20th Century',\n",
       " \"Lorenzo Ferrero's Introito, part of the Requiem per le vittime della mafia, 20th Century\",\n",
       " \"Gerald Finzi's Requiem da camera, 20th Century\",\n",
       " 'John Foulds \"A World Requiem\", 20th Century',\n",
       " 'Howard Goodall\\'s \"Eternal Light: A Requiem\", 20th Century',\n",
       " 'William Harper \"Requiem\"[6], 20th Century',\n",
       " 'Hans Werner Henze, 20th Century',\n",
       " 'Frigyes Hidas, 20th Century',\n",
       " 'Herbert Howells, 20th Century',\n",
       " 'Sigurd Islandsmoen, 20th Century',\n",
       " 'Karl Jenkins, 20th Century',\n",
       " 'Dmitry Kabalevsky (1962), 20th Century',\n",
       " 'Volker David Kirchner, 20th Century',\n",
       " 'Ståle Kleiberg, 20th Century',\n",
       " 'Joonas Kokkonen, 20th Century',\n",
       " 'Cyrillus Kreek, 20th Century',\n",
       " 'Huub de Lange, 20th Century',\n",
       " 'Morten Lauridsen \"Lux Aeterna\", 20th Century',\n",
       " 'Philip Ledger, 20th Century',\n",
       " 'Kamilló Lendvay, 20th Century',\n",
       " 'György Ligeti (1965), 20th Century',\n",
       " 'Nils Lindberg, 20th Century',\n",
       " 'Andrew Lloyd Webber, 20th Century',\n",
       " 'Fernando Lopes-Graça, 20th Century',\n",
       " 'Roman Maciejewski, 20th Century',\n",
       " 'Bruno Maderna (1946), 20th Century',\n",
       " 'Frank Martin, 20th Century',\n",
       " 'Jean-Christian Michel, 20th Century',\n",
       " 'Otto Olsson (1903), 20th Century',\n",
       " 'Ildebrando Pizzetti (1968), 20th Century',\n",
       " 'Jocelyn Pook, 20th Century',\n",
       " 'Zbigniew Preisner, 20th Century',\n",
       " 'Robert Rønnes, 20th Century',\n",
       " 'John Rutter (1985), 20th Century',\n",
       " 'Joseph Ryelandt, 20th Century',\n",
       " 'Shigeaki Saegusa, 20th Century',\n",
       " 'Alfred Schnittke, 20th Century',\n",
       " 'Giovanni Sgambati (1901), 20th Century',\n",
       " 'Valentin Silvestrov, 20th Century',\n",
       " 'Fredrik Sixten, 20th Century',\n",
       " 'Robert Steadman, 20th Century',\n",
       " 'Igor Stravinsky, 20th Century',\n",
       " 'Toru Takemitsu, 20th Century',\n",
       " 'John Tavener, 20th Century',\n",
       " 'Virgil Thomson, 20th Century',\n",
       " 'Erkki-Sven Tüür, 20th Century',\n",
       " 'Malcolm Williamson, 20th Century',\n",
       " 'Bernd Alois Zimmermann: Requiem für einen jungen Dichter (1969), 20th Century',\n",
       " 'John Starr Alexander \"Requiem\" 2001, 21st Century',\n",
       " 'Lera Auerbach \"Russian Requiem\", 21st Century',\n",
       " 'Leonardo Balada, 21st Century',\n",
       " 'Troy Banarzi, 21st Century',\n",
       " 'Virgin Black, 21st Century',\n",
       " 'Jamie Brown \"A Cornish Requiem / Requiem Kernewek\", 21st Century',\n",
       " 'Paul Carr \"Requiem for an Angel\", 21st Century',\n",
       " 'Bob Chilcott[7], 21st Century',\n",
       " 'Richard Danielpour: \"An American Requiem\", 21st Century',\n",
       " 'Stephen DeCesare \"Missa De Profunctis\", 21st Century',\n",
       " 'Bradley Ellingboe, 21st Century',\n",
       " 'Mohammed Fairouz \"Requiem Mass\", 21st Century',\n",
       " 'Carlo Forlivesi, 21st Century',\n",
       " 'Eliza Gilkyson, arr. by Craig Hella Johnson \"Requiem\", 21st Century',\n",
       " 'Howard Goodall \"Eternal Light\", 21st Century',\n",
       " 'Steve Gray \"Requiem For Choir and Big Band\", 21st Century',\n",
       " 'Patrick Hawes \"Lazarus Requiem\"[8], 21st Century',\n",
       " 'Tyzen Hsiao, 21st Century',\n",
       " 'Karl Jenkins \"The Armed Man\" (2000) & \"Requiem\" (2004), 21st Century',\n",
       " 'Rami Khalifé (2013), 21st Century',\n",
       " 'Iver Kleive, 21st Century',\n",
       " 'Fan-Long Ko, 21st Century',\n",
       " 'Thierry Lancino, 21st Century',\n",
       " 'György Ligeti (2006), 21st Century',\n",
       " \"Clint Mansell, (Theme from Requiem For A Dream aka 'Lux Aeterna'), 21st Century\",\n",
       " 'Christopher Rouse, 21st Century',\n",
       " 'Carl Rütti, 21st Century',\n",
       " 'Keiki Kobayashi, (Theme from Ace Combat 04: Shattered Skies aka Megalith -Agnus Dei-), 21st Century',\n",
       " 'Kentaro Sato, 21st Century',\n",
       " 'Mattias Sköld, 21st Century',\n",
       " 'Somtow Sucharitkul, 21st Century',\n",
       " \"John Tavener (Heartbeat, aka 'Prayer of the Heart' written for Björk), 21st Century\",\n",
       " 'Chris Williams \"Tsunami Requiem\", 21st Century',\n",
       " 'Mack Wilberg, 21st Century',\n",
       " 'David Crowder Band \"Give Us Rest\", 21st Century',\n",
       " 'António Pinho Vargas, 21st Century',\n",
       " 'Ehsan Saboohi \"Phonemes Requiem\" (2014-2015)[9], 21st Century']"
      ]
     },
     "execution_count": 161,
     "metadata": {},
     "output_type": "execute_result"
    }
   ],
   "source": [
    "full_list"
   ]
  },
  {
   "cell_type": "markdown",
   "metadata": {},
   "source": [
    "# Applying a Tabular Structure to Scraped Data"
   ]
  },
  {
   "cell_type": "code",
   "execution_count": 162,
   "metadata": {
    "scrolled": true
   },
   "outputs": [
    {
     "data": {
      "text/plain": [
       "180"
      ]
     },
     "execution_count": 162,
     "metadata": {},
     "output_type": "execute_result"
    }
   ],
   "source": [
    "df = pd.DataFrame(full_list, columns=['name'])\n",
    "len(df)#['name'].str.contains('Renaissance')"
   ]
  },
  {
   "cell_type": "code",
   "execution_count": 163,
   "metadata": {},
   "outputs": [
    {
     "data": {
      "text/plain": [
       "29"
      ]
     },
     "execution_count": 163,
     "metadata": {},
     "output_type": "execute_result"
    }
   ],
   "source": [
    "ren = df[df['name'].str.contains('Renaissance')]\n",
    "len(ren)"
   ]
  },
  {
   "cell_type": "code",
   "execution_count": 164,
   "metadata": {},
   "outputs": [
    {
     "data": {
      "text/plain": [
       "12"
      ]
     },
     "execution_count": 164,
     "metadata": {},
     "output_type": "execute_result"
    }
   ],
   "source": [
    "baroque = df[df['name'].str.contains('Baroque')]\n",
    "len(baroque)"
   ]
  },
  {
   "cell_type": "code",
   "execution_count": 165,
   "metadata": {},
   "outputs": [
    {
     "data": {
      "text/plain": [
       "17"
      ]
     },
     "execution_count": 165,
     "metadata": {},
     "output_type": "execute_result"
    }
   ],
   "source": [
    "classical = df[df['name'].str.contains('Classical')]\n",
    "len(classical)"
   ]
  },
  {
   "cell_type": "code",
   "execution_count": 166,
   "metadata": {},
   "outputs": [
    {
     "data": {
      "text/plain": [
       "22"
      ]
     },
     "execution_count": 166,
     "metadata": {},
     "output_type": "execute_result"
    }
   ],
   "source": [
    "romantic = df[df['name'].str.contains('Romantic')]\n",
    "len(romantic)"
   ]
  },
  {
   "cell_type": "code",
   "execution_count": 167,
   "metadata": {},
   "outputs": [
    {
     "data": {
      "text/plain": [
       "63"
      ]
     },
     "execution_count": 167,
     "metadata": {},
     "output_type": "execute_result"
    }
   ],
   "source": [
    "twenty = df[df['name'].str.contains('20th Century')]\n",
    "len(twenty)"
   ]
  },
  {
   "cell_type": "code",
   "execution_count": 168,
   "metadata": {},
   "outputs": [
    {
     "data": {
      "text/plain": [
       "37"
      ]
     },
     "execution_count": 168,
     "metadata": {},
     "output_type": "execute_result"
    }
   ],
   "source": [
    "twentyone = df[df['name'].str.contains('21st Century')]\n",
    "len(twentyone)"
   ]
  },
  {
   "cell_type": "code",
   "execution_count": 169,
   "metadata": {},
   "outputs": [],
   "source": [
    "#df.to_csv('created_requiem.csv', index=False,encoding='utf-8')"
   ]
  },
  {
   "cell_type": "markdown",
   "metadata": {},
   "source": [
    "# Finding patterns in new database (created by cleaning out portion of the requiem) "
   ]
  },
  {
   "cell_type": "code",
   "execution_count": 172,
   "metadata": {},
   "outputs": [],
   "source": [
    "df2 = pd.read_csv('requiem_cleaned - Sheet1.csv')"
   ]
  },
  {
   "cell_type": "code",
   "execution_count": 173,
   "metadata": {
    "collapsed": true
   },
   "outputs": [],
   "source": [
    "# http://pandas.pydata.org/pandas-docs/version/0.17.0/generated/pandas.DataFrame.fillna.html\n",
    "df2.fillna(value=0, inplace=True)"
   ]
  },
  {
   "cell_type": "code",
   "execution_count": 175,
   "metadata": {},
   "outputs": [
    {
     "data": {
      "text/plain": [
       "20th Century    60\n",
       "Renaissance     35\n",
       "21st Century    35\n",
       "Romantic        20\n",
       "Classical       17\n",
       "Baroque         17\n",
       "Portugal         1\n",
       "Name: Period, dtype: int64"
      ]
     },
     "execution_count": 175,
     "metadata": {},
     "output_type": "execute_result"
    }
   ],
   "source": [
    "df2['Period'].value_counts()"
   ]
  },
  {
   "cell_type": "code",
   "execution_count": 176,
   "metadata": {},
   "outputs": [
    {
     "data": {
      "text/plain": [
       "Index(['Name', 'Country', 'Period', 'Introit', 'Kyrie', 'Gradual', 'Tract',\n",
       "       'Sequence/Dies Irae', 'Offertory', 'Sanctus', 'Benedictus', 'Agnus Dei',\n",
       "       'Communion/lux aeterna', 'Lacrimosa', 'Pie Jesu', 'Libera Me',\n",
       "       'In Paradisum', 'Other Texts', 'Commissioned'],\n",
       "      dtype='object')"
      ]
     },
     "execution_count": 176,
     "metadata": {},
     "output_type": "execute_result"
    }
   ],
   "source": [
    "df2.columns"
   ]
  },
  {
   "cell_type": "code",
   "execution_count": 178,
   "metadata": {},
   "outputs": [
    {
     "data": {
      "text/plain": [
       "Period        Other Texts                                                                                                                                                                                                         \n",
       "20th Century  0                                                                                                                                                                                                                       49\n",
       "              American texts                                                                                                                                                                                                           1\n",
       "              John Bunyan's The Pilgrim's Progress, a poem by the Hindu poet Kabir and a few passages she wrote herself. There are 20 movements arranged in two parts of 10 movements each, though some movements are quite brief.     1\n",
       "              Scottish poet and play writer Edwin Morgan                                                                                                                                                                               1\n",
       "              Text by Ayoko Sono, a female Japanese poet and novelist                                                                                                                                                                  1\n",
       "              Text by Robert Rozhdestvensky (1932 - 1994)                                                                                                                                                                              1\n",
       "              additional Bible verses                                                                                                                                                                                                  1\n",
       "              lyrics by the Russian Silver Age poets, including Requiem of Anna Akhmatova.                                                                                                                                             1\n",
       "              performed for the consecration of the new Coventry Cathedral, which was built after the original fourteenth-century structure was destroyed in a World War II bombing raid.                                              1\n",
       "              psalms, memorial poem                                                                                                                                                                                                    1\n",
       "              setting a multi-lingual text (English, French, German and Latin) based on works by Francisco Tanzer, was given its first performance in Hamburg in 1980.                                                                 1\n",
       "              work by John Masefield, work by Thomas Hardy, Wilfred Wilson Gibson .                                                                                                                                                    1\n",
       "21st Century  0                                                                                                                                                                                                                       23\n",
       "              Ave Maria                                                                                                                                                                                                                1\n",
       "              English texts                                                                                                                                                                                                            1\n",
       "              John Donne, G Herbert                                                                                                                                                                                                    1\n",
       "              The texts in English, from Whitman, Emerson, Michael Harper, Hilda Doolittle (known as H.D.) and an anonymous Afro-American spiritua                                                                                     1\n",
       "              Thou knowest, Lord                                                                                                                                                                                                       1\n",
       "              agnostic, but based on other spirituals                                                                                                                                                                                  1\n",
       "              evocative new Cornish text ‘Mernans ha Remembrans‘ (Death and Remembrance)                                                                                                                                               1\n",
       "              instrumental                                                                                                                                                                                                             1\n",
       "              laid beside them words from English poems from across the last 500 years.                                                                                                                                                1\n",
       "              other German and English texts                                                                                                                                                                                           1\n",
       "              other religious texts                                                                                                                                                                                                    1\n",
       "              other texts                                                                                                                                                                                                              1\n",
       "Baroque       0                                                                                                                                                                                                                       16\n",
       "              Salve Regina                                                                                                                                                                                                             1\n",
       "Classical     0                                                                                                                                                                                                                       16\n",
       "              Salve Regina                                                                                                                                                                                                             1\n",
       "Portugal      0                                                                                                                                                                                                                        1\n",
       "Renaissance   0                                                                                                                                                                                                                       35\n",
       "Romantic      0                                                                                                                                                                                                                       17\n",
       "              Requiem in the German language.                                                                                                                                                                                          1\n",
       "              memory of Luís de Camões.                                                                                                                                                                                                1\n",
       "              setting of Friedrich Hebbel's poem \"Requiem\"                                                                                                                                                                             1\n",
       "Name: Other Texts, dtype: int64"
      ]
     },
     "execution_count": 178,
     "metadata": {},
     "output_type": "execute_result"
    }
   ],
   "source": [
    "df2.groupby('Period')['Other Texts'].value_counts()\n",
    "#This gives us what other texts were incorporated into Requiems per time period "
   ]
  },
  {
   "cell_type": "markdown",
   "metadata": {},
   "source": [
    "### What Makes Up a 21st Century Requiem? "
   ]
  },
  {
   "cell_type": "code",
   "execution_count": 183,
   "metadata": {
    "scrolled": true
   },
   "outputs": [
    {
     "data": {
      "text/html": [
       "<div>\n",
       "<style>\n",
       "    .dataframe thead tr:only-child th {\n",
       "        text-align: right;\n",
       "    }\n",
       "\n",
       "    .dataframe thead th {\n",
       "        text-align: left;\n",
       "    }\n",
       "\n",
       "    .dataframe tbody tr th {\n",
       "        vertical-align: top;\n",
       "    }\n",
       "</style>\n",
       "<table border=\"1\" class=\"dataframe\">\n",
       "  <thead>\n",
       "    <tr style=\"text-align: right;\">\n",
       "      <th></th>\n",
       "      <th>Name</th>\n",
       "      <th>Country</th>\n",
       "      <th>Period</th>\n",
       "      <th>Introit</th>\n",
       "      <th>Kyrie</th>\n",
       "      <th>Gradual</th>\n",
       "      <th>Tract</th>\n",
       "      <th>Sequence/Dies Irae</th>\n",
       "      <th>Offertory</th>\n",
       "      <th>Sanctus</th>\n",
       "      <th>Benedictus</th>\n",
       "      <th>Agnus Dei</th>\n",
       "      <th>Communion/lux aeterna</th>\n",
       "      <th>Lacrimosa</th>\n",
       "      <th>Pie Jesu</th>\n",
       "      <th>Libera Me</th>\n",
       "      <th>In Paradisum</th>\n",
       "      <th>Other Texts</th>\n",
       "      <th>Commissioned</th>\n",
       "    </tr>\n",
       "  </thead>\n",
       "  <tbody>\n",
       "    <tr>\n",
       "      <th>150</th>\n",
       "      <td>John Starr Alexander</td>\n",
       "      <td>USA</td>\n",
       "      <td>21st Century</td>\n",
       "      <td>0.0</td>\n",
       "      <td>0.0</td>\n",
       "      <td>0.0</td>\n",
       "      <td>0.0</td>\n",
       "      <td>0.0</td>\n",
       "      <td>0.0</td>\n",
       "      <td>0.0</td>\n",
       "      <td>0.0</td>\n",
       "      <td>0.0</td>\n",
       "      <td>0.0</td>\n",
       "      <td>0.0</td>\n",
       "      <td>0.0</td>\n",
       "      <td>0.0</td>\n",
       "      <td>0.0</td>\n",
       "      <td>0</td>\n",
       "      <td>0</td>\n",
       "    </tr>\n",
       "    <tr>\n",
       "      <th>151</th>\n",
       "      <td>Lera Auerbach</td>\n",
       "      <td>Russia</td>\n",
       "      <td>21st Century</td>\n",
       "      <td>1.0</td>\n",
       "      <td>1.0</td>\n",
       "      <td>0.0</td>\n",
       "      <td>0.0</td>\n",
       "      <td>0.0</td>\n",
       "      <td>0.0</td>\n",
       "      <td>0.0</td>\n",
       "      <td>0.0</td>\n",
       "      <td>0.0</td>\n",
       "      <td>0.0</td>\n",
       "      <td>1.0</td>\n",
       "      <td>0.0</td>\n",
       "      <td>1.0</td>\n",
       "      <td>0.0</td>\n",
       "      <td>other German and English texts</td>\n",
       "      <td>Dedicated to the victims of nationalistic move...</td>\n",
       "    </tr>\n",
       "  </tbody>\n",
       "</table>\n",
       "</div>"
      ],
      "text/plain": [
       "                      Name Country        Period  Introit  Kyrie  Gradual  \\\n",
       "150  John Starr Alexander      USA  21st Century      0.0    0.0      0.0   \n",
       "151          Lera Auerbach  Russia  21st Century      1.0    1.0      0.0   \n",
       "\n",
       "     Tract  Sequence/Dies Irae  Offertory  Sanctus  Benedictus  Agnus Dei  \\\n",
       "150    0.0                 0.0        0.0      0.0         0.0        0.0   \n",
       "151    0.0                 0.0        0.0      0.0         0.0        0.0   \n",
       "\n",
       "     Communion/lux aeterna  Lacrimosa  Pie Jesu  Libera Me  In Paradisum  \\\n",
       "150                    0.0        0.0       0.0        0.0           0.0   \n",
       "151                    0.0        1.0       0.0        1.0           0.0   \n",
       "\n",
       "                         Other Texts  \\\n",
       "150                                0   \n",
       "151  other German and English texts    \n",
       "\n",
       "                                          Commissioned  \n",
       "150                                                  0  \n",
       "151  Dedicated to the victims of nationalistic move...  "
      ]
     },
     "execution_count": 183,
     "metadata": {},
     "output_type": "execute_result"
    }
   ],
   "source": [
    "df_21 = df2[df2['Period'] == '21st Century']\n",
    "df_21.head(2)"
   ]
  },
  {
   "cell_type": "code",
   "execution_count": 204,
   "metadata": {},
   "outputs": [
    {
     "data": {
      "text/plain": [
       "35"
      ]
     },
     "execution_count": 204,
     "metadata": {},
     "output_type": "execute_result"
    }
   ],
   "source": [
    "len(df_21)"
   ]
  },
  {
   "cell_type": "code",
   "execution_count": 189,
   "metadata": {},
   "outputs": [
    {
     "data": {
      "text/plain": [
       "14.0"
      ]
     },
     "execution_count": 189,
     "metadata": {},
     "output_type": "execute_result"
    }
   ],
   "source": [
    "df_21['Introit'].sum()"
   ]
  },
  {
   "cell_type": "code",
   "execution_count": 186,
   "metadata": {},
   "outputs": [
    {
     "data": {
      "text/plain": [
       "16.0"
      ]
     },
     "execution_count": 186,
     "metadata": {},
     "output_type": "execute_result"
    }
   ],
   "source": [
    "df_21['Kyrie'].sum()"
   ]
  },
  {
   "cell_type": "code",
   "execution_count": 187,
   "metadata": {},
   "outputs": [
    {
     "data": {
      "text/plain": [
       "0.0"
      ]
     },
     "execution_count": 187,
     "metadata": {},
     "output_type": "execute_result"
    }
   ],
   "source": [
    "df_21['Gradual'].sum()"
   ]
  },
  {
   "cell_type": "code",
   "execution_count": 190,
   "metadata": {},
   "outputs": [
    {
     "data": {
      "text/plain": [
       "0.0"
      ]
     },
     "execution_count": 190,
     "metadata": {},
     "output_type": "execute_result"
    }
   ],
   "source": [
    "df_21['Tract'].sum()"
   ]
  },
  {
   "cell_type": "code",
   "execution_count": 191,
   "metadata": {},
   "outputs": [
    {
     "data": {
      "text/plain": [
       "10.0"
      ]
     },
     "execution_count": 191,
     "metadata": {},
     "output_type": "execute_result"
    }
   ],
   "source": [
    "df_21['Sequence/Dies Irae'].sum()"
   ]
  },
  {
   "cell_type": "code",
   "execution_count": 192,
   "metadata": {},
   "outputs": [
    {
     "data": {
      "text/plain": [
       "6.0"
      ]
     },
     "execution_count": 192,
     "metadata": {},
     "output_type": "execute_result"
    }
   ],
   "source": [
    "df_21['Offertory'].sum()"
   ]
  },
  {
   "cell_type": "code",
   "execution_count": 193,
   "metadata": {},
   "outputs": [
    {
     "data": {
      "text/plain": [
       "10.0"
      ]
     },
     "execution_count": 193,
     "metadata": {},
     "output_type": "execute_result"
    }
   ],
   "source": [
    "df_21['Sanctus'].sum()"
   ]
  },
  {
   "cell_type": "code",
   "execution_count": 195,
   "metadata": {},
   "outputs": [
    {
     "data": {
      "text/plain": [
       "12.0"
      ]
     },
     "execution_count": 195,
     "metadata": {},
     "output_type": "execute_result"
    }
   ],
   "source": [
    "df_21['Agnus Dei'].sum()"
   ]
  },
  {
   "cell_type": "code",
   "execution_count": 196,
   "metadata": {},
   "outputs": [
    {
     "data": {
      "text/plain": [
       "7.0"
      ]
     },
     "execution_count": 196,
     "metadata": {},
     "output_type": "execute_result"
    }
   ],
   "source": [
    "df_21['Communion/lux aeterna'].sum()"
   ]
  },
  {
   "cell_type": "code",
   "execution_count": 198,
   "metadata": {},
   "outputs": [
    {
     "data": {
      "text/plain": [
       "6.0"
      ]
     },
     "execution_count": 198,
     "metadata": {},
     "output_type": "execute_result"
    }
   ],
   "source": [
    "df_21['Pie Jesu'].sum()"
   ]
  },
  {
   "cell_type": "code",
   "execution_count": 199,
   "metadata": {},
   "outputs": [
    {
     "data": {
      "text/plain": [
       "3.0"
      ]
     },
     "execution_count": 199,
     "metadata": {},
     "output_type": "execute_result"
    }
   ],
   "source": [
    "df_21['Libera Me'].sum()"
   ]
  },
  {
   "cell_type": "code",
   "execution_count": 200,
   "metadata": {},
   "outputs": [
    {
     "data": {
      "text/plain": [
       "7.0"
      ]
     },
     "execution_count": 200,
     "metadata": {},
     "output_type": "execute_result"
    }
   ],
   "source": [
    "df_21['In Paradisum'].sum()"
   ]
  },
  {
   "cell_type": "markdown",
   "metadata": {},
   "source": [
    "## What about 20th Century? "
   ]
  },
  {
   "cell_type": "code",
   "execution_count": 203,
   "metadata": {},
   "outputs": [
    {
     "data": {
      "text/html": [
       "<div>\n",
       "<style>\n",
       "    .dataframe thead tr:only-child th {\n",
       "        text-align: right;\n",
       "    }\n",
       "\n",
       "    .dataframe thead th {\n",
       "        text-align: left;\n",
       "    }\n",
       "\n",
       "    .dataframe tbody tr th {\n",
       "        vertical-align: top;\n",
       "    }\n",
       "</style>\n",
       "<table border=\"1\" class=\"dataframe\">\n",
       "  <thead>\n",
       "    <tr style=\"text-align: right;\">\n",
       "      <th></th>\n",
       "      <th>Name</th>\n",
       "      <th>Country</th>\n",
       "      <th>Period</th>\n",
       "      <th>Introit</th>\n",
       "      <th>Kyrie</th>\n",
       "      <th>Gradual</th>\n",
       "      <th>Tract</th>\n",
       "      <th>Sequence/Dies Irae</th>\n",
       "      <th>Offertory</th>\n",
       "      <th>Sanctus</th>\n",
       "      <th>Benedictus</th>\n",
       "      <th>Agnus Dei</th>\n",
       "      <th>Communion/lux aeterna</th>\n",
       "      <th>Lacrimosa</th>\n",
       "      <th>Pie Jesu</th>\n",
       "      <th>Libera Me</th>\n",
       "      <th>In Paradisum</th>\n",
       "      <th>Other Texts</th>\n",
       "      <th>Commissioned</th>\n",
       "    </tr>\n",
       "  </thead>\n",
       "  <tbody>\n",
       "    <tr>\n",
       "      <th>90</th>\n",
       "      <td>Mark Alburger</td>\n",
       "      <td>USA</td>\n",
       "      <td>20th Century</td>\n",
       "      <td>1.0</td>\n",
       "      <td>1.0</td>\n",
       "      <td>0.0</td>\n",
       "      <td>0.0</td>\n",
       "      <td>1.0</td>\n",
       "      <td>0.0</td>\n",
       "      <td>1.0</td>\n",
       "      <td>0.0</td>\n",
       "      <td>1.0</td>\n",
       "      <td>0.0</td>\n",
       "      <td>1.0</td>\n",
       "      <td>0.0</td>\n",
       "      <td>0.0</td>\n",
       "      <td>0.0</td>\n",
       "      <td>0</td>\n",
       "      <td>the aerial requiem</td>\n",
       "    </tr>\n",
       "    <tr>\n",
       "      <th>91</th>\n",
       "      <td>Malcolm Archer</td>\n",
       "      <td>UK</td>\n",
       "      <td>20th Century</td>\n",
       "      <td>1.0</td>\n",
       "      <td>1.0</td>\n",
       "      <td>0.0</td>\n",
       "      <td>0.0</td>\n",
       "      <td>0.0</td>\n",
       "      <td>1.0</td>\n",
       "      <td>1.0</td>\n",
       "      <td>0.0</td>\n",
       "      <td>1.0</td>\n",
       "      <td>0.0</td>\n",
       "      <td>0.0</td>\n",
       "      <td>1.0</td>\n",
       "      <td>1.0</td>\n",
       "      <td>1.0</td>\n",
       "      <td>0</td>\n",
       "      <td>0</td>\n",
       "    </tr>\n",
       "  </tbody>\n",
       "</table>\n",
       "</div>"
      ],
      "text/plain": [
       "              Name Country        Period  Introit  Kyrie  Gradual  Tract  \\\n",
       "90   Mark Alburger     USA  20th Century      1.0    1.0      0.0    0.0   \n",
       "91  Malcolm Archer      UK  20th Century      1.0    1.0      0.0    0.0   \n",
       "\n",
       "    Sequence/Dies Irae  Offertory  Sanctus  Benedictus  Agnus Dei  \\\n",
       "90                 1.0        0.0      1.0         0.0        1.0   \n",
       "91                 0.0        1.0      1.0         0.0        1.0   \n",
       "\n",
       "    Communion/lux aeterna  Lacrimosa  Pie Jesu  Libera Me  In Paradisum  \\\n",
       "90                    0.0        1.0       0.0        0.0           0.0   \n",
       "91                    0.0        0.0       1.0        1.0           1.0   \n",
       "\n",
       "   Other Texts         Commissioned  \n",
       "90           0  the aerial requiem   \n",
       "91           0                    0  "
      ]
     },
     "execution_count": 203,
     "metadata": {},
     "output_type": "execute_result"
    }
   ],
   "source": [
    "df_20 = df2[df2['Period'] == '20th Century']\n",
    "df_20.head(2)"
   ]
  },
  {
   "cell_type": "code",
   "execution_count": 205,
   "metadata": {},
   "outputs": [
    {
     "data": {
      "text/plain": [
       "60"
      ]
     },
     "execution_count": 205,
     "metadata": {},
     "output_type": "execute_result"
    }
   ],
   "source": [
    "len(df_20)"
   ]
  },
  {
   "cell_type": "code",
   "execution_count": 202,
   "metadata": {},
   "outputs": [
    {
     "data": {
      "text/plain": [
       "42.0"
      ]
     },
     "execution_count": 202,
     "metadata": {},
     "output_type": "execute_result"
    }
   ],
   "source": [
    "df_20['Introit'].sum()"
   ]
  },
  {
   "cell_type": "code",
   "execution_count": 206,
   "metadata": {},
   "outputs": [
    {
     "data": {
      "text/plain": [
       "48.0"
      ]
     },
     "execution_count": 206,
     "metadata": {},
     "output_type": "execute_result"
    }
   ],
   "source": [
    "df_20['Kyrie'].sum()"
   ]
  },
  {
   "cell_type": "code",
   "execution_count": 207,
   "metadata": {},
   "outputs": [
    {
     "data": {
      "text/plain": [
       "2.0"
      ]
     },
     "execution_count": 207,
     "metadata": {},
     "output_type": "execute_result"
    }
   ],
   "source": [
    "df_20['Gradual'].sum()"
   ]
  },
  {
   "cell_type": "code",
   "execution_count": 208,
   "metadata": {},
   "outputs": [
    {
     "data": {
      "text/plain": [
       "1.0"
      ]
     },
     "execution_count": 208,
     "metadata": {},
     "output_type": "execute_result"
    }
   ],
   "source": [
    "df_20['Tract'].sum()"
   ]
  },
  {
   "cell_type": "code",
   "execution_count": 210,
   "metadata": {},
   "outputs": [
    {
     "data": {
      "text/plain": [
       "30.0"
      ]
     },
     "execution_count": 210,
     "metadata": {},
     "output_type": "execute_result"
    }
   ],
   "source": [
    "df_20['Sequence/Dies Irae'].sum()"
   ]
  },
  {
   "cell_type": "code",
   "execution_count": 211,
   "metadata": {},
   "outputs": [
    {
     "data": {
      "text/plain": [
       "16.0"
      ]
     },
     "execution_count": 211,
     "metadata": {},
     "output_type": "execute_result"
    }
   ],
   "source": [
    "df_20['Offertory'].sum()"
   ]
  },
  {
   "cell_type": "code",
   "execution_count": 212,
   "metadata": {},
   "outputs": [
    {
     "data": {
      "text/plain": [
       "31.0"
      ]
     },
     "execution_count": 212,
     "metadata": {},
     "output_type": "execute_result"
    }
   ],
   "source": [
    "df_20['Sanctus'].sum()"
   ]
  },
  {
   "cell_type": "code",
   "execution_count": 213,
   "metadata": {},
   "outputs": [
    {
     "data": {
      "text/plain": [
       "33.0"
      ]
     },
     "execution_count": 213,
     "metadata": {},
     "output_type": "execute_result"
    }
   ],
   "source": [
    "df_20['Agnus Dei'].sum()"
   ]
  },
  {
   "cell_type": "code",
   "execution_count": 215,
   "metadata": {},
   "outputs": [
    {
     "data": {
      "text/plain": [
       "19.0"
      ]
     },
     "execution_count": 215,
     "metadata": {},
     "output_type": "execute_result"
    }
   ],
   "source": [
    "df_20['Communion/lux aeterna'].sum()"
   ]
  },
  {
   "cell_type": "code",
   "execution_count": 216,
   "metadata": {},
   "outputs": [
    {
     "data": {
      "text/plain": [
       "14.0"
      ]
     },
     "execution_count": 216,
     "metadata": {},
     "output_type": "execute_result"
    }
   ],
   "source": [
    "df_20['Pie Jesu'].sum()"
   ]
  },
  {
   "cell_type": "code",
   "execution_count": 217,
   "metadata": {},
   "outputs": [
    {
     "data": {
      "text/plain": [
       "16.0"
      ]
     },
     "execution_count": 217,
     "metadata": {},
     "output_type": "execute_result"
    }
   ],
   "source": [
    "df_20['Libera Me'].sum()"
   ]
  },
  {
   "cell_type": "code",
   "execution_count": 218,
   "metadata": {},
   "outputs": [
    {
     "data": {
      "text/plain": [
       "14.0"
      ]
     },
     "execution_count": 218,
     "metadata": {},
     "output_type": "execute_result"
    }
   ],
   "source": [
    "df_20['In Paradisum'].sum()"
   ]
  },
  {
   "cell_type": "code",
   "execution_count": null,
   "metadata": {
    "collapsed": true
   },
   "outputs": [],
   "source": []
  }
 ],
 "metadata": {
  "kernelspec": {
   "display_name": "Python 3",
   "language": "python",
   "name": "python3"
  },
  "language_info": {
   "codemirror_mode": {
    "name": "ipython",
    "version": 3
   },
   "file_extension": ".py",
   "mimetype": "text/x-python",
   "name": "python",
   "nbconvert_exporter": "python",
   "pygments_lexer": "ipython3",
   "version": "3.6.1"
  }
 },
 "nbformat": 4,
 "nbformat_minor": 2
}
