{
 "cells": [
  {
   "cell_type": "code",
   "execution_count": 2,
   "metadata": {
    "collapsed": true
   },
   "outputs": [],
   "source": [
    "import pandas as pd\n",
    "%matplotlib inline\n",
    "import matplotlib.pyplot as plt"
   ]
  },
  {
   "cell_type": "code",
   "execution_count": 5,
   "metadata": {
    "collapsed": true,
    "scrolled": true
   },
   "outputs": [],
   "source": [
    "df2012 = pd.read_csv('Local News Week 3 - Page1Subjects2012 (2).csv')"
   ]
  },
  {
   "cell_type": "code",
   "execution_count": 6,
   "metadata": {
    "collapsed": true
   },
   "outputs": [],
   "source": [
    "df2013 = pd.read_csv('Local News Week 3 - Page1Subjects2013 (1).csv')"
   ]
  },
  {
   "cell_type": "code",
   "execution_count": 7,
   "metadata": {
    "collapsed": true
   },
   "outputs": [],
   "source": [
    "df2014 = pd.read_csv('Local News Week 3 - Page1Subject2014 (1).csv')"
   ]
  },
  {
   "cell_type": "code",
   "execution_count": 8,
   "metadata": {
    "collapsed": true
   },
   "outputs": [],
   "source": [
    "df2015 = pd.read_csv('Local News Week 3 - Page1Subjects2015 (1).csv')"
   ]
  },
  {
   "cell_type": "code",
   "execution_count": 9,
   "metadata": {
    "collapsed": true
   },
   "outputs": [],
   "source": [
    "df2016 = pd.read_csv('Local News Week 3 - Page1Subjects2016 (1).csv')"
   ]
  },
  {
   "cell_type": "code",
   "execution_count": 10,
   "metadata": {
    "collapsed": true
   },
   "outputs": [],
   "source": [
    "df2016.rename(columns={'Subjecty':'Subject'}, inplace=True)"
   ]
  },
  {
   "cell_type": "code",
   "execution_count": 11,
   "metadata": {
    "collapsed": true
   },
   "outputs": [],
   "source": [
    "newly_merged = df2012.merge(df2013,on='Subject',how='outer').merge(df2014,on='Subject',how='outer').merge(df2015,on='Subject',how='outer').merge(df2016,on='Subject',how='outer')\n"
   ]
  },
  {
   "cell_type": "code",
   "execution_count": 12,
   "metadata": {
    "collapsed": true,
    "scrolled": true
   },
   "outputs": [],
   "source": [
    "newly_merged.set_index('Subject', inplace=True)"
   ]
  },
  {
   "cell_type": "code",
   "execution_count": 13,
   "metadata": {
    "collapsed": true
   },
   "outputs": [],
   "source": [
    "newly_merged.rename(columns={'Document Count':'2012count'},inplace=True)\n",
    "newly_merged.dropna(inplace=True)"
   ]
  },
  {
   "cell_type": "code",
   "execution_count": 14,
   "metadata": {
    "collapsed": true,
    "scrolled": true
   },
   "outputs": [],
   "source": [
    "df_to_graph = newly_merged.sort_values(by='2016count',ascending=False)"
   ]
  },
  {
   "cell_type": "code",
   "execution_count": 15,
   "metadata": {
    "scrolled": true
   },
   "outputs": [
    {
     "data": {
      "text/html": [
       "<div>\n",
       "<style>\n",
       "    .dataframe thead tr:only-child th {\n",
       "        text-align: right;\n",
       "    }\n",
       "\n",
       "    .dataframe thead th {\n",
       "        text-align: left;\n",
       "    }\n",
       "\n",
       "    .dataframe tbody tr th {\n",
       "        vertical-align: top;\n",
       "    }\n",
       "</style>\n",
       "<table border=\"1\" class=\"dataframe\">\n",
       "  <thead>\n",
       "    <tr style=\"text-align: right;\">\n",
       "      <th></th>\n",
       "      <th>2012count</th>\n",
       "      <th>2013count</th>\n",
       "      <th>2014count</th>\n",
       "      <th>2015count</th>\n",
       "      <th>2016count</th>\n",
       "    </tr>\n",
       "    <tr>\n",
       "      <th>Subject</th>\n",
       "      <th></th>\n",
       "      <th></th>\n",
       "      <th></th>\n",
       "      <th></th>\n",
       "      <th></th>\n",
       "    </tr>\n",
       "  </thead>\n",
       "  <tbody>\n",
       "    <tr>\n",
       "      <th>Domestic Politics</th>\n",
       "      <td>134.0</td>\n",
       "      <td>199.0</td>\n",
       "      <td>195.0</td>\n",
       "      <td>197.0</td>\n",
       "      <td>326.0</td>\n",
       "    </tr>\n",
       "    <tr>\n",
       "      <th>Crime/Legal Action</th>\n",
       "      <td>54.0</td>\n",
       "      <td>56.0</td>\n",
       "      <td>128.0</td>\n",
       "      <td>176.0</td>\n",
       "      <td>190.0</td>\n",
       "    </tr>\n",
       "    <tr>\n",
       "      <th>National/Presidential Elections</th>\n",
       "      <td>92.0</td>\n",
       "      <td>29.0</td>\n",
       "      <td>36.0</td>\n",
       "      <td>36.0</td>\n",
       "      <td>158.0</td>\n",
       "    </tr>\n",
       "    <tr>\n",
       "      <th>Elections</th>\n",
       "      <td>60.0</td>\n",
       "      <td>52.0</td>\n",
       "      <td>77.0</td>\n",
       "      <td>46.0</td>\n",
       "      <td>143.0</td>\n",
       "    </tr>\n",
       "    <tr>\n",
       "      <th>Murder/Manslaughter</th>\n",
       "      <td>29.0</td>\n",
       "      <td>22.0</td>\n",
       "      <td>32.0</td>\n",
       "      <td>75.0</td>\n",
       "      <td>120.0</td>\n",
       "    </tr>\n",
       "    <tr>\n",
       "      <th>Education</th>\n",
       "      <td>23.0</td>\n",
       "      <td>19.0</td>\n",
       "      <td>54.0</td>\n",
       "      <td>74.0</td>\n",
       "      <td>116.0</td>\n",
       "    </tr>\n",
       "    <tr>\n",
       "      <th>School</th>\n",
       "      <td>117.0</td>\n",
       "      <td>122.0</td>\n",
       "      <td>81.0</td>\n",
       "      <td>97.0</td>\n",
       "      <td>100.0</td>\n",
       "    </tr>\n",
       "    <tr>\n",
       "      <th>University/College</th>\n",
       "      <td>59.0</td>\n",
       "      <td>48.0</td>\n",
       "      <td>38.0</td>\n",
       "      <td>48.0</td>\n",
       "      <td>64.0</td>\n",
       "    </tr>\n",
       "    <tr>\n",
       "      <th>Regional Politics</th>\n",
       "      <td>40.0</td>\n",
       "      <td>139.0</td>\n",
       "      <td>168.0</td>\n",
       "      <td>105.0</td>\n",
       "      <td>63.0</td>\n",
       "    </tr>\n",
       "    <tr>\n",
       "      <th>Law Enforcement</th>\n",
       "      <td>3.0</td>\n",
       "      <td>4.0</td>\n",
       "      <td>5.0</td>\n",
       "      <td>29.0</td>\n",
       "      <td>49.0</td>\n",
       "    </tr>\n",
       "    <tr>\n",
       "      <th>Sex Crimes</th>\n",
       "      <td>6.0</td>\n",
       "      <td>9.0</td>\n",
       "      <td>15.0</td>\n",
       "      <td>10.0</td>\n",
       "      <td>38.0</td>\n",
       "    </tr>\n",
       "    <tr>\n",
       "      <th>Government Budget/Taxation</th>\n",
       "      <td>77.0</td>\n",
       "      <td>92.0</td>\n",
       "      <td>53.0</td>\n",
       "      <td>61.0</td>\n",
       "      <td>37.0</td>\n",
       "    </tr>\n",
       "    <tr>\n",
       "      <th>Sub-National/Local Budget/Taxation</th>\n",
       "      <td>30.0</td>\n",
       "      <td>46.0</td>\n",
       "      <td>29.0</td>\n",
       "      <td>31.0</td>\n",
       "      <td>29.0</td>\n",
       "    </tr>\n",
       "    <tr>\n",
       "      <th>Upper House</th>\n",
       "      <td>3.0</td>\n",
       "      <td>33.0</td>\n",
       "      <td>32.0</td>\n",
       "      <td>14.0</td>\n",
       "      <td>26.0</td>\n",
       "    </tr>\n",
       "    <tr>\n",
       "      <th>Migration</th>\n",
       "      <td>34.0</td>\n",
       "      <td>40.0</td>\n",
       "      <td>18.0</td>\n",
       "      <td>35.0</td>\n",
       "      <td>25.0</td>\n",
       "    </tr>\n",
       "    <tr>\n",
       "      <th>Lower House</th>\n",
       "      <td>8.0</td>\n",
       "      <td>16.0</td>\n",
       "      <td>8.0</td>\n",
       "      <td>16.0</td>\n",
       "      <td>21.0</td>\n",
       "    </tr>\n",
       "    <tr>\n",
       "      <th>Legislative Branch</th>\n",
       "      <td>6.0</td>\n",
       "      <td>43.0</td>\n",
       "      <td>40.0</td>\n",
       "      <td>20.0</td>\n",
       "      <td>21.0</td>\n",
       "    </tr>\n",
       "    <tr>\n",
       "      <th>Transport</th>\n",
       "      <td>22.0</td>\n",
       "      <td>13.0</td>\n",
       "      <td>19.0</td>\n",
       "      <td>47.0</td>\n",
       "      <td>20.0</td>\n",
       "    </tr>\n",
       "    <tr>\n",
       "      <th>Surveys/Polls</th>\n",
       "      <td>11.0</td>\n",
       "      <td>12.0</td>\n",
       "      <td>10.0</td>\n",
       "      <td>7.0</td>\n",
       "      <td>19.0</td>\n",
       "    </tr>\n",
       "    <tr>\n",
       "      <th>Judicial Branch</th>\n",
       "      <td>35.0</td>\n",
       "      <td>40.0</td>\n",
       "      <td>13.0</td>\n",
       "      <td>40.0</td>\n",
       "      <td>19.0</td>\n",
       "    </tr>\n",
       "    <tr>\n",
       "      <th>Corporate Crime/Legal Action</th>\n",
       "      <td>14.0</td>\n",
       "      <td>25.0</td>\n",
       "      <td>21.0</td>\n",
       "      <td>24.0</td>\n",
       "      <td>19.0</td>\n",
       "    </tr>\n",
       "    <tr>\n",
       "      <th>Transport Accidents</th>\n",
       "      <td>13.0</td>\n",
       "      <td>13.0</td>\n",
       "      <td>14.0</td>\n",
       "      <td>16.0</td>\n",
       "      <td>18.0</td>\n",
       "    </tr>\n",
       "    <tr>\n",
       "      <th>Burglary/Theft</th>\n",
       "      <td>9.0</td>\n",
       "      <td>14.0</td>\n",
       "      <td>7.0</td>\n",
       "      <td>8.0</td>\n",
       "      <td>15.0</td>\n",
       "    </tr>\n",
       "    <tr>\n",
       "      <th>Fraud</th>\n",
       "      <td>14.0</td>\n",
       "      <td>12.0</td>\n",
       "      <td>18.0</td>\n",
       "      <td>13.0</td>\n",
       "      <td>14.0</td>\n",
       "    </tr>\n",
       "    <tr>\n",
       "      <th>Death Penalty/Capital Punishment</th>\n",
       "      <td>6.0</td>\n",
       "      <td>8.0</td>\n",
       "      <td>10.0</td>\n",
       "      <td>15.0</td>\n",
       "      <td>13.0</td>\n",
       "    </tr>\n",
       "    <tr>\n",
       "      <th>Suggested Reading – Insurance</th>\n",
       "      <td>10.0</td>\n",
       "      <td>39.0</td>\n",
       "      <td>30.0</td>\n",
       "      <td>27.0</td>\n",
       "      <td>12.0</td>\n",
       "    </tr>\n",
       "    <tr>\n",
       "      <th>Corruption</th>\n",
       "      <td>16.0</td>\n",
       "      <td>24.0</td>\n",
       "      <td>34.0</td>\n",
       "      <td>23.0</td>\n",
       "      <td>10.0</td>\n",
       "    </tr>\n",
       "    <tr>\n",
       "      <th>Management Moves</th>\n",
       "      <td>9.0</td>\n",
       "      <td>9.0</td>\n",
       "      <td>10.0</td>\n",
       "      <td>7.0</td>\n",
       "      <td>8.0</td>\n",
       "    </tr>\n",
       "    <tr>\n",
       "      <th>Assault</th>\n",
       "      <td>6.0</td>\n",
       "      <td>10.0</td>\n",
       "      <td>9.0</td>\n",
       "      <td>5.0</td>\n",
       "      <td>8.0</td>\n",
       "    </tr>\n",
       "    <tr>\n",
       "      <th>Drug Trafficking/Dealing</th>\n",
       "      <td>3.0</td>\n",
       "      <td>6.0</td>\n",
       "      <td>9.0</td>\n",
       "      <td>4.0</td>\n",
       "      <td>8.0</td>\n",
       "    </tr>\n",
       "    <tr>\n",
       "      <th>Senior Level Management</th>\n",
       "      <td>10.0</td>\n",
       "      <td>27.0</td>\n",
       "      <td>26.0</td>\n",
       "      <td>7.0</td>\n",
       "      <td>7.0</td>\n",
       "    </tr>\n",
       "    <tr>\n",
       "      <th>Ethical Issues</th>\n",
       "      <td>26.0</td>\n",
       "      <td>34.0</td>\n",
       "      <td>40.0</td>\n",
       "      <td>8.0</td>\n",
       "      <td>7.0</td>\n",
       "    </tr>\n",
       "    <tr>\n",
       "      <th>Pricing</th>\n",
       "      <td>5.0</td>\n",
       "      <td>5.0</td>\n",
       "      <td>7.0</td>\n",
       "      <td>7.0</td>\n",
       "      <td>6.0</td>\n",
       "    </tr>\n",
       "    <tr>\n",
       "      <th>Medical Treatments/Procedures</th>\n",
       "      <td>4.0</td>\n",
       "      <td>5.0</td>\n",
       "      <td>7.0</td>\n",
       "      <td>10.0</td>\n",
       "      <td>6.0</td>\n",
       "    </tr>\n",
       "    <tr>\n",
       "      <th>Veterans Affairs Department</th>\n",
       "      <td>4.0</td>\n",
       "      <td>11.0</td>\n",
       "      <td>16.0</td>\n",
       "      <td>6.0</td>\n",
       "      <td>6.0</td>\n",
       "    </tr>\n",
       "    <tr>\n",
       "      <th>Prisons/Prisoners</th>\n",
       "      <td>3.0</td>\n",
       "      <td>5.0</td>\n",
       "      <td>4.0</td>\n",
       "      <td>16.0</td>\n",
       "      <td>5.0</td>\n",
       "    </tr>\n",
       "    <tr>\n",
       "      <th>Direct Taxation</th>\n",
       "      <td>12.0</td>\n",
       "      <td>10.0</td>\n",
       "      <td>18.0</td>\n",
       "      <td>4.0</td>\n",
       "      <td>4.0</td>\n",
       "    </tr>\n",
       "    <tr>\n",
       "      <th>Employment/Unemployment</th>\n",
       "      <td>28.0</td>\n",
       "      <td>21.0</td>\n",
       "      <td>24.0</td>\n",
       "      <td>7.0</td>\n",
       "      <td>4.0</td>\n",
       "    </tr>\n",
       "  </tbody>\n",
       "</table>\n",
       "</div>"
      ],
      "text/plain": [
       "                                    2012count  2013count  2014count  \\\n",
       "Subject                                                               \n",
       "Domestic Politics                       134.0      199.0      195.0   \n",
       "Crime/Legal Action                       54.0       56.0      128.0   \n",
       "National/Presidential Elections          92.0       29.0       36.0   \n",
       "Elections                                60.0       52.0       77.0   \n",
       "Murder/Manslaughter                      29.0       22.0       32.0   \n",
       "Education                                23.0       19.0       54.0   \n",
       "School                                  117.0      122.0       81.0   \n",
       "University/College                       59.0       48.0       38.0   \n",
       "Regional Politics                        40.0      139.0      168.0   \n",
       "Law Enforcement                           3.0        4.0        5.0   \n",
       "Sex Crimes                                6.0        9.0       15.0   \n",
       "Government Budget/Taxation               77.0       92.0       53.0   \n",
       "Sub-National/Local Budget/Taxation       30.0       46.0       29.0   \n",
       "Upper House                               3.0       33.0       32.0   \n",
       "Migration                                34.0       40.0       18.0   \n",
       "Lower House                               8.0       16.0        8.0   \n",
       "Legislative Branch                        6.0       43.0       40.0   \n",
       "Transport                                22.0       13.0       19.0   \n",
       "Surveys/Polls                            11.0       12.0       10.0   \n",
       "Judicial Branch                          35.0       40.0       13.0   \n",
       "Corporate Crime/Legal Action             14.0       25.0       21.0   \n",
       "Transport Accidents                      13.0       13.0       14.0   \n",
       "Burglary/Theft                            9.0       14.0        7.0   \n",
       "Fraud                                    14.0       12.0       18.0   \n",
       "Death Penalty/Capital Punishment          6.0        8.0       10.0   \n",
       "Suggested Reading – Insurance            10.0       39.0       30.0   \n",
       "Corruption                               16.0       24.0       34.0   \n",
       "Management Moves                          9.0        9.0       10.0   \n",
       "Assault                                   6.0       10.0        9.0   \n",
       "Drug Trafficking/Dealing                  3.0        6.0        9.0   \n",
       "Senior Level Management                  10.0       27.0       26.0   \n",
       "Ethical Issues                           26.0       34.0       40.0   \n",
       "Pricing                                   5.0        5.0        7.0   \n",
       "Medical Treatments/Procedures             4.0        5.0        7.0   \n",
       "Veterans Affairs Department               4.0       11.0       16.0   \n",
       "Prisons/Prisoners                         3.0        5.0        4.0   \n",
       "Direct Taxation                          12.0       10.0       18.0   \n",
       "Employment/Unemployment                  28.0       21.0       24.0   \n",
       "\n",
       "                                    2015count  2016count  \n",
       "Subject                                                   \n",
       "Domestic Politics                       197.0      326.0  \n",
       "Crime/Legal Action                      176.0      190.0  \n",
       "National/Presidential Elections          36.0      158.0  \n",
       "Elections                                46.0      143.0  \n",
       "Murder/Manslaughter                      75.0      120.0  \n",
       "Education                                74.0      116.0  \n",
       "School                                   97.0      100.0  \n",
       "University/College                       48.0       64.0  \n",
       "Regional Politics                       105.0       63.0  \n",
       "Law Enforcement                          29.0       49.0  \n",
       "Sex Crimes                               10.0       38.0  \n",
       "Government Budget/Taxation               61.0       37.0  \n",
       "Sub-National/Local Budget/Taxation       31.0       29.0  \n",
       "Upper House                              14.0       26.0  \n",
       "Migration                                35.0       25.0  \n",
       "Lower House                              16.0       21.0  \n",
       "Legislative Branch                       20.0       21.0  \n",
       "Transport                                47.0       20.0  \n",
       "Surveys/Polls                             7.0       19.0  \n",
       "Judicial Branch                          40.0       19.0  \n",
       "Corporate Crime/Legal Action             24.0       19.0  \n",
       "Transport Accidents                      16.0       18.0  \n",
       "Burglary/Theft                            8.0       15.0  \n",
       "Fraud                                    13.0       14.0  \n",
       "Death Penalty/Capital Punishment         15.0       13.0  \n",
       "Suggested Reading – Insurance            27.0       12.0  \n",
       "Corruption                               23.0       10.0  \n",
       "Management Moves                          7.0        8.0  \n",
       "Assault                                   5.0        8.0  \n",
       "Drug Trafficking/Dealing                  4.0        8.0  \n",
       "Senior Level Management                   7.0        7.0  \n",
       "Ethical Issues                            8.0        7.0  \n",
       "Pricing                                   7.0        6.0  \n",
       "Medical Treatments/Procedures            10.0        6.0  \n",
       "Veterans Affairs Department               6.0        6.0  \n",
       "Prisons/Prisoners                        16.0        5.0  \n",
       "Direct Taxation                           4.0        4.0  \n",
       "Employment/Unemployment                   7.0        4.0  "
      ]
     },
     "execution_count": 15,
     "metadata": {},
     "output_type": "execute_result"
    }
   ],
   "source": [
    "df_to_graph"
   ]
  },
  {
   "cell_type": "code",
   "execution_count": 16,
   "metadata": {
    "scrolled": true
   },
   "outputs": [
    {
     "data": {
      "image/png": "[encoded data removed]",
      "text/plain": [
       "<matplotlib.figure.Figure at 0x10d8d5390>"
      ]
     },
     "metadata": {},
     "output_type": "display_data"
    }
   ],
   "source": [
    "df_to_graph.loc['Domestic Politics'].plot(legend=True, figsize=(12,4),title='Political Coverage On The AJC Front Page')\n",
    "df_to_graph.loc['National/Presidential Elections'].plot(legend=True)\n",
    "df_to_graph.loc['Elections'].plot(legend=True)\n",
    "df_to_graph.loc['Regional Politics'].plot(legend=True)\n",
    "plt.savefig('Political Coverage On The AJC Front Page.pdf')"
   ]
  },
  {
   "cell_type": "code",
   "execution_count": 35,
   "metadata": {
    "collapsed": true
   },
   "outputs": [],
   "source": [
    "#step 1 - make it have a datetime column\n",
    "#step 2- \n",
    "#df_to_graph.groupby('Category').unstack()"
   ]
  },
  {
   "cell_type": "code",
   "execution_count": null,
   "metadata": {
    "collapsed": true
   },
   "outputs": [],
   "source": []
  },
  {
   "cell_type": "code",
   "execution_count": 36,
   "metadata": {},
   "outputs": [
    {
     "data": {
      "image/png": "[encoded data removed]",
      "text/plain": [
       "<matplotlib.figure.Figure at 0x10e143748>"
      ]
     },
     "metadata": {},
     "output_type": "display_data"
    }
   ],
   "source": [
    "#The rise in crime reporting on the front page \n",
    "df_to_graph.loc['Crime/Legal Action'].plot(legend=True,figsize=(12,4), title='Crime Coverage On The AJC Front Page')\n",
    "df_to_graph.loc['Murder/Manslaughter'].plot(legend=True)\n",
    "df_to_graph.loc['Murder/Manslaughter'].plot(legend=True)\n",
    "df_to_graph.loc['Sex Crimes'].plot(legend=True)\n",
    "df_to_graph.loc['Law Enforcement'].plot(legend=True)\n",
    "plt.savefig('Crime Coverage On The AJC Front Page.pdf')"
   ]
  },
  {
   "cell_type": "code",
   "execution_count": 37,
   "metadata": {},
   "outputs": [
    {
     "data": {
      "image/png": "[encoded data removed]",
      "text/plain": [
       "<matplotlib.figure.Figure at 0x10e382d68>"
      ]
     },
     "metadata": {},
     "output_type": "display_data"
    }
   ],
   "source": [
    "df_to_graph.loc['Sub-National/Local Budget/Taxation'].plot(legend=True, figsize=(12,4),title='Budget Coverage On The AJC Front Page')\n",
    "df_to_graph.loc['Government Budget/Taxation'].plot(legend=True)\n",
    "plt.savefig('Budget Coverage On The AJC Front Page.pdf')"
   ]
  },
  {
   "cell_type": "code",
   "execution_count": 19,
   "metadata": {},
   "outputs": [
    {
     "data": {
      "text/plain": [
       "<matplotlib.axes._subplots.AxesSubplot at 0x10a50b710>"
      ]
     },
     "execution_count": 19,
     "metadata": {},
     "output_type": "execute_result"
    },
    {
     "data": {
      "image/png": "[encoded data removed]",
      "text/plain": [
       "<matplotlib.figure.Figure at 0x10da25780>"
      ]
     },
     "metadata": {},
     "output_type": "display_data"
    }
   ],
   "source": [
    "df_to_graph.loc['National/Presidential Elections'].plot(figsize=(16,6), legend=True)\n",
    "df_to_graph.loc['Domestic Politics'].plot(figsize=(16,6), legend=True)\n",
    "df_to_graph.loc['Regional Politics'].plot(figsize=(16,6), legend=True)"
   ]
  },
  {
   "cell_type": "code",
   "execution_count": 39,
   "metadata": {
    "collapsed": true,
    "scrolled": true
   },
   "outputs": [],
   "source": [
    "#df_to_graph.loc['Page-One Stories'].plot(figsize=(16,6), legend=True, title='AJC Front Page Stories About Atlanta')\n",
    "#plt.savefig('ChangeInFrontPageStoriesAboutATL.pdf')"
   ]
  },
  {
   "cell_type": "code",
   "execution_count": 40,
   "metadata": {
    "collapsed": true
   },
   "outputs": [],
   "source": [
    "#These are the 2016 people found in stories about GA and ATL \n",
    "df_people = pd.read_csv('Local News Week 3 - GAPeople2016.csv')\n",
    "df_people.set_index('People', inplace=True)"
   ]
  },
  {
   "cell_type": "code",
   "execution_count": 41,
   "metadata": {},
   "outputs": [
    {
     "data": {
      "text/html": [
       "<div>\n",
       "<style>\n",
       "    .dataframe thead tr:only-child th {\n",
       "        text-align: right;\n",
       "    }\n",
       "\n",
       "    .dataframe thead th {\n",
       "        text-align: left;\n",
       "    }\n",
       "\n",
       "    .dataframe tbody tr th {\n",
       "        vertical-align: top;\n",
       "    }\n",
       "</style>\n",
       "<table border=\"1\" class=\"dataframe\">\n",
       "  <thead>\n",
       "    <tr style=\"text-align: right;\">\n",
       "      <th></th>\n",
       "      <th>GAStories</th>\n",
       "      <th>% all stories</th>\n",
       "      <th>TypeOfPerson</th>\n",
       "      <th>ATLStories</th>\n",
       "      <th>%ATLStories</th>\n",
       "    </tr>\n",
       "    <tr>\n",
       "      <th>People</th>\n",
       "      <th></th>\n",
       "      <th></th>\n",
       "      <th></th>\n",
       "      <th></th>\n",
       "      <th></th>\n",
       "    </tr>\n",
       "  </thead>\n",
       "  <tbody>\n",
       "    <tr>\n",
       "      <th>Trump</th>\n",
       "      <td>564</td>\n",
       "      <td>0.043</td>\n",
       "      <td>national</td>\n",
       "      <td>197</td>\n",
       "      <td>0.037</td>\n",
       "    </tr>\n",
       "    <tr>\n",
       "      <th>Clinton</th>\n",
       "      <td>385</td>\n",
       "      <td>0.030</td>\n",
       "      <td>national</td>\n",
       "      <td>168</td>\n",
       "      <td>0.032</td>\n",
       "    </tr>\n",
       "    <tr>\n",
       "      <th>Reed</th>\n",
       "      <td>430</td>\n",
       "      <td>0.033</td>\n",
       "      <td>local</td>\n",
       "      <td>336</td>\n",
       "      <td>0.063</td>\n",
       "    </tr>\n",
       "    <tr>\n",
       "      <th>Deal</th>\n",
       "      <td>650</td>\n",
       "      <td>0.050</td>\n",
       "      <td>local</td>\n",
       "      <td>299</td>\n",
       "      <td>0.056</td>\n",
       "    </tr>\n",
       "    <tr>\n",
       "      <th>Sonny Perdue</th>\n",
       "      <td>47</td>\n",
       "      <td>0.004</td>\n",
       "      <td>local</td>\n",
       "      <td>27</td>\n",
       "      <td>0.005</td>\n",
       "    </tr>\n",
       "    <tr>\n",
       "      <th>Isakson</th>\n",
       "      <td>123</td>\n",
       "      <td>0.009</td>\n",
       "      <td>local</td>\n",
       "      <td>58</td>\n",
       "      <td>0.011</td>\n",
       "    </tr>\n",
       "    <tr>\n",
       "      <th>David Perdue</th>\n",
       "      <td>72</td>\n",
       "      <td>0.006</td>\n",
       "      <td>local</td>\n",
       "      <td>38</td>\n",
       "      <td>0.007</td>\n",
       "    </tr>\n",
       "    <tr>\n",
       "      <th>Kemp</th>\n",
       "      <td>65</td>\n",
       "      <td>0.005</td>\n",
       "      <td>local</td>\n",
       "      <td>22</td>\n",
       "      <td>0.004</td>\n",
       "    </tr>\n",
       "    <tr>\n",
       "      <th>Price</th>\n",
       "      <td>57</td>\n",
       "      <td>0.004</td>\n",
       "      <td>local</td>\n",
       "      <td>26</td>\n",
       "      <td>0.005</td>\n",
       "    </tr>\n",
       "    <tr>\n",
       "      <th>John Lewis</th>\n",
       "      <td>125</td>\n",
       "      <td>0.010</td>\n",
       "      <td>local</td>\n",
       "      <td>55</td>\n",
       "      <td>0.010</td>\n",
       "    </tr>\n",
       "    <tr>\n",
       "      <th>Barack Obama</th>\n",
       "      <td>183</td>\n",
       "      <td>0.014</td>\n",
       "      <td>national</td>\n",
       "      <td>172</td>\n",
       "      <td>0.032</td>\n",
       "    </tr>\n",
       "  </tbody>\n",
       "</table>\n",
       "</div>"
      ],
      "text/plain": [
       "              GAStories  % all stories TypeOfPerson  ATLStories  %ATLStories\n",
       "People                                                                      \n",
       "Trump               564          0.043     national         197        0.037\n",
       "Clinton             385          0.030     national         168        0.032\n",
       "Reed                430          0.033        local         336        0.063\n",
       "Deal                650          0.050        local         299        0.056\n",
       "Sonny Perdue         47          0.004        local          27        0.005\n",
       "Isakson             123          0.009        local          58        0.011\n",
       "David Perdue         72          0.006        local          38        0.007\n",
       "Kemp                 65          0.005        local          22        0.004\n",
       "Price                57          0.004        local          26        0.005\n",
       "John Lewis          125          0.010        local          55        0.010\n",
       "Barack Obama        183          0.014     national         172        0.032"
      ]
     },
     "execution_count": 41,
     "metadata": {},
     "output_type": "execute_result"
    }
   ],
   "source": [
    "df_people"
   ]
  },
  {
   "cell_type": "code",
   "execution_count": 42,
   "metadata": {
    "collapsed": true,
    "scrolled": true
   },
   "outputs": [],
   "source": [
    "df_national = df_people['TypeOfPerson'] == 'national'"
   ]
  },
  {
   "cell_type": "code",
   "execution_count": 43,
   "metadata": {
    "scrolled": true
   },
   "outputs": [
    {
     "data": {
      "text/plain": [
       "0.086999999999999994"
      ]
     },
     "execution_count": 43,
     "metadata": {},
     "output_type": "execute_result"
    }
   ],
   "source": [
    "df_people[df_national]['% all stories'].sum()\n",
    "#% of national politicians in GA stories "
   ]
  },
  {
   "cell_type": "code",
   "execution_count": 44,
   "metadata": {
    "collapsed": true
   },
   "outputs": [],
   "source": [
    "df_local = df_people['TypeOfPerson'] == 'local'"
   ]
  },
  {
   "cell_type": "code",
   "execution_count": 24,
   "metadata": {},
   "outputs": [
    {
     "ename": "NameError",
     "evalue": "name 'df_people' is not defined",
     "output_type": "error",
     "traceback": [
      "\u001b[0;31m---------------------------------------------------------------------------\u001b[0m",
      "\u001b[0;31mNameError\u001b[0m                                 Traceback (most recent call last)",
      "\u001b[0;32m<ipython-input-24-d5141fef4e2c>\u001b[0m in \u001b[0;36m<module>\u001b[0;34m()\u001b[0m\n\u001b[0;32m----> 1\u001b[0;31m \u001b[0mdf_people\u001b[0m\u001b[0;34m[\u001b[0m\u001b[0mdf_local\u001b[0m\u001b[0;34m]\u001b[0m\u001b[0;34m[\u001b[0m\u001b[0;34m'% all stories'\u001b[0m\u001b[0;34m]\u001b[0m\u001b[0;34m.\u001b[0m\u001b[0msum\u001b[0m\u001b[0;34m(\u001b[0m\u001b[0;34m)\u001b[0m\u001b[0;34m\u001b[0m\u001b[0m\n\u001b[0m\u001b[1;32m      2\u001b[0m \u001b[0;31m#\u001b[0m\u001b[0;34m\u001b[0m\u001b[0;34m\u001b[0m\u001b[0m\n",
      "\u001b[0;31mNameError\u001b[0m: name 'df_people' is not defined"
     ]
    }
   ],
   "source": [
    "df_people[df_local]['% all stories'].sum()\n",
    "#"
   ]
  },
  {
   "cell_type": "code",
   "execution_count": 45,
   "metadata": {},
   "outputs": [
    {
     "data": {
      "text/plain": [
       "0.10100000000000001"
      ]
     },
     "execution_count": 45,
     "metadata": {},
     "output_type": "execute_result"
    }
   ],
   "source": [
    "df_people[df_national]['%ATLStories'].sum()\n"
   ]
  },
  {
   "cell_type": "code",
   "execution_count": 46,
   "metadata": {},
   "outputs": [
    {
     "data": {
      "text/plain": [
       "0.161"
      ]
     },
     "execution_count": 46,
     "metadata": {},
     "output_type": "execute_result"
    }
   ],
   "source": [
    "df_people[df_local]['%ATLStories'].sum()"
   ]
  },
  {
   "cell_type": "code",
   "execution_count": 47,
   "metadata": {},
   "outputs": [
    {
     "data": {
      "text/plain": [
       "<matplotlib.axes._subplots.AxesSubplot at 0x10e579390>"
      ]
     },
     "execution_count": 47,
     "metadata": {},
     "output_type": "execute_result"
    },
    {
     "data": {
      "image/png": "[encoded data removed]",
      "text/plain": [
       "<matplotlib.figure.Figure at 0x10e579b00>"
      ]
     },
     "metadata": {},
     "output_type": "display_data"
    }
   ],
   "source": [
    "df_people['GAStories'].sort_values().plot(kind='barh')"
   ]
  },
  {
   "cell_type": "code",
   "execution_count": 48,
   "metadata": {},
   "outputs": [
    {
     "data": {
      "text/plain": [
       "<matplotlib.axes._subplots.AxesSubplot at 0x10e3d56a0>"
      ]
     },
     "execution_count": 48,
     "metadata": {},
     "output_type": "execute_result"
    },
    {
     "data": {
      "image/png": "[encoded data removed]",
      "text/plain": [
       "<matplotlib.figure.Figure at 0x10e157be0>"
      ]
     },
     "metadata": {},
     "output_type": "display_data"
    }
   ],
   "source": [
    "df_people['ATLStories'].sort_values().plot(kind='barh')"
   ]
  },
  {
   "cell_type": "code",
   "execution_count": null,
   "metadata": {
    "collapsed": true
   },
   "outputs": [],
   "source": []
  },
  {
   "cell_type": "code",
   "execution_count": 49,
   "metadata": {
    "scrolled": true
   },
   "outputs": [
    {
     "data": {
      "text/html": [
       "<div>\n",
       "<style>\n",
       "    .dataframe thead tr:only-child th {\n",
       "        text-align: right;\n",
       "    }\n",
       "\n",
       "    .dataframe thead th {\n",
       "        text-align: left;\n",
       "    }\n",
       "\n",
       "    .dataframe tbody tr th {\n",
       "        vertical-align: top;\n",
       "    }\n",
       "</style>\n",
       "<table border=\"1\" class=\"dataframe\">\n",
       "  <thead>\n",
       "    <tr style=\"text-align: right;\">\n",
       "      <th></th>\n",
       "      <th>2012count</th>\n",
       "      <th>2013count</th>\n",
       "      <th>2014count</th>\n",
       "      <th>2015count</th>\n",
       "      <th>2016count</th>\n",
       "    </tr>\n",
       "    <tr>\n",
       "      <th>Subject</th>\n",
       "      <th></th>\n",
       "      <th></th>\n",
       "      <th></th>\n",
       "      <th></th>\n",
       "      <th></th>\n",
       "    </tr>\n",
       "  </thead>\n",
       "  <tbody>\n",
       "    <tr>\n",
       "      <th>Domestic Politics</th>\n",
       "      <td>134.0</td>\n",
       "      <td>199.0</td>\n",
       "      <td>195.0</td>\n",
       "      <td>197.0</td>\n",
       "      <td>326.0</td>\n",
       "    </tr>\n",
       "    <tr>\n",
       "      <th>Crime/Legal Action</th>\n",
       "      <td>54.0</td>\n",
       "      <td>56.0</td>\n",
       "      <td>128.0</td>\n",
       "      <td>176.0</td>\n",
       "      <td>190.0</td>\n",
       "    </tr>\n",
       "    <tr>\n",
       "      <th>National/Presidential Elections</th>\n",
       "      <td>92.0</td>\n",
       "      <td>29.0</td>\n",
       "      <td>36.0</td>\n",
       "      <td>36.0</td>\n",
       "      <td>158.0</td>\n",
       "    </tr>\n",
       "    <tr>\n",
       "      <th>Elections</th>\n",
       "      <td>60.0</td>\n",
       "      <td>52.0</td>\n",
       "      <td>77.0</td>\n",
       "      <td>46.0</td>\n",
       "      <td>143.0</td>\n",
       "    </tr>\n",
       "    <tr>\n",
       "      <th>Murder/Manslaughter</th>\n",
       "      <td>29.0</td>\n",
       "      <td>22.0</td>\n",
       "      <td>32.0</td>\n",
       "      <td>75.0</td>\n",
       "      <td>120.0</td>\n",
       "    </tr>\n",
       "    <tr>\n",
       "      <th>Education</th>\n",
       "      <td>23.0</td>\n",
       "      <td>19.0</td>\n",
       "      <td>54.0</td>\n",
       "      <td>74.0</td>\n",
       "      <td>116.0</td>\n",
       "    </tr>\n",
       "    <tr>\n",
       "      <th>School</th>\n",
       "      <td>117.0</td>\n",
       "      <td>122.0</td>\n",
       "      <td>81.0</td>\n",
       "      <td>97.0</td>\n",
       "      <td>100.0</td>\n",
       "    </tr>\n",
       "    <tr>\n",
       "      <th>University/College</th>\n",
       "      <td>59.0</td>\n",
       "      <td>48.0</td>\n",
       "      <td>38.0</td>\n",
       "      <td>48.0</td>\n",
       "      <td>64.0</td>\n",
       "    </tr>\n",
       "    <tr>\n",
       "      <th>Regional Politics</th>\n",
       "      <td>40.0</td>\n",
       "      <td>139.0</td>\n",
       "      <td>168.0</td>\n",
       "      <td>105.0</td>\n",
       "      <td>63.0</td>\n",
       "    </tr>\n",
       "    <tr>\n",
       "      <th>Law Enforcement</th>\n",
       "      <td>3.0</td>\n",
       "      <td>4.0</td>\n",
       "      <td>5.0</td>\n",
       "      <td>29.0</td>\n",
       "      <td>49.0</td>\n",
       "    </tr>\n",
       "    <tr>\n",
       "      <th>Sex Crimes</th>\n",
       "      <td>6.0</td>\n",
       "      <td>9.0</td>\n",
       "      <td>15.0</td>\n",
       "      <td>10.0</td>\n",
       "      <td>38.0</td>\n",
       "    </tr>\n",
       "    <tr>\n",
       "      <th>Government Budget/Taxation</th>\n",
       "      <td>77.0</td>\n",
       "      <td>92.0</td>\n",
       "      <td>53.0</td>\n",
       "      <td>61.0</td>\n",
       "      <td>37.0</td>\n",
       "    </tr>\n",
       "    <tr>\n",
       "      <th>Sub-National/Local Budget/Taxation</th>\n",
       "      <td>30.0</td>\n",
       "      <td>46.0</td>\n",
       "      <td>29.0</td>\n",
       "      <td>31.0</td>\n",
       "      <td>29.0</td>\n",
       "    </tr>\n",
       "    <tr>\n",
       "      <th>Upper House</th>\n",
       "      <td>3.0</td>\n",
       "      <td>33.0</td>\n",
       "      <td>32.0</td>\n",
       "      <td>14.0</td>\n",
       "      <td>26.0</td>\n",
       "    </tr>\n",
       "    <tr>\n",
       "      <th>Migration</th>\n",
       "      <td>34.0</td>\n",
       "      <td>40.0</td>\n",
       "      <td>18.0</td>\n",
       "      <td>35.0</td>\n",
       "      <td>25.0</td>\n",
       "    </tr>\n",
       "    <tr>\n",
       "      <th>Lower House</th>\n",
       "      <td>8.0</td>\n",
       "      <td>16.0</td>\n",
       "      <td>8.0</td>\n",
       "      <td>16.0</td>\n",
       "      <td>21.0</td>\n",
       "    </tr>\n",
       "    <tr>\n",
       "      <th>Legislative Branch</th>\n",
       "      <td>6.0</td>\n",
       "      <td>43.0</td>\n",
       "      <td>40.0</td>\n",
       "      <td>20.0</td>\n",
       "      <td>21.0</td>\n",
       "    </tr>\n",
       "    <tr>\n",
       "      <th>Transport</th>\n",
       "      <td>22.0</td>\n",
       "      <td>13.0</td>\n",
       "      <td>19.0</td>\n",
       "      <td>47.0</td>\n",
       "      <td>20.0</td>\n",
       "    </tr>\n",
       "    <tr>\n",
       "      <th>Surveys/Polls</th>\n",
       "      <td>11.0</td>\n",
       "      <td>12.0</td>\n",
       "      <td>10.0</td>\n",
       "      <td>7.0</td>\n",
       "      <td>19.0</td>\n",
       "    </tr>\n",
       "    <tr>\n",
       "      <th>Judicial Branch</th>\n",
       "      <td>35.0</td>\n",
       "      <td>40.0</td>\n",
       "      <td>13.0</td>\n",
       "      <td>40.0</td>\n",
       "      <td>19.0</td>\n",
       "    </tr>\n",
       "    <tr>\n",
       "      <th>Corporate Crime/Legal Action</th>\n",
       "      <td>14.0</td>\n",
       "      <td>25.0</td>\n",
       "      <td>21.0</td>\n",
       "      <td>24.0</td>\n",
       "      <td>19.0</td>\n",
       "    </tr>\n",
       "    <tr>\n",
       "      <th>Transport Accidents</th>\n",
       "      <td>13.0</td>\n",
       "      <td>13.0</td>\n",
       "      <td>14.0</td>\n",
       "      <td>16.0</td>\n",
       "      <td>18.0</td>\n",
       "    </tr>\n",
       "    <tr>\n",
       "      <th>Burglary/Theft</th>\n",
       "      <td>9.0</td>\n",
       "      <td>14.0</td>\n",
       "      <td>7.0</td>\n",
       "      <td>8.0</td>\n",
       "      <td>15.0</td>\n",
       "    </tr>\n",
       "    <tr>\n",
       "      <th>Fraud</th>\n",
       "      <td>14.0</td>\n",
       "      <td>12.0</td>\n",
       "      <td>18.0</td>\n",
       "      <td>13.0</td>\n",
       "      <td>14.0</td>\n",
       "    </tr>\n",
       "    <tr>\n",
       "      <th>Death Penalty/Capital Punishment</th>\n",
       "      <td>6.0</td>\n",
       "      <td>8.0</td>\n",
       "      <td>10.0</td>\n",
       "      <td>15.0</td>\n",
       "      <td>13.0</td>\n",
       "    </tr>\n",
       "    <tr>\n",
       "      <th>Suggested Reading – Insurance</th>\n",
       "      <td>10.0</td>\n",
       "      <td>39.0</td>\n",
       "      <td>30.0</td>\n",
       "      <td>27.0</td>\n",
       "      <td>12.0</td>\n",
       "    </tr>\n",
       "    <tr>\n",
       "      <th>Corruption</th>\n",
       "      <td>16.0</td>\n",
       "      <td>24.0</td>\n",
       "      <td>34.0</td>\n",
       "      <td>23.0</td>\n",
       "      <td>10.0</td>\n",
       "    </tr>\n",
       "    <tr>\n",
       "      <th>Management Moves</th>\n",
       "      <td>9.0</td>\n",
       "      <td>9.0</td>\n",
       "      <td>10.0</td>\n",
       "      <td>7.0</td>\n",
       "      <td>8.0</td>\n",
       "    </tr>\n",
       "    <tr>\n",
       "      <th>Assault</th>\n",
       "      <td>6.0</td>\n",
       "      <td>10.0</td>\n",
       "      <td>9.0</td>\n",
       "      <td>5.0</td>\n",
       "      <td>8.0</td>\n",
       "    </tr>\n",
       "    <tr>\n",
       "      <th>Drug Trafficking/Dealing</th>\n",
       "      <td>3.0</td>\n",
       "      <td>6.0</td>\n",
       "      <td>9.0</td>\n",
       "      <td>4.0</td>\n",
       "      <td>8.0</td>\n",
       "    </tr>\n",
       "    <tr>\n",
       "      <th>Senior Level Management</th>\n",
       "      <td>10.0</td>\n",
       "      <td>27.0</td>\n",
       "      <td>26.0</td>\n",
       "      <td>7.0</td>\n",
       "      <td>7.0</td>\n",
       "    </tr>\n",
       "    <tr>\n",
       "      <th>Ethical Issues</th>\n",
       "      <td>26.0</td>\n",
       "      <td>34.0</td>\n",
       "      <td>40.0</td>\n",
       "      <td>8.0</td>\n",
       "      <td>7.0</td>\n",
       "    </tr>\n",
       "    <tr>\n",
       "      <th>Pricing</th>\n",
       "      <td>5.0</td>\n",
       "      <td>5.0</td>\n",
       "      <td>7.0</td>\n",
       "      <td>7.0</td>\n",
       "      <td>6.0</td>\n",
       "    </tr>\n",
       "    <tr>\n",
       "      <th>Medical Treatments/Procedures</th>\n",
       "      <td>4.0</td>\n",
       "      <td>5.0</td>\n",
       "      <td>7.0</td>\n",
       "      <td>10.0</td>\n",
       "      <td>6.0</td>\n",
       "    </tr>\n",
       "    <tr>\n",
       "      <th>Veterans Affairs Department</th>\n",
       "      <td>4.0</td>\n",
       "      <td>11.0</td>\n",
       "      <td>16.0</td>\n",
       "      <td>6.0</td>\n",
       "      <td>6.0</td>\n",
       "    </tr>\n",
       "    <tr>\n",
       "      <th>Prisons/Prisoners</th>\n",
       "      <td>3.0</td>\n",
       "      <td>5.0</td>\n",
       "      <td>4.0</td>\n",
       "      <td>16.0</td>\n",
       "      <td>5.0</td>\n",
       "    </tr>\n",
       "    <tr>\n",
       "      <th>Direct Taxation</th>\n",
       "      <td>12.0</td>\n",
       "      <td>10.0</td>\n",
       "      <td>18.0</td>\n",
       "      <td>4.0</td>\n",
       "      <td>4.0</td>\n",
       "    </tr>\n",
       "    <tr>\n",
       "      <th>Employment/Unemployment</th>\n",
       "      <td>28.0</td>\n",
       "      <td>21.0</td>\n",
       "      <td>24.0</td>\n",
       "      <td>7.0</td>\n",
       "      <td>4.0</td>\n",
       "    </tr>\n",
       "  </tbody>\n",
       "</table>\n",
       "</div>"
      ],
      "text/plain": [
       "                                    2012count  2013count  2014count  \\\n",
       "Subject                                                               \n",
       "Domestic Politics                       134.0      199.0      195.0   \n",
       "Crime/Legal Action                       54.0       56.0      128.0   \n",
       "National/Presidential Elections          92.0       29.0       36.0   \n",
       "Elections                                60.0       52.0       77.0   \n",
       "Murder/Manslaughter                      29.0       22.0       32.0   \n",
       "Education                                23.0       19.0       54.0   \n",
       "School                                  117.0      122.0       81.0   \n",
       "University/College                       59.0       48.0       38.0   \n",
       "Regional Politics                        40.0      139.0      168.0   \n",
       "Law Enforcement                           3.0        4.0        5.0   \n",
       "Sex Crimes                                6.0        9.0       15.0   \n",
       "Government Budget/Taxation               77.0       92.0       53.0   \n",
       "Sub-National/Local Budget/Taxation       30.0       46.0       29.0   \n",
       "Upper House                               3.0       33.0       32.0   \n",
       "Migration                                34.0       40.0       18.0   \n",
       "Lower House                               8.0       16.0        8.0   \n",
       "Legislative Branch                        6.0       43.0       40.0   \n",
       "Transport                                22.0       13.0       19.0   \n",
       "Surveys/Polls                            11.0       12.0       10.0   \n",
       "Judicial Branch                          35.0       40.0       13.0   \n",
       "Corporate Crime/Legal Action             14.0       25.0       21.0   \n",
       "Transport Accidents                      13.0       13.0       14.0   \n",
       "Burglary/Theft                            9.0       14.0        7.0   \n",
       "Fraud                                    14.0       12.0       18.0   \n",
       "Death Penalty/Capital Punishment          6.0        8.0       10.0   \n",
       "Suggested Reading – Insurance            10.0       39.0       30.0   \n",
       "Corruption                               16.0       24.0       34.0   \n",
       "Management Moves                          9.0        9.0       10.0   \n",
       "Assault                                   6.0       10.0        9.0   \n",
       "Drug Trafficking/Dealing                  3.0        6.0        9.0   \n",
       "Senior Level Management                  10.0       27.0       26.0   \n",
       "Ethical Issues                           26.0       34.0       40.0   \n",
       "Pricing                                   5.0        5.0        7.0   \n",
       "Medical Treatments/Procedures             4.0        5.0        7.0   \n",
       "Veterans Affairs Department               4.0       11.0       16.0   \n",
       "Prisons/Prisoners                         3.0        5.0        4.0   \n",
       "Direct Taxation                          12.0       10.0       18.0   \n",
       "Employment/Unemployment                  28.0       21.0       24.0   \n",
       "\n",
       "                                    2015count  2016count  \n",
       "Subject                                                   \n",
       "Domestic Politics                       197.0      326.0  \n",
       "Crime/Legal Action                      176.0      190.0  \n",
       "National/Presidential Elections          36.0      158.0  \n",
       "Elections                                46.0      143.0  \n",
       "Murder/Manslaughter                      75.0      120.0  \n",
       "Education                                74.0      116.0  \n",
       "School                                   97.0      100.0  \n",
       "University/College                       48.0       64.0  \n",
       "Regional Politics                       105.0       63.0  \n",
       "Law Enforcement                          29.0       49.0  \n",
       "Sex Crimes                               10.0       38.0  \n",
       "Government Budget/Taxation               61.0       37.0  \n",
       "Sub-National/Local Budget/Taxation       31.0       29.0  \n",
       "Upper House                              14.0       26.0  \n",
       "Migration                                35.0       25.0  \n",
       "Lower House                              16.0       21.0  \n",
       "Legislative Branch                       20.0       21.0  \n",
       "Transport                                47.0       20.0  \n",
       "Surveys/Polls                             7.0       19.0  \n",
       "Judicial Branch                          40.0       19.0  \n",
       "Corporate Crime/Legal Action             24.0       19.0  \n",
       "Transport Accidents                      16.0       18.0  \n",
       "Burglary/Theft                            8.0       15.0  \n",
       "Fraud                                    13.0       14.0  \n",
       "Death Penalty/Capital Punishment         15.0       13.0  \n",
       "Suggested Reading – Insurance            27.0       12.0  \n",
       "Corruption                               23.0       10.0  \n",
       "Management Moves                          7.0        8.0  \n",
       "Assault                                   5.0        8.0  \n",
       "Drug Trafficking/Dealing                  4.0        8.0  \n",
       "Senior Level Management                   7.0        7.0  \n",
       "Ethical Issues                            8.0        7.0  \n",
       "Pricing                                   7.0        6.0  \n",
       "Medical Treatments/Procedures            10.0        6.0  \n",
       "Veterans Affairs Department               6.0        6.0  \n",
       "Prisons/Prisoners                        16.0        5.0  \n",
       "Direct Taxation                           4.0        4.0  \n",
       "Employment/Unemployment                   7.0        4.0  "
      ]
     },
     "execution_count": 49,
     "metadata": {},
     "output_type": "execute_result"
    }
   ],
   "source": [
    "df_to_graph"
   ]
  },
  {
   "cell_type": "code",
   "execution_count": 30,
   "metadata": {
    "collapsed": true
   },
   "outputs": [],
   "source": [
    "############### "
   ]
  },
  {
   "cell_type": "code",
   "execution_count": 50,
   "metadata": {
    "collapsed": true
   },
   "outputs": [],
   "source": [
    "years = [2012,2013,2014,2015,2016]\n",
    "A = df_to_graph.loc['Domestic Politics']#.plot(legend=True, figsize=(12,4),title='Political Coverage On The AJC Front Page')\n",
    "B = df_to_graph.loc['Regional Politics']#.plot(legend=True)"
   ]
  },
  {
   "cell_type": "code",
   "execution_count": 1,
   "metadata": {},
   "outputs": [
    {
     "ename": "NameError",
     "evalue": "name 'plt' is not defined",
     "output_type": "error",
     "traceback": [
      "\u001b[0;31m---------------------------------------------------------------------------\u001b[0m",
      "\u001b[0;31mNameError\u001b[0m                                 Traceback (most recent call last)",
      "\u001b[0;32m<ipython-input-1-92c27b17e82d>\u001b[0m in \u001b[0;36m<module>\u001b[0;34m()\u001b[0m\n\u001b[0;32m----> 1\u001b[0;31m \u001b[0mplt\u001b[0m\u001b[0;34m.\u001b[0m\u001b[0mstackplot\u001b[0m\u001b[0;34m(\u001b[0m\u001b[0myears\u001b[0m\u001b[0;34m,\u001b[0m\u001b[0mB\u001b[0m\u001b[0;34m,\u001b[0m\u001b[0mA\u001b[0m\u001b[0;34m,\u001b[0m\u001b[0mcolors\u001b[0m\u001b[0;34m=\u001b[0m\u001b[0;34m[\u001b[0m\u001b[0;34m'pink'\u001b[0m\u001b[0;34m,\u001b[0m\u001b[0;34m'cyan'\u001b[0m\u001b[0;34m]\u001b[0m\u001b[0;34m)\u001b[0m\u001b[0;34m\u001b[0m\u001b[0m\n\u001b[0m\u001b[1;32m      2\u001b[0m \u001b[0;34m\u001b[0m\u001b[0m\n\u001b[1;32m      3\u001b[0m \u001b[0;31m#plt.xlabel('x')\u001b[0m\u001b[0;34m\u001b[0m\u001b[0;34m\u001b[0m\u001b[0m\n\u001b[1;32m      4\u001b[0m \u001b[0;31m#plt.ylabel('y')\u001b[0m\u001b[0;34m\u001b[0m\u001b[0;34m\u001b[0m\u001b[0m\n\u001b[1;32m      5\u001b[0m \u001b[0;31m#plt.title('Regional vs. National News')\u001b[0m\u001b[0;34m\u001b[0m\u001b[0;34m\u001b[0m\u001b[0m\n",
      "\u001b[0;31mNameError\u001b[0m: name 'plt' is not defined"
     ]
    }
   ],
   "source": [
    "plt.stackplot(years,B,A,colors=['pink','cyan'])\n",
    "\n",
    "#plt.xlabel('x')\n",
    "#plt.ylabel('y')\n",
    "#plt.title('Regional vs. National News')\n",
    "plt.show()\n",
    "plt.savefig('FrontPagePolitics2.pdf')"
   ]
  },
  {
   "cell_type": "code",
   "execution_count": null,
   "metadata": {
    "collapsed": true
   },
   "outputs": [],
   "source": []
  },
  {
   "cell_type": "code",
   "execution_count": null,
   "metadata": {
    "collapsed": true
   },
   "outputs": [],
   "source": []
  }
 ],
 "metadata": {
  "kernelspec": {
   "display_name": "Python 3",
   "language": "python",
   "name": "python3"
  },
  "language_info": {
   "codemirror_mode": {
    "name": "ipython",
    "version": 3
   },
   "file_extension": ".py",
   "mimetype": "text/x-python",
   "name": "python",
   "nbconvert_exporter": "python",
   "pygments_lexer": "ipython3",
   "version": "3.6.1"
  }
 },
 "nbformat": 4,
 "nbformat_minor": 2
}
