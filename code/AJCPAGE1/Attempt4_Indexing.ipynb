{
 "cells": [
  {
   "cell_type": "code",
   "execution_count": 2,
   "metadata": {
    "collapsed": true
   },
   "outputs": [],
   "source": [
    "import pandas as pd\n",
    "%matplotlib inline\n",
    "import matplotlib.pyplot as plt"
   ]
  },
  {
   "cell_type": "code",
   "execution_count": 3,
   "metadata": {
    "collapsed": true
   },
   "outputs": [],
   "source": [
    "df_indexing = pd.read_csv('FactivaResearch - indexing (1).csv')"
   ]
  },
  {
   "cell_type": "code",
   "execution_count": 4,
   "metadata": {
    "scrolled": true
   },
   "outputs": [
    {
     "data": {
      "text/html": [
       "<div>\n",
       "<style>\n",
       "    .dataframe thead tr:only-child th {\n",
       "        text-align: right;\n",
       "    }\n",
       "\n",
       "    .dataframe thead th {\n",
       "        text-align: left;\n",
       "    }\n",
       "\n",
       "    .dataframe tbody tr th {\n",
       "        vertical-align: top;\n",
       "    }\n",
       "</style>\n",
       "<table border=\"1\" class=\"dataframe\">\n",
       "  <thead>\n",
       "    <tr style=\"text-align: right;\">\n",
       "      <th></th>\n",
       "      <th>Year</th>\n",
       "      <th>Subject</th>\n",
       "      <th>count</th>\n",
       "    </tr>\n",
       "  </thead>\n",
       "  <tbody>\n",
       "    <tr>\n",
       "      <th>0</th>\n",
       "      <td>2008</td>\n",
       "      <td>Domestic Politics</td>\n",
       "      <td>158</td>\n",
       "    </tr>\n",
       "    <tr>\n",
       "      <th>1</th>\n",
       "      <td>2008</td>\n",
       "      <td>Elections</td>\n",
       "      <td>198</td>\n",
       "    </tr>\n",
       "    <tr>\n",
       "      <th>2</th>\n",
       "      <td>2008</td>\n",
       "      <td>Crime/Legal Action</td>\n",
       "      <td>96</td>\n",
       "    </tr>\n",
       "    <tr>\n",
       "      <th>3</th>\n",
       "      <td>2008</td>\n",
       "      <td>Education</td>\n",
       "      <td>66</td>\n",
       "    </tr>\n",
       "    <tr>\n",
       "      <th>4</th>\n",
       "      <td>2008</td>\n",
       "      <td>Health</td>\n",
       "      <td>70</td>\n",
       "    </tr>\n",
       "    <tr>\n",
       "      <th>5</th>\n",
       "      <td>2008</td>\n",
       "      <td>Government Budget/Taxation</td>\n",
       "      <td>17</td>\n",
       "    </tr>\n",
       "    <tr>\n",
       "      <th>6</th>\n",
       "      <td>2008</td>\n",
       "      <td>Economic Performance/Indicators</td>\n",
       "      <td>17</td>\n",
       "    </tr>\n",
       "    <tr>\n",
       "      <th>7</th>\n",
       "      <td>2012</td>\n",
       "      <td>Domestic Politics</td>\n",
       "      <td>174</td>\n",
       "    </tr>\n",
       "    <tr>\n",
       "      <th>8</th>\n",
       "      <td>2012</td>\n",
       "      <td>Elections</td>\n",
       "      <td>152</td>\n",
       "    </tr>\n",
       "    <tr>\n",
       "      <th>9</th>\n",
       "      <td>2012</td>\n",
       "      <td>Crime/Legal Action</td>\n",
       "      <td>54</td>\n",
       "    </tr>\n",
       "    <tr>\n",
       "      <th>10</th>\n",
       "      <td>2012</td>\n",
       "      <td>Health</td>\n",
       "      <td>4</td>\n",
       "    </tr>\n",
       "    <tr>\n",
       "      <th>11</th>\n",
       "      <td>2012</td>\n",
       "      <td>Education</td>\n",
       "      <td>82</td>\n",
       "    </tr>\n",
       "    <tr>\n",
       "      <th>12</th>\n",
       "      <td>2012</td>\n",
       "      <td>Government Budget/Taxation</td>\n",
       "      <td>77</td>\n",
       "    </tr>\n",
       "    <tr>\n",
       "      <th>13</th>\n",
       "      <td>2012</td>\n",
       "      <td>Economic Performance/Indicators</td>\n",
       "      <td>15</td>\n",
       "    </tr>\n",
       "    <tr>\n",
       "      <th>14</th>\n",
       "      <td>2016</td>\n",
       "      <td>Domestic Politics</td>\n",
       "      <td>389</td>\n",
       "    </tr>\n",
       "    <tr>\n",
       "      <th>15</th>\n",
       "      <td>2016</td>\n",
       "      <td>Crime/Legal Action</td>\n",
       "      <td>190</td>\n",
       "    </tr>\n",
       "    <tr>\n",
       "      <th>16</th>\n",
       "      <td>2016</td>\n",
       "      <td>Elections</td>\n",
       "      <td>301</td>\n",
       "    </tr>\n",
       "    <tr>\n",
       "      <th>17</th>\n",
       "      <td>2016</td>\n",
       "      <td>Education</td>\n",
       "      <td>116</td>\n",
       "    </tr>\n",
       "    <tr>\n",
       "      <th>18</th>\n",
       "      <td>2016</td>\n",
       "      <td>Health</td>\n",
       "      <td>11</td>\n",
       "    </tr>\n",
       "    <tr>\n",
       "      <th>19</th>\n",
       "      <td>2016</td>\n",
       "      <td>Government Budget/Taxation</td>\n",
       "      <td>37</td>\n",
       "    </tr>\n",
       "    <tr>\n",
       "      <th>20</th>\n",
       "      <td>2016</td>\n",
       "      <td>Economic Performance/Indicators</td>\n",
       "      <td>10</td>\n",
       "    </tr>\n",
       "  </tbody>\n",
       "</table>\n",
       "</div>"
      ],
      "text/plain": [
       "    Year                         Subject   count\n",
       "0   2008                Domestic Politics    158\n",
       "1   2008                        Elections    198\n",
       "2   2008               Crime/Legal Action     96\n",
       "3   2008                        Education     66\n",
       "4   2008                           Health     70\n",
       "5   2008       Government Budget/Taxation     17\n",
       "6   2008  Economic Performance/Indicators     17\n",
       "7   2012                Domestic Politics    174\n",
       "8   2012                        Elections    152\n",
       "9   2012               Crime/Legal Action     54\n",
       "10  2012                           Health      4\n",
       "11  2012                        Education     82\n",
       "12  2012       Government Budget/Taxation     77\n",
       "13  2012  Economic Performance/Indicators     15\n",
       "14  2016                Domestic Politics    389\n",
       "15  2016               Crime/Legal Action    190\n",
       "16  2016                        Elections    301\n",
       "17  2016                        Education    116\n",
       "18  2016                           Health     11\n",
       "19  2016       Government Budget/Taxation     37\n",
       "20  2016  Economic Performance/Indicators     10"
      ]
     },
     "execution_count": 4,
     "metadata": {},
     "output_type": "execute_result"
    }
   ],
   "source": [
    "df_indexing"
   ]
  },
  {
   "cell_type": "code",
   "execution_count": 5,
   "metadata": {
    "collapsed": true
   },
   "outputs": [],
   "source": [
    "df_pivot = df_indexing.pivot(index='Year', columns='Subject ', values='count').reset_index()"
   ]
  },
  {
   "cell_type": "code",
   "execution_count": 6,
   "metadata": {},
   "outputs": [
    {
     "data": {
      "text/html": [
       "<div>\n",
       "<style>\n",
       "    .dataframe thead tr:only-child th {\n",
       "        text-align: right;\n",
       "    }\n",
       "\n",
       "    .dataframe thead th {\n",
       "        text-align: left;\n",
       "    }\n",
       "\n",
       "    .dataframe tbody tr th {\n",
       "        vertical-align: top;\n",
       "    }\n",
       "</style>\n",
       "<table border=\"1\" class=\"dataframe\">\n",
       "  <thead>\n",
       "    <tr style=\"text-align: right;\">\n",
       "      <th>Subject</th>\n",
       "      <th>Year</th>\n",
       "      <th>Crime/Legal Action</th>\n",
       "      <th>Domestic Politics</th>\n",
       "      <th>Economic Performance/Indicators</th>\n",
       "      <th>Education</th>\n",
       "      <th>Elections</th>\n",
       "      <th>Government Budget/Taxation</th>\n",
       "      <th>Health</th>\n",
       "    </tr>\n",
       "  </thead>\n",
       "  <tbody>\n",
       "    <tr>\n",
       "      <th>0</th>\n",
       "      <td>2008</td>\n",
       "      <td>96</td>\n",
       "      <td>158</td>\n",
       "      <td>17</td>\n",
       "      <td>66</td>\n",
       "      <td>198</td>\n",
       "      <td>17</td>\n",
       "      <td>70</td>\n",
       "    </tr>\n",
       "    <tr>\n",
       "      <th>1</th>\n",
       "      <td>2012</td>\n",
       "      <td>54</td>\n",
       "      <td>174</td>\n",
       "      <td>15</td>\n",
       "      <td>82</td>\n",
       "      <td>152</td>\n",
       "      <td>77</td>\n",
       "      <td>4</td>\n",
       "    </tr>\n",
       "    <tr>\n",
       "      <th>2</th>\n",
       "      <td>2016</td>\n",
       "      <td>190</td>\n",
       "      <td>389</td>\n",
       "      <td>10</td>\n",
       "      <td>116</td>\n",
       "      <td>301</td>\n",
       "      <td>37</td>\n",
       "      <td>11</td>\n",
       "    </tr>\n",
       "  </tbody>\n",
       "</table>\n",
       "</div>"
      ],
      "text/plain": [
       "Subject   Year  Crime/Legal Action  Domestic Politics  \\\n",
       "0         2008                  96                158   \n",
       "1         2012                  54                174   \n",
       "2         2016                 190                389   \n",
       "\n",
       "Subject   Economic Performance/Indicators  Education  Elections  \\\n",
       "0                                      17         66        198   \n",
       "1                                      15         82        152   \n",
       "2                                      10        116        301   \n",
       "\n",
       "Subject   Government Budget/Taxation  Health  \n",
       "0                                 17      70  \n",
       "1                                 77       4  \n",
       "2                                 37      11  "
      ]
     },
     "execution_count": 6,
     "metadata": {},
     "output_type": "execute_result"
    }
   ],
   "source": [
    "df_pivot"
   ]
  },
  {
   "cell_type": "code",
   "execution_count": 7,
   "metadata": {},
   "outputs": [
    {
     "data": {
      "text/plain": [
       "0    2008\n",
       "1    2012\n",
       "2    2016\n",
       "Name: Year, dtype: object"
      ]
     },
     "execution_count": 7,
     "metadata": {},
     "output_type": "execute_result"
    }
   ],
   "source": [
    "df_pivot['Year'].astype(str, inplace=True)"
   ]
  },
  {
   "cell_type": "code",
   "execution_count": 8,
   "metadata": {
    "collapsed": true
   },
   "outputs": [],
   "source": [
    "df_pivot.set_index('Year', inplace=True)"
   ]
  },
  {
   "cell_type": "code",
   "execution_count": 9,
   "metadata": {},
   "outputs": [
    {
     "data": {
      "text/plain": [
       "(0, 400.85000000000002)"
      ]
     },
     "execution_count": 9,
     "metadata": {},
     "output_type": "execute_result"
    },
    {
     "data": {
      "image/png": "[encoded data removed]",
      "text/plain": [
       "<matplotlib.figure.Figure at 0x10682c4a8>"
      ]
     },
     "metadata": {},
     "output_type": "display_data"
    }
   ],
   "source": [
    "ax = df_pivot['Domestic Politics'].plot(color='blue',legend=True,figsize=(10,4))\n",
    "df_pivot['Elections'].plot(ax=ax,color='red',legend=True,title='Change In Front Page Political Reporting')\n",
    "#df_pivot['Economic Performance/Indicators'].plot(ax=ax,color='green',legend=True)\n",
    "#df_pivot['Crime/Legal Action'].plot(ax=ax,color='orange',legend=True)\n",
    "#df_pivot['Government Budget/Taxation'].plot(ax=ax,color='grey',legend=True)\n",
    "\n",
    "ax.set_ylim(ymin=0)"
   ]
  },
  {
   "cell_type": "code",
   "execution_count": null,
   "metadata": {
    "collapsed": true
   },
   "outputs": [],
   "source": []
  },
  {
   "cell_type": "code",
   "execution_count": null,
   "metadata": {
    "collapsed": true
   },
   "outputs": [],
   "source": []
  },
  {
   "cell_type": "code",
   "execution_count": null,
   "metadata": {
    "collapsed": true
   },
   "outputs": [],
   "source": []
  },
  {
   "cell_type": "code",
   "execution_count": 11,
   "metadata": {},
   "outputs": [
    {
     "data": {
      "image/png": "[encoded data removed]",
      "text/plain": [
       "<matplotlib.figure.Figure at 0x106806470>"
      ]
     },
     "metadata": {},
     "output_type": "display_data"
    }
   ],
   "source": [
    "#y = [0,150,200,250,300,350,400]\n",
    "ax = df_pivot['Domestic Politics'].plot(color='blue',legend=True,figsize=(10,4))\n",
    "df_pivot['Elections'].plot(ax=ax,color='red',legend=True,title='Change In Front Page Political Reporting')\n",
    "ax.set_ylim(ymin=0)\n",
    "#df_pivot['Economic Performance/Indicators'].plot(kind='bar',ax=ax,color='green',legend=True)\n",
    "#df_pivot['Crime/Legal Action'].plot(kind='bar',ax=ax,color='orange',legend=True)\n",
    "#df_pivot['Government Budget/Taxation'].plot(kind='bar',ax=ax,color='grey',legend=True)\n",
    "plt.savefig('3CHECKTHIS.pdf')\n",
    "#df_pivot['Elections'].plot(ax=ax,color='red')\n",
    "#df_pivot['Education'].plot(ax=ax,color='orange')\n",
    "#df_pivot['Economic Performance/Indicators'].plot(ax=ax,color='pink')\n",
    "#df_pivot['Health'].plot(ax=ax,color='yellow')"
   ]
  },
  {
   "cell_type": "code",
   "execution_count": 11,
   "metadata": {},
   "outputs": [
    {
     "data": {
      "text/html": [
       "<div>\n",
       "<style>\n",
       "    .dataframe thead tr:only-child th {\n",
       "        text-align: right;\n",
       "    }\n",
       "\n",
       "    .dataframe thead th {\n",
       "        text-align: left;\n",
       "    }\n",
       "\n",
       "    .dataframe tbody tr th {\n",
       "        vertical-align: top;\n",
       "    }\n",
       "</style>\n",
       "<table border=\"1\" class=\"dataframe\">\n",
       "  <thead>\n",
       "    <tr style=\"text-align: right;\">\n",
       "      <th>Subject</th>\n",
       "      <th>Crime/Legal Action</th>\n",
       "      <th>Domestic Politics</th>\n",
       "      <th>Economic Performance/Indicators</th>\n",
       "      <th>Education</th>\n",
       "      <th>Elections</th>\n",
       "      <th>Government Budget/Taxation</th>\n",
       "      <th>Health</th>\n",
       "    </tr>\n",
       "    <tr>\n",
       "      <th>Year</th>\n",
       "      <th></th>\n",
       "      <th></th>\n",
       "      <th></th>\n",
       "      <th></th>\n",
       "      <th></th>\n",
       "      <th></th>\n",
       "      <th></th>\n",
       "    </tr>\n",
       "  </thead>\n",
       "  <tbody>\n",
       "    <tr>\n",
       "      <th>2008</th>\n",
       "      <td>NaN</td>\n",
       "      <td>NaN</td>\n",
       "      <td>NaN</td>\n",
       "      <td>NaN</td>\n",
       "      <td>NaN</td>\n",
       "      <td>NaN</td>\n",
       "      <td>NaN</td>\n",
       "    </tr>\n",
       "    <tr>\n",
       "      <th>2012</th>\n",
       "      <td>-0.437500</td>\n",
       "      <td>0.101266</td>\n",
       "      <td>-0.117647</td>\n",
       "      <td>0.242424</td>\n",
       "      <td>-0.232323</td>\n",
       "      <td>3.529412</td>\n",
       "      <td>-0.942857</td>\n",
       "    </tr>\n",
       "    <tr>\n",
       "      <th>2016</th>\n",
       "      <td>2.518519</td>\n",
       "      <td>1.235632</td>\n",
       "      <td>-0.333333</td>\n",
       "      <td>0.414634</td>\n",
       "      <td>0.980263</td>\n",
       "      <td>-0.519481</td>\n",
       "      <td>1.750000</td>\n",
       "    </tr>\n",
       "  </tbody>\n",
       "</table>\n",
       "</div>"
      ],
      "text/plain": [
       "Subject   Crime/Legal Action  Domestic Politics  \\\n",
       "Year                                              \n",
       "2008                     NaN                NaN   \n",
       "2012               -0.437500           0.101266   \n",
       "2016                2.518519           1.235632   \n",
       "\n",
       "Subject   Economic Performance/Indicators  Education  Elections  \\\n",
       "Year                                                              \n",
       "2008                                  NaN        NaN        NaN   \n",
       "2012                            -0.117647   0.242424  -0.232323   \n",
       "2016                            -0.333333   0.414634   0.980263   \n",
       "\n",
       "Subject   Government Budget/Taxation    Health  \n",
       "Year                                            \n",
       "2008                             NaN       NaN  \n",
       "2012                        3.529412 -0.942857  \n",
       "2016                       -0.519481  1.750000  "
      ]
     },
     "execution_count": 11,
     "metadata": {},
     "output_type": "execute_result"
    }
   ],
   "source": [
    "df_pct = df_pivot.pct_change(fill_method='pad')\n",
    "df_pct\n",
    "#Headlines about USA Politics increased 146% between 2008 Presidential Race and the 2016 Presidential Race.\n",
    "#Election specific coverage increased 52% "
   ]
  },
  {
   "cell_type": "code",
   "execution_count": 13,
   "metadata": {},
   "outputs": [
    {
     "data": {
      "text/html": [
       "<div>\n",
       "<style>\n",
       "    .dataframe thead tr:only-child th {\n",
       "        text-align: right;\n",
       "    }\n",
       "\n",
       "    .dataframe thead th {\n",
       "        text-align: left;\n",
       "    }\n",
       "\n",
       "    .dataframe tbody tr th {\n",
       "        vertical-align: top;\n",
       "    }\n",
       "</style>\n",
       "<table border=\"1\" class=\"dataframe\">\n",
       "  <thead>\n",
       "    <tr style=\"text-align: right;\">\n",
       "      <th>Subject</th>\n",
       "      <th>Crime/Legal Action</th>\n",
       "      <th>Domestic Politics</th>\n",
       "      <th>Economic Performance/Indicators</th>\n",
       "      <th>Education</th>\n",
       "      <th>Elections</th>\n",
       "      <th>Government Budget/Taxation</th>\n",
       "      <th>Health</th>\n",
       "    </tr>\n",
       "    <tr>\n",
       "      <th>Year</th>\n",
       "      <th></th>\n",
       "      <th></th>\n",
       "      <th></th>\n",
       "      <th></th>\n",
       "      <th></th>\n",
       "      <th></th>\n",
       "      <th></th>\n",
       "    </tr>\n",
       "  </thead>\n",
       "  <tbody>\n",
       "    <tr>\n",
       "      <th>2008</th>\n",
       "      <td>0.000000</td>\n",
       "      <td>0.000000</td>\n",
       "      <td>0.000000</td>\n",
       "      <td>0.000000</td>\n",
       "      <td>0.000000</td>\n",
       "      <td>0.000000</td>\n",
       "      <td>0.000000</td>\n",
       "    </tr>\n",
       "    <tr>\n",
       "      <th>2012</th>\n",
       "      <td>-0.437500</td>\n",
       "      <td>0.101266</td>\n",
       "      <td>-0.117647</td>\n",
       "      <td>0.242424</td>\n",
       "      <td>-0.232323</td>\n",
       "      <td>3.529412</td>\n",
       "      <td>-0.942857</td>\n",
       "    </tr>\n",
       "    <tr>\n",
       "      <th>2016</th>\n",
       "      <td>2.518519</td>\n",
       "      <td>1.235632</td>\n",
       "      <td>-0.333333</td>\n",
       "      <td>0.414634</td>\n",
       "      <td>0.980263</td>\n",
       "      <td>-0.519481</td>\n",
       "      <td>1.750000</td>\n",
       "    </tr>\n",
       "  </tbody>\n",
       "</table>\n",
       "</div>"
      ],
      "text/plain": [
       "Subject   Crime/Legal Action  Domestic Politics  \\\n",
       "Year                                              \n",
       "2008                0.000000           0.000000   \n",
       "2012               -0.437500           0.101266   \n",
       "2016                2.518519           1.235632   \n",
       "\n",
       "Subject   Economic Performance/Indicators  Education  Elections  \\\n",
       "Year                                                              \n",
       "2008                             0.000000   0.000000   0.000000   \n",
       "2012                            -0.117647   0.242424  -0.232323   \n",
       "2016                            -0.333333   0.414634   0.980263   \n",
       "\n",
       "Subject   Government Budget/Taxation    Health  \n",
       "Year                                            \n",
       "2008                        0.000000  0.000000  \n",
       "2012                        3.529412 -0.942857  \n",
       "2016                       -0.519481  1.750000  "
      ]
     },
     "execution_count": 13,
     "metadata": {},
     "output_type": "execute_result"
    }
   ],
   "source": [
    "df_pct.fillna(value=0)"
   ]
  },
  {
   "cell_type": "code",
   "execution_count": 26,
   "metadata": {},
   "outputs": [
    {
     "data": {
      "image/png": "[encoded data removed]",
      "text/plain": [
       "<matplotlib.figure.Figure at 0x110038cf8>"
      ]
     },
     "metadata": {},
     "output_type": "display_data"
    }
   ],
   "source": [
    "ax = df_pct['Domestic Politics'].plot()\n",
    "#df_pct['Elections'].plot(ax=ax)"
   ]
  },
  {
   "cell_type": "code",
   "execution_count": null,
   "metadata": {
    "collapsed": true
   },
   "outputs": [],
   "source": [
    "#https://stackoverflow.com/questions/35181265/calculate-percent-change-on-a-pandas-dataframe "
   ]
  }
 ],
 "metadata": {
  "kernelspec": {
   "display_name": "Python 3",
   "language": "python",
   "name": "python3"
  },
  "language_info": {
   "codemirror_mode": {
    "name": "ipython",
    "version": 3
   },
   "file_extension": ".py",
   "mimetype": "text/x-python",
   "name": "python",
   "nbconvert_exporter": "python",
   "pygments_lexer": "ipython3",
   "version": "3.6.1"
  }
 },
 "nbformat": 4,
 "nbformat_minor": 2
}
