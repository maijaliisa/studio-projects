{
 "cells": [
  {
   "cell_type": "code",
   "execution_count": 1,
   "metadata": {
    "collapsed": true
   },
   "outputs": [],
   "source": [
    "import pandas as pd\n",
    "%matplotlib inline\n",
    "import matplotlib.pyplot as plt"
   ]
  },
  {
   "cell_type": "code",
   "execution_count": 4,
   "metadata": {},
   "outputs": [
    {
     "data": {
      "text/html": [
       "<div>\n",
       "<style>\n",
       "    .dataframe thead tr:only-child th {\n",
       "        text-align: right;\n",
       "    }\n",
       "\n",
       "    .dataframe thead th {\n",
       "        text-align: left;\n",
       "    }\n",
       "\n",
       "    .dataframe tbody tr th {\n",
       "        vertical-align: top;\n",
       "    }\n",
       "</style>\n",
       "<table border=\"1\" class=\"dataframe\">\n",
       "  <thead>\n",
       "    <tr style=\"text-align: right;\">\n",
       "      <th></th>\n",
       "      <th>Department</th>\n",
       "      <th>Name</th>\n",
       "      <th>Status</th>\n",
       "      <th>State</th>\n",
       "      <th>Start</th>\n",
       "      <th>End</th>\n",
       "    </tr>\n",
       "  </thead>\n",
       "  <tbody>\n",
       "    <tr>\n",
       "      <th>0</th>\n",
       "      <td>State</td>\n",
       "      <td>John Jay</td>\n",
       "      <td>Acting</td>\n",
       "      <td>New York</td>\n",
       "      <td>September 26, 1789</td>\n",
       "      <td>March 22, 1790</td>\n",
       "    </tr>\n",
       "    <tr>\n",
       "      <th>1</th>\n",
       "      <td>State</td>\n",
       "      <td>Thomas Jefferson</td>\n",
       "      <td>sworn in</td>\n",
       "      <td>Virginia</td>\n",
       "      <td>March 22, 1790</td>\n",
       "      <td>December 31, 1793</td>\n",
       "    </tr>\n",
       "    <tr>\n",
       "      <th>2</th>\n",
       "      <td>State</td>\n",
       "      <td>Edmund J. Randolph</td>\n",
       "      <td>sworn in</td>\n",
       "      <td>Virginia</td>\n",
       "      <td>January 2, 1794</td>\n",
       "      <td>August 20, 1795</td>\n",
       "    </tr>\n",
       "    <tr>\n",
       "      <th>3</th>\n",
       "      <td>State</td>\n",
       "      <td>Timothy Pickering</td>\n",
       "      <td>sworn in</td>\n",
       "      <td>Massachusetts</td>\n",
       "      <td>August 20, 1795</td>\n",
       "      <td>May 12, 1800</td>\n",
       "    </tr>\n",
       "    <tr>\n",
       "      <th>4</th>\n",
       "      <td>State</td>\n",
       "      <td>Charles Lee</td>\n",
       "      <td>Acting</td>\n",
       "      <td>Virginia</td>\n",
       "      <td>May 13, 1800</td>\n",
       "      <td>June 5, 1800</td>\n",
       "    </tr>\n",
       "  </tbody>\n",
       "</table>\n",
       "</div>"
      ],
      "text/plain": [
       "  Department                Name    Status          State               Start  \\\n",
       "0      State            John Jay    Acting       New York  September 26, 1789   \n",
       "1      State    Thomas Jefferson  sworn in       Virginia      March 22, 1790   \n",
       "2      State  Edmund J. Randolph  sworn in       Virginia     January 2, 1794   \n",
       "3      State   Timothy Pickering  sworn in  Massachusetts     August 20, 1795   \n",
       "4      State         Charles Lee    Acting       Virginia        May 13, 1800   \n",
       "\n",
       "                End   \n",
       "0     March 22, 1790  \n",
       "1  December 31, 1793  \n",
       "2    August 20, 1795  \n",
       "3       May 12, 1800  \n",
       "4       June 5, 1800  "
      ]
     },
     "execution_count": 4,
     "metadata": {},
     "output_type": "execute_result"
    }
   ],
   "source": [
    "cabinet_df = pd.read_csv('Presidential Cabinet - TOTAL.csv')\n",
    "cabinet_df.head()"
   ]
  },
  {
   "cell_type": "code",
   "execution_count": 11,
   "metadata": {
    "scrolled": true
   },
   "outputs": [
    {
     "data": {
      "text/plain": [
       "53"
      ]
     },
     "execution_count": 11,
     "metadata": {},
     "output_type": "execute_result"
    }
   ],
   "source": [
    "len(cabinet_df['State'].value_counts())"
   ]
  },
  {
   "cell_type": "code",
   "execution_count": 16,
   "metadata": {
    "scrolled": true
   },
   "outputs": [
    {
     "data": {
      "text/plain": [
       "New York                 64\n",
       "Pennsylvania             44\n",
       "California               38\n",
       "Massachusetts            38\n",
       "Illinois                 32\n",
       "Virginia                 31\n",
       "Ohio                     28\n",
       "Texas                    23\n",
       "Maryland                 19\n",
       "District of Columbia     15\n",
       "Michigan                 13\n",
       "Georgia                  13\n",
       "Indiana                  12\n",
       "Kentucky                 12\n",
       "New Jersey               12\n",
       "Colorado                 11\n",
       "Missouri                 11\n",
       "Minnesota                 9\n",
       "Iowa                      9\n",
       "Florida                   8\n",
       "Wisconsin                 8\n",
       "Connecticut               8\n",
       "Nebraska                  8\n",
       "South Carolina            7\n",
       "Delaware                  6\n",
       "Kansas                    6\n",
       "Maine                     6\n",
       "Tennessee                 6\n",
       "Washington                6\n",
       "Washington, D.C.          5\n",
       "West Virginia             5\n",
       "Arizona                   5\n",
       "Rhode Island              4\n",
       "Mississippi               4\n",
       "North Carolina            4\n",
       "New Mexico                4\n",
       "Alabama                   4\n",
       "Oregon                    3\n",
       "Arkansas                  3\n",
       "Louisiana                 3\n",
       "Utah                      3\n",
       "unknown                   2\n",
       "Idaho                     2\n",
       "Wyoming                   2\n",
       "Vermont                   2\n",
       "North Dakota              2\n",
       "New Hampshire             2\n",
       "District of Columbia      1\n",
       "Netherlands               1\n",
       "Hawaii                    1\n",
       "Alaska                    1\n",
       "Oklahoma                  1\n",
       "Montana                   1\n",
       "Name: State, dtype: int64"
      ]
     },
     "execution_count": 16,
     "metadata": {},
     "output_type": "execute_result"
    }
   ],
   "source": [
    "cabinet_df['State'].value_counts()"
   ]
  },
  {
   "cell_type": "code",
   "execution_count": null,
   "metadata": {},
   "outputs": [],
   "source": []
  },
  {
   "cell_type": "code",
   "execution_count": null,
   "metadata": {
    "collapsed": true
   },
   "outputs": [],
   "source": []
  }
 ],
 "metadata": {
  "kernelspec": {
   "display_name": "Python 3",
   "language": "python",
   "name": "python3"
  },
  "language_info": {
   "codemirror_mode": {
    "name": "ipython",
    "version": 3
   },
   "file_extension": ".py",
   "mimetype": "text/x-python",
   "name": "python",
   "nbconvert_exporter": "python",
   "pygments_lexer": "ipython3",
   "version": "3.6.1"
  }
 },
 "nbformat": 4,
 "nbformat_minor": 2
}
