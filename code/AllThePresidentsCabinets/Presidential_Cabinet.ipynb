{
 "cells": [
  {
   "cell_type": "code",
   "execution_count": 258,
   "metadata": {
    "collapsed": true
   },
   "outputs": [],
   "source": [
    "import pandas as pd\n",
    "%matplotlib inline\n",
    "import matplotlib.pyplot as plt\n",
    "import seaborn as sns"
   ]
  },
  {
   "cell_type": "code",
   "execution_count": 259,
   "metadata": {
    "scrolled": true
   },
   "outputs": [
    {
     "data": {
      "text/html": [
       "<div>\n",
       "<style>\n",
       "    .dataframe thead tr:only-child th {\n",
       "        text-align: right;\n",
       "    }\n",
       "\n",
       "    .dataframe thead th {\n",
       "        text-align: left;\n",
       "    }\n",
       "\n",
       "    .dataframe tbody tr th {\n",
       "        vertical-align: top;\n",
       "    }\n",
       "</style>\n",
       "<table border=\"1\" class=\"dataframe\">\n",
       "  <thead>\n",
       "    <tr style=\"text-align: right;\">\n",
       "      <th></th>\n",
       "      <th>Department</th>\n",
       "      <th>Name</th>\n",
       "      <th>Status</th>\n",
       "      <th>State</th>\n",
       "      <th>Start</th>\n",
       "      <th>End</th>\n",
       "      <th>Date</th>\n",
       "    </tr>\n",
       "  </thead>\n",
       "  <tbody>\n",
       "    <tr>\n",
       "      <th>381</th>\n",
       "      <td>State</td>\n",
       "      <td>John Jay</td>\n",
       "      <td>Acting</td>\n",
       "      <td>New York</td>\n",
       "      <td>September 26, 1789</td>\n",
       "      <td>March 22, 1790</td>\n",
       "      <td>1789-01-01</td>\n",
       "    </tr>\n",
       "    <tr>\n",
       "      <th>43</th>\n",
       "      <td>Attorney General</td>\n",
       "      <td>Edmund Randolph</td>\n",
       "      <td>sworn in</td>\n",
       "      <td>Virginia</td>\n",
       "      <td>September 26, 1789</td>\n",
       "      <td>January 26, 1794</td>\n",
       "      <td>1789-01-01</td>\n",
       "    </tr>\n",
       "    <tr>\n",
       "      <th>513</th>\n",
       "      <td>Treasury</td>\n",
       "      <td>Alexander Hamilton</td>\n",
       "      <td>sworn in</td>\n",
       "      <td>New York</td>\n",
       "      <td>Sept. 11, 1789</td>\n",
       "      <td>Jan. 31, 1795</td>\n",
       "      <td>1789-01-01</td>\n",
       "    </tr>\n",
       "    <tr>\n",
       "      <th>415</th>\n",
       "      <td>State</td>\n",
       "      <td>Thomas Jefferson</td>\n",
       "      <td>sworn in</td>\n",
       "      <td>Virginia</td>\n",
       "      <td>March 22, 1790</td>\n",
       "      <td>December 31, 1793</td>\n",
       "      <td>1790-01-01</td>\n",
       "    </tr>\n",
       "    <tr>\n",
       "      <th>416</th>\n",
       "      <td>State</td>\n",
       "      <td>Edmund J. Randolph</td>\n",
       "      <td>sworn in</td>\n",
       "      <td>Virginia</td>\n",
       "      <td>January 2, 1794</td>\n",
       "      <td>August 20, 1795</td>\n",
       "      <td>1794-01-01</td>\n",
       "    </tr>\n",
       "    <tr>\n",
       "      <th>44</th>\n",
       "      <td>Attorney General</td>\n",
       "      <td>Charles Lee</td>\n",
       "      <td>sworn in</td>\n",
       "      <td>Virginia</td>\n",
       "      <td>December 10, 1795</td>\n",
       "      <td>February 19, 1801</td>\n",
       "      <td>1795-01-01</td>\n",
       "    </tr>\n",
       "    <tr>\n",
       "      <th>417</th>\n",
       "      <td>State</td>\n",
       "      <td>Timothy Pickering</td>\n",
       "      <td>sworn in</td>\n",
       "      <td>Massachusetts</td>\n",
       "      <td>August 20, 1795</td>\n",
       "      <td>May 12, 1800</td>\n",
       "      <td>1795-01-01</td>\n",
       "    </tr>\n",
       "    <tr>\n",
       "      <th>514</th>\n",
       "      <td>Treasury</td>\n",
       "      <td>Oliver Wolcott Jr.</td>\n",
       "      <td>sworn in</td>\n",
       "      <td>Connecticut</td>\n",
       "      <td>Feb. 3, 1795</td>\n",
       "      <td>Dec. 31, 1800</td>\n",
       "      <td>1795-01-01</td>\n",
       "    </tr>\n",
       "    <tr>\n",
       "      <th>382</th>\n",
       "      <td>State</td>\n",
       "      <td>Charles Lee</td>\n",
       "      <td>Acting</td>\n",
       "      <td>Virginia</td>\n",
       "      <td>May 13, 1800</td>\n",
       "      <td>June 5, 1800</td>\n",
       "      <td>1800-01-01</td>\n",
       "    </tr>\n",
       "    <tr>\n",
       "      <th>418</th>\n",
       "      <td>State</td>\n",
       "      <td>John Marshall</td>\n",
       "      <td>sworn in</td>\n",
       "      <td>Virginia</td>\n",
       "      <td>June 13, 1800</td>\n",
       "      <td>March 4, 1801</td>\n",
       "      <td>1800-01-01</td>\n",
       "    </tr>\n",
       "    <tr>\n",
       "      <th>45</th>\n",
       "      <td>Attorney General</td>\n",
       "      <td>Levi Lincoln Sr.</td>\n",
       "      <td>sworn in</td>\n",
       "      <td>Massachusetts</td>\n",
       "      <td>March 5, 1801</td>\n",
       "      <td>March 2, 1805</td>\n",
       "      <td>1801-01-01</td>\n",
       "    </tr>\n",
       "    <tr>\n",
       "      <th>515</th>\n",
       "      <td>Treasury</td>\n",
       "      <td>Samuel Dexter</td>\n",
       "      <td>sworn in</td>\n",
       "      <td>Massachusetts</td>\n",
       "      <td>Jan. 1, 1801</td>\n",
       "      <td>May. 6, 1801</td>\n",
       "      <td>1801-01-01</td>\n",
       "    </tr>\n",
       "    <tr>\n",
       "      <th>383</th>\n",
       "      <td>State</td>\n",
       "      <td>Levi Lincoln Sr.</td>\n",
       "      <td>Acting</td>\n",
       "      <td>Massachusetts</td>\n",
       "      <td>March 5, 1801</td>\n",
       "      <td>May 1, 1801</td>\n",
       "      <td>1801-01-01</td>\n",
       "    </tr>\n",
       "    <tr>\n",
       "      <th>516</th>\n",
       "      <td>Treasury</td>\n",
       "      <td>Albert Gallatin</td>\n",
       "      <td>sworn in</td>\n",
       "      <td>Pennsylvania</td>\n",
       "      <td>May 14, 1801</td>\n",
       "      <td>Feb 9 , 1814</td>\n",
       "      <td>1801-01-01</td>\n",
       "    </tr>\n",
       "    <tr>\n",
       "      <th>419</th>\n",
       "      <td>State</td>\n",
       "      <td>James Madison</td>\n",
       "      <td>sworn in</td>\n",
       "      <td>Virginia</td>\n",
       "      <td>May 2, 1801</td>\n",
       "      <td>March 3, 1809</td>\n",
       "      <td>1801-01-01</td>\n",
       "    </tr>\n",
       "    <tr>\n",
       "      <th>46</th>\n",
       "      <td>Attorney General</td>\n",
       "      <td>John Breckinridge</td>\n",
       "      <td>sworn in</td>\n",
       "      <td>Kentucky</td>\n",
       "      <td>August 7, 1805</td>\n",
       "      <td>December 14, 1806</td>\n",
       "      <td>1805-01-01</td>\n",
       "    </tr>\n",
       "    <tr>\n",
       "      <th>47</th>\n",
       "      <td>Attorney General</td>\n",
       "      <td>Caesar A. Rodney</td>\n",
       "      <td>sworn in</td>\n",
       "      <td>Delaware</td>\n",
       "      <td>January 20, 1807</td>\n",
       "      <td>December 10, 1811</td>\n",
       "      <td>1807-01-01</td>\n",
       "    </tr>\n",
       "    <tr>\n",
       "      <th>420</th>\n",
       "      <td>State</td>\n",
       "      <td>Robert Smith</td>\n",
       "      <td>sworn in</td>\n",
       "      <td>Maryland</td>\n",
       "      <td>March 6, 1809</td>\n",
       "      <td>April 1, 1811</td>\n",
       "      <td>1809-01-01</td>\n",
       "    </tr>\n",
       "    <tr>\n",
       "      <th>421</th>\n",
       "      <td>State</td>\n",
       "      <td>James Monroe</td>\n",
       "      <td>sworn in</td>\n",
       "      <td>Virginia</td>\n",
       "      <td>April 2, 1811</td>\n",
       "      <td>March 3, 1817</td>\n",
       "      <td>1811-01-01</td>\n",
       "    </tr>\n",
       "    <tr>\n",
       "      <th>48</th>\n",
       "      <td>Attorney General</td>\n",
       "      <td>William Pinkney</td>\n",
       "      <td>sworn in</td>\n",
       "      <td>Maryland</td>\n",
       "      <td>December 11, 1811</td>\n",
       "      <td>February 9, 1814</td>\n",
       "      <td>1811-01-01</td>\n",
       "    </tr>\n",
       "    <tr>\n",
       "      <th>517</th>\n",
       "      <td>Treasury</td>\n",
       "      <td>George W. Campbell</td>\n",
       "      <td>sworn in</td>\n",
       "      <td>Tennessee</td>\n",
       "      <td>Feb. 9, 1814</td>\n",
       "      <td>Sept. 26, 1814</td>\n",
       "      <td>1814-01-01</td>\n",
       "    </tr>\n",
       "    <tr>\n",
       "      <th>518</th>\n",
       "      <td>Treasury</td>\n",
       "      <td>Alexander J. Dallas</td>\n",
       "      <td>sworn in</td>\n",
       "      <td>Pennsylvania</td>\n",
       "      <td>Oct. 6, 1814</td>\n",
       "      <td>Oct. 21, 1816</td>\n",
       "      <td>1814-01-01</td>\n",
       "    </tr>\n",
       "    <tr>\n",
       "      <th>49</th>\n",
       "      <td>Attorney General</td>\n",
       "      <td>Richard Rush</td>\n",
       "      <td>sworn in</td>\n",
       "      <td>Pennsylvania</td>\n",
       "      <td>February 10, 1814</td>\n",
       "      <td>November 12, 1817</td>\n",
       "      <td>1814-01-01</td>\n",
       "    </tr>\n",
       "    <tr>\n",
       "      <th>506</th>\n",
       "      <td>Treasury</td>\n",
       "      <td>William Jones</td>\n",
       "      <td>Acting</td>\n",
       "      <td>Pennsylvania</td>\n",
       "      <td>Oct. 21, 1816</td>\n",
       "      <td>Oct. 22, 1816</td>\n",
       "      <td>1816-01-01</td>\n",
       "    </tr>\n",
       "    <tr>\n",
       "      <th>519</th>\n",
       "      <td>Treasury</td>\n",
       "      <td>William H. Crawford</td>\n",
       "      <td>sworn in</td>\n",
       "      <td>Georgia</td>\n",
       "      <td>Oct. 22, 1816</td>\n",
       "      <td>Mar. 3, 1825</td>\n",
       "      <td>1816-01-01</td>\n",
       "    </tr>\n",
       "    <tr>\n",
       "      <th>422</th>\n",
       "      <td>State</td>\n",
       "      <td>John Quincy Adams</td>\n",
       "      <td>sworn in</td>\n",
       "      <td>Massachusetts</td>\n",
       "      <td>September 22, 1817</td>\n",
       "      <td>March 3, 1825</td>\n",
       "      <td>1817-01-01</td>\n",
       "    </tr>\n",
       "    <tr>\n",
       "      <th>50</th>\n",
       "      <td>Attorney General</td>\n",
       "      <td>William Wirt</td>\n",
       "      <td>sworn in</td>\n",
       "      <td>Virginia</td>\n",
       "      <td>November 13, 1817</td>\n",
       "      <td>March 4, 1829</td>\n",
       "      <td>1817-01-01</td>\n",
       "    </tr>\n",
       "    <tr>\n",
       "      <th>385</th>\n",
       "      <td>State</td>\n",
       "      <td>Richard Rush</td>\n",
       "      <td>Acting</td>\n",
       "      <td>Pennsylvania</td>\n",
       "      <td>March 10, 1817</td>\n",
       "      <td>September 22, 1817</td>\n",
       "      <td>1817-01-01</td>\n",
       "    </tr>\n",
       "    <tr>\n",
       "      <th>384</th>\n",
       "      <td>State</td>\n",
       "      <td>John Graham</td>\n",
       "      <td>Acting</td>\n",
       "      <td>Kentucky</td>\n",
       "      <td>March 4, 1817</td>\n",
       "      <td>March 9, 1817</td>\n",
       "      <td>1817-01-01</td>\n",
       "    </tr>\n",
       "    <tr>\n",
       "      <th>423</th>\n",
       "      <td>State</td>\n",
       "      <td>Henry Clay</td>\n",
       "      <td>sworn in</td>\n",
       "      <td>Kentucky</td>\n",
       "      <td>March 7, 1825</td>\n",
       "      <td>March 3, 1829</td>\n",
       "      <td>1825-01-01</td>\n",
       "    </tr>\n",
       "    <tr>\n",
       "      <th>...</th>\n",
       "      <td>...</td>\n",
       "      <td>...</td>\n",
       "      <td>...</td>\n",
       "      <td>...</td>\n",
       "      <td>...</td>\n",
       "      <td>...</td>\n",
       "      <td>...</td>\n",
       "    </tr>\n",
       "    <tr>\n",
       "      <th>201</th>\n",
       "      <td>Defense</td>\n",
       "      <td>Ash Carter</td>\n",
       "      <td>sworn in</td>\n",
       "      <td>Massachusetts</td>\n",
       "      <td>February 17, 2015</td>\n",
       "      <td>January 19, 2017</td>\n",
       "      <td>2015-01-01</td>\n",
       "    </tr>\n",
       "    <tr>\n",
       "      <th>213</th>\n",
       "      <td>Education</td>\n",
       "      <td>John King Jr</td>\n",
       "      <td>sworn in</td>\n",
       "      <td>New York</td>\n",
       "      <td>January 1, 2016</td>\n",
       "      <td>January 20, 2017</td>\n",
       "      <td>2016-01-01</td>\n",
       "    </tr>\n",
       "    <tr>\n",
       "      <th>597</th>\n",
       "      <td>VA</td>\n",
       "      <td>Robert Snyder</td>\n",
       "      <td>Acting</td>\n",
       "      <td>West Virginia</td>\n",
       "      <td>January 20, 2017</td>\n",
       "      <td>February 14, 2017</td>\n",
       "      <td>2017-01-01</td>\n",
       "    </tr>\n",
       "    <tr>\n",
       "      <th>591</th>\n",
       "      <td>Treasury</td>\n",
       "      <td>Steven T. Mnuchin</td>\n",
       "      <td>sworn in</td>\n",
       "      <td>New York</td>\n",
       "      <td>Feb. 13,2017</td>\n",
       "      <td>Present</td>\n",
       "      <td>2017-01-01</td>\n",
       "    </tr>\n",
       "    <tr>\n",
       "      <th>0</th>\n",
       "      <td>Agriculture</td>\n",
       "      <td>Michael Scuse</td>\n",
       "      <td>Acting</td>\n",
       "      <td>Delaware</td>\n",
       "      <td>January 13, 2017</td>\n",
       "      <td>January 20, 2017</td>\n",
       "      <td>2017-01-01</td>\n",
       "    </tr>\n",
       "    <tr>\n",
       "      <th>505</th>\n",
       "      <td>Transportation</td>\n",
       "      <td>Elaine Chao</td>\n",
       "      <td>sworn in</td>\n",
       "      <td>Taiwan</td>\n",
       "      <td>January 31, 2017</td>\n",
       "      <td>present</td>\n",
       "      <td>2017-01-01</td>\n",
       "    </tr>\n",
       "    <tr>\n",
       "      <th>1</th>\n",
       "      <td>Agriculture</td>\n",
       "      <td>Mike Young</td>\n",
       "      <td>Acting</td>\n",
       "      <td>Colorado</td>\n",
       "      <td>January 20, 2017</td>\n",
       "      <td>April 25, 2017</td>\n",
       "      <td>2017-01-01</td>\n",
       "    </tr>\n",
       "    <tr>\n",
       "      <th>33</th>\n",
       "      <td>Agriculture</td>\n",
       "      <td>Sonny Perdue</td>\n",
       "      <td>sworn in</td>\n",
       "      <td>Georgia</td>\n",
       "      <td>April 25, 2017</td>\n",
       "      <td>Incumbent</td>\n",
       "      <td>2017-01-01</td>\n",
       "    </tr>\n",
       "    <tr>\n",
       "      <th>41</th>\n",
       "      <td>Attorney General</td>\n",
       "      <td>Sally Yates</td>\n",
       "      <td>Acting</td>\n",
       "      <td>Georgia</td>\n",
       "      <td>January 20, 2017</td>\n",
       "      <td>January 30, 2017</td>\n",
       "      <td>2017-01-01</td>\n",
       "    </tr>\n",
       "    <tr>\n",
       "      <th>42</th>\n",
       "      <td>Attorney General</td>\n",
       "      <td>Dana Boente</td>\n",
       "      <td>Acting</td>\n",
       "      <td>Virginia</td>\n",
       "      <td>January 30, 2017</td>\n",
       "      <td>February 9, 2017</td>\n",
       "      <td>2017-01-01</td>\n",
       "    </tr>\n",
       "    <tr>\n",
       "      <th>124</th>\n",
       "      <td>Attorney General</td>\n",
       "      <td>Jeff Sessions</td>\n",
       "      <td>sworn in</td>\n",
       "      <td>Alabama</td>\n",
       "      <td>February 9, 2017</td>\n",
       "      <td>Present</td>\n",
       "      <td>2017-01-01</td>\n",
       "    </tr>\n",
       "    <tr>\n",
       "      <th>174</th>\n",
       "      <td>Commerce</td>\n",
       "      <td>Wilbur L. Ross</td>\n",
       "      <td>sworn in</td>\n",
       "      <td>Florida</td>\n",
       "      <td>February 28, 2017</td>\n",
       "      <td>Present</td>\n",
       "      <td>2017-01-01</td>\n",
       "    </tr>\n",
       "    <tr>\n",
       "      <th>202</th>\n",
       "      <td>Defense</td>\n",
       "      <td>James Mattis</td>\n",
       "      <td>sworn in</td>\n",
       "      <td>Washington</td>\n",
       "      <td>January 20, 2017</td>\n",
       "      <td>Present</td>\n",
       "      <td>2017-01-01</td>\n",
       "    </tr>\n",
       "    <tr>\n",
       "      <th>214</th>\n",
       "      <td>Education</td>\n",
       "      <td>Phil Rosenfelt</td>\n",
       "      <td>Acting</td>\n",
       "      <td>Virginia</td>\n",
       "      <td>January 20, 2017</td>\n",
       "      <td>February 7, 2017</td>\n",
       "      <td>2017-01-01</td>\n",
       "    </tr>\n",
       "    <tr>\n",
       "      <th>215</th>\n",
       "      <td>Education</td>\n",
       "      <td>Betsy DeVos</td>\n",
       "      <td>sworn in</td>\n",
       "      <td>Michigan</td>\n",
       "      <td>February 7, 2017</td>\n",
       "      <td>Incumbent</td>\n",
       "      <td>2017-01-01</td>\n",
       "    </tr>\n",
       "    <tr>\n",
       "      <th>230</th>\n",
       "      <td>Energy</td>\n",
       "      <td>Rick Perry</td>\n",
       "      <td>sworn in</td>\n",
       "      <td>Texas</td>\n",
       "      <td>March 2, 2017</td>\n",
       "      <td>Incumbent</td>\n",
       "      <td>2017-01-01</td>\n",
       "    </tr>\n",
       "    <tr>\n",
       "      <th>512</th>\n",
       "      <td>Treasury</td>\n",
       "      <td>Adam Szubin</td>\n",
       "      <td>Acting</td>\n",
       "      <td>District of Columbia</td>\n",
       "      <td>Jan 20, 2017</td>\n",
       "      <td>Feb 13, 2017</td>\n",
       "      <td>2017-01-01</td>\n",
       "    </tr>\n",
       "    <tr>\n",
       "      <th>231</th>\n",
       "      <td>HHS</td>\n",
       "      <td>Norris Cochran</td>\n",
       "      <td>Acting</td>\n",
       "      <td>California</td>\n",
       "      <td>January 20, 2017</td>\n",
       "      <td>February 10, 2017</td>\n",
       "      <td>2017-01-01</td>\n",
       "    </tr>\n",
       "    <tr>\n",
       "      <th>257</th>\n",
       "      <td>Homeland Sec</td>\n",
       "      <td>Elaine Duke</td>\n",
       "      <td>Acting</td>\n",
       "      <td>Virginia</td>\n",
       "      <td>July 31, 2017</td>\n",
       "      <td>present</td>\n",
       "      <td>2017-01-01</td>\n",
       "    </tr>\n",
       "    <tr>\n",
       "      <th>261</th>\n",
       "      <td>Homeland Sec</td>\n",
       "      <td>John F. Kelly</td>\n",
       "      <td>sworn in</td>\n",
       "      <td>Virginia</td>\n",
       "      <td>January 20, 2017</td>\n",
       "      <td>July 31, 2017</td>\n",
       "      <td>2017-01-01</td>\n",
       "    </tr>\n",
       "    <tr>\n",
       "      <th>282</th>\n",
       "      <td>HUD</td>\n",
       "      <td>Ben Carson</td>\n",
       "      <td>sworn in</td>\n",
       "      <td>Florida</td>\n",
       "      <td>March 2, 2017</td>\n",
       "      <td>Present</td>\n",
       "      <td>2017-01-01</td>\n",
       "    </tr>\n",
       "    <tr>\n",
       "      <th>294</th>\n",
       "      <td>Interior</td>\n",
       "      <td>Kevin Haugrud</td>\n",
       "      <td>Acting</td>\n",
       "      <td>unknown</td>\n",
       "      <td>January 20, 2017</td>\n",
       "      <td>March 1, 2017</td>\n",
       "      <td>2017-01-01</td>\n",
       "    </tr>\n",
       "    <tr>\n",
       "      <th>348</th>\n",
       "      <td>Interior</td>\n",
       "      <td>Ryan Zinke</td>\n",
       "      <td>sworn in</td>\n",
       "      <td>Montana</td>\n",
       "      <td>March 1, 2017</td>\n",
       "      <td>present</td>\n",
       "      <td>2017-01-01</td>\n",
       "    </tr>\n",
       "    <tr>\n",
       "      <th>379</th>\n",
       "      <td>Labor</td>\n",
       "      <td>Ed Hugler</td>\n",
       "      <td>sworn in</td>\n",
       "      <td>Pennsylvania</td>\n",
       "      <td>January 20, 2017</td>\n",
       "      <td>April 27, 2017</td>\n",
       "      <td>2017-01-01</td>\n",
       "    </tr>\n",
       "    <tr>\n",
       "      <th>380</th>\n",
       "      <td>Labor</td>\n",
       "      <td>Alex Acosta</td>\n",
       "      <td>sworn in</td>\n",
       "      <td>Florida</td>\n",
       "      <td>April 28, 2017</td>\n",
       "      <td>Incumbent</td>\n",
       "      <td>2017-01-01</td>\n",
       "    </tr>\n",
       "    <tr>\n",
       "      <th>414</th>\n",
       "      <td>State</td>\n",
       "      <td>Tom Shannon</td>\n",
       "      <td>Acting</td>\n",
       "      <td>Minnesota</td>\n",
       "      <td>January 20, 2017</td>\n",
       "      <td>February 1, 2017</td>\n",
       "      <td>2017-01-01</td>\n",
       "    </tr>\n",
       "    <tr>\n",
       "      <th>486</th>\n",
       "      <td>State</td>\n",
       "      <td>Rex Tillerson</td>\n",
       "      <td>sworn in</td>\n",
       "      <td>Texas</td>\n",
       "      <td>February 1, 2017</td>\n",
       "      <td>Present</td>\n",
       "      <td>2017-01-01</td>\n",
       "    </tr>\n",
       "    <tr>\n",
       "      <th>504</th>\n",
       "      <td>Transportation</td>\n",
       "      <td>Michael Huerta</td>\n",
       "      <td>Acting</td>\n",
       "      <td>California</td>\n",
       "      <td>January 20, 2017</td>\n",
       "      <td>January 31, 2017</td>\n",
       "      <td>2017-01-01</td>\n",
       "    </tr>\n",
       "    <tr>\n",
       "      <th>253</th>\n",
       "      <td>HHS</td>\n",
       "      <td>Tom Price</td>\n",
       "      <td>sworn in</td>\n",
       "      <td>Georgia</td>\n",
       "      <td>February 10, 2017</td>\n",
       "      <td>Present</td>\n",
       "      <td>2017-01-01</td>\n",
       "    </tr>\n",
       "    <tr>\n",
       "      <th>606</th>\n",
       "      <td>VA</td>\n",
       "      <td>David Shulkin</td>\n",
       "      <td>sworn in</td>\n",
       "      <td>Pennsylvania</td>\n",
       "      <td>February 14, 2017</td>\n",
       "      <td>present</td>\n",
       "      <td>2017-01-01</td>\n",
       "    </tr>\n",
       "  </tbody>\n",
       "</table>\n",
       "<p>607 rows × 7 columns</p>\n",
       "</div>"
      ],
      "text/plain": [
       "            Department                 Name     Status                 State  \\\n",
       "381              State             John Jay     Acting              New York   \n",
       "43   Attorney General       Edmund Randolph   sworn in              Virginia   \n",
       "513           Treasury   Alexander Hamilton   sworn in              New York   \n",
       "415              State     Thomas Jefferson   sworn in              Virginia   \n",
       "416              State   Edmund J. Randolph   sworn in              Virginia   \n",
       "44   Attorney General           Charles Lee   sworn in              Virginia   \n",
       "417              State    Timothy Pickering   sworn in         Massachusetts   \n",
       "514           Treasury   Oliver Wolcott Jr.   sworn in           Connecticut   \n",
       "382              State          Charles Lee     Acting              Virginia   \n",
       "418              State        John Marshall   sworn in              Virginia   \n",
       "45   Attorney General      Levi Lincoln Sr.   sworn in         Massachusetts   \n",
       "515           Treasury        Samuel Dexter   sworn in         Massachusetts   \n",
       "383              State     Levi Lincoln Sr.     Acting         Massachusetts   \n",
       "516           Treasury      Albert Gallatin   sworn in          Pennsylvania   \n",
       "419              State        James Madison   sworn in              Virginia   \n",
       "46   Attorney General     John Breckinridge   sworn in              Kentucky   \n",
       "47   Attorney General      Caesar A. Rodney   sworn in              Delaware   \n",
       "420              State         Robert Smith   sworn in              Maryland   \n",
       "421              State         James Monroe   sworn in              Virginia   \n",
       "48   Attorney General       William Pinkney   sworn in              Maryland   \n",
       "517           Treasury   George W. Campbell   sworn in             Tennessee   \n",
       "518           Treasury  Alexander J. Dallas   sworn in          Pennsylvania   \n",
       "49   Attorney General          Richard Rush   sworn in          Pennsylvania   \n",
       "506           Treasury        William Jones     Acting          Pennsylvania   \n",
       "519           Treasury  William H. Crawford   sworn in               Georgia   \n",
       "422              State    John Quincy Adams   sworn in         Massachusetts   \n",
       "50   Attorney General          William Wirt   sworn in              Virginia   \n",
       "385              State         Richard Rush     Acting          Pennsylvania   \n",
       "384              State          John Graham     Acting              Kentucky   \n",
       "423              State           Henry Clay   sworn in              Kentucky   \n",
       "..                 ...                  ...        ...                   ...   \n",
       "201            Defense           Ash Carter   sworn in         Massachusetts   \n",
       "213          Education         John King Jr   sworn in              New York   \n",
       "597                VA         Robert Snyder     Acting         West Virginia   \n",
       "591           Treasury    Steven T. Mnuchin   sworn in              New York   \n",
       "0          Agriculture        Michael Scuse     Acting              Delaware   \n",
       "505    Transportation           Elaine Chao  sworn in                Taiwan    \n",
       "1          Agriculture           Mike Young     Acting              Colorado   \n",
       "33         Agriculture         Sonny Perdue   sworn in               Georgia   \n",
       "41   Attorney General           Sally Yates     Acting               Georgia   \n",
       "42   Attorney General           Dana Boente     Acting              Virginia   \n",
       "124  Attorney General         Jeff Sessions   sworn in               Alabama   \n",
       "174           Commerce       Wilbur L. Ross   sworn in               Florida   \n",
       "202            Defense         James Mattis   sworn in            Washington   \n",
       "214          Education       Phil Rosenfelt     Acting              Virginia   \n",
       "215          Education          Betsy DeVos   sworn in              Michigan   \n",
       "230            Energy            Rick Perry   sworn in                 Texas   \n",
       "512           Treasury          Adam Szubin     Acting  District of Columbia   \n",
       "231                HHS       Norris Cochran     Acting            California   \n",
       "257       Homeland Sec          Elaine Duke     Acting              Virginia   \n",
       "261       Homeland Sec        John F. Kelly   sworn in              Virginia   \n",
       "282                HUD           Ben Carson   sworn in               Florida   \n",
       "294           Interior        Kevin Haugrud     Acting               unknown   \n",
       "348           Interior           Ryan Zinke   sworn in               Montana   \n",
       "379              Labor            Ed Hugler   sworn in          Pennsylvania   \n",
       "380              Labor          Alex Acosta   sworn in               Florida   \n",
       "414              State          Tom Shannon     Acting             Minnesota   \n",
       "486              State        Rex Tillerson   sworn in                 Texas   \n",
       "504    Transportation        Michael Huerta     Acting            California   \n",
       "253                HHS            Tom Price   sworn in               Georgia   \n",
       "606                VA         David Shulkin   sworn in          Pennsylvania   \n",
       "\n",
       "                  Start                End        Date  \n",
       "381  September 26, 1789      March 22, 1790 1789-01-01  \n",
       "43   September 26, 1789    January 26, 1794 1789-01-01  \n",
       "513      Sept. 11, 1789       Jan. 31, 1795 1789-01-01  \n",
       "415      March 22, 1790   December 31, 1793 1790-01-01  \n",
       "416     January 2, 1794     August 20, 1795 1794-01-01  \n",
       "44    December 10, 1795   February 19, 1801 1795-01-01  \n",
       "417     August 20, 1795        May 12, 1800 1795-01-01  \n",
       "514        Feb. 3, 1795       Dec. 31, 1800 1795-01-01  \n",
       "382        May 13, 1800        June 5, 1800 1800-01-01  \n",
       "418       June 13, 1800       March 4, 1801 1800-01-01  \n",
       "45        March 5, 1801       March 2, 1805 1801-01-01  \n",
       "515        Jan. 1, 1801        May. 6, 1801 1801-01-01  \n",
       "383       March 5, 1801         May 1, 1801 1801-01-01  \n",
       "516        May 14, 1801        Feb 9 , 1814 1801-01-01  \n",
       "419         May 2, 1801       March 3, 1809 1801-01-01  \n",
       "46       August 7, 1805   December 14, 1806 1805-01-01  \n",
       "47     January 20, 1807   December 10, 1811 1807-01-01  \n",
       "420       March 6, 1809       April 1, 1811 1809-01-01  \n",
       "421       April 2, 1811       March 3, 1817 1811-01-01  \n",
       "48    December 11, 1811    February 9, 1814 1811-01-01  \n",
       "517        Feb. 9, 1814      Sept. 26, 1814 1814-01-01  \n",
       "518        Oct. 6, 1814       Oct. 21, 1816 1814-01-01  \n",
       "49    February 10, 1814   November 12, 1817 1814-01-01  \n",
       "506       Oct. 21, 1816       Oct. 22, 1816 1816-01-01  \n",
       "519       Oct. 22, 1816        Mar. 3, 1825 1816-01-01  \n",
       "422  September 22, 1817       March 3, 1825 1817-01-01  \n",
       "50    November 13, 1817       March 4, 1829 1817-01-01  \n",
       "385      March 10, 1817  September 22, 1817 1817-01-01  \n",
       "384       March 4, 1817       March 9, 1817 1817-01-01  \n",
       "423       March 7, 1825       March 3, 1829 1825-01-01  \n",
       "..                  ...                 ...        ...  \n",
       "201   February 17, 2015    January 19, 2017 2015-01-01  \n",
       "213     January 1, 2016    January 20, 2017 2016-01-01  \n",
       "597    January 20, 2017   February 14, 2017 2017-01-01  \n",
       "591        Feb. 13,2017             Present 2017-01-01  \n",
       "0      January 13, 2017    January 20, 2017 2017-01-01  \n",
       "505    January 31, 2017             present 2017-01-01  \n",
       "1      January 20, 2017      April 25, 2017 2017-01-01  \n",
       "33       April 25, 2017           Incumbent 2017-01-01  \n",
       "41     January 20, 2017    January 30, 2017 2017-01-01  \n",
       "42     January 30, 2017    February 9, 2017 2017-01-01  \n",
       "124    February 9, 2017            Present  2017-01-01  \n",
       "174   February 28, 2017            Present  2017-01-01  \n",
       "202    January 20, 2017             Present 2017-01-01  \n",
       "214    January 20, 2017    February 7, 2017 2017-01-01  \n",
       "215    February 7, 2017           Incumbent 2017-01-01  \n",
       "230       March 2, 2017           Incumbent 2017-01-01  \n",
       "512        Jan 20, 2017        Feb 13, 2017 2017-01-01  \n",
       "231    January 20, 2017   February 10, 2017 2017-01-01  \n",
       "257       July 31, 2017             present 2017-01-01  \n",
       "261    January 20, 2017       July 31, 2017 2017-01-01  \n",
       "282       March 2, 2017            Present  2017-01-01  \n",
       "294    January 20, 2017       March 1, 2017 2017-01-01  \n",
       "348       March 1, 2017             present 2017-01-01  \n",
       "379    January 20, 2017      April 27, 2017 2017-01-01  \n",
       "380      April 28, 2017           Incumbent 2017-01-01  \n",
       "414    January 20, 2017    February 1, 2017 2017-01-01  \n",
       "486    February 1, 2017             Present 2017-01-01  \n",
       "504    January 20, 2017    January 31, 2017 2017-01-01  \n",
       "253   February 10, 2017             Present 2017-01-01  \n",
       "606   February 14, 2017             present 2017-01-01  \n",
       "\n",
       "[607 rows x 7 columns]"
      ]
     },
     "execution_count": 259,
     "metadata": {},
     "output_type": "execute_result"
    }
   ],
   "source": [
    "cabinet_df = pd.read_csv('FINALFULLPresidential Cabinet - TOTAL (2).csv')\n",
    "#cabinet_df['Date'] = pd.to_datetime(cabinet_df.Start, format='%B %d, %Y')  \n",
    "cabinet_df['Date'] = pd.to_datetime(cabinet_df.Start.str.extract(\"(\\d\\d\\d\\d)\", expand=False))  \n",
    "cabinet_df.sort_values(by='Date')"
   ]
  },
  {
   "cell_type": "code",
   "execution_count": null,
   "metadata": {
    "collapsed": true
   },
   "outputs": [],
   "source": [
    "#cabinet_df['Status'].value_counts()"
   ]
  },
  {
   "cell_type": "code",
   "execution_count": null,
   "metadata": {
    "collapsed": true
   },
   "outputs": [],
   "source": [
    "#cabinet_df['Department'].value_counts()"
   ]
  },
  {
   "cell_type": "markdown",
   "metadata": {},
   "source": [
    "## And adding a column about region"
   ]
  },
  {
   "cell_type": "code",
   "execution_count": null,
   "metadata": {
    "collapsed": true,
    "scrolled": true
   },
   "outputs": [],
   "source": [
    "#Creating individual dataframes based on area of the US \n",
    "#https://stackoverflow.com/questions/41274332/pandas-creating-a-new-column"
   ]
  },
  {
   "cell_type": "code",
   "execution_count": null,
   "metadata": {
    "scrolled": true
   },
   "outputs": [],
   "source": [
    "#grouping by area\n",
    "#southern states = Georgia, Tennessee, Alabama, Mississipi, Virginia, Maryland, West Virginina, S Carolina, N Carolina, Texas, Oklahoma, \n",
    "south = cabinet_df.loc[(cabinet_df['State']=='Georgia') \n",
    "                       | (cabinet_df['State'] == 'Alabama') \n",
    "                       | (cabinet_df['State'] == 'Mississippi')\n",
    "                       | (cabinet_df['State']=='Tennessee')\n",
    "                       |(cabinet_df['State']=='Maryland')\n",
    "                       |(cabinet_df['State']=='Virginia')\n",
    "                       |(cabinet_df['State']=='Arkansas')\n",
    "                       |(cabinet_df['State']=='West Virginia')\n",
    "                       |(cabinet_df['State']=='South Carolina')\n",
    "                       |(cabinet_df['State']=='North Carolina')\n",
    "                       |(cabinet_df['State']=='Texas')\n",
    "                       |(cabinet_df['State']=='Oklahoma')\n",
    "                       |(cabinet_df['State']=='District of Columbia')\n",
    "                       |(cabinet_df['State']=='Washington, D.C.')\n",
    "                       |(cabinet_df['State']=='Delaware')] \n",
    "south['region'] ='South'"
   ]
  },
  {
   "cell_type": "code",
   "execution_count": null,
   "metadata": {},
   "outputs": [],
   "source": [
    "south"
   ]
  },
  {
   "cell_type": "code",
   "execution_count": null,
   "metadata": {},
   "outputs": [],
   "source": [
    "west = cabinet_df.loc[(cabinet_df['State']== 'Arizona')  \n",
    "                     |(cabinet_df['State'] == 'Colorado')\n",
    "                     | (cabinet_df['State'] == 'Idaho')\n",
    "                     | (cabinet_df['State'] == 'Montana')\n",
    "                     | (cabinet_df['State'] == 'Nevada')\n",
    "                     | (cabinet_df['State'] == 'New Mexico')\n",
    "                     | (cabinet_df['State'] == 'Utah')\n",
    "                     | (cabinet_df['State'] == 'Wyoming')\n",
    "                     | (cabinet_df['State'] == 'Idaho')\n",
    "                     | (cabinet_df['State'] == 'Alaska')\n",
    "                     | (cabinet_df['State'] == 'California')\n",
    "                     | (cabinet_df['State'] == 'Hawaii')\n",
    "                     | (cabinet_df['State'] == 'Oregon')\n",
    "                     | (cabinet_df['State'] == 'Washington')]\n",
    "west['region'] ='West'"
   ]
  },
  {
   "cell_type": "code",
   "execution_count": null,
   "metadata": {},
   "outputs": [],
   "source": [
    "west"
   ]
  },
  {
   "cell_type": "code",
   "execution_count": null,
   "metadata": {},
   "outputs": [],
   "source": [
    "northeast = cabinet_df.loc[(cabinet_df['State']== 'Connecticut')  \n",
    "                     |(cabinet_df['State'] == 'Maine')\n",
    "                     | (cabinet_df['State'] == 'Massachusetts')\n",
    "                     | (cabinet_df['State'] == 'New York')\n",
    "                     | (cabinet_df['State'] == 'New Hampshire')\n",
    "                     | (cabinet_df['State'] == 'Rhode Island')\n",
    "                     | (cabinet_df['State'] == 'Vermont')\n",
    "                     | (cabinet_df['State'] == 'New Jersey')\n",
    "                     | (cabinet_df['State'] == 'Pennsylvania')\n",
    "                    ]\n",
    "northeast['region'] ='Northeast'"
   ]
  },
  {
   "cell_type": "code",
   "execution_count": null,
   "metadata": {},
   "outputs": [],
   "source": [
    "northeast"
   ]
  },
  {
   "cell_type": "code",
   "execution_count": null,
   "metadata": {},
   "outputs": [],
   "source": [
    "midwest = cabinet_df.loc[(cabinet_df['State']== 'Illinois')  \n",
    "                     |(cabinet_df['State'] == 'Indiana')\n",
    "                     | (cabinet_df['State'] == 'Michigan')\n",
    "                     | (cabinet_df['State'] == 'Ohio')\n",
    "                     | (cabinet_df['State'] == 'Wisconsin')\n",
    "                     | (cabinet_df['State'] == 'Iowa')\n",
    "                     | (cabinet_df['State'] == 'Kansas')\n",
    "                     | (cabinet_df['State'] == 'Minnesota')\n",
    "                     | (cabinet_df['State'] == 'Missouri')\n",
    "                     | (cabinet_df['State'] == 'Nebraska')\n",
    "                     | (cabinet_df['State'] == 'North Dakota')\n",
    "                     | (cabinet_df['State'] == 'South Dakota')\n",
    "                         \n",
    "                    ]\n",
    "midwest['region'] ='Midwest'"
   ]
  },
  {
   "cell_type": "markdown",
   "metadata": {},
   "source": [
    " "
   ]
  },
  {
   "cell_type": "code",
   "execution_count": null,
   "metadata": {},
   "outputs": [],
   "source": [
    "midwest"
   ]
  },
  {
   "cell_type": "code",
   "execution_count": null,
   "metadata": {},
   "outputs": [],
   "source": [
    "df_region = south.append(west)\n",
    "df_region = df_region.append(northeast)\n",
    "df_region = df_region.append(midwest)\n",
    "df_region['region'].value_counts()"
   ]
  },
  {
   "cell_type": "markdown",
   "metadata": {},
   "source": [
    "# ##Just isolating after World War II -- Goal\n",
    "##Create a graphic of change-over-time in the cabinet (like a timeline) \n",
    "##Create a chart of states (maybe a heatmap) "
   ]
  },
  {
   "cell_type": "code",
   "execution_count": null,
   "metadata": {
    "scrolled": true
   },
   "outputs": [],
   "source": [
    "df_region.sort_values(by='Date',ascending=False)\n",
    "df_WWII = df_region[df_region['Date'] > '1944']\n",
    "df_WWII.sort_values(by='Date')"
   ]
  },
  {
   "cell_type": "markdown",
   "metadata": {},
   "source": [
    "## CODE TO CREATE POST-WORLD WAR II TIMELINE \n",
    "### (Put into illustrator) "
   ]
  },
  {
   "cell_type": "code",
   "execution_count": null,
   "metadata": {
    "collapsed": true
   },
   "outputs": [],
   "source": [
    "df_state = df_WWII[df_WWII['Department'] == 'State']\n",
    "#df_state.sort_values(by='Date') "
   ]
  },
  {
   "cell_type": "code",
   "execution_count": null,
   "metadata": {
    "collapsed": true
   },
   "outputs": [],
   "source": [
    "df_treasury = df_WWII[df_WWII['Department'] == 'Treasury']\n",
    "#df_treasury.sort_values(by='Date') "
   ]
  },
  {
   "cell_type": "code",
   "execution_count": null,
   "metadata": {
    "collapsed": true
   },
   "outputs": [],
   "source": [
    "df_defense = df_WWII[df_WWII['Department'] == 'Defense']\n",
    "#df_defense.sort_values(by='Date') "
   ]
  },
  {
   "cell_type": "code",
   "execution_count": null,
   "metadata": {
    "collapsed": true
   },
   "outputs": [],
   "source": [
    "df_ag = df_WWII[df_WWII['Department'] == 'Attorney General ']\n",
    "#df_ag.sort_values(by='Date') "
   ]
  },
  {
   "cell_type": "code",
   "execution_count": null,
   "metadata": {
    "collapsed": true
   },
   "outputs": [],
   "source": [
    "df_interior = df_WWII[df_WWII['Department'] == 'Interior']\n",
    "#df_interior.sort_values(by='Date') "
   ]
  },
  {
   "cell_type": "code",
   "execution_count": null,
   "metadata": {
    "collapsed": true,
    "scrolled": true
   },
   "outputs": [],
   "source": [
    "df_agriculture = df_WWII[df_WWII['Department'] == 'Agriculture']\n",
    "#df_agriculture.sort_values(by='Date') "
   ]
  },
  {
   "cell_type": "code",
   "execution_count": null,
   "metadata": {
    "collapsed": true
   },
   "outputs": [],
   "source": [
    "df_commerce = df_WWII[df_WWII['Department'] == 'Commerce']\n",
    "#df_commerce.sort_values(by='Date') "
   ]
  },
  {
   "cell_type": "code",
   "execution_count": null,
   "metadata": {
    "collapsed": true,
    "scrolled": true
   },
   "outputs": [],
   "source": [
    "df_labor = df_WWII[df_WWII['Department'] == 'Labor']\n",
    "#df_labor.sort_values(by='Date') "
   ]
  },
  {
   "cell_type": "code",
   "execution_count": null,
   "metadata": {
    "collapsed": true
   },
   "outputs": [],
   "source": [
    "df_hhs = df_WWII[df_WWII['Department'] == 'HHS']\n",
    "#df_hhs.sort_values(by='Date') "
   ]
  },
  {
   "cell_type": "code",
   "execution_count": null,
   "metadata": {
    "collapsed": true
   },
   "outputs": [],
   "source": [
    "df_hud = df_WWII[df_WWII['Department'] == 'HUD']\n",
    "#df_hud.sort_values(by='Date') "
   ]
  },
  {
   "cell_type": "code",
   "execution_count": null,
   "metadata": {
    "collapsed": true
   },
   "outputs": [],
   "source": [
    "df_energy = df_WWII[df_WWII['Department'] == 'Energy ']\n",
    "#df_energy.sort_values(by='Date') "
   ]
  },
  {
   "cell_type": "code",
   "execution_count": null,
   "metadata": {
    "collapsed": true
   },
   "outputs": [],
   "source": [
    "df_education = df_WWII[df_WWII['Department'] == 'Education']\n",
    "#df_education.sort_values(by='Date') "
   ]
  },
  {
   "cell_type": "code",
   "execution_count": null,
   "metadata": {
    "collapsed": true
   },
   "outputs": [],
   "source": [
    "df_va = df_WWII[df_WWII['Department'] == 'VA ']\n",
    "#df_va.sort_values(by='Date') "
   ]
  },
  {
   "cell_type": "code",
   "execution_count": null,
   "metadata": {
    "collapsed": true
   },
   "outputs": [],
   "source": [
    "df_hls = df_WWII[df_WWII['Department'] == 'Homeland Sec']\n",
    "#df_hls.sort_values(by='Date') "
   ]
  },
  {
   "cell_type": "code",
   "execution_count": null,
   "metadata": {
    "collapsed": true
   },
   "outputs": [],
   "source": [
    "df_transportation = df_WWII[df_WWII['Department'] == 'Transportation']\n",
    "#df_transportation.sort_values(by='Date')"
   ]
  },
  {
   "cell_type": "code",
   "execution_count": null,
   "metadata": {
    "collapsed": true
   },
   "outputs": [],
   "source": [
    "#df_WWII['Department'].value_counts().sum()"
   ]
  },
  {
   "cell_type": "markdown",
   "metadata": {},
   "source": [
    "## START EXPLORING CABINET TURNOVER BY PRESIDENT: \n",
    "### Isolating Numbers of Cabinet per President "
   ]
  },
  {
   "cell_type": "code",
   "execution_count": null,
   "metadata": {
    "collapsed": true
   },
   "outputs": [],
   "source": [
    "## Start with Obama \n",
    "# df1 = df[(df.a != -1) & (df.b != -1)] \n",
    "# https://stackoverflow.com/questions/22591174/pandas-multiple-conditions-while-indexing-data-frame-unexpected-behavior\n",
    "# https://pandas.pydata.org/pandas-docs/stable/generated/pandas.DataFrame.rename.html  "
   ]
  },
  {
   "cell_type": "code",
   "execution_count": 147,
   "metadata": {
    "collapsed": true
   },
   "outputs": [],
   "source": [
    "df_obama = cabinet_df[(cabinet_df['Date'] >= '2009') & (cabinet_df['Date'] != '2017')]"
   ]
  },
  {
   "cell_type": "code",
   "execution_count": 148,
   "metadata": {
    "collapsed": true,
    "scrolled": true
   },
   "outputs": [],
   "source": [
    "df_obama_dept = df_obama['Department'].value_counts() "
   ]
  },
  {
   "cell_type": "code",
   "execution_count": 149,
   "metadata": {
    "collapsed": true
   },
   "outputs": [],
   "source": [
    "df_obama_dept = pd.DataFrame(df_obama_dept) "
   ]
  },
  {
   "cell_type": "code",
   "execution_count": 150,
   "metadata": {
    "collapsed": true
   },
   "outputs": [],
   "source": [
    "df_obama_dept = df_obama_dept.rename(columns={\"Department\": \"Obama\"}) "
   ]
  },
  {
   "cell_type": "code",
   "execution_count": 151,
   "metadata": {
    "collapsed": true
   },
   "outputs": [],
   "source": [
    "df_obama_dept.reset_index(inplace=True)"
   ]
  },
  {
   "cell_type": "code",
   "execution_count": 152,
   "metadata": {
    "scrolled": true
   },
   "outputs": [
    {
     "data": {
      "text/html": [
       "<div>\n",
       "<style>\n",
       "    .dataframe thead tr:only-child th {\n",
       "        text-align: right;\n",
       "    }\n",
       "\n",
       "    .dataframe thead th {\n",
       "        text-align: left;\n",
       "    }\n",
       "\n",
       "    .dataframe tbody tr th {\n",
       "        vertical-align: top;\n",
       "    }\n",
       "</style>\n",
       "<table border=\"1\" class=\"dataframe\">\n",
       "  <thead>\n",
       "    <tr style=\"text-align: right;\">\n",
       "      <th></th>\n",
       "      <th>index</th>\n",
       "      <th>Obama</th>\n",
       "    </tr>\n",
       "  </thead>\n",
       "  <tbody>\n",
       "    <tr>\n",
       "      <th>0</th>\n",
       "      <td>Commerce</td>\n",
       "      <td>7</td>\n",
       "    </tr>\n",
       "    <tr>\n",
       "      <th>1</th>\n",
       "      <td>Labor</td>\n",
       "      <td>5</td>\n",
       "    </tr>\n",
       "    <tr>\n",
       "      <th>2</th>\n",
       "      <td>Treasury</td>\n",
       "      <td>4</td>\n",
       "    </tr>\n",
       "    <tr>\n",
       "      <th>3</th>\n",
       "      <td>Energy</td>\n",
       "      <td>3</td>\n",
       "    </tr>\n",
       "    <tr>\n",
       "      <th>4</th>\n",
       "      <td>Attorney General</td>\n",
       "      <td>3</td>\n",
       "    </tr>\n",
       "    <tr>\n",
       "      <th>5</th>\n",
       "      <td>State</td>\n",
       "      <td>3</td>\n",
       "    </tr>\n",
       "    <tr>\n",
       "      <th>6</th>\n",
       "      <td>Interior</td>\n",
       "      <td>3</td>\n",
       "    </tr>\n",
       "    <tr>\n",
       "      <th>7</th>\n",
       "      <td>VA</td>\n",
       "      <td>3</td>\n",
       "    </tr>\n",
       "    <tr>\n",
       "      <th>8</th>\n",
       "      <td>HUD</td>\n",
       "      <td>3</td>\n",
       "    </tr>\n",
       "    <tr>\n",
       "      <th>9</th>\n",
       "      <td>Homeland Sec</td>\n",
       "      <td>3</td>\n",
       "    </tr>\n",
       "    <tr>\n",
       "      <th>10</th>\n",
       "      <td>Defense</td>\n",
       "      <td>3</td>\n",
       "    </tr>\n",
       "    <tr>\n",
       "      <th>11</th>\n",
       "      <td>Education</td>\n",
       "      <td>2</td>\n",
       "    </tr>\n",
       "    <tr>\n",
       "      <th>12</th>\n",
       "      <td>HHS</td>\n",
       "      <td>2</td>\n",
       "    </tr>\n",
       "    <tr>\n",
       "      <th>13</th>\n",
       "      <td>Transportation</td>\n",
       "      <td>2</td>\n",
       "    </tr>\n",
       "    <tr>\n",
       "      <th>14</th>\n",
       "      <td>Agriculture</td>\n",
       "      <td>1</td>\n",
       "    </tr>\n",
       "  </tbody>\n",
       "</table>\n",
       "</div>"
      ],
      "text/plain": [
       "                index  Obama\n",
       "0            Commerce      7\n",
       "1               Labor      5\n",
       "2            Treasury      4\n",
       "3             Energy       3\n",
       "4   Attorney General       3\n",
       "5               State      3\n",
       "6            Interior      3\n",
       "7                 VA       3\n",
       "8                 HUD      3\n",
       "9        Homeland Sec      3\n",
       "10            Defense      3\n",
       "11          Education      2\n",
       "12                HHS      2\n",
       "13    Transportation       2\n",
       "14        Agriculture      1"
      ]
     },
     "execution_count": 152,
     "metadata": {},
     "output_type": "execute_result"
    }
   ],
   "source": [
    "df_obama_dept"
   ]
  },
  {
   "cell_type": "code",
   "execution_count": 153,
   "metadata": {
    "collapsed": true
   },
   "outputs": [],
   "source": [
    "# Going back to W  "
   ]
  },
  {
   "cell_type": "code",
   "execution_count": 154,
   "metadata": {
    "collapsed": true
   },
   "outputs": [],
   "source": [
    "df_wbush = cabinet_df[(cabinet_df['Date'] >= '2001') & (cabinet_df['Date'] <= '2008')]"
   ]
  },
  {
   "cell_type": "code",
   "execution_count": 155,
   "metadata": {
    "collapsed": true
   },
   "outputs": [],
   "source": [
    "df_wbush_dept = df_wbush['Department'].value_counts() "
   ]
  },
  {
   "cell_type": "code",
   "execution_count": 156,
   "metadata": {
    "collapsed": true
   },
   "outputs": [],
   "source": [
    "df_wbush_dept = pd.DataFrame(df_wbush_dept)"
   ]
  },
  {
   "cell_type": "code",
   "execution_count": 157,
   "metadata": {
    "collapsed": true
   },
   "outputs": [],
   "source": [
    "df_wbush_dept = df_wbush_dept.rename(columns={\"Department\": \"W.Bush\"})  "
   ]
  },
  {
   "cell_type": "code",
   "execution_count": 158,
   "metadata": {
    "collapsed": true
   },
   "outputs": [],
   "source": [
    "df_wbush_dept.reset_index(inplace=True)"
   ]
  },
  {
   "cell_type": "code",
   "execution_count": 159,
   "metadata": {
    "scrolled": true
   },
   "outputs": [
    {
     "data": {
      "text/html": [
       "<div>\n",
       "<style>\n",
       "    .dataframe thead tr:only-child th {\n",
       "        text-align: right;\n",
       "    }\n",
       "\n",
       "    .dataframe thead th {\n",
       "        text-align: left;\n",
       "    }\n",
       "\n",
       "    .dataframe tbody tr th {\n",
       "        vertical-align: top;\n",
       "    }\n",
       "</style>\n",
       "<table border=\"1\" class=\"dataframe\">\n",
       "  <thead>\n",
       "    <tr style=\"text-align: right;\">\n",
       "      <th></th>\n",
       "      <th>index</th>\n",
       "      <th>Obama</th>\n",
       "      <th>W.Bush</th>\n",
       "    </tr>\n",
       "  </thead>\n",
       "  <tbody>\n",
       "    <tr>\n",
       "      <th>0</th>\n",
       "      <td>Commerce</td>\n",
       "      <td>7</td>\n",
       "      <td>2</td>\n",
       "    </tr>\n",
       "    <tr>\n",
       "      <th>1</th>\n",
       "      <td>Labor</td>\n",
       "      <td>5</td>\n",
       "      <td>1</td>\n",
       "    </tr>\n",
       "    <tr>\n",
       "      <th>2</th>\n",
       "      <td>Treasury</td>\n",
       "      <td>4</td>\n",
       "      <td>5</td>\n",
       "    </tr>\n",
       "    <tr>\n",
       "      <th>3</th>\n",
       "      <td>Energy</td>\n",
       "      <td>3</td>\n",
       "      <td>2</td>\n",
       "    </tr>\n",
       "    <tr>\n",
       "      <th>4</th>\n",
       "      <td>Attorney General</td>\n",
       "      <td>3</td>\n",
       "      <td>6</td>\n",
       "    </tr>\n",
       "    <tr>\n",
       "      <th>5</th>\n",
       "      <td>State</td>\n",
       "      <td>3</td>\n",
       "      <td>2</td>\n",
       "    </tr>\n",
       "    <tr>\n",
       "      <th>6</th>\n",
       "      <td>Interior</td>\n",
       "      <td>3</td>\n",
       "      <td>4</td>\n",
       "    </tr>\n",
       "    <tr>\n",
       "      <th>7</th>\n",
       "      <td>VA</td>\n",
       "      <td>3</td>\n",
       "      <td>4</td>\n",
       "    </tr>\n",
       "    <tr>\n",
       "      <th>8</th>\n",
       "      <td>HUD</td>\n",
       "      <td>3</td>\n",
       "      <td>5</td>\n",
       "    </tr>\n",
       "    <tr>\n",
       "      <th>9</th>\n",
       "      <td>Homeland Sec</td>\n",
       "      <td>3</td>\n",
       "      <td>3</td>\n",
       "    </tr>\n",
       "    <tr>\n",
       "      <th>10</th>\n",
       "      <td>Defense</td>\n",
       "      <td>3</td>\n",
       "      <td>2</td>\n",
       "    </tr>\n",
       "    <tr>\n",
       "      <th>11</th>\n",
       "      <td>Education</td>\n",
       "      <td>2</td>\n",
       "      <td>2</td>\n",
       "    </tr>\n",
       "    <tr>\n",
       "      <th>12</th>\n",
       "      <td>HHS</td>\n",
       "      <td>2</td>\n",
       "      <td>2</td>\n",
       "    </tr>\n",
       "    <tr>\n",
       "      <th>13</th>\n",
       "      <td>Transportation</td>\n",
       "      <td>2</td>\n",
       "      <td>2</td>\n",
       "    </tr>\n",
       "    <tr>\n",
       "      <th>14</th>\n",
       "      <td>Agriculture</td>\n",
       "      <td>1</td>\n",
       "      <td>3</td>\n",
       "    </tr>\n",
       "  </tbody>\n",
       "</table>\n",
       "</div>"
      ],
      "text/plain": [
       "                index  Obama  W.Bush\n",
       "0            Commerce      7       2\n",
       "1               Labor      5       1\n",
       "2            Treasury      4       5\n",
       "3             Energy       3       2\n",
       "4   Attorney General       3       6\n",
       "5               State      3       2\n",
       "6            Interior      3       4\n",
       "7                 VA       3       4\n",
       "8                 HUD      3       5\n",
       "9        Homeland Sec      3       3\n",
       "10            Defense      3       2\n",
       "11          Education      2       2\n",
       "12                HHS      2       2\n",
       "13    Transportation       2       2\n",
       "14        Agriculture      1       3"
      ]
     },
     "execution_count": 159,
     "metadata": {},
     "output_type": "execute_result"
    }
   ],
   "source": [
    "full_department = df_obama_dept.merge(df_wbush_dept, on='index',how='outer')\n",
    "full_department"
   ]
  },
  {
   "cell_type": "code",
   "execution_count": 160,
   "metadata": {
    "collapsed": true
   },
   "outputs": [],
   "source": [
    "## Let's look at Clinton"
   ]
  },
  {
   "cell_type": "code",
   "execution_count": 161,
   "metadata": {
    "collapsed": true
   },
   "outputs": [],
   "source": [
    "df_clinton = cabinet_df[(cabinet_df['Date'] >= '1993') & (cabinet_df['Date'] <= '2000')]"
   ]
  },
  {
   "cell_type": "code",
   "execution_count": 162,
   "metadata": {
    "collapsed": true
   },
   "outputs": [],
   "source": [
    "df_clinton_dept = df_clinton['Department'].value_counts()"
   ]
  },
  {
   "cell_type": "code",
   "execution_count": 163,
   "metadata": {
    "collapsed": true
   },
   "outputs": [],
   "source": [
    "df_clinton_dept = pd.DataFrame(df_clinton_dept)"
   ]
  },
  {
   "cell_type": "code",
   "execution_count": 164,
   "metadata": {
    "collapsed": true
   },
   "outputs": [],
   "source": [
    "df_clinton_dept = df_clinton_dept.rename(columns={\"Department\": \"Clinton\"})  "
   ]
  },
  {
   "cell_type": "code",
   "execution_count": 165,
   "metadata": {
    "collapsed": true
   },
   "outputs": [],
   "source": [
    "df_clinton_dept.reset_index(inplace=True)"
   ]
  },
  {
   "cell_type": "code",
   "execution_count": 166,
   "metadata": {
    "scrolled": true
   },
   "outputs": [
    {
     "data": {
      "text/html": [
       "<div>\n",
       "<style>\n",
       "    .dataframe thead tr:only-child th {\n",
       "        text-align: right;\n",
       "    }\n",
       "\n",
       "    .dataframe thead th {\n",
       "        text-align: left;\n",
       "    }\n",
       "\n",
       "    .dataframe tbody tr th {\n",
       "        vertical-align: top;\n",
       "    }\n",
       "</style>\n",
       "<table border=\"1\" class=\"dataframe\">\n",
       "  <thead>\n",
       "    <tr style=\"text-align: right;\">\n",
       "      <th></th>\n",
       "      <th>index</th>\n",
       "      <th>Obama</th>\n",
       "      <th>W.Bush</th>\n",
       "      <th>Clinton</th>\n",
       "    </tr>\n",
       "  </thead>\n",
       "  <tbody>\n",
       "    <tr>\n",
       "      <th>0</th>\n",
       "      <td>Commerce</td>\n",
       "      <td>7</td>\n",
       "      <td>2</td>\n",
       "      <td>6.0</td>\n",
       "    </tr>\n",
       "    <tr>\n",
       "      <th>1</th>\n",
       "      <td>Labor</td>\n",
       "      <td>5</td>\n",
       "      <td>1</td>\n",
       "      <td>2.0</td>\n",
       "    </tr>\n",
       "    <tr>\n",
       "      <th>2</th>\n",
       "      <td>Treasury</td>\n",
       "      <td>4</td>\n",
       "      <td>5</td>\n",
       "      <td>4.0</td>\n",
       "    </tr>\n",
       "    <tr>\n",
       "      <th>3</th>\n",
       "      <td>Energy</td>\n",
       "      <td>3</td>\n",
       "      <td>2</td>\n",
       "      <td>3.0</td>\n",
       "    </tr>\n",
       "    <tr>\n",
       "      <th>4</th>\n",
       "      <td>Attorney General</td>\n",
       "      <td>3</td>\n",
       "      <td>6</td>\n",
       "      <td>2.0</td>\n",
       "    </tr>\n",
       "    <tr>\n",
       "      <th>5</th>\n",
       "      <td>State</td>\n",
       "      <td>3</td>\n",
       "      <td>2</td>\n",
       "      <td>4.0</td>\n",
       "    </tr>\n",
       "    <tr>\n",
       "      <th>6</th>\n",
       "      <td>Interior</td>\n",
       "      <td>3</td>\n",
       "      <td>4</td>\n",
       "      <td>1.0</td>\n",
       "    </tr>\n",
       "    <tr>\n",
       "      <th>7</th>\n",
       "      <td>VA</td>\n",
       "      <td>3</td>\n",
       "      <td>4</td>\n",
       "      <td>4.0</td>\n",
       "    </tr>\n",
       "    <tr>\n",
       "      <th>8</th>\n",
       "      <td>HUD</td>\n",
       "      <td>3</td>\n",
       "      <td>5</td>\n",
       "      <td>2.0</td>\n",
       "    </tr>\n",
       "    <tr>\n",
       "      <th>9</th>\n",
       "      <td>Homeland Sec</td>\n",
       "      <td>3</td>\n",
       "      <td>3</td>\n",
       "      <td>NaN</td>\n",
       "    </tr>\n",
       "    <tr>\n",
       "      <th>10</th>\n",
       "      <td>Defense</td>\n",
       "      <td>3</td>\n",
       "      <td>2</td>\n",
       "      <td>3.0</td>\n",
       "    </tr>\n",
       "    <tr>\n",
       "      <th>11</th>\n",
       "      <td>Education</td>\n",
       "      <td>2</td>\n",
       "      <td>2</td>\n",
       "      <td>1.0</td>\n",
       "    </tr>\n",
       "    <tr>\n",
       "      <th>12</th>\n",
       "      <td>HHS</td>\n",
       "      <td>2</td>\n",
       "      <td>2</td>\n",
       "      <td>1.0</td>\n",
       "    </tr>\n",
       "    <tr>\n",
       "      <th>13</th>\n",
       "      <td>Transportation</td>\n",
       "      <td>2</td>\n",
       "      <td>2</td>\n",
       "      <td>2.0</td>\n",
       "    </tr>\n",
       "    <tr>\n",
       "      <th>14</th>\n",
       "      <td>Agriculture</td>\n",
       "      <td>1</td>\n",
       "      <td>3</td>\n",
       "      <td>2.0</td>\n",
       "    </tr>\n",
       "  </tbody>\n",
       "</table>\n",
       "</div>"
      ],
      "text/plain": [
       "                index  Obama  W.Bush  Clinton\n",
       "0            Commerce      7       2      6.0\n",
       "1               Labor      5       1      2.0\n",
       "2            Treasury      4       5      4.0\n",
       "3             Energy       3       2      3.0\n",
       "4   Attorney General       3       6      2.0\n",
       "5               State      3       2      4.0\n",
       "6            Interior      3       4      1.0\n",
       "7                 VA       3       4      4.0\n",
       "8                 HUD      3       5      2.0\n",
       "9        Homeland Sec      3       3      NaN\n",
       "10            Defense      3       2      3.0\n",
       "11          Education      2       2      1.0\n",
       "12                HHS      2       2      1.0\n",
       "13    Transportation       2       2      2.0\n",
       "14        Agriculture      1       3      2.0"
      ]
     },
     "execution_count": 166,
     "metadata": {},
     "output_type": "execute_result"
    }
   ],
   "source": [
    "full_department = full_department.merge(df_clinton_dept, on='index', how='outer')\n",
    "full_department[['index', 'Obama','W.Bush','Clinton']]"
   ]
  },
  {
   "cell_type": "code",
   "execution_count": 167,
   "metadata": {
    "collapsed": true
   },
   "outputs": [],
   "source": [
    "## Adding H W Bush"
   ]
  },
  {
   "cell_type": "code",
   "execution_count": 168,
   "metadata": {
    "collapsed": true
   },
   "outputs": [],
   "source": [
    "df_hwbush = cabinet_df[(cabinet_df['Date'] >= '1989') & (cabinet_df['Date'] <= '1992')]"
   ]
  },
  {
   "cell_type": "code",
   "execution_count": 169,
   "metadata": {
    "collapsed": true
   },
   "outputs": [],
   "source": [
    "df_hwbush_dept = df_hwbush['Department'].value_counts()"
   ]
  },
  {
   "cell_type": "code",
   "execution_count": 170,
   "metadata": {
    "collapsed": true
   },
   "outputs": [],
   "source": [
    "df_hwbush_dept = pd.DataFrame(df_hwbush_dept) "
   ]
  },
  {
   "cell_type": "code",
   "execution_count": 171,
   "metadata": {
    "collapsed": true
   },
   "outputs": [],
   "source": [
    "df_hwbush_dept = df_hwbush_dept.rename(columns={'Department':'H.W.Bush'})"
   ]
  },
  {
   "cell_type": "code",
   "execution_count": 172,
   "metadata": {
    "collapsed": true
   },
   "outputs": [],
   "source": [
    "df_hwbush_dept.reset_index(inplace=True)"
   ]
  },
  {
   "cell_type": "code",
   "execution_count": 173,
   "metadata": {},
   "outputs": [
    {
     "data": {
      "text/html": [
       "<div>\n",
       "<style>\n",
       "    .dataframe thead tr:only-child th {\n",
       "        text-align: right;\n",
       "    }\n",
       "\n",
       "    .dataframe thead th {\n",
       "        text-align: left;\n",
       "    }\n",
       "\n",
       "    .dataframe tbody tr th {\n",
       "        vertical-align: top;\n",
       "    }\n",
       "</style>\n",
       "<table border=\"1\" class=\"dataframe\">\n",
       "  <thead>\n",
       "    <tr style=\"text-align: right;\">\n",
       "      <th></th>\n",
       "      <th>index</th>\n",
       "      <th>Obama</th>\n",
       "      <th>W.Bush</th>\n",
       "      <th>Clinton</th>\n",
       "      <th>H.W.Bush</th>\n",
       "    </tr>\n",
       "  </thead>\n",
       "  <tbody>\n",
       "    <tr>\n",
       "      <th>0</th>\n",
       "      <td>Commerce</td>\n",
       "      <td>7</td>\n",
       "      <td>2</td>\n",
       "      <td>6.0</td>\n",
       "      <td>3.0</td>\n",
       "    </tr>\n",
       "    <tr>\n",
       "      <th>1</th>\n",
       "      <td>Labor</td>\n",
       "      <td>5</td>\n",
       "      <td>1</td>\n",
       "      <td>2.0</td>\n",
       "      <td>2.0</td>\n",
       "    </tr>\n",
       "    <tr>\n",
       "      <th>2</th>\n",
       "      <td>Treasury</td>\n",
       "      <td>4</td>\n",
       "      <td>5</td>\n",
       "      <td>4.0</td>\n",
       "      <td>1.0</td>\n",
       "    </tr>\n",
       "    <tr>\n",
       "      <th>3</th>\n",
       "      <td>Energy</td>\n",
       "      <td>3</td>\n",
       "      <td>2</td>\n",
       "      <td>3.0</td>\n",
       "      <td>1.0</td>\n",
       "    </tr>\n",
       "    <tr>\n",
       "      <th>4</th>\n",
       "      <td>Attorney General</td>\n",
       "      <td>3</td>\n",
       "      <td>6</td>\n",
       "      <td>2.0</td>\n",
       "      <td>1.0</td>\n",
       "    </tr>\n",
       "    <tr>\n",
       "      <th>5</th>\n",
       "      <td>State</td>\n",
       "      <td>3</td>\n",
       "      <td>2</td>\n",
       "      <td>4.0</td>\n",
       "      <td>3.0</td>\n",
       "    </tr>\n",
       "    <tr>\n",
       "      <th>6</th>\n",
       "      <td>Interior</td>\n",
       "      <td>3</td>\n",
       "      <td>4</td>\n",
       "      <td>1.0</td>\n",
       "      <td>2.0</td>\n",
       "    </tr>\n",
       "    <tr>\n",
       "      <th>7</th>\n",
       "      <td>VA</td>\n",
       "      <td>3</td>\n",
       "      <td>4</td>\n",
       "      <td>4.0</td>\n",
       "      <td>2.0</td>\n",
       "    </tr>\n",
       "    <tr>\n",
       "      <th>8</th>\n",
       "      <td>HUD</td>\n",
       "      <td>3</td>\n",
       "      <td>5</td>\n",
       "      <td>2.0</td>\n",
       "      <td>2.0</td>\n",
       "    </tr>\n",
       "    <tr>\n",
       "      <th>9</th>\n",
       "      <td>Homeland Sec</td>\n",
       "      <td>3</td>\n",
       "      <td>3</td>\n",
       "      <td>NaN</td>\n",
       "      <td>NaN</td>\n",
       "    </tr>\n",
       "    <tr>\n",
       "      <th>10</th>\n",
       "      <td>Defense</td>\n",
       "      <td>3</td>\n",
       "      <td>2</td>\n",
       "      <td>3.0</td>\n",
       "      <td>2.0</td>\n",
       "    </tr>\n",
       "    <tr>\n",
       "      <th>11</th>\n",
       "      <td>Education</td>\n",
       "      <td>2</td>\n",
       "      <td>2</td>\n",
       "      <td>1.0</td>\n",
       "      <td>2.0</td>\n",
       "    </tr>\n",
       "    <tr>\n",
       "      <th>12</th>\n",
       "      <td>HHS</td>\n",
       "      <td>2</td>\n",
       "      <td>2</td>\n",
       "      <td>1.0</td>\n",
       "      <td>1.0</td>\n",
       "    </tr>\n",
       "    <tr>\n",
       "      <th>13</th>\n",
       "      <td>Transportation</td>\n",
       "      <td>2</td>\n",
       "      <td>2</td>\n",
       "      <td>2.0</td>\n",
       "      <td>2.0</td>\n",
       "    </tr>\n",
       "    <tr>\n",
       "      <th>14</th>\n",
       "      <td>Agriculture</td>\n",
       "      <td>1</td>\n",
       "      <td>3</td>\n",
       "      <td>2.0</td>\n",
       "      <td>2.0</td>\n",
       "    </tr>\n",
       "  </tbody>\n",
       "</table>\n",
       "</div>"
      ],
      "text/plain": [
       "                index  Obama  W.Bush  Clinton  H.W.Bush\n",
       "0            Commerce      7       2      6.0       3.0\n",
       "1               Labor      5       1      2.0       2.0\n",
       "2            Treasury      4       5      4.0       1.0\n",
       "3             Energy       3       2      3.0       1.0\n",
       "4   Attorney General       3       6      2.0       1.0\n",
       "5               State      3       2      4.0       3.0\n",
       "6            Interior      3       4      1.0       2.0\n",
       "7                 VA       3       4      4.0       2.0\n",
       "8                 HUD      3       5      2.0       2.0\n",
       "9        Homeland Sec      3       3      NaN       NaN\n",
       "10            Defense      3       2      3.0       2.0\n",
       "11          Education      2       2      1.0       2.0\n",
       "12                HHS      2       2      1.0       1.0\n",
       "13    Transportation       2       2      2.0       2.0\n",
       "14        Agriculture      1       3      2.0       2.0"
      ]
     },
     "execution_count": 173,
     "metadata": {},
     "output_type": "execute_result"
    }
   ],
   "source": [
    "full_department = full_department.merge(df_hwbush_dept, on='index', how='outer')\n",
    "full_department"
   ]
  },
  {
   "cell_type": "code",
   "execution_count": 174,
   "metadata": {
    "collapsed": true
   },
   "outputs": [],
   "source": [
    "## Adding Reagan "
   ]
  },
  {
   "cell_type": "code",
   "execution_count": 175,
   "metadata": {
    "collapsed": true
   },
   "outputs": [],
   "source": [
    "df_reagan = cabinet_df[(cabinet_df['Date'] >= '1981') & (cabinet_df['Date'] <= '1988')]"
   ]
  },
  {
   "cell_type": "code",
   "execution_count": 176,
   "metadata": {
    "collapsed": true
   },
   "outputs": [],
   "source": [
    "df_reagan = df_reagan['Department'].value_counts()"
   ]
  },
  {
   "cell_type": "code",
   "execution_count": 177,
   "metadata": {
    "collapsed": true
   },
   "outputs": [],
   "source": [
    "df_reagan_dept = pd.DataFrame(df_reagan) "
   ]
  },
  {
   "cell_type": "code",
   "execution_count": 178,
   "metadata": {
    "collapsed": true
   },
   "outputs": [],
   "source": [
    "df_reagan_dept = df_reagan_dept.rename(columns={'Department':'Reagan'})"
   ]
  },
  {
   "cell_type": "code",
   "execution_count": 179,
   "metadata": {
    "collapsed": true
   },
   "outputs": [],
   "source": [
    "df_reagan_dept.reset_index(inplace=True)"
   ]
  },
  {
   "cell_type": "code",
   "execution_count": 180,
   "metadata": {},
   "outputs": [
    {
     "data": {
      "text/html": [
       "<div>\n",
       "<style>\n",
       "    .dataframe thead tr:only-child th {\n",
       "        text-align: right;\n",
       "    }\n",
       "\n",
       "    .dataframe thead th {\n",
       "        text-align: left;\n",
       "    }\n",
       "\n",
       "    .dataframe tbody tr th {\n",
       "        vertical-align: top;\n",
       "    }\n",
       "</style>\n",
       "<table border=\"1\" class=\"dataframe\">\n",
       "  <thead>\n",
       "    <tr style=\"text-align: right;\">\n",
       "      <th></th>\n",
       "      <th>index</th>\n",
       "      <th>Obama</th>\n",
       "      <th>W.Bush</th>\n",
       "      <th>Clinton</th>\n",
       "      <th>H.W.Bush</th>\n",
       "      <th>Reagan</th>\n",
       "    </tr>\n",
       "  </thead>\n",
       "  <tbody>\n",
       "    <tr>\n",
       "      <th>0</th>\n",
       "      <td>Commerce</td>\n",
       "      <td>7</td>\n",
       "      <td>2</td>\n",
       "      <td>6.0</td>\n",
       "      <td>3.0</td>\n",
       "      <td>3.0</td>\n",
       "    </tr>\n",
       "    <tr>\n",
       "      <th>1</th>\n",
       "      <td>Labor</td>\n",
       "      <td>5</td>\n",
       "      <td>1</td>\n",
       "      <td>2.0</td>\n",
       "      <td>2.0</td>\n",
       "      <td>3.0</td>\n",
       "    </tr>\n",
       "    <tr>\n",
       "      <th>2</th>\n",
       "      <td>Treasury</td>\n",
       "      <td>4</td>\n",
       "      <td>5</td>\n",
       "      <td>4.0</td>\n",
       "      <td>1.0</td>\n",
       "      <td>3.0</td>\n",
       "    </tr>\n",
       "    <tr>\n",
       "      <th>3</th>\n",
       "      <td>Energy</td>\n",
       "      <td>3</td>\n",
       "      <td>2</td>\n",
       "      <td>3.0</td>\n",
       "      <td>1.0</td>\n",
       "      <td>3.0</td>\n",
       "    </tr>\n",
       "    <tr>\n",
       "      <th>4</th>\n",
       "      <td>Attorney General</td>\n",
       "      <td>3</td>\n",
       "      <td>6</td>\n",
       "      <td>2.0</td>\n",
       "      <td>1.0</td>\n",
       "      <td>3.0</td>\n",
       "    </tr>\n",
       "    <tr>\n",
       "      <th>5</th>\n",
       "      <td>State</td>\n",
       "      <td>3</td>\n",
       "      <td>2</td>\n",
       "      <td>4.0</td>\n",
       "      <td>3.0</td>\n",
       "      <td>3.0</td>\n",
       "    </tr>\n",
       "    <tr>\n",
       "      <th>6</th>\n",
       "      <td>Interior</td>\n",
       "      <td>3</td>\n",
       "      <td>4</td>\n",
       "      <td>1.0</td>\n",
       "      <td>2.0</td>\n",
       "      <td>4.0</td>\n",
       "    </tr>\n",
       "    <tr>\n",
       "      <th>7</th>\n",
       "      <td>VA</td>\n",
       "      <td>3</td>\n",
       "      <td>4</td>\n",
       "      <td>4.0</td>\n",
       "      <td>2.0</td>\n",
       "      <td>NaN</td>\n",
       "    </tr>\n",
       "    <tr>\n",
       "      <th>8</th>\n",
       "      <td>HUD</td>\n",
       "      <td>3</td>\n",
       "      <td>5</td>\n",
       "      <td>2.0</td>\n",
       "      <td>2.0</td>\n",
       "      <td>1.0</td>\n",
       "    </tr>\n",
       "    <tr>\n",
       "      <th>9</th>\n",
       "      <td>Homeland Sec</td>\n",
       "      <td>3</td>\n",
       "      <td>3</td>\n",
       "      <td>NaN</td>\n",
       "      <td>NaN</td>\n",
       "      <td>NaN</td>\n",
       "    </tr>\n",
       "    <tr>\n",
       "      <th>10</th>\n",
       "      <td>Defense</td>\n",
       "      <td>3</td>\n",
       "      <td>2</td>\n",
       "      <td>3.0</td>\n",
       "      <td>2.0</td>\n",
       "      <td>2.0</td>\n",
       "    </tr>\n",
       "    <tr>\n",
       "      <th>11</th>\n",
       "      <td>Education</td>\n",
       "      <td>2</td>\n",
       "      <td>2</td>\n",
       "      <td>1.0</td>\n",
       "      <td>2.0</td>\n",
       "      <td>3.0</td>\n",
       "    </tr>\n",
       "    <tr>\n",
       "      <th>12</th>\n",
       "      <td>HHS</td>\n",
       "      <td>2</td>\n",
       "      <td>2</td>\n",
       "      <td>1.0</td>\n",
       "      <td>1.0</td>\n",
       "      <td>3.0</td>\n",
       "    </tr>\n",
       "    <tr>\n",
       "      <th>13</th>\n",
       "      <td>Transportation</td>\n",
       "      <td>2</td>\n",
       "      <td>2</td>\n",
       "      <td>2.0</td>\n",
       "      <td>2.0</td>\n",
       "      <td>3.0</td>\n",
       "    </tr>\n",
       "    <tr>\n",
       "      <th>14</th>\n",
       "      <td>Agriculture</td>\n",
       "      <td>1</td>\n",
       "      <td>3</td>\n",
       "      <td>2.0</td>\n",
       "      <td>2.0</td>\n",
       "      <td>2.0</td>\n",
       "    </tr>\n",
       "  </tbody>\n",
       "</table>\n",
       "</div>"
      ],
      "text/plain": [
       "                index  Obama  W.Bush  Clinton  H.W.Bush  Reagan\n",
       "0            Commerce      7       2      6.0       3.0     3.0\n",
       "1               Labor      5       1      2.0       2.0     3.0\n",
       "2            Treasury      4       5      4.0       1.0     3.0\n",
       "3             Energy       3       2      3.0       1.0     3.0\n",
       "4   Attorney General       3       6      2.0       1.0     3.0\n",
       "5               State      3       2      4.0       3.0     3.0\n",
       "6            Interior      3       4      1.0       2.0     4.0\n",
       "7                 VA       3       4      4.0       2.0     NaN\n",
       "8                 HUD      3       5      2.0       2.0     1.0\n",
       "9        Homeland Sec      3       3      NaN       NaN     NaN\n",
       "10            Defense      3       2      3.0       2.0     2.0\n",
       "11          Education      2       2      1.0       2.0     3.0\n",
       "12                HHS      2       2      1.0       1.0     3.0\n",
       "13    Transportation       2       2      2.0       2.0     3.0\n",
       "14        Agriculture      1       3      2.0       2.0     2.0"
      ]
     },
     "execution_count": 180,
     "metadata": {},
     "output_type": "execute_result"
    }
   ],
   "source": [
    "full_department = full_department.merge(df_reagan_dept, on='index', how='outer')\n",
    "full_department"
   ]
  },
  {
   "cell_type": "code",
   "execution_count": 181,
   "metadata": {
    "collapsed": true
   },
   "outputs": [],
   "source": [
    "## Adding Jimmy Carter "
   ]
  },
  {
   "cell_type": "code",
   "execution_count": 182,
   "metadata": {
    "collapsed": true
   },
   "outputs": [],
   "source": [
    "df_carter = cabinet_df[(cabinet_df['Date'] >= '1977') & (cabinet_df['Date'] <= '1980')]"
   ]
  },
  {
   "cell_type": "code",
   "execution_count": 183,
   "metadata": {
    "collapsed": true
   },
   "outputs": [],
   "source": [
    "df_carter = df_carter['Department'].value_counts()"
   ]
  },
  {
   "cell_type": "code",
   "execution_count": 184,
   "metadata": {
    "collapsed": true
   },
   "outputs": [],
   "source": [
    "df_carter_dept = pd.DataFrame(df_carter) "
   ]
  },
  {
   "cell_type": "code",
   "execution_count": 185,
   "metadata": {
    "collapsed": true
   },
   "outputs": [],
   "source": [
    "df_carter_dept = df_carter_dept.rename(columns={'Department':'Carter'})"
   ]
  },
  {
   "cell_type": "code",
   "execution_count": 186,
   "metadata": {
    "collapsed": true
   },
   "outputs": [],
   "source": [
    "df_carter_dept.reset_index(inplace=True)"
   ]
  },
  {
   "cell_type": "code",
   "execution_count": 187,
   "metadata": {},
   "outputs": [
    {
     "data": {
      "text/html": [
       "<div>\n",
       "<style>\n",
       "    .dataframe thead tr:only-child th {\n",
       "        text-align: right;\n",
       "    }\n",
       "\n",
       "    .dataframe thead th {\n",
       "        text-align: left;\n",
       "    }\n",
       "\n",
       "    .dataframe tbody tr th {\n",
       "        vertical-align: top;\n",
       "    }\n",
       "</style>\n",
       "<table border=\"1\" class=\"dataframe\">\n",
       "  <thead>\n",
       "    <tr style=\"text-align: right;\">\n",
       "      <th></th>\n",
       "      <th>index</th>\n",
       "      <th>Obama</th>\n",
       "      <th>W.Bush</th>\n",
       "      <th>Clinton</th>\n",
       "      <th>H.W.Bush</th>\n",
       "      <th>Reagan</th>\n",
       "      <th>Carter</th>\n",
       "    </tr>\n",
       "  </thead>\n",
       "  <tbody>\n",
       "    <tr>\n",
       "      <th>0</th>\n",
       "      <td>Commerce</td>\n",
       "      <td>7</td>\n",
       "      <td>2</td>\n",
       "      <td>6.0</td>\n",
       "      <td>3.0</td>\n",
       "      <td>3.0</td>\n",
       "      <td>3.0</td>\n",
       "    </tr>\n",
       "    <tr>\n",
       "      <th>1</th>\n",
       "      <td>Labor</td>\n",
       "      <td>5</td>\n",
       "      <td>1</td>\n",
       "      <td>2.0</td>\n",
       "      <td>2.0</td>\n",
       "      <td>3.0</td>\n",
       "      <td>1.0</td>\n",
       "    </tr>\n",
       "    <tr>\n",
       "      <th>2</th>\n",
       "      <td>Treasury</td>\n",
       "      <td>4</td>\n",
       "      <td>5</td>\n",
       "      <td>4.0</td>\n",
       "      <td>1.0</td>\n",
       "      <td>3.0</td>\n",
       "      <td>2.0</td>\n",
       "    </tr>\n",
       "    <tr>\n",
       "      <th>3</th>\n",
       "      <td>Energy</td>\n",
       "      <td>3</td>\n",
       "      <td>2</td>\n",
       "      <td>3.0</td>\n",
       "      <td>1.0</td>\n",
       "      <td>3.0</td>\n",
       "      <td>2.0</td>\n",
       "    </tr>\n",
       "    <tr>\n",
       "      <th>4</th>\n",
       "      <td>Attorney General</td>\n",
       "      <td>3</td>\n",
       "      <td>6</td>\n",
       "      <td>2.0</td>\n",
       "      <td>1.0</td>\n",
       "      <td>3.0</td>\n",
       "      <td>3.0</td>\n",
       "    </tr>\n",
       "    <tr>\n",
       "      <th>5</th>\n",
       "      <td>State</td>\n",
       "      <td>3</td>\n",
       "      <td>2</td>\n",
       "      <td>4.0</td>\n",
       "      <td>3.0</td>\n",
       "      <td>3.0</td>\n",
       "      <td>8.0</td>\n",
       "    </tr>\n",
       "    <tr>\n",
       "      <th>6</th>\n",
       "      <td>Interior</td>\n",
       "      <td>3</td>\n",
       "      <td>4</td>\n",
       "      <td>1.0</td>\n",
       "      <td>2.0</td>\n",
       "      <td>4.0</td>\n",
       "      <td>2.0</td>\n",
       "    </tr>\n",
       "    <tr>\n",
       "      <th>7</th>\n",
       "      <td>VA</td>\n",
       "      <td>3</td>\n",
       "      <td>4</td>\n",
       "      <td>4.0</td>\n",
       "      <td>2.0</td>\n",
       "      <td>NaN</td>\n",
       "      <td>NaN</td>\n",
       "    </tr>\n",
       "    <tr>\n",
       "      <th>8</th>\n",
       "      <td>HUD</td>\n",
       "      <td>3</td>\n",
       "      <td>5</td>\n",
       "      <td>2.0</td>\n",
       "      <td>2.0</td>\n",
       "      <td>1.0</td>\n",
       "      <td>2.0</td>\n",
       "    </tr>\n",
       "    <tr>\n",
       "      <th>9</th>\n",
       "      <td>Homeland Sec</td>\n",
       "      <td>3</td>\n",
       "      <td>3</td>\n",
       "      <td>NaN</td>\n",
       "      <td>NaN</td>\n",
       "      <td>NaN</td>\n",
       "      <td>NaN</td>\n",
       "    </tr>\n",
       "    <tr>\n",
       "      <th>10</th>\n",
       "      <td>Defense</td>\n",
       "      <td>3</td>\n",
       "      <td>2</td>\n",
       "      <td>3.0</td>\n",
       "      <td>2.0</td>\n",
       "      <td>2.0</td>\n",
       "      <td>1.0</td>\n",
       "    </tr>\n",
       "    <tr>\n",
       "      <th>11</th>\n",
       "      <td>Education</td>\n",
       "      <td>2</td>\n",
       "      <td>2</td>\n",
       "      <td>1.0</td>\n",
       "      <td>2.0</td>\n",
       "      <td>3.0</td>\n",
       "      <td>1.0</td>\n",
       "    </tr>\n",
       "    <tr>\n",
       "      <th>12</th>\n",
       "      <td>HHS</td>\n",
       "      <td>2</td>\n",
       "      <td>2</td>\n",
       "      <td>1.0</td>\n",
       "      <td>1.0</td>\n",
       "      <td>3.0</td>\n",
       "      <td>2.0</td>\n",
       "    </tr>\n",
       "    <tr>\n",
       "      <th>13</th>\n",
       "      <td>Transportation</td>\n",
       "      <td>2</td>\n",
       "      <td>2</td>\n",
       "      <td>2.0</td>\n",
       "      <td>2.0</td>\n",
       "      <td>3.0</td>\n",
       "      <td>2.0</td>\n",
       "    </tr>\n",
       "    <tr>\n",
       "      <th>14</th>\n",
       "      <td>Agriculture</td>\n",
       "      <td>1</td>\n",
       "      <td>3</td>\n",
       "      <td>2.0</td>\n",
       "      <td>2.0</td>\n",
       "      <td>2.0</td>\n",
       "      <td>1.0</td>\n",
       "    </tr>\n",
       "  </tbody>\n",
       "</table>\n",
       "</div>"
      ],
      "text/plain": [
       "                index  Obama  W.Bush  Clinton  H.W.Bush  Reagan  Carter\n",
       "0            Commerce      7       2      6.0       3.0     3.0     3.0\n",
       "1               Labor      5       1      2.0       2.0     3.0     1.0\n",
       "2            Treasury      4       5      4.0       1.0     3.0     2.0\n",
       "3             Energy       3       2      3.0       1.0     3.0     2.0\n",
       "4   Attorney General       3       6      2.0       1.0     3.0     3.0\n",
       "5               State      3       2      4.0       3.0     3.0     8.0\n",
       "6            Interior      3       4      1.0       2.0     4.0     2.0\n",
       "7                 VA       3       4      4.0       2.0     NaN     NaN\n",
       "8                 HUD      3       5      2.0       2.0     1.0     2.0\n",
       "9        Homeland Sec      3       3      NaN       NaN     NaN     NaN\n",
       "10            Defense      3       2      3.0       2.0     2.0     1.0\n",
       "11          Education      2       2      1.0       2.0     3.0     1.0\n",
       "12                HHS      2       2      1.0       1.0     3.0     2.0\n",
       "13    Transportation       2       2      2.0       2.0     3.0     2.0\n",
       "14        Agriculture      1       3      2.0       2.0     2.0     1.0"
      ]
     },
     "execution_count": 187,
     "metadata": {},
     "output_type": "execute_result"
    }
   ],
   "source": [
    "full_department = full_department.merge(df_carter_dept, on='index', how='outer')\n",
    "full_department"
   ]
  },
  {
   "cell_type": "code",
   "execution_count": 188,
   "metadata": {
    "collapsed": true
   },
   "outputs": [],
   "source": [
    "#Adding Ford "
   ]
  },
  {
   "cell_type": "code",
   "execution_count": 189,
   "metadata": {
    "collapsed": true
   },
   "outputs": [],
   "source": [
    "df_ford = cabinet_df[(cabinet_df['Date'] >= '1974') & (cabinet_df['Date'] <= '1977')]"
   ]
  },
  {
   "cell_type": "code",
   "execution_count": 190,
   "metadata": {
    "collapsed": true
   },
   "outputs": [],
   "source": [
    "df_ford = df_ford['Department'].value_counts()"
   ]
  },
  {
   "cell_type": "code",
   "execution_count": 191,
   "metadata": {
    "collapsed": true
   },
   "outputs": [],
   "source": [
    "df_ford_dept = pd.DataFrame(df_ford) "
   ]
  },
  {
   "cell_type": "code",
   "execution_count": 192,
   "metadata": {
    "collapsed": true
   },
   "outputs": [],
   "source": [
    "df_ford_dept = df_ford_dept.rename(columns={'Department':'Ford'})"
   ]
  },
  {
   "cell_type": "code",
   "execution_count": 193,
   "metadata": {
    "collapsed": true
   },
   "outputs": [],
   "source": [
    "df_ford_dept.reset_index(inplace=True)"
   ]
  },
  {
   "cell_type": "code",
   "execution_count": 194,
   "metadata": {},
   "outputs": [
    {
     "data": {
      "text/html": [
       "<div>\n",
       "<style>\n",
       "    .dataframe thead tr:only-child th {\n",
       "        text-align: right;\n",
       "    }\n",
       "\n",
       "    .dataframe thead th {\n",
       "        text-align: left;\n",
       "    }\n",
       "\n",
       "    .dataframe tbody tr th {\n",
       "        vertical-align: top;\n",
       "    }\n",
       "</style>\n",
       "<table border=\"1\" class=\"dataframe\">\n",
       "  <thead>\n",
       "    <tr style=\"text-align: right;\">\n",
       "      <th></th>\n",
       "      <th>index</th>\n",
       "      <th>Obama</th>\n",
       "      <th>W.Bush</th>\n",
       "      <th>Clinton</th>\n",
       "      <th>H.W.Bush</th>\n",
       "      <th>Reagan</th>\n",
       "      <th>Carter</th>\n",
       "      <th>Ford</th>\n",
       "    </tr>\n",
       "  </thead>\n",
       "  <tbody>\n",
       "    <tr>\n",
       "      <th>0</th>\n",
       "      <td>Commerce</td>\n",
       "      <td>7</td>\n",
       "      <td>2</td>\n",
       "      <td>6.0</td>\n",
       "      <td>3.0</td>\n",
       "      <td>3.0</td>\n",
       "      <td>3.0</td>\n",
       "      <td>3.0</td>\n",
       "    </tr>\n",
       "    <tr>\n",
       "      <th>1</th>\n",
       "      <td>Labor</td>\n",
       "      <td>5</td>\n",
       "      <td>1</td>\n",
       "      <td>2.0</td>\n",
       "      <td>2.0</td>\n",
       "      <td>3.0</td>\n",
       "      <td>1.0</td>\n",
       "      <td>3.0</td>\n",
       "    </tr>\n",
       "    <tr>\n",
       "      <th>2</th>\n",
       "      <td>Treasury</td>\n",
       "      <td>4</td>\n",
       "      <td>5</td>\n",
       "      <td>4.0</td>\n",
       "      <td>1.0</td>\n",
       "      <td>3.0</td>\n",
       "      <td>2.0</td>\n",
       "      <td>2.0</td>\n",
       "    </tr>\n",
       "    <tr>\n",
       "      <th>3</th>\n",
       "      <td>Energy</td>\n",
       "      <td>3</td>\n",
       "      <td>2</td>\n",
       "      <td>3.0</td>\n",
       "      <td>1.0</td>\n",
       "      <td>3.0</td>\n",
       "      <td>2.0</td>\n",
       "      <td>1.0</td>\n",
       "    </tr>\n",
       "    <tr>\n",
       "      <th>4</th>\n",
       "      <td>Attorney General</td>\n",
       "      <td>3</td>\n",
       "      <td>6</td>\n",
       "      <td>2.0</td>\n",
       "      <td>1.0</td>\n",
       "      <td>3.0</td>\n",
       "      <td>3.0</td>\n",
       "      <td>4.0</td>\n",
       "    </tr>\n",
       "    <tr>\n",
       "      <th>5</th>\n",
       "      <td>State</td>\n",
       "      <td>3</td>\n",
       "      <td>2</td>\n",
       "      <td>4.0</td>\n",
       "      <td>3.0</td>\n",
       "      <td>3.0</td>\n",
       "      <td>8.0</td>\n",
       "      <td>2.0</td>\n",
       "    </tr>\n",
       "    <tr>\n",
       "      <th>6</th>\n",
       "      <td>Interior</td>\n",
       "      <td>3</td>\n",
       "      <td>4</td>\n",
       "      <td>1.0</td>\n",
       "      <td>2.0</td>\n",
       "      <td>4.0</td>\n",
       "      <td>2.0</td>\n",
       "      <td>6.0</td>\n",
       "    </tr>\n",
       "    <tr>\n",
       "      <th>7</th>\n",
       "      <td>VA</td>\n",
       "      <td>3</td>\n",
       "      <td>4</td>\n",
       "      <td>4.0</td>\n",
       "      <td>2.0</td>\n",
       "      <td>NaN</td>\n",
       "      <td>NaN</td>\n",
       "      <td>NaN</td>\n",
       "    </tr>\n",
       "    <tr>\n",
       "      <th>8</th>\n",
       "      <td>HUD</td>\n",
       "      <td>3</td>\n",
       "      <td>5</td>\n",
       "      <td>2.0</td>\n",
       "      <td>2.0</td>\n",
       "      <td>1.0</td>\n",
       "      <td>2.0</td>\n",
       "      <td>2.0</td>\n",
       "    </tr>\n",
       "    <tr>\n",
       "      <th>9</th>\n",
       "      <td>Homeland Sec</td>\n",
       "      <td>3</td>\n",
       "      <td>3</td>\n",
       "      <td>NaN</td>\n",
       "      <td>NaN</td>\n",
       "      <td>NaN</td>\n",
       "      <td>NaN</td>\n",
       "      <td>NaN</td>\n",
       "    </tr>\n",
       "    <tr>\n",
       "      <th>10</th>\n",
       "      <td>Defense</td>\n",
       "      <td>3</td>\n",
       "      <td>2</td>\n",
       "      <td>3.0</td>\n",
       "      <td>2.0</td>\n",
       "      <td>2.0</td>\n",
       "      <td>1.0</td>\n",
       "      <td>2.0</td>\n",
       "    </tr>\n",
       "    <tr>\n",
       "      <th>11</th>\n",
       "      <td>Education</td>\n",
       "      <td>2</td>\n",
       "      <td>2</td>\n",
       "      <td>1.0</td>\n",
       "      <td>2.0</td>\n",
       "      <td>3.0</td>\n",
       "      <td>1.0</td>\n",
       "      <td>NaN</td>\n",
       "    </tr>\n",
       "    <tr>\n",
       "      <th>12</th>\n",
       "      <td>HHS</td>\n",
       "      <td>2</td>\n",
       "      <td>2</td>\n",
       "      <td>1.0</td>\n",
       "      <td>1.0</td>\n",
       "      <td>3.0</td>\n",
       "      <td>2.0</td>\n",
       "      <td>2.0</td>\n",
       "    </tr>\n",
       "    <tr>\n",
       "      <th>13</th>\n",
       "      <td>Transportation</td>\n",
       "      <td>2</td>\n",
       "      <td>2</td>\n",
       "      <td>2.0</td>\n",
       "      <td>2.0</td>\n",
       "      <td>3.0</td>\n",
       "      <td>2.0</td>\n",
       "      <td>2.0</td>\n",
       "    </tr>\n",
       "    <tr>\n",
       "      <th>14</th>\n",
       "      <td>Agriculture</td>\n",
       "      <td>1</td>\n",
       "      <td>3</td>\n",
       "      <td>2.0</td>\n",
       "      <td>2.0</td>\n",
       "      <td>2.0</td>\n",
       "      <td>1.0</td>\n",
       "      <td>2.0</td>\n",
       "    </tr>\n",
       "  </tbody>\n",
       "</table>\n",
       "</div>"
      ],
      "text/plain": [
       "                index  Obama  W.Bush  Clinton  H.W.Bush  Reagan  Carter  Ford\n",
       "0            Commerce      7       2      6.0       3.0     3.0     3.0   3.0\n",
       "1               Labor      5       1      2.0       2.0     3.0     1.0   3.0\n",
       "2            Treasury      4       5      4.0       1.0     3.0     2.0   2.0\n",
       "3             Energy       3       2      3.0       1.0     3.0     2.0   1.0\n",
       "4   Attorney General       3       6      2.0       1.0     3.0     3.0   4.0\n",
       "5               State      3       2      4.0       3.0     3.0     8.0   2.0\n",
       "6            Interior      3       4      1.0       2.0     4.0     2.0   6.0\n",
       "7                 VA       3       4      4.0       2.0     NaN     NaN   NaN\n",
       "8                 HUD      3       5      2.0       2.0     1.0     2.0   2.0\n",
       "9        Homeland Sec      3       3      NaN       NaN     NaN     NaN   NaN\n",
       "10            Defense      3       2      3.0       2.0     2.0     1.0   2.0\n",
       "11          Education      2       2      1.0       2.0     3.0     1.0   NaN\n",
       "12                HHS      2       2      1.0       1.0     3.0     2.0   2.0\n",
       "13    Transportation       2       2      2.0       2.0     3.0     2.0   2.0\n",
       "14        Agriculture      1       3      2.0       2.0     2.0     1.0   2.0"
      ]
     },
     "execution_count": 194,
     "metadata": {},
     "output_type": "execute_result"
    }
   ],
   "source": [
    "full_department = full_department.merge(df_ford_dept, on='index', how='outer')\n",
    "full_department"
   ]
  },
  {
   "cell_type": "code",
   "execution_count": 195,
   "metadata": {
    "collapsed": true
   },
   "outputs": [],
   "source": [
    "## Adding Nixon "
   ]
  },
  {
   "cell_type": "code",
   "execution_count": 196,
   "metadata": {
    "collapsed": true
   },
   "outputs": [],
   "source": [
    "df_nixon = cabinet_df[(cabinet_df['Date'] >= '1969') & (cabinet_df['Date'] <= '1973')]"
   ]
  },
  {
   "cell_type": "code",
   "execution_count": 197,
   "metadata": {
    "collapsed": true
   },
   "outputs": [],
   "source": [
    "df_nixon = df_nixon['Department'].value_counts()"
   ]
  },
  {
   "cell_type": "code",
   "execution_count": 198,
   "metadata": {
    "collapsed": true
   },
   "outputs": [],
   "source": [
    "df_nixon_dept = pd.DataFrame(df_nixon) "
   ]
  },
  {
   "cell_type": "code",
   "execution_count": 199,
   "metadata": {
    "collapsed": true
   },
   "outputs": [],
   "source": [
    "df_nixon_dept = df_nixon_dept.rename(columns={'Department':'Nixon'})"
   ]
  },
  {
   "cell_type": "code",
   "execution_count": 200,
   "metadata": {
    "collapsed": true
   },
   "outputs": [],
   "source": [
    "df_nixon_dept.reset_index(inplace=True)"
   ]
  },
  {
   "cell_type": "code",
   "execution_count": 201,
   "metadata": {},
   "outputs": [
    {
     "data": {
      "text/html": [
       "<div>\n",
       "<style>\n",
       "    .dataframe thead tr:only-child th {\n",
       "        text-align: right;\n",
       "    }\n",
       "\n",
       "    .dataframe thead th {\n",
       "        text-align: left;\n",
       "    }\n",
       "\n",
       "    .dataframe tbody tr th {\n",
       "        vertical-align: top;\n",
       "    }\n",
       "</style>\n",
       "<table border=\"1\" class=\"dataframe\">\n",
       "  <thead>\n",
       "    <tr style=\"text-align: right;\">\n",
       "      <th></th>\n",
       "      <th>index</th>\n",
       "      <th>Obama</th>\n",
       "      <th>W.Bush</th>\n",
       "      <th>Clinton</th>\n",
       "      <th>H.W.Bush</th>\n",
       "      <th>Reagan</th>\n",
       "      <th>Carter</th>\n",
       "      <th>Ford</th>\n",
       "      <th>Nixon</th>\n",
       "    </tr>\n",
       "  </thead>\n",
       "  <tbody>\n",
       "    <tr>\n",
       "      <th>0</th>\n",
       "      <td>Commerce</td>\n",
       "      <td>7</td>\n",
       "      <td>2</td>\n",
       "      <td>6.0</td>\n",
       "      <td>3.0</td>\n",
       "      <td>3.0</td>\n",
       "      <td>3.0</td>\n",
       "      <td>3.0</td>\n",
       "      <td>3.0</td>\n",
       "    </tr>\n",
       "    <tr>\n",
       "      <th>1</th>\n",
       "      <td>Labor</td>\n",
       "      <td>5</td>\n",
       "      <td>1</td>\n",
       "      <td>2.0</td>\n",
       "      <td>2.0</td>\n",
       "      <td>3.0</td>\n",
       "      <td>1.0</td>\n",
       "      <td>3.0</td>\n",
       "      <td>3.0</td>\n",
       "    </tr>\n",
       "    <tr>\n",
       "      <th>2</th>\n",
       "      <td>Treasury</td>\n",
       "      <td>4</td>\n",
       "      <td>5</td>\n",
       "      <td>4.0</td>\n",
       "      <td>1.0</td>\n",
       "      <td>3.0</td>\n",
       "      <td>2.0</td>\n",
       "      <td>2.0</td>\n",
       "      <td>3.0</td>\n",
       "    </tr>\n",
       "    <tr>\n",
       "      <th>3</th>\n",
       "      <td>Energy</td>\n",
       "      <td>3</td>\n",
       "      <td>2</td>\n",
       "      <td>3.0</td>\n",
       "      <td>1.0</td>\n",
       "      <td>3.0</td>\n",
       "      <td>2.0</td>\n",
       "      <td>1.0</td>\n",
       "      <td>NaN</td>\n",
       "    </tr>\n",
       "    <tr>\n",
       "      <th>4</th>\n",
       "      <td>Attorney General</td>\n",
       "      <td>3</td>\n",
       "      <td>6</td>\n",
       "      <td>2.0</td>\n",
       "      <td>1.0</td>\n",
       "      <td>3.0</td>\n",
       "      <td>3.0</td>\n",
       "      <td>4.0</td>\n",
       "      <td>4.0</td>\n",
       "    </tr>\n",
       "    <tr>\n",
       "      <th>5</th>\n",
       "      <td>State</td>\n",
       "      <td>3</td>\n",
       "      <td>2</td>\n",
       "      <td>4.0</td>\n",
       "      <td>3.0</td>\n",
       "      <td>3.0</td>\n",
       "      <td>8.0</td>\n",
       "      <td>2.0</td>\n",
       "      <td>4.0</td>\n",
       "    </tr>\n",
       "    <tr>\n",
       "      <th>6</th>\n",
       "      <td>Interior</td>\n",
       "      <td>3</td>\n",
       "      <td>4</td>\n",
       "      <td>1.0</td>\n",
       "      <td>2.0</td>\n",
       "      <td>4.0</td>\n",
       "      <td>2.0</td>\n",
       "      <td>6.0</td>\n",
       "      <td>3.0</td>\n",
       "    </tr>\n",
       "    <tr>\n",
       "      <th>7</th>\n",
       "      <td>VA</td>\n",
       "      <td>3</td>\n",
       "      <td>4</td>\n",
       "      <td>4.0</td>\n",
       "      <td>2.0</td>\n",
       "      <td>NaN</td>\n",
       "      <td>NaN</td>\n",
       "      <td>NaN</td>\n",
       "      <td>NaN</td>\n",
       "    </tr>\n",
       "    <tr>\n",
       "      <th>8</th>\n",
       "      <td>HUD</td>\n",
       "      <td>3</td>\n",
       "      <td>5</td>\n",
       "      <td>2.0</td>\n",
       "      <td>2.0</td>\n",
       "      <td>1.0</td>\n",
       "      <td>2.0</td>\n",
       "      <td>2.0</td>\n",
       "      <td>3.0</td>\n",
       "    </tr>\n",
       "    <tr>\n",
       "      <th>9</th>\n",
       "      <td>Homeland Sec</td>\n",
       "      <td>3</td>\n",
       "      <td>3</td>\n",
       "      <td>NaN</td>\n",
       "      <td>NaN</td>\n",
       "      <td>NaN</td>\n",
       "      <td>NaN</td>\n",
       "      <td>NaN</td>\n",
       "      <td>NaN</td>\n",
       "    </tr>\n",
       "    <tr>\n",
       "      <th>10</th>\n",
       "      <td>Defense</td>\n",
       "      <td>3</td>\n",
       "      <td>2</td>\n",
       "      <td>3.0</td>\n",
       "      <td>2.0</td>\n",
       "      <td>2.0</td>\n",
       "      <td>1.0</td>\n",
       "      <td>2.0</td>\n",
       "      <td>4.0</td>\n",
       "    </tr>\n",
       "    <tr>\n",
       "      <th>11</th>\n",
       "      <td>Education</td>\n",
       "      <td>2</td>\n",
       "      <td>2</td>\n",
       "      <td>1.0</td>\n",
       "      <td>2.0</td>\n",
       "      <td>3.0</td>\n",
       "      <td>1.0</td>\n",
       "      <td>NaN</td>\n",
       "      <td>NaN</td>\n",
       "    </tr>\n",
       "    <tr>\n",
       "      <th>12</th>\n",
       "      <td>HHS</td>\n",
       "      <td>2</td>\n",
       "      <td>2</td>\n",
       "      <td>1.0</td>\n",
       "      <td>1.0</td>\n",
       "      <td>3.0</td>\n",
       "      <td>2.0</td>\n",
       "      <td>2.0</td>\n",
       "      <td>3.0</td>\n",
       "    </tr>\n",
       "    <tr>\n",
       "      <th>13</th>\n",
       "      <td>Transportation</td>\n",
       "      <td>2</td>\n",
       "      <td>2</td>\n",
       "      <td>2.0</td>\n",
       "      <td>2.0</td>\n",
       "      <td>3.0</td>\n",
       "      <td>2.0</td>\n",
       "      <td>2.0</td>\n",
       "      <td>2.0</td>\n",
       "    </tr>\n",
       "    <tr>\n",
       "      <th>14</th>\n",
       "      <td>Agriculture</td>\n",
       "      <td>1</td>\n",
       "      <td>3</td>\n",
       "      <td>2.0</td>\n",
       "      <td>2.0</td>\n",
       "      <td>2.0</td>\n",
       "      <td>1.0</td>\n",
       "      <td>2.0</td>\n",
       "      <td>2.0</td>\n",
       "    </tr>\n",
       "  </tbody>\n",
       "</table>\n",
       "</div>"
      ],
      "text/plain": [
       "                index  Obama  W.Bush  Clinton  H.W.Bush  Reagan  Carter  Ford  \\\n",
       "0            Commerce      7       2      6.0       3.0     3.0     3.0   3.0   \n",
       "1               Labor      5       1      2.0       2.0     3.0     1.0   3.0   \n",
       "2            Treasury      4       5      4.0       1.0     3.0     2.0   2.0   \n",
       "3             Energy       3       2      3.0       1.0     3.0     2.0   1.0   \n",
       "4   Attorney General       3       6      2.0       1.0     3.0     3.0   4.0   \n",
       "5               State      3       2      4.0       3.0     3.0     8.0   2.0   \n",
       "6            Interior      3       4      1.0       2.0     4.0     2.0   6.0   \n",
       "7                 VA       3       4      4.0       2.0     NaN     NaN   NaN   \n",
       "8                 HUD      3       5      2.0       2.0     1.0     2.0   2.0   \n",
       "9        Homeland Sec      3       3      NaN       NaN     NaN     NaN   NaN   \n",
       "10            Defense      3       2      3.0       2.0     2.0     1.0   2.0   \n",
       "11          Education      2       2      1.0       2.0     3.0     1.0   NaN   \n",
       "12                HHS      2       2      1.0       1.0     3.0     2.0   2.0   \n",
       "13    Transportation       2       2      2.0       2.0     3.0     2.0   2.0   \n",
       "14        Agriculture      1       3      2.0       2.0     2.0     1.0   2.0   \n",
       "\n",
       "    Nixon  \n",
       "0     3.0  \n",
       "1     3.0  \n",
       "2     3.0  \n",
       "3     NaN  \n",
       "4     4.0  \n",
       "5     4.0  \n",
       "6     3.0  \n",
       "7     NaN  \n",
       "8     3.0  \n",
       "9     NaN  \n",
       "10    4.0  \n",
       "11    NaN  \n",
       "12    3.0  \n",
       "13    2.0  \n",
       "14    2.0  "
      ]
     },
     "execution_count": 201,
     "metadata": {},
     "output_type": "execute_result"
    }
   ],
   "source": [
    "full_department = full_department.merge(df_nixon_dept, on='index', how='outer')\n",
    "full_department"
   ]
  },
  {
   "cell_type": "code",
   "execution_count": 202,
   "metadata": {
    "collapsed": true
   },
   "outputs": [],
   "source": [
    "## Adding Johnson"
   ]
  },
  {
   "cell_type": "code",
   "execution_count": 203,
   "metadata": {
    "collapsed": true
   },
   "outputs": [],
   "source": [
    "df_johnson = cabinet_df[(cabinet_df['Date'] >= '1963') & (cabinet_df['Date'] <= '1968')]"
   ]
  },
  {
   "cell_type": "code",
   "execution_count": 204,
   "metadata": {
    "collapsed": true
   },
   "outputs": [],
   "source": [
    "df_johnson = df_johnson['Department'].value_counts()"
   ]
  },
  {
   "cell_type": "code",
   "execution_count": 205,
   "metadata": {
    "collapsed": true
   },
   "outputs": [],
   "source": [
    "df_johnson_dept = pd.DataFrame(df_johnson) "
   ]
  },
  {
   "cell_type": "code",
   "execution_count": 206,
   "metadata": {
    "collapsed": true
   },
   "outputs": [],
   "source": [
    "df_johnson_dept = df_johnson_dept.rename(columns={'Department':'Johnson'})"
   ]
  },
  {
   "cell_type": "code",
   "execution_count": 207,
   "metadata": {
    "collapsed": true
   },
   "outputs": [],
   "source": [
    "df_johnson_dept.reset_index(inplace=True)"
   ]
  },
  {
   "cell_type": "code",
   "execution_count": 208,
   "metadata": {},
   "outputs": [
    {
     "data": {
      "text/html": [
       "<div>\n",
       "<style>\n",
       "    .dataframe thead tr:only-child th {\n",
       "        text-align: right;\n",
       "    }\n",
       "\n",
       "    .dataframe thead th {\n",
       "        text-align: left;\n",
       "    }\n",
       "\n",
       "    .dataframe tbody tr th {\n",
       "        vertical-align: top;\n",
       "    }\n",
       "</style>\n",
       "<table border=\"1\" class=\"dataframe\">\n",
       "  <thead>\n",
       "    <tr style=\"text-align: right;\">\n",
       "      <th></th>\n",
       "      <th>index</th>\n",
       "      <th>Obama</th>\n",
       "      <th>W.Bush</th>\n",
       "      <th>Clinton</th>\n",
       "      <th>H.W.Bush</th>\n",
       "      <th>Reagan</th>\n",
       "      <th>Carter</th>\n",
       "      <th>Ford</th>\n",
       "      <th>Nixon</th>\n",
       "      <th>Johnson</th>\n",
       "    </tr>\n",
       "  </thead>\n",
       "  <tbody>\n",
       "    <tr>\n",
       "      <th>0</th>\n",
       "      <td>Commerce</td>\n",
       "      <td>7</td>\n",
       "      <td>2</td>\n",
       "      <td>6.0</td>\n",
       "      <td>3.0</td>\n",
       "      <td>3.0</td>\n",
       "      <td>3.0</td>\n",
       "      <td>3.0</td>\n",
       "      <td>3.0</td>\n",
       "      <td>3.0</td>\n",
       "    </tr>\n",
       "    <tr>\n",
       "      <th>1</th>\n",
       "      <td>Labor</td>\n",
       "      <td>5</td>\n",
       "      <td>1</td>\n",
       "      <td>2.0</td>\n",
       "      <td>2.0</td>\n",
       "      <td>3.0</td>\n",
       "      <td>1.0</td>\n",
       "      <td>3.0</td>\n",
       "      <td>3.0</td>\n",
       "      <td>1.0</td>\n",
       "    </tr>\n",
       "    <tr>\n",
       "      <th>2</th>\n",
       "      <td>Treasury</td>\n",
       "      <td>4</td>\n",
       "      <td>5</td>\n",
       "      <td>4.0</td>\n",
       "      <td>1.0</td>\n",
       "      <td>3.0</td>\n",
       "      <td>2.0</td>\n",
       "      <td>2.0</td>\n",
       "      <td>3.0</td>\n",
       "      <td>3.0</td>\n",
       "    </tr>\n",
       "    <tr>\n",
       "      <th>3</th>\n",
       "      <td>Energy</td>\n",
       "      <td>3</td>\n",
       "      <td>2</td>\n",
       "      <td>3.0</td>\n",
       "      <td>1.0</td>\n",
       "      <td>3.0</td>\n",
       "      <td>2.0</td>\n",
       "      <td>1.0</td>\n",
       "      <td>NaN</td>\n",
       "      <td>NaN</td>\n",
       "    </tr>\n",
       "    <tr>\n",
       "      <th>4</th>\n",
       "      <td>Attorney General</td>\n",
       "      <td>3</td>\n",
       "      <td>6</td>\n",
       "      <td>2.0</td>\n",
       "      <td>1.0</td>\n",
       "      <td>3.0</td>\n",
       "      <td>3.0</td>\n",
       "      <td>4.0</td>\n",
       "      <td>4.0</td>\n",
       "      <td>2.0</td>\n",
       "    </tr>\n",
       "    <tr>\n",
       "      <th>5</th>\n",
       "      <td>State</td>\n",
       "      <td>3</td>\n",
       "      <td>2</td>\n",
       "      <td>4.0</td>\n",
       "      <td>3.0</td>\n",
       "      <td>3.0</td>\n",
       "      <td>8.0</td>\n",
       "      <td>2.0</td>\n",
       "      <td>4.0</td>\n",
       "      <td>1.0</td>\n",
       "    </tr>\n",
       "    <tr>\n",
       "      <th>6</th>\n",
       "      <td>Interior</td>\n",
       "      <td>3</td>\n",
       "      <td>4</td>\n",
       "      <td>1.0</td>\n",
       "      <td>2.0</td>\n",
       "      <td>4.0</td>\n",
       "      <td>2.0</td>\n",
       "      <td>6.0</td>\n",
       "      <td>3.0</td>\n",
       "      <td>1.0</td>\n",
       "    </tr>\n",
       "    <tr>\n",
       "      <th>7</th>\n",
       "      <td>VA</td>\n",
       "      <td>3</td>\n",
       "      <td>4</td>\n",
       "      <td>4.0</td>\n",
       "      <td>2.0</td>\n",
       "      <td>NaN</td>\n",
       "      <td>NaN</td>\n",
       "      <td>NaN</td>\n",
       "      <td>NaN</td>\n",
       "      <td>NaN</td>\n",
       "    </tr>\n",
       "    <tr>\n",
       "      <th>8</th>\n",
       "      <td>HUD</td>\n",
       "      <td>3</td>\n",
       "      <td>5</td>\n",
       "      <td>2.0</td>\n",
       "      <td>2.0</td>\n",
       "      <td>1.0</td>\n",
       "      <td>2.0</td>\n",
       "      <td>2.0</td>\n",
       "      <td>3.0</td>\n",
       "      <td>1.0</td>\n",
       "    </tr>\n",
       "    <tr>\n",
       "      <th>9</th>\n",
       "      <td>Homeland Sec</td>\n",
       "      <td>3</td>\n",
       "      <td>3</td>\n",
       "      <td>NaN</td>\n",
       "      <td>NaN</td>\n",
       "      <td>NaN</td>\n",
       "      <td>NaN</td>\n",
       "      <td>NaN</td>\n",
       "      <td>NaN</td>\n",
       "      <td>NaN</td>\n",
       "    </tr>\n",
       "    <tr>\n",
       "      <th>10</th>\n",
       "      <td>Defense</td>\n",
       "      <td>3</td>\n",
       "      <td>2</td>\n",
       "      <td>3.0</td>\n",
       "      <td>2.0</td>\n",
       "      <td>2.0</td>\n",
       "      <td>1.0</td>\n",
       "      <td>2.0</td>\n",
       "      <td>4.0</td>\n",
       "      <td>1.0</td>\n",
       "    </tr>\n",
       "    <tr>\n",
       "      <th>11</th>\n",
       "      <td>Education</td>\n",
       "      <td>2</td>\n",
       "      <td>2</td>\n",
       "      <td>1.0</td>\n",
       "      <td>2.0</td>\n",
       "      <td>3.0</td>\n",
       "      <td>1.0</td>\n",
       "      <td>NaN</td>\n",
       "      <td>NaN</td>\n",
       "      <td>NaN</td>\n",
       "    </tr>\n",
       "    <tr>\n",
       "      <th>12</th>\n",
       "      <td>HHS</td>\n",
       "      <td>2</td>\n",
       "      <td>2</td>\n",
       "      <td>1.0</td>\n",
       "      <td>1.0</td>\n",
       "      <td>3.0</td>\n",
       "      <td>2.0</td>\n",
       "      <td>2.0</td>\n",
       "      <td>3.0</td>\n",
       "      <td>2.0</td>\n",
       "    </tr>\n",
       "    <tr>\n",
       "      <th>13</th>\n",
       "      <td>Transportation</td>\n",
       "      <td>2</td>\n",
       "      <td>2</td>\n",
       "      <td>2.0</td>\n",
       "      <td>2.0</td>\n",
       "      <td>3.0</td>\n",
       "      <td>2.0</td>\n",
       "      <td>2.0</td>\n",
       "      <td>2.0</td>\n",
       "      <td>1.0</td>\n",
       "    </tr>\n",
       "    <tr>\n",
       "      <th>14</th>\n",
       "      <td>Agriculture</td>\n",
       "      <td>1</td>\n",
       "      <td>3</td>\n",
       "      <td>2.0</td>\n",
       "      <td>2.0</td>\n",
       "      <td>2.0</td>\n",
       "      <td>1.0</td>\n",
       "      <td>2.0</td>\n",
       "      <td>2.0</td>\n",
       "      <td>1.0</td>\n",
       "    </tr>\n",
       "  </tbody>\n",
       "</table>\n",
       "</div>"
      ],
      "text/plain": [
       "                index  Obama  W.Bush  Clinton  H.W.Bush  Reagan  Carter  Ford  \\\n",
       "0            Commerce      7       2      6.0       3.0     3.0     3.0   3.0   \n",
       "1               Labor      5       1      2.0       2.0     3.0     1.0   3.0   \n",
       "2            Treasury      4       5      4.0       1.0     3.0     2.0   2.0   \n",
       "3             Energy       3       2      3.0       1.0     3.0     2.0   1.0   \n",
       "4   Attorney General       3       6      2.0       1.0     3.0     3.0   4.0   \n",
       "5               State      3       2      4.0       3.0     3.0     8.0   2.0   \n",
       "6            Interior      3       4      1.0       2.0     4.0     2.0   6.0   \n",
       "7                 VA       3       4      4.0       2.0     NaN     NaN   NaN   \n",
       "8                 HUD      3       5      2.0       2.0     1.0     2.0   2.0   \n",
       "9        Homeland Sec      3       3      NaN       NaN     NaN     NaN   NaN   \n",
       "10            Defense      3       2      3.0       2.0     2.0     1.0   2.0   \n",
       "11          Education      2       2      1.0       2.0     3.0     1.0   NaN   \n",
       "12                HHS      2       2      1.0       1.0     3.0     2.0   2.0   \n",
       "13    Transportation       2       2      2.0       2.0     3.0     2.0   2.0   \n",
       "14        Agriculture      1       3      2.0       2.0     2.0     1.0   2.0   \n",
       "\n",
       "    Nixon  Johnson  \n",
       "0     3.0      3.0  \n",
       "1     3.0      1.0  \n",
       "2     3.0      3.0  \n",
       "3     NaN      NaN  \n",
       "4     4.0      2.0  \n",
       "5     4.0      1.0  \n",
       "6     3.0      1.0  \n",
       "7     NaN      NaN  \n",
       "8     3.0      1.0  \n",
       "9     NaN      NaN  \n",
       "10    4.0      1.0  \n",
       "11    NaN      NaN  \n",
       "12    3.0      2.0  \n",
       "13    2.0      1.0  \n",
       "14    2.0      1.0  "
      ]
     },
     "execution_count": 208,
     "metadata": {},
     "output_type": "execute_result"
    }
   ],
   "source": [
    "full_department = full_department.merge(df_johnson_dept, on='index', how='outer')\n",
    "full_department"
   ]
  },
  {
   "cell_type": "code",
   "execution_count": 209,
   "metadata": {
    "collapsed": true
   },
   "outputs": [],
   "source": [
    "## Adding Kennedy "
   ]
  },
  {
   "cell_type": "code",
   "execution_count": 210,
   "metadata": {
    "collapsed": true
   },
   "outputs": [],
   "source": [
    "df_kennedy = cabinet_df[(cabinet_df['Date'] >= '1961') & (cabinet_df['Date'] <= '1963')]"
   ]
  },
  {
   "cell_type": "code",
   "execution_count": 211,
   "metadata": {
    "collapsed": true
   },
   "outputs": [],
   "source": [
    "df_kennedy = df_kennedy['Department'].value_counts()"
   ]
  },
  {
   "cell_type": "code",
   "execution_count": 212,
   "metadata": {
    "collapsed": true
   },
   "outputs": [],
   "source": [
    "df_kennedy_dept = pd.DataFrame(df_kennedy) "
   ]
  },
  {
   "cell_type": "code",
   "execution_count": 213,
   "metadata": {
    "collapsed": true
   },
   "outputs": [],
   "source": [
    "df_kennedy_dept = df_kennedy_dept.rename(columns={'Department':'Kennedy'}) "
   ]
  },
  {
   "cell_type": "code",
   "execution_count": 214,
   "metadata": {
    "collapsed": true
   },
   "outputs": [],
   "source": [
    "df_kennedy_dept.reset_index(inplace=True)"
   ]
  },
  {
   "cell_type": "code",
   "execution_count": 215,
   "metadata": {},
   "outputs": [
    {
     "data": {
      "text/html": [
       "<div>\n",
       "<style>\n",
       "    .dataframe thead tr:only-child th {\n",
       "        text-align: right;\n",
       "    }\n",
       "\n",
       "    .dataframe thead th {\n",
       "        text-align: left;\n",
       "    }\n",
       "\n",
       "    .dataframe tbody tr th {\n",
       "        vertical-align: top;\n",
       "    }\n",
       "</style>\n",
       "<table border=\"1\" class=\"dataframe\">\n",
       "  <thead>\n",
       "    <tr style=\"text-align: right;\">\n",
       "      <th></th>\n",
       "      <th>index</th>\n",
       "      <th>Obama</th>\n",
       "      <th>W.Bush</th>\n",
       "      <th>Clinton</th>\n",
       "      <th>H.W.Bush</th>\n",
       "      <th>Reagan</th>\n",
       "      <th>Carter</th>\n",
       "      <th>Ford</th>\n",
       "      <th>Nixon</th>\n",
       "      <th>Johnson</th>\n",
       "      <th>Kennedy</th>\n",
       "    </tr>\n",
       "  </thead>\n",
       "  <tbody>\n",
       "    <tr>\n",
       "      <th>0</th>\n",
       "      <td>Commerce</td>\n",
       "      <td>7</td>\n",
       "      <td>2</td>\n",
       "      <td>6.0</td>\n",
       "      <td>3.0</td>\n",
       "      <td>3.0</td>\n",
       "      <td>3.0</td>\n",
       "      <td>3.0</td>\n",
       "      <td>3.0</td>\n",
       "      <td>3.0</td>\n",
       "      <td>1.0</td>\n",
       "    </tr>\n",
       "    <tr>\n",
       "      <th>1</th>\n",
       "      <td>Labor</td>\n",
       "      <td>5</td>\n",
       "      <td>1</td>\n",
       "      <td>2.0</td>\n",
       "      <td>2.0</td>\n",
       "      <td>3.0</td>\n",
       "      <td>1.0</td>\n",
       "      <td>3.0</td>\n",
       "      <td>3.0</td>\n",
       "      <td>1.0</td>\n",
       "      <td>3.0</td>\n",
       "    </tr>\n",
       "    <tr>\n",
       "      <th>2</th>\n",
       "      <td>Treasury</td>\n",
       "      <td>4</td>\n",
       "      <td>5</td>\n",
       "      <td>4.0</td>\n",
       "      <td>1.0</td>\n",
       "      <td>3.0</td>\n",
       "      <td>2.0</td>\n",
       "      <td>2.0</td>\n",
       "      <td>3.0</td>\n",
       "      <td>3.0</td>\n",
       "      <td>2.0</td>\n",
       "    </tr>\n",
       "    <tr>\n",
       "      <th>3</th>\n",
       "      <td>Energy</td>\n",
       "      <td>3</td>\n",
       "      <td>2</td>\n",
       "      <td>3.0</td>\n",
       "      <td>1.0</td>\n",
       "      <td>3.0</td>\n",
       "      <td>2.0</td>\n",
       "      <td>1.0</td>\n",
       "      <td>NaN</td>\n",
       "      <td>NaN</td>\n",
       "      <td>NaN</td>\n",
       "    </tr>\n",
       "    <tr>\n",
       "      <th>4</th>\n",
       "      <td>Attorney General</td>\n",
       "      <td>3</td>\n",
       "      <td>6</td>\n",
       "      <td>2.0</td>\n",
       "      <td>1.0</td>\n",
       "      <td>3.0</td>\n",
       "      <td>3.0</td>\n",
       "      <td>4.0</td>\n",
       "      <td>4.0</td>\n",
       "      <td>2.0</td>\n",
       "      <td>1.0</td>\n",
       "    </tr>\n",
       "    <tr>\n",
       "      <th>5</th>\n",
       "      <td>State</td>\n",
       "      <td>3</td>\n",
       "      <td>2</td>\n",
       "      <td>4.0</td>\n",
       "      <td>3.0</td>\n",
       "      <td>3.0</td>\n",
       "      <td>8.0</td>\n",
       "      <td>2.0</td>\n",
       "      <td>4.0</td>\n",
       "      <td>1.0</td>\n",
       "      <td>3.0</td>\n",
       "    </tr>\n",
       "    <tr>\n",
       "      <th>6</th>\n",
       "      <td>Interior</td>\n",
       "      <td>3</td>\n",
       "      <td>4</td>\n",
       "      <td>1.0</td>\n",
       "      <td>2.0</td>\n",
       "      <td>4.0</td>\n",
       "      <td>2.0</td>\n",
       "      <td>6.0</td>\n",
       "      <td>3.0</td>\n",
       "      <td>1.0</td>\n",
       "      <td>2.0</td>\n",
       "    </tr>\n",
       "    <tr>\n",
       "      <th>7</th>\n",
       "      <td>VA</td>\n",
       "      <td>3</td>\n",
       "      <td>4</td>\n",
       "      <td>4.0</td>\n",
       "      <td>2.0</td>\n",
       "      <td>NaN</td>\n",
       "      <td>NaN</td>\n",
       "      <td>NaN</td>\n",
       "      <td>NaN</td>\n",
       "      <td>NaN</td>\n",
       "      <td>NaN</td>\n",
       "    </tr>\n",
       "    <tr>\n",
       "      <th>8</th>\n",
       "      <td>HUD</td>\n",
       "      <td>3</td>\n",
       "      <td>5</td>\n",
       "      <td>2.0</td>\n",
       "      <td>2.0</td>\n",
       "      <td>1.0</td>\n",
       "      <td>2.0</td>\n",
       "      <td>2.0</td>\n",
       "      <td>3.0</td>\n",
       "      <td>1.0</td>\n",
       "      <td>NaN</td>\n",
       "    </tr>\n",
       "    <tr>\n",
       "      <th>9</th>\n",
       "      <td>Homeland Sec</td>\n",
       "      <td>3</td>\n",
       "      <td>3</td>\n",
       "      <td>NaN</td>\n",
       "      <td>NaN</td>\n",
       "      <td>NaN</td>\n",
       "      <td>NaN</td>\n",
       "      <td>NaN</td>\n",
       "      <td>NaN</td>\n",
       "      <td>NaN</td>\n",
       "      <td>NaN</td>\n",
       "    </tr>\n",
       "    <tr>\n",
       "      <th>10</th>\n",
       "      <td>Defense</td>\n",
       "      <td>3</td>\n",
       "      <td>2</td>\n",
       "      <td>3.0</td>\n",
       "      <td>2.0</td>\n",
       "      <td>2.0</td>\n",
       "      <td>1.0</td>\n",
       "      <td>2.0</td>\n",
       "      <td>4.0</td>\n",
       "      <td>1.0</td>\n",
       "      <td>1.0</td>\n",
       "    </tr>\n",
       "    <tr>\n",
       "      <th>11</th>\n",
       "      <td>Education</td>\n",
       "      <td>2</td>\n",
       "      <td>2</td>\n",
       "      <td>1.0</td>\n",
       "      <td>2.0</td>\n",
       "      <td>3.0</td>\n",
       "      <td>1.0</td>\n",
       "      <td>NaN</td>\n",
       "      <td>NaN</td>\n",
       "      <td>NaN</td>\n",
       "      <td>NaN</td>\n",
       "    </tr>\n",
       "    <tr>\n",
       "      <th>12</th>\n",
       "      <td>HHS</td>\n",
       "      <td>2</td>\n",
       "      <td>2</td>\n",
       "      <td>1.0</td>\n",
       "      <td>1.0</td>\n",
       "      <td>3.0</td>\n",
       "      <td>2.0</td>\n",
       "      <td>2.0</td>\n",
       "      <td>3.0</td>\n",
       "      <td>2.0</td>\n",
       "      <td>2.0</td>\n",
       "    </tr>\n",
       "    <tr>\n",
       "      <th>13</th>\n",
       "      <td>Transportation</td>\n",
       "      <td>2</td>\n",
       "      <td>2</td>\n",
       "      <td>2.0</td>\n",
       "      <td>2.0</td>\n",
       "      <td>3.0</td>\n",
       "      <td>2.0</td>\n",
       "      <td>2.0</td>\n",
       "      <td>2.0</td>\n",
       "      <td>1.0</td>\n",
       "      <td>NaN</td>\n",
       "    </tr>\n",
       "    <tr>\n",
       "      <th>14</th>\n",
       "      <td>Agriculture</td>\n",
       "      <td>1</td>\n",
       "      <td>3</td>\n",
       "      <td>2.0</td>\n",
       "      <td>2.0</td>\n",
       "      <td>2.0</td>\n",
       "      <td>1.0</td>\n",
       "      <td>2.0</td>\n",
       "      <td>2.0</td>\n",
       "      <td>1.0</td>\n",
       "      <td>2.0</td>\n",
       "    </tr>\n",
       "  </tbody>\n",
       "</table>\n",
       "</div>"
      ],
      "text/plain": [
       "                index  Obama  W.Bush  Clinton  H.W.Bush  Reagan  Carter  Ford  \\\n",
       "0            Commerce      7       2      6.0       3.0     3.0     3.0   3.0   \n",
       "1               Labor      5       1      2.0       2.0     3.0     1.0   3.0   \n",
       "2            Treasury      4       5      4.0       1.0     3.0     2.0   2.0   \n",
       "3             Energy       3       2      3.0       1.0     3.0     2.0   1.0   \n",
       "4   Attorney General       3       6      2.0       1.0     3.0     3.0   4.0   \n",
       "5               State      3       2      4.0       3.0     3.0     8.0   2.0   \n",
       "6            Interior      3       4      1.0       2.0     4.0     2.0   6.0   \n",
       "7                 VA       3       4      4.0       2.0     NaN     NaN   NaN   \n",
       "8                 HUD      3       5      2.0       2.0     1.0     2.0   2.0   \n",
       "9        Homeland Sec      3       3      NaN       NaN     NaN     NaN   NaN   \n",
       "10            Defense      3       2      3.0       2.0     2.0     1.0   2.0   \n",
       "11          Education      2       2      1.0       2.0     3.0     1.0   NaN   \n",
       "12                HHS      2       2      1.0       1.0     3.0     2.0   2.0   \n",
       "13    Transportation       2       2      2.0       2.0     3.0     2.0   2.0   \n",
       "14        Agriculture      1       3      2.0       2.0     2.0     1.0   2.0   \n",
       "\n",
       "    Nixon  Johnson  Kennedy  \n",
       "0     3.0      3.0      1.0  \n",
       "1     3.0      1.0      3.0  \n",
       "2     3.0      3.0      2.0  \n",
       "3     NaN      NaN      NaN  \n",
       "4     4.0      2.0      1.0  \n",
       "5     4.0      1.0      3.0  \n",
       "6     3.0      1.0      2.0  \n",
       "7     NaN      NaN      NaN  \n",
       "8     3.0      1.0      NaN  \n",
       "9     NaN      NaN      NaN  \n",
       "10    4.0      1.0      1.0  \n",
       "11    NaN      NaN      NaN  \n",
       "12    3.0      2.0      2.0  \n",
       "13    2.0      1.0      NaN  \n",
       "14    2.0      1.0      2.0  "
      ]
     },
     "execution_count": 215,
     "metadata": {},
     "output_type": "execute_result"
    }
   ],
   "source": [
    "full_department = full_department.merge(df_kennedy_dept, on='index', how='outer')\n",
    "full_department"
   ]
  },
  {
   "cell_type": "code",
   "execution_count": 216,
   "metadata": {
    "collapsed": true
   },
   "outputs": [],
   "source": [
    "## Adding Eisenhower "
   ]
  },
  {
   "cell_type": "code",
   "execution_count": 217,
   "metadata": {
    "collapsed": true
   },
   "outputs": [],
   "source": [
    "df_eisenhower = cabinet_df[(cabinet_df['Date'] >= '1953') & (cabinet_df['Date'] <= '1960')]"
   ]
  },
  {
   "cell_type": "code",
   "execution_count": 218,
   "metadata": {
    "collapsed": true
   },
   "outputs": [],
   "source": [
    "df_eisenhower = df_eisenhower['Department'].value_counts()"
   ]
  },
  {
   "cell_type": "code",
   "execution_count": 219,
   "metadata": {
    "collapsed": true
   },
   "outputs": [],
   "source": [
    "df_eisenhower_dept = pd.DataFrame(df_eisenhower) "
   ]
  },
  {
   "cell_type": "code",
   "execution_count": 220,
   "metadata": {
    "collapsed": true
   },
   "outputs": [],
   "source": [
    "df_eisenhower_dept = df_eisenhower_dept.rename(columns={'Department':'Eisenhower'}) "
   ]
  },
  {
   "cell_type": "code",
   "execution_count": 221,
   "metadata": {
    "collapsed": true
   },
   "outputs": [],
   "source": [
    "df_eisenhower_dept.reset_index(inplace=True)"
   ]
  },
  {
   "cell_type": "code",
   "execution_count": 222,
   "metadata": {},
   "outputs": [
    {
     "data": {
      "text/html": [
       "<div>\n",
       "<style>\n",
       "    .dataframe thead tr:only-child th {\n",
       "        text-align: right;\n",
       "    }\n",
       "\n",
       "    .dataframe thead th {\n",
       "        text-align: left;\n",
       "    }\n",
       "\n",
       "    .dataframe tbody tr th {\n",
       "        vertical-align: top;\n",
       "    }\n",
       "</style>\n",
       "<table border=\"1\" class=\"dataframe\">\n",
       "  <thead>\n",
       "    <tr style=\"text-align: right;\">\n",
       "      <th></th>\n",
       "      <th>index</th>\n",
       "      <th>Obama</th>\n",
       "      <th>W.Bush</th>\n",
       "      <th>Clinton</th>\n",
       "      <th>H.W.Bush</th>\n",
       "      <th>Reagan</th>\n",
       "      <th>Carter</th>\n",
       "      <th>Ford</th>\n",
       "      <th>Nixon</th>\n",
       "      <th>Johnson</th>\n",
       "      <th>Kennedy</th>\n",
       "      <th>Eisenhower</th>\n",
       "    </tr>\n",
       "  </thead>\n",
       "  <tbody>\n",
       "    <tr>\n",
       "      <th>0</th>\n",
       "      <td>Commerce</td>\n",
       "      <td>7</td>\n",
       "      <td>2</td>\n",
       "      <td>6.0</td>\n",
       "      <td>3.0</td>\n",
       "      <td>3.0</td>\n",
       "      <td>3.0</td>\n",
       "      <td>3.0</td>\n",
       "      <td>3.0</td>\n",
       "      <td>3.0</td>\n",
       "      <td>1.0</td>\n",
       "      <td>3.0</td>\n",
       "    </tr>\n",
       "    <tr>\n",
       "      <th>1</th>\n",
       "      <td>Labor</td>\n",
       "      <td>5</td>\n",
       "      <td>1</td>\n",
       "      <td>2.0</td>\n",
       "      <td>2.0</td>\n",
       "      <td>3.0</td>\n",
       "      <td>1.0</td>\n",
       "      <td>3.0</td>\n",
       "      <td>3.0</td>\n",
       "      <td>1.0</td>\n",
       "      <td>3.0</td>\n",
       "      <td>2.0</td>\n",
       "    </tr>\n",
       "    <tr>\n",
       "      <th>2</th>\n",
       "      <td>Treasury</td>\n",
       "      <td>4</td>\n",
       "      <td>5</td>\n",
       "      <td>4.0</td>\n",
       "      <td>1.0</td>\n",
       "      <td>3.0</td>\n",
       "      <td>2.0</td>\n",
       "      <td>2.0</td>\n",
       "      <td>3.0</td>\n",
       "      <td>3.0</td>\n",
       "      <td>2.0</td>\n",
       "      <td>2.0</td>\n",
       "    </tr>\n",
       "    <tr>\n",
       "      <th>3</th>\n",
       "      <td>Energy</td>\n",
       "      <td>3</td>\n",
       "      <td>2</td>\n",
       "      <td>3.0</td>\n",
       "      <td>1.0</td>\n",
       "      <td>3.0</td>\n",
       "      <td>2.0</td>\n",
       "      <td>1.0</td>\n",
       "      <td>NaN</td>\n",
       "      <td>NaN</td>\n",
       "      <td>NaN</td>\n",
       "      <td>NaN</td>\n",
       "    </tr>\n",
       "    <tr>\n",
       "      <th>4</th>\n",
       "      <td>Attorney General</td>\n",
       "      <td>3</td>\n",
       "      <td>6</td>\n",
       "      <td>2.0</td>\n",
       "      <td>1.0</td>\n",
       "      <td>3.0</td>\n",
       "      <td>3.0</td>\n",
       "      <td>4.0</td>\n",
       "      <td>4.0</td>\n",
       "      <td>2.0</td>\n",
       "      <td>1.0</td>\n",
       "      <td>2.0</td>\n",
       "    </tr>\n",
       "    <tr>\n",
       "      <th>5</th>\n",
       "      <td>State</td>\n",
       "      <td>3</td>\n",
       "      <td>2</td>\n",
       "      <td>4.0</td>\n",
       "      <td>3.0</td>\n",
       "      <td>3.0</td>\n",
       "      <td>8.0</td>\n",
       "      <td>2.0</td>\n",
       "      <td>4.0</td>\n",
       "      <td>1.0</td>\n",
       "      <td>3.0</td>\n",
       "      <td>3.0</td>\n",
       "    </tr>\n",
       "    <tr>\n",
       "      <th>6</th>\n",
       "      <td>Interior</td>\n",
       "      <td>3</td>\n",
       "      <td>4</td>\n",
       "      <td>1.0</td>\n",
       "      <td>2.0</td>\n",
       "      <td>4.0</td>\n",
       "      <td>2.0</td>\n",
       "      <td>6.0</td>\n",
       "      <td>3.0</td>\n",
       "      <td>1.0</td>\n",
       "      <td>2.0</td>\n",
       "      <td>3.0</td>\n",
       "    </tr>\n",
       "    <tr>\n",
       "      <th>7</th>\n",
       "      <td>VA</td>\n",
       "      <td>3</td>\n",
       "      <td>4</td>\n",
       "      <td>4.0</td>\n",
       "      <td>2.0</td>\n",
       "      <td>NaN</td>\n",
       "      <td>NaN</td>\n",
       "      <td>NaN</td>\n",
       "      <td>NaN</td>\n",
       "      <td>NaN</td>\n",
       "      <td>NaN</td>\n",
       "      <td>NaN</td>\n",
       "    </tr>\n",
       "    <tr>\n",
       "      <th>8</th>\n",
       "      <td>HUD</td>\n",
       "      <td>3</td>\n",
       "      <td>5</td>\n",
       "      <td>2.0</td>\n",
       "      <td>2.0</td>\n",
       "      <td>1.0</td>\n",
       "      <td>2.0</td>\n",
       "      <td>2.0</td>\n",
       "      <td>3.0</td>\n",
       "      <td>1.0</td>\n",
       "      <td>NaN</td>\n",
       "      <td>NaN</td>\n",
       "    </tr>\n",
       "    <tr>\n",
       "      <th>9</th>\n",
       "      <td>Homeland Sec</td>\n",
       "      <td>3</td>\n",
       "      <td>3</td>\n",
       "      <td>NaN</td>\n",
       "      <td>NaN</td>\n",
       "      <td>NaN</td>\n",
       "      <td>NaN</td>\n",
       "      <td>NaN</td>\n",
       "      <td>NaN</td>\n",
       "      <td>NaN</td>\n",
       "      <td>NaN</td>\n",
       "      <td>NaN</td>\n",
       "    </tr>\n",
       "    <tr>\n",
       "      <th>10</th>\n",
       "      <td>Defense</td>\n",
       "      <td>3</td>\n",
       "      <td>2</td>\n",
       "      <td>3.0</td>\n",
       "      <td>2.0</td>\n",
       "      <td>2.0</td>\n",
       "      <td>1.0</td>\n",
       "      <td>2.0</td>\n",
       "      <td>4.0</td>\n",
       "      <td>1.0</td>\n",
       "      <td>1.0</td>\n",
       "      <td>3.0</td>\n",
       "    </tr>\n",
       "    <tr>\n",
       "      <th>11</th>\n",
       "      <td>Education</td>\n",
       "      <td>2</td>\n",
       "      <td>2</td>\n",
       "      <td>1.0</td>\n",
       "      <td>2.0</td>\n",
       "      <td>3.0</td>\n",
       "      <td>1.0</td>\n",
       "      <td>NaN</td>\n",
       "      <td>NaN</td>\n",
       "      <td>NaN</td>\n",
       "      <td>NaN</td>\n",
       "      <td>NaN</td>\n",
       "    </tr>\n",
       "    <tr>\n",
       "      <th>12</th>\n",
       "      <td>HHS</td>\n",
       "      <td>2</td>\n",
       "      <td>2</td>\n",
       "      <td>1.0</td>\n",
       "      <td>1.0</td>\n",
       "      <td>3.0</td>\n",
       "      <td>2.0</td>\n",
       "      <td>2.0</td>\n",
       "      <td>3.0</td>\n",
       "      <td>2.0</td>\n",
       "      <td>2.0</td>\n",
       "      <td>2.0</td>\n",
       "    </tr>\n",
       "    <tr>\n",
       "      <th>13</th>\n",
       "      <td>Transportation</td>\n",
       "      <td>2</td>\n",
       "      <td>2</td>\n",
       "      <td>2.0</td>\n",
       "      <td>2.0</td>\n",
       "      <td>3.0</td>\n",
       "      <td>2.0</td>\n",
       "      <td>2.0</td>\n",
       "      <td>2.0</td>\n",
       "      <td>1.0</td>\n",
       "      <td>NaN</td>\n",
       "      <td>NaN</td>\n",
       "    </tr>\n",
       "    <tr>\n",
       "      <th>14</th>\n",
       "      <td>Agriculture</td>\n",
       "      <td>1</td>\n",
       "      <td>3</td>\n",
       "      <td>2.0</td>\n",
       "      <td>2.0</td>\n",
       "      <td>2.0</td>\n",
       "      <td>1.0</td>\n",
       "      <td>2.0</td>\n",
       "      <td>2.0</td>\n",
       "      <td>1.0</td>\n",
       "      <td>2.0</td>\n",
       "      <td>1.0</td>\n",
       "    </tr>\n",
       "  </tbody>\n",
       "</table>\n",
       "</div>"
      ],
      "text/plain": [
       "                index  Obama  W.Bush  Clinton  H.W.Bush  Reagan  Carter  Ford  \\\n",
       "0            Commerce      7       2      6.0       3.0     3.0     3.0   3.0   \n",
       "1               Labor      5       1      2.0       2.0     3.0     1.0   3.0   \n",
       "2            Treasury      4       5      4.0       1.0     3.0     2.0   2.0   \n",
       "3             Energy       3       2      3.0       1.0     3.0     2.0   1.0   \n",
       "4   Attorney General       3       6      2.0       1.0     3.0     3.0   4.0   \n",
       "5               State      3       2      4.0       3.0     3.0     8.0   2.0   \n",
       "6            Interior      3       4      1.0       2.0     4.0     2.0   6.0   \n",
       "7                 VA       3       4      4.0       2.0     NaN     NaN   NaN   \n",
       "8                 HUD      3       5      2.0       2.0     1.0     2.0   2.0   \n",
       "9        Homeland Sec      3       3      NaN       NaN     NaN     NaN   NaN   \n",
       "10            Defense      3       2      3.0       2.0     2.0     1.0   2.0   \n",
       "11          Education      2       2      1.0       2.0     3.0     1.0   NaN   \n",
       "12                HHS      2       2      1.0       1.0     3.0     2.0   2.0   \n",
       "13    Transportation       2       2      2.0       2.0     3.0     2.0   2.0   \n",
       "14        Agriculture      1       3      2.0       2.0     2.0     1.0   2.0   \n",
       "\n",
       "    Nixon  Johnson  Kennedy  Eisenhower  \n",
       "0     3.0      3.0      1.0         3.0  \n",
       "1     3.0      1.0      3.0         2.0  \n",
       "2     3.0      3.0      2.0         2.0  \n",
       "3     NaN      NaN      NaN         NaN  \n",
       "4     4.0      2.0      1.0         2.0  \n",
       "5     4.0      1.0      3.0         3.0  \n",
       "6     3.0      1.0      2.0         3.0  \n",
       "7     NaN      NaN      NaN         NaN  \n",
       "8     3.0      1.0      NaN         NaN  \n",
       "9     NaN      NaN      NaN         NaN  \n",
       "10    4.0      1.0      1.0         3.0  \n",
       "11    NaN      NaN      NaN         NaN  \n",
       "12    3.0      2.0      2.0         2.0  \n",
       "13    2.0      1.0      NaN         NaN  \n",
       "14    2.0      1.0      2.0         1.0  "
      ]
     },
     "execution_count": 222,
     "metadata": {},
     "output_type": "execute_result"
    }
   ],
   "source": [
    "full_department = full_department.merge(df_eisenhower_dept, on='index', how='outer')\n",
    "full_department"
   ]
  },
  {
   "cell_type": "code",
   "execution_count": 223,
   "metadata": {
    "collapsed": true
   },
   "outputs": [],
   "source": [
    "## Adding Truman "
   ]
  },
  {
   "cell_type": "code",
   "execution_count": 224,
   "metadata": {
    "collapsed": true
   },
   "outputs": [],
   "source": [
    "df_truman = cabinet_df[(cabinet_df['Date'] >= '1945') & (cabinet_df['Date'] <= '1952')] "
   ]
  },
  {
   "cell_type": "code",
   "execution_count": 225,
   "metadata": {
    "collapsed": true
   },
   "outputs": [],
   "source": [
    "df_truman = df_truman['Department'].value_counts()"
   ]
  },
  {
   "cell_type": "code",
   "execution_count": 226,
   "metadata": {
    "collapsed": true
   },
   "outputs": [],
   "source": [
    "df_truman_dept = pd.DataFrame(df_truman) "
   ]
  },
  {
   "cell_type": "code",
   "execution_count": 227,
   "metadata": {
    "collapsed": true
   },
   "outputs": [],
   "source": [
    "df_truman_dept = df_truman_dept.rename(columns={'Department':'Truman'}) "
   ]
  },
  {
   "cell_type": "code",
   "execution_count": 228,
   "metadata": {
    "collapsed": true
   },
   "outputs": [],
   "source": [
    "df_truman_dept.reset_index(inplace=True)"
   ]
  },
  {
   "cell_type": "code",
   "execution_count": 229,
   "metadata": {},
   "outputs": [
    {
     "data": {
      "text/html": [
       "<div>\n",
       "<style>\n",
       "    .dataframe thead tr:only-child th {\n",
       "        text-align: right;\n",
       "    }\n",
       "\n",
       "    .dataframe thead th {\n",
       "        text-align: left;\n",
       "    }\n",
       "\n",
       "    .dataframe tbody tr th {\n",
       "        vertical-align: top;\n",
       "    }\n",
       "</style>\n",
       "<table border=\"1\" class=\"dataframe\">\n",
       "  <thead>\n",
       "    <tr style=\"text-align: right;\">\n",
       "      <th></th>\n",
       "      <th>index</th>\n",
       "      <th>Obama</th>\n",
       "      <th>W.Bush</th>\n",
       "      <th>Clinton</th>\n",
       "      <th>H.W.Bush</th>\n",
       "      <th>Reagan</th>\n",
       "      <th>Carter</th>\n",
       "      <th>Ford</th>\n",
       "      <th>Nixon</th>\n",
       "      <th>Johnson</th>\n",
       "      <th>Kennedy</th>\n",
       "      <th>Eisenhower</th>\n",
       "      <th>Truman</th>\n",
       "    </tr>\n",
       "  </thead>\n",
       "  <tbody>\n",
       "    <tr>\n",
       "      <th>0</th>\n",
       "      <td>Commerce</td>\n",
       "      <td>7</td>\n",
       "      <td>2</td>\n",
       "      <td>6.0</td>\n",
       "      <td>3.0</td>\n",
       "      <td>3.0</td>\n",
       "      <td>3.0</td>\n",
       "      <td>3.0</td>\n",
       "      <td>3.0</td>\n",
       "      <td>3.0</td>\n",
       "      <td>1.0</td>\n",
       "      <td>3.0</td>\n",
       "      <td>4.0</td>\n",
       "    </tr>\n",
       "    <tr>\n",
       "      <th>1</th>\n",
       "      <td>Labor</td>\n",
       "      <td>5</td>\n",
       "      <td>1</td>\n",
       "      <td>2.0</td>\n",
       "      <td>2.0</td>\n",
       "      <td>3.0</td>\n",
       "      <td>1.0</td>\n",
       "      <td>3.0</td>\n",
       "      <td>3.0</td>\n",
       "      <td>1.0</td>\n",
       "      <td>3.0</td>\n",
       "      <td>2.0</td>\n",
       "      <td>2.0</td>\n",
       "    </tr>\n",
       "    <tr>\n",
       "      <th>2</th>\n",
       "      <td>Treasury</td>\n",
       "      <td>4</td>\n",
       "      <td>5</td>\n",
       "      <td>4.0</td>\n",
       "      <td>1.0</td>\n",
       "      <td>3.0</td>\n",
       "      <td>2.0</td>\n",
       "      <td>2.0</td>\n",
       "      <td>3.0</td>\n",
       "      <td>3.0</td>\n",
       "      <td>2.0</td>\n",
       "      <td>2.0</td>\n",
       "      <td>2.0</td>\n",
       "    </tr>\n",
       "    <tr>\n",
       "      <th>3</th>\n",
       "      <td>Energy</td>\n",
       "      <td>3</td>\n",
       "      <td>2</td>\n",
       "      <td>3.0</td>\n",
       "      <td>1.0</td>\n",
       "      <td>3.0</td>\n",
       "      <td>2.0</td>\n",
       "      <td>1.0</td>\n",
       "      <td>NaN</td>\n",
       "      <td>NaN</td>\n",
       "      <td>NaN</td>\n",
       "      <td>NaN</td>\n",
       "      <td>NaN</td>\n",
       "    </tr>\n",
       "    <tr>\n",
       "      <th>4</th>\n",
       "      <td>Attorney General</td>\n",
       "      <td>3</td>\n",
       "      <td>6</td>\n",
       "      <td>2.0</td>\n",
       "      <td>1.0</td>\n",
       "      <td>3.0</td>\n",
       "      <td>3.0</td>\n",
       "      <td>4.0</td>\n",
       "      <td>4.0</td>\n",
       "      <td>2.0</td>\n",
       "      <td>1.0</td>\n",
       "      <td>2.0</td>\n",
       "      <td>3.0</td>\n",
       "    </tr>\n",
       "    <tr>\n",
       "      <th>5</th>\n",
       "      <td>State</td>\n",
       "      <td>3</td>\n",
       "      <td>2</td>\n",
       "      <td>4.0</td>\n",
       "      <td>3.0</td>\n",
       "      <td>3.0</td>\n",
       "      <td>8.0</td>\n",
       "      <td>2.0</td>\n",
       "      <td>4.0</td>\n",
       "      <td>1.0</td>\n",
       "      <td>3.0</td>\n",
       "      <td>3.0</td>\n",
       "      <td>4.0</td>\n",
       "    </tr>\n",
       "    <tr>\n",
       "      <th>6</th>\n",
       "      <td>Interior</td>\n",
       "      <td>3</td>\n",
       "      <td>4</td>\n",
       "      <td>1.0</td>\n",
       "      <td>2.0</td>\n",
       "      <td>4.0</td>\n",
       "      <td>2.0</td>\n",
       "      <td>6.0</td>\n",
       "      <td>3.0</td>\n",
       "      <td>1.0</td>\n",
       "      <td>2.0</td>\n",
       "      <td>3.0</td>\n",
       "      <td>3.0</td>\n",
       "    </tr>\n",
       "    <tr>\n",
       "      <th>7</th>\n",
       "      <td>VA</td>\n",
       "      <td>3</td>\n",
       "      <td>4</td>\n",
       "      <td>4.0</td>\n",
       "      <td>2.0</td>\n",
       "      <td>NaN</td>\n",
       "      <td>NaN</td>\n",
       "      <td>NaN</td>\n",
       "      <td>NaN</td>\n",
       "      <td>NaN</td>\n",
       "      <td>NaN</td>\n",
       "      <td>NaN</td>\n",
       "      <td>NaN</td>\n",
       "    </tr>\n",
       "    <tr>\n",
       "      <th>8</th>\n",
       "      <td>HUD</td>\n",
       "      <td>3</td>\n",
       "      <td>5</td>\n",
       "      <td>2.0</td>\n",
       "      <td>2.0</td>\n",
       "      <td>1.0</td>\n",
       "      <td>2.0</td>\n",
       "      <td>2.0</td>\n",
       "      <td>3.0</td>\n",
       "      <td>1.0</td>\n",
       "      <td>NaN</td>\n",
       "      <td>NaN</td>\n",
       "      <td>NaN</td>\n",
       "    </tr>\n",
       "    <tr>\n",
       "      <th>9</th>\n",
       "      <td>Homeland Sec</td>\n",
       "      <td>3</td>\n",
       "      <td>3</td>\n",
       "      <td>NaN</td>\n",
       "      <td>NaN</td>\n",
       "      <td>NaN</td>\n",
       "      <td>NaN</td>\n",
       "      <td>NaN</td>\n",
       "      <td>NaN</td>\n",
       "      <td>NaN</td>\n",
       "      <td>NaN</td>\n",
       "      <td>NaN</td>\n",
       "      <td>NaN</td>\n",
       "    </tr>\n",
       "    <tr>\n",
       "      <th>10</th>\n",
       "      <td>Defense</td>\n",
       "      <td>3</td>\n",
       "      <td>2</td>\n",
       "      <td>3.0</td>\n",
       "      <td>2.0</td>\n",
       "      <td>2.0</td>\n",
       "      <td>1.0</td>\n",
       "      <td>2.0</td>\n",
       "      <td>4.0</td>\n",
       "      <td>1.0</td>\n",
       "      <td>1.0</td>\n",
       "      <td>3.0</td>\n",
       "      <td>4.0</td>\n",
       "    </tr>\n",
       "    <tr>\n",
       "      <th>11</th>\n",
       "      <td>Education</td>\n",
       "      <td>2</td>\n",
       "      <td>2</td>\n",
       "      <td>1.0</td>\n",
       "      <td>2.0</td>\n",
       "      <td>3.0</td>\n",
       "      <td>1.0</td>\n",
       "      <td>NaN</td>\n",
       "      <td>NaN</td>\n",
       "      <td>NaN</td>\n",
       "      <td>NaN</td>\n",
       "      <td>NaN</td>\n",
       "      <td>NaN</td>\n",
       "    </tr>\n",
       "    <tr>\n",
       "      <th>12</th>\n",
       "      <td>HHS</td>\n",
       "      <td>2</td>\n",
       "      <td>2</td>\n",
       "      <td>1.0</td>\n",
       "      <td>1.0</td>\n",
       "      <td>3.0</td>\n",
       "      <td>2.0</td>\n",
       "      <td>2.0</td>\n",
       "      <td>3.0</td>\n",
       "      <td>2.0</td>\n",
       "      <td>2.0</td>\n",
       "      <td>2.0</td>\n",
       "      <td>NaN</td>\n",
       "    </tr>\n",
       "    <tr>\n",
       "      <th>13</th>\n",
       "      <td>Transportation</td>\n",
       "      <td>2</td>\n",
       "      <td>2</td>\n",
       "      <td>2.0</td>\n",
       "      <td>2.0</td>\n",
       "      <td>3.0</td>\n",
       "      <td>2.0</td>\n",
       "      <td>2.0</td>\n",
       "      <td>2.0</td>\n",
       "      <td>1.0</td>\n",
       "      <td>NaN</td>\n",
       "      <td>NaN</td>\n",
       "      <td>NaN</td>\n",
       "    </tr>\n",
       "    <tr>\n",
       "      <th>14</th>\n",
       "      <td>Agriculture</td>\n",
       "      <td>1</td>\n",
       "      <td>3</td>\n",
       "      <td>2.0</td>\n",
       "      <td>2.0</td>\n",
       "      <td>2.0</td>\n",
       "      <td>1.0</td>\n",
       "      <td>2.0</td>\n",
       "      <td>2.0</td>\n",
       "      <td>1.0</td>\n",
       "      <td>2.0</td>\n",
       "      <td>1.0</td>\n",
       "      <td>2.0</td>\n",
       "    </tr>\n",
       "  </tbody>\n",
       "</table>\n",
       "</div>"
      ],
      "text/plain": [
       "                index  Obama  W.Bush  Clinton  H.W.Bush  Reagan  Carter  Ford  \\\n",
       "0            Commerce      7       2      6.0       3.0     3.0     3.0   3.0   \n",
       "1               Labor      5       1      2.0       2.0     3.0     1.0   3.0   \n",
       "2            Treasury      4       5      4.0       1.0     3.0     2.0   2.0   \n",
       "3             Energy       3       2      3.0       1.0     3.0     2.0   1.0   \n",
       "4   Attorney General       3       6      2.0       1.0     3.0     3.0   4.0   \n",
       "5               State      3       2      4.0       3.0     3.0     8.0   2.0   \n",
       "6            Interior      3       4      1.0       2.0     4.0     2.0   6.0   \n",
       "7                 VA       3       4      4.0       2.0     NaN     NaN   NaN   \n",
       "8                 HUD      3       5      2.0       2.0     1.0     2.0   2.0   \n",
       "9        Homeland Sec      3       3      NaN       NaN     NaN     NaN   NaN   \n",
       "10            Defense      3       2      3.0       2.0     2.0     1.0   2.0   \n",
       "11          Education      2       2      1.0       2.0     3.0     1.0   NaN   \n",
       "12                HHS      2       2      1.0       1.0     3.0     2.0   2.0   \n",
       "13    Transportation       2       2      2.0       2.0     3.0     2.0   2.0   \n",
       "14        Agriculture      1       3      2.0       2.0     2.0     1.0   2.0   \n",
       "\n",
       "    Nixon  Johnson  Kennedy  Eisenhower  Truman  \n",
       "0     3.0      3.0      1.0         3.0     4.0  \n",
       "1     3.0      1.0      3.0         2.0     2.0  \n",
       "2     3.0      3.0      2.0         2.0     2.0  \n",
       "3     NaN      NaN      NaN         NaN     NaN  \n",
       "4     4.0      2.0      1.0         2.0     3.0  \n",
       "5     4.0      1.0      3.0         3.0     4.0  \n",
       "6     3.0      1.0      2.0         3.0     3.0  \n",
       "7     NaN      NaN      NaN         NaN     NaN  \n",
       "8     3.0      1.0      NaN         NaN     NaN  \n",
       "9     NaN      NaN      NaN         NaN     NaN  \n",
       "10    4.0      1.0      1.0         3.0     4.0  \n",
       "11    NaN      NaN      NaN         NaN     NaN  \n",
       "12    3.0      2.0      2.0         2.0     NaN  \n",
       "13    2.0      1.0      NaN         NaN     NaN  \n",
       "14    2.0      1.0      2.0         1.0     2.0  "
      ]
     },
     "execution_count": 229,
     "metadata": {},
     "output_type": "execute_result"
    }
   ],
   "source": [
    "full_department = full_department.merge(df_truman_dept, on='index', how='outer')\n",
    "full_department"
   ]
  },
  {
   "cell_type": "code",
   "execution_count": 230,
   "metadata": {
    "collapsed": true
   },
   "outputs": [],
   "source": [
    "# https://stackoverflow.com/questions/21801507/cannot-fill-nan-with-zeros-in-a-pandas-dataframe \n",
    "full_department.fillna(0,inplace=True)"
   ]
  },
  {
   "cell_type": "code",
   "execution_count": 231,
   "metadata": {
    "collapsed": true
   },
   "outputs": [],
   "source": [
    "# reset index: https://stackoverflow.com/questions/38542419/could-pandas-use-column-as-index \n",
    "full_department.set_index('index', inplace=True)"
   ]
  },
  {
   "cell_type": "code",
   "execution_count": 232,
   "metadata": {
    "collapsed": true,
    "scrolled": true
   },
   "outputs": [],
   "source": [
    "full_department = full_department.astype(int,inplace=True)"
   ]
  },
  {
   "cell_type": "markdown",
   "metadata": {},
   "source": [
    "# Ok, let's compare each President with a bar chart "
   ]
  },
  {
   "cell_type": "code",
   "execution_count": 233,
   "metadata": {
    "collapsed": true
   },
   "outputs": [],
   "source": [
    "# https://stackoverflow.com/questions/17787366/setting-yaxis-in-matplotlib-using-pandas "
   ]
  },
  {
   "cell_type": "code",
   "execution_count": 246,
   "metadata": {
    "scrolled": true
   },
   "outputs": [
    {
     "data": {
      "image/png": "[encoded data removed]",
      "text/plain": [
       "<matplotlib.figure.Figure at 0x10d0a04a8>"
      ]
     },
     "metadata": {},
     "output_type": "display_data"
    }
   ],
   "source": [
    "ax = full_department['Obama'].plot(kind='bar',title='Obama Cabinet')\n",
    "ax.set_ylim(0,8)\n",
    "#plt.savefig('Obama.svg')"
   ]
  },
  {
   "cell_type": "code",
   "execution_count": 247,
   "metadata": {},
   "outputs": [
    {
     "data": {
      "image/png": "[encoded data removed]",
      "text/plain": [
       "<matplotlib.figure.Figure at 0x10cdac9b0>"
      ]
     },
     "metadata": {},
     "output_type": "display_data"
    }
   ],
   "source": [
    "ax1 = full_department['W.Bush'].sort_values(ascending=False).plot(kind='bar', title='George W. Bush Cabinet')\n",
    "ax1.set_ylim(0,8)\n",
    "#plt.savefig('WBush.svg')"
   ]
  },
  {
   "cell_type": "code",
   "execution_count": 248,
   "metadata": {},
   "outputs": [
    {
     "data": {
      "image/png": "[encoded data removed]",
      "text/plain": [
       "<matplotlib.figure.Figure at 0x10cf2c828>"
      ]
     },
     "metadata": {},
     "output_type": "display_data"
    }
   ],
   "source": [
    "axagain = full_department['Clinton'].sort_values(ascending=False).plot(kind='bar', title='Clinton Cabinet')\n",
    "axagain.set_ylim(0,8)\n",
    "#plt.savefig('Clinton.svg')"
   ]
  },
  {
   "cell_type": "code",
   "execution_count": 249,
   "metadata": {
    "scrolled": true
   },
   "outputs": [
    {
     "data": {
      "image/png": "[encoded data removed]",
      "text/plain": [
       "<matplotlib.figure.Figure at 0x10e1d3a58>"
      ]
     },
     "metadata": {},
     "output_type": "display_data"
    }
   ],
   "source": [
    "ax2 = full_department['H.W.Bush'].sort_values(ascending=False).plot(kind='bar',title='George H. W. Bush Cabinet')\n",
    "ax2.set_ylim(0,8)\n",
    "#plt.savefig('hwbush.svg')"
   ]
  },
  {
   "cell_type": "code",
   "execution_count": 250,
   "metadata": {},
   "outputs": [
    {
     "data": {
      "image/png": "[encoded data removed]",
      "text/plain": [
       "<matplotlib.figure.Figure at 0x10cd56b70>"
      ]
     },
     "metadata": {},
     "output_type": "display_data"
    }
   ],
   "source": [
    "ax3 = full_department['Reagan'].sort_values(ascending=False).plot(kind='bar', title='Reagan Cabinet')\n",
    "ax3.set_ylim(0,8)\n",
    "#plt.savefig('Reagan.svg')"
   ]
  },
  {
   "cell_type": "code",
   "execution_count": 251,
   "metadata": {},
   "outputs": [
    {
     "data": {
      "image/png": "[encoded data removed]",
      "text/plain": [
       "<matplotlib.figure.Figure at 0x10dbcf828>"
      ]
     },
     "metadata": {},
     "output_type": "display_data"
    }
   ],
   "source": [
    "ax4 = full_department['Carter'].sort_values(ascending=False).plot(kind='bar', title='Carter Cabinet')\n",
    "ax4.set_ylim(0,8)\n",
    "#plt.savefig('Carter.svg')"
   ]
  },
  {
   "cell_type": "code",
   "execution_count": 252,
   "metadata": {},
   "outputs": [
    {
     "data": {
      "image/png": "[encoded data removed]",
      "text/plain": [
       "<matplotlib.figure.Figure at 0x10da09358>"
      ]
     },
     "metadata": {},
     "output_type": "display_data"
    }
   ],
   "source": [
    "ax5 = full_department['Ford'].sort_values(ascending=False).plot(kind='bar', title='Ford Cabinet')\n",
    "ax5.set_ylim(0,8)\n",
    "#plt.savefig('Ford.svg')"
   ]
  },
  {
   "cell_type": "code",
   "execution_count": 253,
   "metadata": {},
   "outputs": [
    {
     "data": {
      "image/png": "[encoded data removed]",
      "text/plain": [
       "<matplotlib.figure.Figure at 0x10d56ce48>"
      ]
     },
     "metadata": {},
     "output_type": "display_data"
    }
   ],
   "source": [
    "ax6 = full_department['Nixon'].sort_values(ascending=False).plot(kind='bar',title='Nixon Cabinet')\n",
    "ax6.set_ylim(0,8)\n",
    "#plt.savefig('Nixon.svg')"
   ]
  },
  {
   "cell_type": "code",
   "execution_count": 254,
   "metadata": {},
   "outputs": [
    {
     "data": {
      "image/png": "[encoded data removed]",
      "text/plain": [
       "<matplotlib.figure.Figure at 0x10d645a90>"
      ]
     },
     "metadata": {},
     "output_type": "display_data"
    }
   ],
   "source": [
    "ax7 = full_department['Johnson'].sort_values(ascending=False).plot(kind='bar',title='Johnson Cabinet')\n",
    "ax7.set_ylim(0,8)\n",
    "#plt.savefig('Johnson.svg')"
   ]
  },
  {
   "cell_type": "code",
   "execution_count": 255,
   "metadata": {},
   "outputs": [
    {
     "data": {
      "image/png": "[encoded data removed]",
      "text/plain": [
       "<matplotlib.figure.Figure at 0x10da00240>"
      ]
     },
     "metadata": {},
     "output_type": "display_data"
    }
   ],
   "source": [
    "ax8 = full_department['Kennedy'].sort_values(ascending=False).plot(kind='bar',title='Kennedy Cabinet')\n",
    "ax8.set_ylim(0,8)\n",
    "#plt.savefig('Kennedy.svg')"
   ]
  },
  {
   "cell_type": "code",
   "execution_count": 256,
   "metadata": {},
   "outputs": [
    {
     "data": {
      "image/png": "[encoded data removed]",
      "text/plain": [
       "<matplotlib.figure.Figure at 0x10ca538d0>"
      ]
     },
     "metadata": {},
     "output_type": "display_data"
    }
   ],
   "source": [
    "ax9 = full_department['Eisenhower'].sort_values(ascending=False).plot(kind='bar',title='Eisenhower Cabinet')\n",
    "ax9.set_ylim(0,8)\n",
    "#plt.savefig('eisenhower.svg')"
   ]
  },
  {
   "cell_type": "code",
   "execution_count": 257,
   "metadata": {},
   "outputs": [
    {
     "data": {
      "image/png": "[encoded data removed]",
      "text/plain": [
       "<matplotlib.figure.Figure at 0x10c76d080>"
      ]
     },
     "metadata": {},
     "output_type": "display_data"
    }
   ],
   "source": [
    "ax10 = full_department['Truman'].sort_values(ascending=False).plot(kind='bar',title='Truman Cabinet')\n",
    "ax10.set_ylim(0,8)\n",
    "#plt.savefig('Truman.svg')"
   ]
  },
  {
   "cell_type": "markdown",
   "metadata": {
    "collapsed": true
   },
   "source": [
    "## Charting acting....to show what positions are the hardest to fill (most politically charged) "
   ]
  },
  {
   "cell_type": "code",
   "execution_count": 264,
   "metadata": {
    "scrolled": true
   },
   "outputs": [
    {
     "data": {
      "text/plain": [
       "State                34\n",
       "Interior             12\n",
       "Commerce             11\n",
       "Attorney General      9\n",
       "Treasury              7\n",
       "VA                    6\n",
       "HUD                   4\n",
       "Homeland Sec          4\n",
       "Education             2\n",
       "Agriculture           2\n",
       "Defense               2\n",
       "Energy                1\n",
       "Labor                 1\n",
       "HHS                   1\n",
       "Transportation        1\n",
       "Name: Department, dtype: int64"
      ]
     },
     "execution_count": 264,
     "metadata": {},
     "output_type": "execute_result"
    }
   ],
   "source": [
    "cabinet_acting = cabinet_df[cabinet_df['Status'] == 'Acting']\n",
    "cabinet_acting['Department'].value_counts()"
   ]
  },
  {
   "cell_type": "code",
   "execution_count": 296,
   "metadata": {
    "scrolled": true
   },
   "outputs": [
    {
     "data": {
      "text/html": [
       "<div>\n",
       "<style>\n",
       "    .dataframe thead tr:only-child th {\n",
       "        text-align: right;\n",
       "    }\n",
       "\n",
       "    .dataframe thead th {\n",
       "        text-align: left;\n",
       "    }\n",
       "\n",
       "    .dataframe tbody tr th {\n",
       "        vertical-align: top;\n",
       "    }\n",
       "</style>\n",
       "<table border=\"1\" class=\"dataframe\">\n",
       "  <thead>\n",
       "    <tr style=\"text-align: right;\">\n",
       "      <th></th>\n",
       "      <th>Department</th>\n",
       "      <th>Name</th>\n",
       "      <th>Status</th>\n",
       "      <th>State</th>\n",
       "      <th>Start</th>\n",
       "      <th>End</th>\n",
       "      <th>Date</th>\n",
       "    </tr>\n",
       "  </thead>\n",
       "  <tbody>\n",
       "    <tr>\n",
       "      <th>381</th>\n",
       "      <td>State</td>\n",
       "      <td>John Jay</td>\n",
       "      <td>Acting</td>\n",
       "      <td>New York</td>\n",
       "      <td>September 26, 1789</td>\n",
       "      <td>March 22, 1790</td>\n",
       "      <td>1789-01-01</td>\n",
       "    </tr>\n",
       "    <tr>\n",
       "      <th>382</th>\n",
       "      <td>State</td>\n",
       "      <td>Charles Lee</td>\n",
       "      <td>Acting</td>\n",
       "      <td>Virginia</td>\n",
       "      <td>May 13, 1800</td>\n",
       "      <td>June 5, 1800</td>\n",
       "      <td>1800-01-01</td>\n",
       "    </tr>\n",
       "    <tr>\n",
       "      <th>383</th>\n",
       "      <td>State</td>\n",
       "      <td>Levi Lincoln Sr.</td>\n",
       "      <td>Acting</td>\n",
       "      <td>Massachusetts</td>\n",
       "      <td>March 5, 1801</td>\n",
       "      <td>May 1, 1801</td>\n",
       "      <td>1801-01-01</td>\n",
       "    </tr>\n",
       "    <tr>\n",
       "      <th>506</th>\n",
       "      <td>Treasury</td>\n",
       "      <td>William Jones</td>\n",
       "      <td>Acting</td>\n",
       "      <td>Pennsylvania</td>\n",
       "      <td>Oct. 21, 1816</td>\n",
       "      <td>Oct. 22, 1816</td>\n",
       "      <td>1816-01-01</td>\n",
       "    </tr>\n",
       "    <tr>\n",
       "      <th>385</th>\n",
       "      <td>State</td>\n",
       "      <td>Richard Rush</td>\n",
       "      <td>Acting</td>\n",
       "      <td>Pennsylvania</td>\n",
       "      <td>March 10, 1817</td>\n",
       "      <td>September 22, 1817</td>\n",
       "      <td>1817-01-01</td>\n",
       "    </tr>\n",
       "    <tr>\n",
       "      <th>384</th>\n",
       "      <td>State</td>\n",
       "      <td>John Graham</td>\n",
       "      <td>Acting</td>\n",
       "      <td>Kentucky</td>\n",
       "      <td>March 4, 1817</td>\n",
       "      <td>March 9, 1817</td>\n",
       "      <td>1817-01-01</td>\n",
       "    </tr>\n",
       "    <tr>\n",
       "      <th>386</th>\n",
       "      <td>State</td>\n",
       "      <td>Daniel Brent</td>\n",
       "      <td>Acting</td>\n",
       "      <td>Virginia</td>\n",
       "      <td>March 4, 1825</td>\n",
       "      <td>March 7, 1825</td>\n",
       "      <td>1825-01-01</td>\n",
       "    </tr>\n",
       "    <tr>\n",
       "      <th>387</th>\n",
       "      <td>State</td>\n",
       "      <td>James A. Hamilton</td>\n",
       "      <td>Acting</td>\n",
       "      <td>New York</td>\n",
       "      <td>March 4, 1829</td>\n",
       "      <td>March 27, 1829</td>\n",
       "      <td>1829-01-01</td>\n",
       "    </tr>\n",
       "    <tr>\n",
       "      <th>388</th>\n",
       "      <td>State</td>\n",
       "      <td>Jacob L. Martin</td>\n",
       "      <td>Acting</td>\n",
       "      <td>District of Columbia</td>\n",
       "      <td>March 4, 1841</td>\n",
       "      <td>March 5, 1841</td>\n",
       "      <td>1841-01-01</td>\n",
       "    </tr>\n",
       "    <tr>\n",
       "      <th>390</th>\n",
       "      <td>State</td>\n",
       "      <td>William S. Derrick</td>\n",
       "      <td>Acting</td>\n",
       "      <td>Pennsylvania</td>\n",
       "      <td>June 21, 1843</td>\n",
       "      <td>June 23, 1843</td>\n",
       "      <td>1843-01-01</td>\n",
       "    </tr>\n",
       "  </tbody>\n",
       "</table>\n",
       "</div>"
      ],
      "text/plain": [
       "    Department                Name  Status                 State  \\\n",
       "381      State            John Jay  Acting              New York   \n",
       "382      State         Charles Lee  Acting              Virginia   \n",
       "383      State    Levi Lincoln Sr.  Acting         Massachusetts   \n",
       "506   Treasury       William Jones  Acting          Pennsylvania   \n",
       "385      State        Richard Rush  Acting          Pennsylvania   \n",
       "384      State         John Graham  Acting              Kentucky   \n",
       "386      State        Daniel Brent  Acting              Virginia   \n",
       "387      State   James A. Hamilton  Acting              New York   \n",
       "388      State     Jacob L. Martin  Acting  District of Columbia   \n",
       "390      State  William S. Derrick  Acting          Pennsylvania   \n",
       "\n",
       "                  Start                End        Date  \n",
       "381  September 26, 1789      March 22, 1790 1789-01-01  \n",
       "382        May 13, 1800        June 5, 1800 1800-01-01  \n",
       "383       March 5, 1801         May 1, 1801 1801-01-01  \n",
       "506       Oct. 21, 1816       Oct. 22, 1816 1816-01-01  \n",
       "385      March 10, 1817  September 22, 1817 1817-01-01  \n",
       "384       March 4, 1817       March 9, 1817 1817-01-01  \n",
       "386       March 4, 1825       March 7, 1825 1825-01-01  \n",
       "387       March 4, 1829      March 27, 1829 1829-01-01  \n",
       "388       March 4, 1841       March 5, 1841 1841-01-01  \n",
       "390       June 21, 1843       June 23, 1843 1843-01-01  "
      ]
     },
     "execution_count": 296,
     "metadata": {},
     "output_type": "execute_result"
    }
   ],
   "source": [
    "cabinet_acting.sort_values(by='Date', ascending=True).head(10)"
   ]
  },
  {
   "cell_type": "code",
   "execution_count": null,
   "metadata": {
    "scrolled": true
   },
   "outputs": [],
   "source": [
    "cabinet_acting.sort_values(by='Date', ascending=True)"
   ]
  },
  {
   "cell_type": "code",
   "execution_count": 298,
   "metadata": {},
   "outputs": [
    {
     "data": {
      "text/html": [
       "<div>\n",
       "<style>\n",
       "    .dataframe thead tr:only-child th {\n",
       "        text-align: right;\n",
       "    }\n",
       "\n",
       "    .dataframe thead th {\n",
       "        text-align: left;\n",
       "    }\n",
       "\n",
       "    .dataframe tbody tr th {\n",
       "        vertical-align: top;\n",
       "    }\n",
       "</style>\n",
       "<table border=\"1\" class=\"dataframe\">\n",
       "  <thead>\n",
       "    <tr style=\"text-align: right;\">\n",
       "      <th></th>\n",
       "      <th>Department</th>\n",
       "      <th>Name</th>\n",
       "      <th>Status</th>\n",
       "      <th>State</th>\n",
       "      <th>Start</th>\n",
       "      <th>End</th>\n",
       "      <th>Date</th>\n",
       "    </tr>\n",
       "  </thead>\n",
       "  <tbody>\n",
       "    <tr>\n",
       "      <th>0</th>\n",
       "      <td>Agriculture</td>\n",
       "      <td>Michael Scuse</td>\n",
       "      <td>Acting</td>\n",
       "      <td>Delaware</td>\n",
       "      <td>January 13, 2017</td>\n",
       "      <td>January 20, 2017</td>\n",
       "      <td>2017-01-01</td>\n",
       "    </tr>\n",
       "    <tr>\n",
       "      <th>1</th>\n",
       "      <td>Agriculture</td>\n",
       "      <td>Mike Young</td>\n",
       "      <td>Acting</td>\n",
       "      <td>Colorado</td>\n",
       "      <td>January 20, 2017</td>\n",
       "      <td>April 25, 2017</td>\n",
       "      <td>2017-01-01</td>\n",
       "    </tr>\n",
       "  </tbody>\n",
       "</table>\n",
       "</div>"
      ],
      "text/plain": [
       "    Department           Name  Status     State             Start  \\\n",
       "0  Agriculture  Michael Scuse  Acting  Delaware  January 13, 2017   \n",
       "1  Agriculture     Mike Young  Acting  Colorado  January 20, 2017   \n",
       "\n",
       "               End        Date  \n",
       "0  January 20, 2017 2017-01-01  \n",
       "1    April 25, 2017 2017-01-01  "
      ]
     },
     "execution_count": 298,
     "metadata": {},
     "output_type": "execute_result"
    }
   ],
   "source": [
    "sample_cabinet = cabinet_acting\n",
    "sample_cabinet.head(2)\n"
   ]
  },
  {
   "cell_type": "code",
   "execution_count": 302,
   "metadata": {},
   "outputs": [],
   "source": [
    "sample_cabinet.set_index('Date',inplace=True)\n",
    "# .groupby('Date').value"
   ]
  },
  {
   "cell_type": "code",
   "execution_count": 310,
   "metadata": {
    "scrolled": true
   },
   "outputs": [],
   "source": [
    "sample_cabinet1 = sample_cabinet[['Status']] \n",
    "sample_cabinet1 = sample_cabinet1['Status'].replace('Acting',1)\n"
   ]
  },
  {
   "cell_type": "code",
   "execution_count": 335,
   "metadata": {
    "scrolled": true
   },
   "outputs": [
    {
     "data": {
      "image/png": "[encoded data removed]",
      "text/plain": [
       "<matplotlib.figure.Figure at 0x10efc6518>"
      ]
     },
     "metadata": {},
     "output_type": "display_data"
    }
   ],
   "source": [
    "ax =sample_cabinet1.resample('4A').sum().plot(kind='bar',title='Number of Acting Cabinet Members')\n",
    "#ax.set_xlim(1945,2017)\n",
    "plt.savefig(\"fullacting.svg\")"
   ]
  },
  {
   "cell_type": "code",
   "execution_count": null,
   "metadata": {},
   "outputs": [],
   "source": [
    "ax = sample_cabinet.resample()"
   ]
  },
  {
   "cell_type": "code",
   "execution_count": null,
   "metadata": {
    "collapsed": true
   },
   "outputs": [],
   "source": []
  },
  {
   "cell_type": "code",
   "execution_count": null,
   "metadata": {
    "collapsed": true
   },
   "outputs": [],
   "source": []
  },
  {
   "cell_type": "code",
   "execution_count": null,
   "metadata": {
    "collapsed": true
   },
   "outputs": [],
   "source": []
  },
  {
   "cell_type": "code",
   "execution_count": 339,
   "metadata": {},
   "outputs": [
    {
     "data": {
      "image/png": "[encoded data removed]",
      "text/plain": [
       "<matplotlib.figure.Figure at 0x10f0d0358>"
      ]
     },
     "metadata": {},
     "output_type": "display_data"
    }
   ],
   "source": [
    "# https://seaborn.pydata.org/generated/seaborn.swarmplot.html\n",
    "ax = sns.swarmplot(y='Department', x='Date', data=df_WWII, hue='Department')\n",
    "plt.savefig(\"dotmap.svg\")"
   ]
  },
  {
   "cell_type": "code",
   "execution_count": null,
   "metadata": {
    "collapsed": true,
    "scrolled": true
   },
   "outputs": [],
   "source": []
  },
  {
   "cell_type": "code",
   "execution_count": null,
   "metadata": {
    "collapsed": true
   },
   "outputs": [],
   "source": []
  },
  {
   "cell_type": "code",
   "execution_count": 140,
   "metadata": {
    "collapsed": true
   },
   "outputs": [],
   "source": [
    "#cabinet_df['Status'].value_counts()"
   ]
  },
  {
   "cell_type": "code",
   "execution_count": 141,
   "metadata": {
    "collapsed": true,
    "scrolled": true
   },
   "outputs": [],
   "source": [
    "#df_true are people who have been sworn into the President's cabinet\n",
    "#df_true = cabinet_df[cabinet_df['Status'] == 'sworn in']\n",
    "#df_true['Department'].value_counts()"
   ]
  },
  {
   "cell_type": "code",
   "execution_count": 142,
   "metadata": {
    "collapsed": true,
    "scrolled": true
   },
   "outputs": [],
   "source": [
    "##df_state = cabinet_df[cabinet_df['Department'] == 'State']\n",
    "#d#f_state\n",
    "#df_state\n",
    "#df_state['State'].value_counts().head(10).plot(kind='bar')"
   ]
  },
  {
   "cell_type": "code",
   "execution_count": 143,
   "metadata": {
    "collapsed": true
   },
   "outputs": [],
   "source": [
    "#import seaborn as sns\n",
    "#ax = sns.swarmplot(y='State', x='Date', data=df_region, hue='Department')\n",
    "#mpl.rc(\"figure\", figsize=(30,20))"
   ]
  },
  {
   "cell_type": "code",
   "execution_count": 144,
   "metadata": {
    "collapsed": true
   },
   "outputs": [],
   "source": [
    "##import seaborn as sns\n",
    "#ax = sns.swarmplot(y='State', x='Date', data=cabinet_df, hue='Department')\n",
    "#mpl.rc(\"figure\", figsize=(30,20))"
   ]
  },
  {
   "cell_type": "code",
   "execution_count": 145,
   "metadata": {
    "collapsed": true,
    "scrolled": true
   },
   "outputs": [],
   "source": [
    "#df_ag = df_true[df_true['Department'] == 'Attorney General ']\n",
    "#df_ag\n",
    "#df_ag['State'].value_counts().head(10).plot(kind='bar')"
   ]
  },
  {
   "cell_type": "code",
   "execution_count": null,
   "metadata": {
    "collapsed": true
   },
   "outputs": [],
   "source": []
  },
  {
   "cell_type": "code",
   "execution_count": 146,
   "metadata": {},
   "outputs": [
    {
     "ename": "NameError",
     "evalue": "name 'df_true' is not defined",
     "output_type": "error",
     "traceback": [
      "\u001b[0;31m---------------------------------------------------------------------------\u001b[0m",
      "\u001b[0;31mNameError\u001b[0m                                 Traceback (most recent call last)",
      "\u001b[0;32m<ipython-input-146-605c7ea8135b>\u001b[0m in \u001b[0;36m<module>\u001b[0;34m()\u001b[0m\n\u001b[0;32m----> 1\u001b[0;31m \u001b[0mdf_treasury\u001b[0m \u001b[0;34m=\u001b[0m \u001b[0mdf_true\u001b[0m\u001b[0;34m[\u001b[0m\u001b[0mdf_true\u001b[0m\u001b[0;34m[\u001b[0m\u001b[0;34m'Department'\u001b[0m\u001b[0;34m]\u001b[0m \u001b[0;34m==\u001b[0m \u001b[0;34m'Treasury'\u001b[0m\u001b[0;34m]\u001b[0m\u001b[0;34m\u001b[0m\u001b[0m\n\u001b[0m\u001b[1;32m      2\u001b[0m \u001b[0mdf_treasury\u001b[0m\u001b[0;34m\u001b[0m\u001b[0m\n\u001b[1;32m      3\u001b[0m \u001b[0mdf_treasury\u001b[0m\u001b[0;34m[\u001b[0m\u001b[0;34m'State'\u001b[0m\u001b[0;34m]\u001b[0m\u001b[0;34m.\u001b[0m\u001b[0mvalue_counts\u001b[0m\u001b[0;34m(\u001b[0m\u001b[0;34m)\u001b[0m\u001b[0;34m.\u001b[0m\u001b[0mhead\u001b[0m\u001b[0;34m(\u001b[0m\u001b[0;36m10\u001b[0m\u001b[0;34m)\u001b[0m\u001b[0;34m.\u001b[0m\u001b[0mplot\u001b[0m\u001b[0;34m(\u001b[0m\u001b[0mkind\u001b[0m\u001b[0;34m=\u001b[0m\u001b[0;34m'bar'\u001b[0m\u001b[0;34m)\u001b[0m\u001b[0;34m\u001b[0m\u001b[0m\n",
      "\u001b[0;31mNameError\u001b[0m: name 'df_true' is not defined"
     ]
    }
   ],
   "source": [
    "df_treasury = df_true[df_true['Department'] == 'Treasury']\n",
    "df_treasury\n",
    "df_treasury['State'].value_counts().head(10).plot(kind='bar')"
   ]
  },
  {
   "cell_type": "code",
   "execution_count": null,
   "metadata": {
    "collapsed": true
   },
   "outputs": [],
   "source": [
    "df_interior = df_true[df_true['Department'] == 'Interior']\n",
    "df_interior\n",
    "df_ag['State'].value_counts().head(10).plot(kind='bar')"
   ]
  },
  {
   "cell_type": "code",
   "execution_count": null,
   "metadata": {
    "collapsed": true
   },
   "outputs": [],
   "source": [
    "df_commerce = df_true[df_true['Department'] == 'Commerce']\n",
    "df_commerce\n",
    "df_commerce['State'].value_counts().head(10).plot(kind='bar')"
   ]
  },
  {
   "cell_type": "code",
   "execution_count": null,
   "metadata": {
    "collapsed": true
   },
   "outputs": [],
   "source": [
    "df_agriculture = df_true[df_true['Department'] == 'Agriculture']\n",
    "df_agriculture\n",
    "df_agriculture['State'].value_counts().head(10).plot(kind='bar')"
   ]
  },
  {
   "cell_type": "code",
   "execution_count": null,
   "metadata": {
    "collapsed": true
   },
   "outputs": [],
   "source": [
    "df_labor = df_true[df_true['Department'] == 'Labor']\n",
    "df_labor\n",
    "df_labor['State'].value_counts().head(10).plot(kind='bar')"
   ]
  },
  {
   "cell_type": "code",
   "execution_count": null,
   "metadata": {
    "collapsed": true
   },
   "outputs": [],
   "source": [
    "df_defense = df_true[df_true['Department'] == 'Defense']\n",
    "df_defense\n",
    "df_defense['State'].value_counts().head(10).plot(kind='bar')"
   ]
  },
  {
   "cell_type": "code",
   "execution_count": null,
   "metadata": {
    "collapsed": true
   },
   "outputs": [],
   "source": [
    "df_hhs = df_true[df_true['Department'] == 'HHS']\n",
    "df_hhs\n",
    "df_hhs['State'].value_counts().head(10).plot(kind='bar')"
   ]
  },
  {
   "cell_type": "code",
   "execution_count": null,
   "metadata": {
    "collapsed": true
   },
   "outputs": [],
   "source": [
    "df_hud = df_true[df_true['Department'] == 'HUD']\n",
    "df_hud\n",
    "df_hud['State'].value_counts().head(10).plot(kind='bar')"
   ]
  },
  {
   "cell_type": "code",
   "execution_count": null,
   "metadata": {
    "collapsed": true
   },
   "outputs": [],
   "source": [
    "df_energy = df_true[df_true['Department'] == 'Energy ']\n",
    "df_energy\n",
    "df_energy['State'].value_counts().head(10).plot(kind='bar') "
   ]
  },
  {
   "cell_type": "code",
   "execution_count": null,
   "metadata": {
    "collapsed": true
   },
   "outputs": [],
   "source": [
    "df_va = df_true[df_true['Department'] == 'VA ']\n",
    "df_va\n",
    "df_va['State'].value_counts().head(10).plot(kind='bar')"
   ]
  },
  {
   "cell_type": "code",
   "execution_count": null,
   "metadata": {
    "collapsed": true
   },
   "outputs": [],
   "source": [
    "df_hls = df_true[df_true['Department'] == 'Homeland Sec'] \n",
    "df_hls\n",
    "df_hls['State'].value_counts().head(10).plot(kind='bar')"
   ]
  },
  {
   "cell_type": "code",
   "execution_count": null,
   "metadata": {
    "collapsed": true
   },
   "outputs": [],
   "source": []
  },
  {
   "cell_type": "code",
   "execution_count": null,
   "metadata": {
    "collapsed": true,
    "scrolled": true
   },
   "outputs": [],
   "source": [
    "df_acting = cabinet_df[cabinet_df['Status'] == 'Acting']\n",
    "df_acting['Department'].value_counts()"
   ]
  },
  {
   "cell_type": "code",
   "execution_count": null,
   "metadata": {
    "collapsed": true
   },
   "outputs": [],
   "source": []
  },
  {
   "cell_type": "code",
   "execution_count": null,
   "metadata": {
    "collapsed": true
   },
   "outputs": [],
   "source": []
  },
  {
   "cell_type": "code",
   "execution_count": null,
   "metadata": {
    "collapsed": true
   },
   "outputs": [],
   "source": []
  },
  {
   "cell_type": "code",
   "execution_count": null,
   "metadata": {
    "collapsed": true
   },
   "outputs": [],
   "source": []
  },
  {
   "cell_type": "code",
   "execution_count": null,
   "metadata": {
    "collapsed": true,
    "scrolled": true
   },
   "outputs": [],
   "source": [
    "df_true['State'].value_counts()"
   ]
  },
  {
   "cell_type": "code",
   "execution_count": null,
   "metadata": {
    "collapsed": true
   },
   "outputs": [],
   "source": [
    "defense_cabinet = cabinet_df[cabinet_df['Department'] == 'Defense']\n",
    "defense_cabinet"
   ]
  },
  {
   "cell_type": "code",
   "execution_count": null,
   "metadata": {
    "collapsed": true
   },
   "outputs": [],
   "source": []
  },
  {
   "cell_type": "code",
   "execution_count": null,
   "metadata": {
    "collapsed": true
   },
   "outputs": [],
   "source": []
  },
  {
   "cell_type": "code",
   "execution_count": null,
   "metadata": {
    "collapsed": true
   },
   "outputs": [],
   "source": []
  },
  {
   "cell_type": "code",
   "execution_count": null,
   "metadata": {
    "collapsed": true
   },
   "outputs": [],
   "source": []
  },
  {
   "cell_type": "code",
   "execution_count": null,
   "metadata": {
    "collapsed": true
   },
   "outputs": [],
   "source": []
  },
  {
   "cell_type": "code",
   "execution_count": null,
   "metadata": {
    "collapsed": true
   },
   "outputs": [],
   "source": [
    "\n"
   ]
  }
 ],
 "metadata": {
  "kernelspec": {
   "display_name": "Python 3",
   "language": "python",
   "name": "python3"
  },
  "language_info": {
   "codemirror_mode": {
    "name": "ipython",
    "version": 3
   },
   "file_extension": ".py",
   "mimetype": "text/x-python",
   "name": "python",
   "nbconvert_exporter": "python",
   "pygments_lexer": "ipython3",
   "version": "3.6.1"
  }
 },
 "nbformat": 4,
 "nbformat_minor": 2
}
