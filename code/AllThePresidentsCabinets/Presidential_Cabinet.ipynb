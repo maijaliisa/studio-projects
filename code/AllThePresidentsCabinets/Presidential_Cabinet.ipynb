{
 "cells": [
  {
   "cell_type": "code",
   "execution_count": 51,
   "metadata": {
    "collapsed": true,
    "scrolled": true
   },
   "outputs": [],
   "source": [
    "import pandas as pd\n",
    "%matplotlib inline\n",
    "import matplotlib.pyplot as plt\n",
    "import seaborn as sns\n"
   ]
  },
  {
   "cell_type": "code",
   "execution_count": 52,
   "metadata": {
    "scrolled": true
   },
   "outputs": [
    {
     "data": {
      "text/html": [
       "<div>\n",
       "<style>\n",
       "    .dataframe thead tr:only-child th {\n",
       "        text-align: right;\n",
       "    }\n",
       "\n",
       "    .dataframe thead th {\n",
       "        text-align: left;\n",
       "    }\n",
       "\n",
       "    .dataframe tbody tr th {\n",
       "        vertical-align: top;\n",
       "    }\n",
       "</style>\n",
       "<table border=\"1\" class=\"dataframe\">\n",
       "  <thead>\n",
       "    <tr style=\"text-align: right;\">\n",
       "      <th></th>\n",
       "      <th>Department</th>\n",
       "      <th>Name</th>\n",
       "      <th>Status</th>\n",
       "      <th>State</th>\n",
       "      <th>Start</th>\n",
       "      <th>End</th>\n",
       "      <th>Date</th>\n",
       "    </tr>\n",
       "  </thead>\n",
       "  <tbody>\n",
       "    <tr>\n",
       "      <th>381</th>\n",
       "      <td>State</td>\n",
       "      <td>John Jay</td>\n",
       "      <td>Acting</td>\n",
       "      <td>New York</td>\n",
       "      <td>September 26, 1789</td>\n",
       "      <td>March 22, 1790</td>\n",
       "      <td>1789-01-01</td>\n",
       "    </tr>\n",
       "    <tr>\n",
       "      <th>43</th>\n",
       "      <td>Attorney General</td>\n",
       "      <td>Edmund Randolph</td>\n",
       "      <td>sworn in</td>\n",
       "      <td>Virginia</td>\n",
       "      <td>September 26, 1789</td>\n",
       "      <td>January 26, 1794</td>\n",
       "      <td>1789-01-01</td>\n",
       "    </tr>\n",
       "    <tr>\n",
       "      <th>513</th>\n",
       "      <td>Treasury</td>\n",
       "      <td>Alexander Hamilton</td>\n",
       "      <td>sworn in</td>\n",
       "      <td>New York</td>\n",
       "      <td>Sept. 11, 1789</td>\n",
       "      <td>Jan. 31, 1795</td>\n",
       "      <td>1789-01-01</td>\n",
       "    </tr>\n",
       "    <tr>\n",
       "      <th>415</th>\n",
       "      <td>State</td>\n",
       "      <td>Thomas Jefferson</td>\n",
       "      <td>sworn in</td>\n",
       "      <td>Virginia</td>\n",
       "      <td>March 22, 1790</td>\n",
       "      <td>December 31, 1793</td>\n",
       "      <td>1790-01-01</td>\n",
       "    </tr>\n",
       "    <tr>\n",
       "      <th>416</th>\n",
       "      <td>State</td>\n",
       "      <td>Edmund J. Randolph</td>\n",
       "      <td>sworn in</td>\n",
       "      <td>Virginia</td>\n",
       "      <td>January 2, 1794</td>\n",
       "      <td>August 20, 1795</td>\n",
       "      <td>1794-01-01</td>\n",
       "    </tr>\n",
       "    <tr>\n",
       "      <th>44</th>\n",
       "      <td>Attorney General</td>\n",
       "      <td>Charles Lee</td>\n",
       "      <td>sworn in</td>\n",
       "      <td>Virginia</td>\n",
       "      <td>December 10, 1795</td>\n",
       "      <td>February 19, 1801</td>\n",
       "      <td>1795-01-01</td>\n",
       "    </tr>\n",
       "    <tr>\n",
       "      <th>417</th>\n",
       "      <td>State</td>\n",
       "      <td>Timothy Pickering</td>\n",
       "      <td>sworn in</td>\n",
       "      <td>Massachusetts</td>\n",
       "      <td>August 20, 1795</td>\n",
       "      <td>May 12, 1800</td>\n",
       "      <td>1795-01-01</td>\n",
       "    </tr>\n",
       "    <tr>\n",
       "      <th>514</th>\n",
       "      <td>Treasury</td>\n",
       "      <td>Oliver Wolcott Jr.</td>\n",
       "      <td>sworn in</td>\n",
       "      <td>Connecticut</td>\n",
       "      <td>Feb. 3, 1795</td>\n",
       "      <td>Dec. 31, 1800</td>\n",
       "      <td>1795-01-01</td>\n",
       "    </tr>\n",
       "    <tr>\n",
       "      <th>382</th>\n",
       "      <td>State</td>\n",
       "      <td>Charles Lee</td>\n",
       "      <td>Acting</td>\n",
       "      <td>Virginia</td>\n",
       "      <td>May 13, 1800</td>\n",
       "      <td>June 5, 1800</td>\n",
       "      <td>1800-01-01</td>\n",
       "    </tr>\n",
       "    <tr>\n",
       "      <th>418</th>\n",
       "      <td>State</td>\n",
       "      <td>John Marshall</td>\n",
       "      <td>sworn in</td>\n",
       "      <td>Virginia</td>\n",
       "      <td>June 13, 1800</td>\n",
       "      <td>March 4, 1801</td>\n",
       "      <td>1800-01-01</td>\n",
       "    </tr>\n",
       "    <tr>\n",
       "      <th>45</th>\n",
       "      <td>Attorney General</td>\n",
       "      <td>Levi Lincoln Sr.</td>\n",
       "      <td>sworn in</td>\n",
       "      <td>Massachusetts</td>\n",
       "      <td>March 5, 1801</td>\n",
       "      <td>March 2, 1805</td>\n",
       "      <td>1801-01-01</td>\n",
       "    </tr>\n",
       "    <tr>\n",
       "      <th>515</th>\n",
       "      <td>Treasury</td>\n",
       "      <td>Samuel Dexter</td>\n",
       "      <td>sworn in</td>\n",
       "      <td>Massachusetts</td>\n",
       "      <td>Jan. 1, 1801</td>\n",
       "      <td>May. 6, 1801</td>\n",
       "      <td>1801-01-01</td>\n",
       "    </tr>\n",
       "    <tr>\n",
       "      <th>383</th>\n",
       "      <td>State</td>\n",
       "      <td>Levi Lincoln Sr.</td>\n",
       "      <td>Acting</td>\n",
       "      <td>Massachusetts</td>\n",
       "      <td>March 5, 1801</td>\n",
       "      <td>May 1, 1801</td>\n",
       "      <td>1801-01-01</td>\n",
       "    </tr>\n",
       "    <tr>\n",
       "      <th>516</th>\n",
       "      <td>Treasury</td>\n",
       "      <td>Albert Gallatin</td>\n",
       "      <td>sworn in</td>\n",
       "      <td>Pennsylvania</td>\n",
       "      <td>May 14, 1801</td>\n",
       "      <td>Feb 9 , 1814</td>\n",
       "      <td>1801-01-01</td>\n",
       "    </tr>\n",
       "    <tr>\n",
       "      <th>419</th>\n",
       "      <td>State</td>\n",
       "      <td>James Madison</td>\n",
       "      <td>sworn in</td>\n",
       "      <td>Virginia</td>\n",
       "      <td>May 2, 1801</td>\n",
       "      <td>March 3, 1809</td>\n",
       "      <td>1801-01-01</td>\n",
       "    </tr>\n",
       "    <tr>\n",
       "      <th>46</th>\n",
       "      <td>Attorney General</td>\n",
       "      <td>John Breckinridge</td>\n",
       "      <td>sworn in</td>\n",
       "      <td>Kentucky</td>\n",
       "      <td>August 7, 1805</td>\n",
       "      <td>December 14, 1806</td>\n",
       "      <td>1805-01-01</td>\n",
       "    </tr>\n",
       "    <tr>\n",
       "      <th>47</th>\n",
       "      <td>Attorney General</td>\n",
       "      <td>Caesar A. Rodney</td>\n",
       "      <td>sworn in</td>\n",
       "      <td>Delaware</td>\n",
       "      <td>January 20, 1807</td>\n",
       "      <td>December 10, 1811</td>\n",
       "      <td>1807-01-01</td>\n",
       "    </tr>\n",
       "    <tr>\n",
       "      <th>420</th>\n",
       "      <td>State</td>\n",
       "      <td>Robert Smith</td>\n",
       "      <td>sworn in</td>\n",
       "      <td>Maryland</td>\n",
       "      <td>March 6, 1809</td>\n",
       "      <td>April 1, 1811</td>\n",
       "      <td>1809-01-01</td>\n",
       "    </tr>\n",
       "    <tr>\n",
       "      <th>421</th>\n",
       "      <td>State</td>\n",
       "      <td>James Monroe</td>\n",
       "      <td>sworn in</td>\n",
       "      <td>Virginia</td>\n",
       "      <td>April 2, 1811</td>\n",
       "      <td>March 3, 1817</td>\n",
       "      <td>1811-01-01</td>\n",
       "    </tr>\n",
       "    <tr>\n",
       "      <th>48</th>\n",
       "      <td>Attorney General</td>\n",
       "      <td>William Pinkney</td>\n",
       "      <td>sworn in</td>\n",
       "      <td>Maryland</td>\n",
       "      <td>December 11, 1811</td>\n",
       "      <td>February 9, 1814</td>\n",
       "      <td>1811-01-01</td>\n",
       "    </tr>\n",
       "    <tr>\n",
       "      <th>517</th>\n",
       "      <td>Treasury</td>\n",
       "      <td>George W. Campbell</td>\n",
       "      <td>sworn in</td>\n",
       "      <td>Tennessee</td>\n",
       "      <td>Feb. 9, 1814</td>\n",
       "      <td>Sept. 26, 1814</td>\n",
       "      <td>1814-01-01</td>\n",
       "    </tr>\n",
       "    <tr>\n",
       "      <th>518</th>\n",
       "      <td>Treasury</td>\n",
       "      <td>Alexander J. Dallas</td>\n",
       "      <td>sworn in</td>\n",
       "      <td>Pennsylvania</td>\n",
       "      <td>Oct. 6, 1814</td>\n",
       "      <td>Oct. 21, 1816</td>\n",
       "      <td>1814-01-01</td>\n",
       "    </tr>\n",
       "    <tr>\n",
       "      <th>49</th>\n",
       "      <td>Attorney General</td>\n",
       "      <td>Richard Rush</td>\n",
       "      <td>sworn in</td>\n",
       "      <td>Pennsylvania</td>\n",
       "      <td>February 10, 1814</td>\n",
       "      <td>November 12, 1817</td>\n",
       "      <td>1814-01-01</td>\n",
       "    </tr>\n",
       "    <tr>\n",
       "      <th>506</th>\n",
       "      <td>Treasury</td>\n",
       "      <td>William Jones</td>\n",
       "      <td>Acting</td>\n",
       "      <td>Pennsylvania</td>\n",
       "      <td>Oct. 21, 1816</td>\n",
       "      <td>Oct. 22, 1816</td>\n",
       "      <td>1816-01-01</td>\n",
       "    </tr>\n",
       "    <tr>\n",
       "      <th>519</th>\n",
       "      <td>Treasury</td>\n",
       "      <td>William H. Crawford</td>\n",
       "      <td>sworn in</td>\n",
       "      <td>Georgia</td>\n",
       "      <td>Oct. 22, 1816</td>\n",
       "      <td>Mar. 3, 1825</td>\n",
       "      <td>1816-01-01</td>\n",
       "    </tr>\n",
       "    <tr>\n",
       "      <th>422</th>\n",
       "      <td>State</td>\n",
       "      <td>John Quincy Adams</td>\n",
       "      <td>sworn in</td>\n",
       "      <td>Massachusetts</td>\n",
       "      <td>September 22, 1817</td>\n",
       "      <td>March 3, 1825</td>\n",
       "      <td>1817-01-01</td>\n",
       "    </tr>\n",
       "    <tr>\n",
       "      <th>50</th>\n",
       "      <td>Attorney General</td>\n",
       "      <td>William Wirt</td>\n",
       "      <td>sworn in</td>\n",
       "      <td>Virginia</td>\n",
       "      <td>November 13, 1817</td>\n",
       "      <td>March 4, 1829</td>\n",
       "      <td>1817-01-01</td>\n",
       "    </tr>\n",
       "    <tr>\n",
       "      <th>385</th>\n",
       "      <td>State</td>\n",
       "      <td>Richard Rush</td>\n",
       "      <td>Acting</td>\n",
       "      <td>Pennsylvania</td>\n",
       "      <td>March 10, 1817</td>\n",
       "      <td>September 22, 1817</td>\n",
       "      <td>1817-01-01</td>\n",
       "    </tr>\n",
       "    <tr>\n",
       "      <th>384</th>\n",
       "      <td>State</td>\n",
       "      <td>John Graham</td>\n",
       "      <td>Acting</td>\n",
       "      <td>Kentucky</td>\n",
       "      <td>March 4, 1817</td>\n",
       "      <td>March 9, 1817</td>\n",
       "      <td>1817-01-01</td>\n",
       "    </tr>\n",
       "    <tr>\n",
       "      <th>423</th>\n",
       "      <td>State</td>\n",
       "      <td>Henry Clay</td>\n",
       "      <td>sworn in</td>\n",
       "      <td>Kentucky</td>\n",
       "      <td>March 7, 1825</td>\n",
       "      <td>March 3, 1829</td>\n",
       "      <td>1825-01-01</td>\n",
       "    </tr>\n",
       "    <tr>\n",
       "      <th>...</th>\n",
       "      <td>...</td>\n",
       "      <td>...</td>\n",
       "      <td>...</td>\n",
       "      <td>...</td>\n",
       "      <td>...</td>\n",
       "      <td>...</td>\n",
       "      <td>...</td>\n",
       "    </tr>\n",
       "    <tr>\n",
       "      <th>201</th>\n",
       "      <td>Defense</td>\n",
       "      <td>Ash Carter</td>\n",
       "      <td>sworn in</td>\n",
       "      <td>Massachusetts</td>\n",
       "      <td>February 17, 2015</td>\n",
       "      <td>January 19, 2017</td>\n",
       "      <td>2015-01-01</td>\n",
       "    </tr>\n",
       "    <tr>\n",
       "      <th>213</th>\n",
       "      <td>Education</td>\n",
       "      <td>John King Jr</td>\n",
       "      <td>sworn in</td>\n",
       "      <td>New York</td>\n",
       "      <td>January 1, 2016</td>\n",
       "      <td>January 20, 2017</td>\n",
       "      <td>2016-01-01</td>\n",
       "    </tr>\n",
       "    <tr>\n",
       "      <th>597</th>\n",
       "      <td>VA</td>\n",
       "      <td>Robert Snyder</td>\n",
       "      <td>Acting</td>\n",
       "      <td>West Virginia</td>\n",
       "      <td>January 20, 2017</td>\n",
       "      <td>February 14, 2017</td>\n",
       "      <td>2017-01-01</td>\n",
       "    </tr>\n",
       "    <tr>\n",
       "      <th>591</th>\n",
       "      <td>Treasury</td>\n",
       "      <td>Steven T. Mnuchin</td>\n",
       "      <td>sworn in</td>\n",
       "      <td>New York</td>\n",
       "      <td>Feb. 13,2017</td>\n",
       "      <td>Present</td>\n",
       "      <td>2017-01-01</td>\n",
       "    </tr>\n",
       "    <tr>\n",
       "      <th>0</th>\n",
       "      <td>Agriculture</td>\n",
       "      <td>Michael Scuse</td>\n",
       "      <td>Acting</td>\n",
       "      <td>Delaware</td>\n",
       "      <td>January 13, 2017</td>\n",
       "      <td>January 20, 2017</td>\n",
       "      <td>2017-01-01</td>\n",
       "    </tr>\n",
       "    <tr>\n",
       "      <th>505</th>\n",
       "      <td>Transportation</td>\n",
       "      <td>Elaine Chao</td>\n",
       "      <td>sworn in</td>\n",
       "      <td>Taiwan</td>\n",
       "      <td>January 31, 2017</td>\n",
       "      <td>present</td>\n",
       "      <td>2017-01-01</td>\n",
       "    </tr>\n",
       "    <tr>\n",
       "      <th>1</th>\n",
       "      <td>Agriculture</td>\n",
       "      <td>Mike Young</td>\n",
       "      <td>Acting</td>\n",
       "      <td>Colorado</td>\n",
       "      <td>January 20, 2017</td>\n",
       "      <td>April 25, 2017</td>\n",
       "      <td>2017-01-01</td>\n",
       "    </tr>\n",
       "    <tr>\n",
       "      <th>33</th>\n",
       "      <td>Agriculture</td>\n",
       "      <td>Sonny Perdue</td>\n",
       "      <td>sworn in</td>\n",
       "      <td>Georgia</td>\n",
       "      <td>April 25, 2017</td>\n",
       "      <td>Incumbent</td>\n",
       "      <td>2017-01-01</td>\n",
       "    </tr>\n",
       "    <tr>\n",
       "      <th>41</th>\n",
       "      <td>Attorney General</td>\n",
       "      <td>Sally Yates</td>\n",
       "      <td>Acting</td>\n",
       "      <td>Georgia</td>\n",
       "      <td>January 20, 2017</td>\n",
       "      <td>January 30, 2017</td>\n",
       "      <td>2017-01-01</td>\n",
       "    </tr>\n",
       "    <tr>\n",
       "      <th>42</th>\n",
       "      <td>Attorney General</td>\n",
       "      <td>Dana Boente</td>\n",
       "      <td>Acting</td>\n",
       "      <td>Virginia</td>\n",
       "      <td>January 30, 2017</td>\n",
       "      <td>February 9, 2017</td>\n",
       "      <td>2017-01-01</td>\n",
       "    </tr>\n",
       "    <tr>\n",
       "      <th>124</th>\n",
       "      <td>Attorney General</td>\n",
       "      <td>Jeff Sessions</td>\n",
       "      <td>sworn in</td>\n",
       "      <td>Alabama</td>\n",
       "      <td>February 9, 2017</td>\n",
       "      <td>Present</td>\n",
       "      <td>2017-01-01</td>\n",
       "    </tr>\n",
       "    <tr>\n",
       "      <th>174</th>\n",
       "      <td>Commerce</td>\n",
       "      <td>Wilbur L. Ross</td>\n",
       "      <td>sworn in</td>\n",
       "      <td>Florida</td>\n",
       "      <td>February 28, 2017</td>\n",
       "      <td>Present</td>\n",
       "      <td>2017-01-01</td>\n",
       "    </tr>\n",
       "    <tr>\n",
       "      <th>202</th>\n",
       "      <td>Defense</td>\n",
       "      <td>James Mattis</td>\n",
       "      <td>sworn in</td>\n",
       "      <td>Washington</td>\n",
       "      <td>January 20, 2017</td>\n",
       "      <td>Present</td>\n",
       "      <td>2017-01-01</td>\n",
       "    </tr>\n",
       "    <tr>\n",
       "      <th>214</th>\n",
       "      <td>Education</td>\n",
       "      <td>Phil Rosenfelt</td>\n",
       "      <td>Acting</td>\n",
       "      <td>Virginia</td>\n",
       "      <td>January 20, 2017</td>\n",
       "      <td>February 7, 2017</td>\n",
       "      <td>2017-01-01</td>\n",
       "    </tr>\n",
       "    <tr>\n",
       "      <th>215</th>\n",
       "      <td>Education</td>\n",
       "      <td>Betsy DeVos</td>\n",
       "      <td>sworn in</td>\n",
       "      <td>Michigan</td>\n",
       "      <td>February 7, 2017</td>\n",
       "      <td>Incumbent</td>\n",
       "      <td>2017-01-01</td>\n",
       "    </tr>\n",
       "    <tr>\n",
       "      <th>230</th>\n",
       "      <td>Energy</td>\n",
       "      <td>Rick Perry</td>\n",
       "      <td>sworn in</td>\n",
       "      <td>Texas</td>\n",
       "      <td>March 2, 2017</td>\n",
       "      <td>Incumbent</td>\n",
       "      <td>2017-01-01</td>\n",
       "    </tr>\n",
       "    <tr>\n",
       "      <th>512</th>\n",
       "      <td>Treasury</td>\n",
       "      <td>Adam Szubin</td>\n",
       "      <td>Acting</td>\n",
       "      <td>District of Columbia</td>\n",
       "      <td>Jan 20, 2017</td>\n",
       "      <td>Feb 13, 2017</td>\n",
       "      <td>2017-01-01</td>\n",
       "    </tr>\n",
       "    <tr>\n",
       "      <th>231</th>\n",
       "      <td>HHS</td>\n",
       "      <td>Norris Cochran</td>\n",
       "      <td>Acting</td>\n",
       "      <td>California</td>\n",
       "      <td>January 20, 2017</td>\n",
       "      <td>February 10, 2017</td>\n",
       "      <td>2017-01-01</td>\n",
       "    </tr>\n",
       "    <tr>\n",
       "      <th>257</th>\n",
       "      <td>Homeland Sec</td>\n",
       "      <td>Elaine Duke</td>\n",
       "      <td>Acting</td>\n",
       "      <td>Virginia</td>\n",
       "      <td>July 31, 2017</td>\n",
       "      <td>present</td>\n",
       "      <td>2017-01-01</td>\n",
       "    </tr>\n",
       "    <tr>\n",
       "      <th>261</th>\n",
       "      <td>Homeland Sec</td>\n",
       "      <td>John F. Kelly</td>\n",
       "      <td>sworn in</td>\n",
       "      <td>Virginia</td>\n",
       "      <td>January 20, 2017</td>\n",
       "      <td>July 31, 2017</td>\n",
       "      <td>2017-01-01</td>\n",
       "    </tr>\n",
       "    <tr>\n",
       "      <th>282</th>\n",
       "      <td>HUD</td>\n",
       "      <td>Ben Carson</td>\n",
       "      <td>sworn in</td>\n",
       "      <td>Florida</td>\n",
       "      <td>March 2, 2017</td>\n",
       "      <td>Present</td>\n",
       "      <td>2017-01-01</td>\n",
       "    </tr>\n",
       "    <tr>\n",
       "      <th>294</th>\n",
       "      <td>Interior</td>\n",
       "      <td>Kevin Haugrud</td>\n",
       "      <td>Acting</td>\n",
       "      <td>unknown</td>\n",
       "      <td>January 20, 2017</td>\n",
       "      <td>March 1, 2017</td>\n",
       "      <td>2017-01-01</td>\n",
       "    </tr>\n",
       "    <tr>\n",
       "      <th>348</th>\n",
       "      <td>Interior</td>\n",
       "      <td>Ryan Zinke</td>\n",
       "      <td>sworn in</td>\n",
       "      <td>Montana</td>\n",
       "      <td>March 1, 2017</td>\n",
       "      <td>present</td>\n",
       "      <td>2017-01-01</td>\n",
       "    </tr>\n",
       "    <tr>\n",
       "      <th>379</th>\n",
       "      <td>Labor</td>\n",
       "      <td>Ed Hugler</td>\n",
       "      <td>sworn in</td>\n",
       "      <td>Pennsylvania</td>\n",
       "      <td>January 20, 2017</td>\n",
       "      <td>April 27, 2017</td>\n",
       "      <td>2017-01-01</td>\n",
       "    </tr>\n",
       "    <tr>\n",
       "      <th>380</th>\n",
       "      <td>Labor</td>\n",
       "      <td>Alex Acosta</td>\n",
       "      <td>sworn in</td>\n",
       "      <td>Florida</td>\n",
       "      <td>April 28, 2017</td>\n",
       "      <td>Incumbent</td>\n",
       "      <td>2017-01-01</td>\n",
       "    </tr>\n",
       "    <tr>\n",
       "      <th>414</th>\n",
       "      <td>State</td>\n",
       "      <td>Tom Shannon</td>\n",
       "      <td>Acting</td>\n",
       "      <td>Minnesota</td>\n",
       "      <td>January 20, 2017</td>\n",
       "      <td>February 1, 2017</td>\n",
       "      <td>2017-01-01</td>\n",
       "    </tr>\n",
       "    <tr>\n",
       "      <th>486</th>\n",
       "      <td>State</td>\n",
       "      <td>Rex Tillerson</td>\n",
       "      <td>sworn in</td>\n",
       "      <td>Texas</td>\n",
       "      <td>February 1, 2017</td>\n",
       "      <td>Present</td>\n",
       "      <td>2017-01-01</td>\n",
       "    </tr>\n",
       "    <tr>\n",
       "      <th>504</th>\n",
       "      <td>Transportation</td>\n",
       "      <td>Michael Huerta</td>\n",
       "      <td>Acting</td>\n",
       "      <td>California</td>\n",
       "      <td>January 20, 2017</td>\n",
       "      <td>January 31, 2017</td>\n",
       "      <td>2017-01-01</td>\n",
       "    </tr>\n",
       "    <tr>\n",
       "      <th>253</th>\n",
       "      <td>HHS</td>\n",
       "      <td>Tom Price</td>\n",
       "      <td>sworn in</td>\n",
       "      <td>Georgia</td>\n",
       "      <td>February 10, 2017</td>\n",
       "      <td>Present</td>\n",
       "      <td>2017-01-01</td>\n",
       "    </tr>\n",
       "    <tr>\n",
       "      <th>606</th>\n",
       "      <td>VA</td>\n",
       "      <td>David Shulkin</td>\n",
       "      <td>sworn in</td>\n",
       "      <td>Pennsylvania</td>\n",
       "      <td>February 14, 2017</td>\n",
       "      <td>present</td>\n",
       "      <td>2017-01-01</td>\n",
       "    </tr>\n",
       "  </tbody>\n",
       "</table>\n",
       "<p>607 rows × 7 columns</p>\n",
       "</div>"
      ],
      "text/plain": [
       "            Department                 Name     Status                 State  \\\n",
       "381              State             John Jay     Acting              New York   \n",
       "43   Attorney General       Edmund Randolph   sworn in              Virginia   \n",
       "513           Treasury   Alexander Hamilton   sworn in              New York   \n",
       "415              State     Thomas Jefferson   sworn in              Virginia   \n",
       "416              State   Edmund J. Randolph   sworn in              Virginia   \n",
       "44   Attorney General           Charles Lee   sworn in              Virginia   \n",
       "417              State    Timothy Pickering   sworn in         Massachusetts   \n",
       "514           Treasury   Oliver Wolcott Jr.   sworn in           Connecticut   \n",
       "382              State          Charles Lee     Acting              Virginia   \n",
       "418              State        John Marshall   sworn in              Virginia   \n",
       "45   Attorney General      Levi Lincoln Sr.   sworn in         Massachusetts   \n",
       "515           Treasury        Samuel Dexter   sworn in         Massachusetts   \n",
       "383              State     Levi Lincoln Sr.     Acting         Massachusetts   \n",
       "516           Treasury      Albert Gallatin   sworn in          Pennsylvania   \n",
       "419              State        James Madison   sworn in              Virginia   \n",
       "46   Attorney General     John Breckinridge   sworn in              Kentucky   \n",
       "47   Attorney General      Caesar A. Rodney   sworn in              Delaware   \n",
       "420              State         Robert Smith   sworn in              Maryland   \n",
       "421              State         James Monroe   sworn in              Virginia   \n",
       "48   Attorney General       William Pinkney   sworn in              Maryland   \n",
       "517           Treasury   George W. Campbell   sworn in             Tennessee   \n",
       "518           Treasury  Alexander J. Dallas   sworn in          Pennsylvania   \n",
       "49   Attorney General          Richard Rush   sworn in          Pennsylvania   \n",
       "506           Treasury        William Jones     Acting          Pennsylvania   \n",
       "519           Treasury  William H. Crawford   sworn in               Georgia   \n",
       "422              State    John Quincy Adams   sworn in         Massachusetts   \n",
       "50   Attorney General          William Wirt   sworn in              Virginia   \n",
       "385              State         Richard Rush     Acting          Pennsylvania   \n",
       "384              State          John Graham     Acting              Kentucky   \n",
       "423              State           Henry Clay   sworn in              Kentucky   \n",
       "..                 ...                  ...        ...                   ...   \n",
       "201            Defense           Ash Carter   sworn in         Massachusetts   \n",
       "213          Education         John King Jr   sworn in              New York   \n",
       "597                VA         Robert Snyder     Acting         West Virginia   \n",
       "591           Treasury    Steven T. Mnuchin   sworn in              New York   \n",
       "0          Agriculture        Michael Scuse     Acting              Delaware   \n",
       "505    Transportation           Elaine Chao  sworn in                Taiwan    \n",
       "1          Agriculture           Mike Young     Acting              Colorado   \n",
       "33         Agriculture         Sonny Perdue   sworn in               Georgia   \n",
       "41   Attorney General           Sally Yates     Acting               Georgia   \n",
       "42   Attorney General           Dana Boente     Acting              Virginia   \n",
       "124  Attorney General         Jeff Sessions   sworn in               Alabama   \n",
       "174           Commerce       Wilbur L. Ross   sworn in               Florida   \n",
       "202            Defense         James Mattis   sworn in            Washington   \n",
       "214          Education       Phil Rosenfelt     Acting              Virginia   \n",
       "215          Education          Betsy DeVos   sworn in              Michigan   \n",
       "230            Energy            Rick Perry   sworn in                 Texas   \n",
       "512           Treasury          Adam Szubin     Acting  District of Columbia   \n",
       "231                HHS       Norris Cochran     Acting            California   \n",
       "257       Homeland Sec          Elaine Duke     Acting              Virginia   \n",
       "261       Homeland Sec        John F. Kelly   sworn in              Virginia   \n",
       "282                HUD           Ben Carson   sworn in               Florida   \n",
       "294           Interior        Kevin Haugrud     Acting               unknown   \n",
       "348           Interior           Ryan Zinke   sworn in               Montana   \n",
       "379              Labor            Ed Hugler   sworn in          Pennsylvania   \n",
       "380              Labor          Alex Acosta   sworn in               Florida   \n",
       "414              State          Tom Shannon     Acting             Minnesota   \n",
       "486              State        Rex Tillerson   sworn in                 Texas   \n",
       "504    Transportation        Michael Huerta     Acting            California   \n",
       "253                HHS            Tom Price   sworn in               Georgia   \n",
       "606                VA         David Shulkin   sworn in          Pennsylvania   \n",
       "\n",
       "                  Start                End        Date  \n",
       "381  September 26, 1789      March 22, 1790 1789-01-01  \n",
       "43   September 26, 1789    January 26, 1794 1789-01-01  \n",
       "513      Sept. 11, 1789       Jan. 31, 1795 1789-01-01  \n",
       "415      March 22, 1790   December 31, 1793 1790-01-01  \n",
       "416     January 2, 1794     August 20, 1795 1794-01-01  \n",
       "44    December 10, 1795   February 19, 1801 1795-01-01  \n",
       "417     August 20, 1795        May 12, 1800 1795-01-01  \n",
       "514        Feb. 3, 1795       Dec. 31, 1800 1795-01-01  \n",
       "382        May 13, 1800        June 5, 1800 1800-01-01  \n",
       "418       June 13, 1800       March 4, 1801 1800-01-01  \n",
       "45        March 5, 1801       March 2, 1805 1801-01-01  \n",
       "515        Jan. 1, 1801        May. 6, 1801 1801-01-01  \n",
       "383       March 5, 1801         May 1, 1801 1801-01-01  \n",
       "516        May 14, 1801        Feb 9 , 1814 1801-01-01  \n",
       "419         May 2, 1801       March 3, 1809 1801-01-01  \n",
       "46       August 7, 1805   December 14, 1806 1805-01-01  \n",
       "47     January 20, 1807   December 10, 1811 1807-01-01  \n",
       "420       March 6, 1809       April 1, 1811 1809-01-01  \n",
       "421       April 2, 1811       March 3, 1817 1811-01-01  \n",
       "48    December 11, 1811    February 9, 1814 1811-01-01  \n",
       "517        Feb. 9, 1814      Sept. 26, 1814 1814-01-01  \n",
       "518        Oct. 6, 1814       Oct. 21, 1816 1814-01-01  \n",
       "49    February 10, 1814   November 12, 1817 1814-01-01  \n",
       "506       Oct. 21, 1816       Oct. 22, 1816 1816-01-01  \n",
       "519       Oct. 22, 1816        Mar. 3, 1825 1816-01-01  \n",
       "422  September 22, 1817       March 3, 1825 1817-01-01  \n",
       "50    November 13, 1817       March 4, 1829 1817-01-01  \n",
       "385      March 10, 1817  September 22, 1817 1817-01-01  \n",
       "384       March 4, 1817       March 9, 1817 1817-01-01  \n",
       "423       March 7, 1825       March 3, 1829 1825-01-01  \n",
       "..                  ...                 ...        ...  \n",
       "201   February 17, 2015    January 19, 2017 2015-01-01  \n",
       "213     January 1, 2016    January 20, 2017 2016-01-01  \n",
       "597    January 20, 2017   February 14, 2017 2017-01-01  \n",
       "591        Feb. 13,2017             Present 2017-01-01  \n",
       "0      January 13, 2017    January 20, 2017 2017-01-01  \n",
       "505    January 31, 2017             present 2017-01-01  \n",
       "1      January 20, 2017      April 25, 2017 2017-01-01  \n",
       "33       April 25, 2017           Incumbent 2017-01-01  \n",
       "41     January 20, 2017    January 30, 2017 2017-01-01  \n",
       "42     January 30, 2017    February 9, 2017 2017-01-01  \n",
       "124    February 9, 2017            Present  2017-01-01  \n",
       "174   February 28, 2017            Present  2017-01-01  \n",
       "202    January 20, 2017             Present 2017-01-01  \n",
       "214    January 20, 2017    February 7, 2017 2017-01-01  \n",
       "215    February 7, 2017           Incumbent 2017-01-01  \n",
       "230       March 2, 2017           Incumbent 2017-01-01  \n",
       "512        Jan 20, 2017        Feb 13, 2017 2017-01-01  \n",
       "231    January 20, 2017   February 10, 2017 2017-01-01  \n",
       "257       July 31, 2017             present 2017-01-01  \n",
       "261    January 20, 2017       July 31, 2017 2017-01-01  \n",
       "282       March 2, 2017            Present  2017-01-01  \n",
       "294    January 20, 2017       March 1, 2017 2017-01-01  \n",
       "348       March 1, 2017             present 2017-01-01  \n",
       "379    January 20, 2017      April 27, 2017 2017-01-01  \n",
       "380      April 28, 2017           Incumbent 2017-01-01  \n",
       "414    January 20, 2017    February 1, 2017 2017-01-01  \n",
       "486    February 1, 2017             Present 2017-01-01  \n",
       "504    January 20, 2017    January 31, 2017 2017-01-01  \n",
       "253   February 10, 2017             Present 2017-01-01  \n",
       "606   February 14, 2017             present 2017-01-01  \n",
       "\n",
       "[607 rows x 7 columns]"
      ]
     },
     "execution_count": 52,
     "metadata": {},
     "output_type": "execute_result"
    }
   ],
   "source": [
    "cabinet_df = pd.read_csv('FINALFULLPresidential Cabinet - TOTAL (2).csv')\n",
    "#cabinet_df['Date'] = pd.to_datetime(cabinet_df.Start, format='%B %d, %Y')  \n",
    "cabinet_df['Date'] = pd.to_datetime(cabinet_df.Start.str.extract(\"(\\d\\d\\d\\d)\", expand=False))  \n",
    "cabinet_df.sort_values(by='Date')"
   ]
  },
  {
   "cell_type": "markdown",
   "metadata": {},
   "source": [
    "## And adding a column about region"
   ]
  },
  {
   "cell_type": "code",
   "execution_count": null,
   "metadata": {
    "collapsed": true,
    "scrolled": false
   },
   "outputs": [],
   "source": [
    "#Creating individual dataframes based on area of the US \n",
    "#https://stackoverflow.com/questions/41274332/pandas-creating-a-new-column"
   ]
  },
  {
   "cell_type": "code",
   "execution_count": null,
   "metadata": {
    "scrolled": false
   },
   "outputs": [],
   "source": [
    "#grouping by area\n",
    "#southern states = Georgia, Tennessee, Alabama, Mississipi, Virginia, Maryland, West Virginina, S Carolina, N Carolina, Texas, Oklahoma, \n",
    "south = cabinet_df.loc[(cabinet_df['State']=='Georgia') \n",
    "                       | (cabinet_df['State'] == 'Alabama') \n",
    "                       | (cabinet_df['State'] == 'Mississippi')\n",
    "                       | (cabinet_df['State']=='Tennessee')\n",
    "                       |(cabinet_df['State']=='Maryland')\n",
    "                       |(cabinet_df['State']=='Virginia')\n",
    "                       |(cabinet_df['State']=='Arkansas')\n",
    "                       |(cabinet_df['State']=='West Virginia')\n",
    "                       |(cabinet_df['State']=='South Carolina')\n",
    "                       |(cabinet_df['State']=='North Carolina')\n",
    "                       |(cabinet_df['State']=='Texas')\n",
    "                       |(cabinet_df['State']=='Oklahoma')\n",
    "                       |(cabinet_df['State']=='District of Columbia')\n",
    "                       |(cabinet_df['State']=='Washington, D.C.')\n",
    "                       |(cabinet_df['State']=='Delaware')] \n",
    "south['region'] ='South'"
   ]
  },
  {
   "cell_type": "code",
   "execution_count": null,
   "metadata": {
    "scrolled": true
   },
   "outputs": [],
   "source": [
    "south"
   ]
  },
  {
   "cell_type": "code",
   "execution_count": null,
   "metadata": {
    "scrolled": true
   },
   "outputs": [],
   "source": [
    "west = cabinet_df.loc[(cabinet_df['State']== 'Arizona')  \n",
    "                     |(cabinet_df['State'] == 'Colorado')\n",
    "                     | (cabinet_df['State'] == 'Idaho')\n",
    "                     | (cabinet_df['State'] == 'Montana')\n",
    "                     | (cabinet_df['State'] == 'Nevada')\n",
    "                     | (cabinet_df['State'] == 'New Mexico')\n",
    "                     | (cabinet_df['State'] == 'Utah')\n",
    "                     | (cabinet_df['State'] == 'Wyoming')\n",
    "                     | (cabinet_df['State'] == 'Idaho')\n",
    "                     | (cabinet_df['State'] == 'Alaska')\n",
    "                     | (cabinet_df['State'] == 'California')\n",
    "                     | (cabinet_df['State'] == 'Hawaii')\n",
    "                     | (cabinet_df['State'] == 'Oregon')\n",
    "                     | (cabinet_df['State'] == 'Washington')]\n",
    "west['region'] ='West'"
   ]
  },
  {
   "cell_type": "code",
   "execution_count": null,
   "metadata": {
    "scrolled": true
   },
   "outputs": [],
   "source": [
    "west"
   ]
  },
  {
   "cell_type": "code",
   "execution_count": null,
   "metadata": {
    "scrolled": true
   },
   "outputs": [],
   "source": [
    "northeast = cabinet_df.loc[(cabinet_df['State']== 'Connecticut')  \n",
    "                     |(cabinet_df['State'] == 'Maine')\n",
    "                     | (cabinet_df['State'] == 'Massachusetts')\n",
    "                     | (cabinet_df['State'] == 'New York')\n",
    "                     | (cabinet_df['State'] == 'New Hampshire')\n",
    "                     | (cabinet_df['State'] == 'Rhode Island')\n",
    "                     | (cabinet_df['State'] == 'Vermont')\n",
    "                     | (cabinet_df['State'] == 'New Jersey')\n",
    "                     | (cabinet_df['State'] == 'Pennsylvania')\n",
    "                    ]\n",
    "northeast['region'] ='Northeast'"
   ]
  },
  {
   "cell_type": "code",
   "execution_count": null,
   "metadata": {
    "scrolled": true
   },
   "outputs": [],
   "source": [
    "northeast"
   ]
  },
  {
   "cell_type": "code",
   "execution_count": null,
   "metadata": {
    "scrolled": true
   },
   "outputs": [],
   "source": [
    "midwest = cabinet_df.loc[(cabinet_df['State']== 'Illinois')  \n",
    "                     |(cabinet_df['State'] == 'Indiana')\n",
    "                     | (cabinet_df['State'] == 'Michigan')\n",
    "                     | (cabinet_df['State'] == 'Ohio')\n",
    "                     | (cabinet_df['State'] == 'Wisconsin')\n",
    "                     | (cabinet_df['State'] == 'Iowa')\n",
    "                     | (cabinet_df['State'] == 'Kansas')\n",
    "                     | (cabinet_df['State'] == 'Minnesota')\n",
    "                     | (cabinet_df['State'] == 'Missouri')\n",
    "                     | (cabinet_df['State'] == 'Nebraska')\n",
    "                     | (cabinet_df['State'] == 'North Dakota')\n",
    "                     | (cabinet_df['State'] == 'South Dakota')\n",
    "                         \n",
    "                    ]\n",
    "midwest['region'] ='Midwest'"
   ]
  },
  {
   "cell_type": "markdown",
   "metadata": {},
   "source": [
    " "
   ]
  },
  {
   "cell_type": "code",
   "execution_count": null,
   "metadata": {
    "scrolled": true
   },
   "outputs": [],
   "source": [
    "midwest"
   ]
  },
  {
   "cell_type": "code",
   "execution_count": null,
   "metadata": {
    "scrolled": true
   },
   "outputs": [],
   "source": [
    "df_region = south.append(west)\n",
    "df_region = df_region.append(northeast)\n",
    "df_region = df_region.append(midwest)\n",
    "df_region['region'].value_counts()"
   ]
  },
  {
   "cell_type": "markdown",
   "metadata": {},
   "source": [
    "# ##Just isolating after World War II -- Goal\n",
    "##Create a graphic of change-over-time in the cabinet (like a timeline) \n",
    "##Create a chart of states (maybe a heatmap) "
   ]
  },
  {
   "cell_type": "code",
   "execution_count": 53,
   "metadata": {
    "scrolled": true
   },
   "outputs": [],
   "source": [
    "cabinet_df.sort_values(by='Date',ascending=False)\n",
    "df_WWII = cabinet_df[cabinet_df['Date'] > '1944']\n",
    "df_WWII = df_WWII.sort_values(by='Date')"
   ]
  },
  {
   "cell_type": "code",
   "execution_count": 54,
   "metadata": {},
   "outputs": [
    {
     "data": {
      "text/html": [
       "<div>\n",
       "<style>\n",
       "    .dataframe thead tr:only-child th {\n",
       "        text-align: right;\n",
       "    }\n",
       "\n",
       "    .dataframe thead th {\n",
       "        text-align: left;\n",
       "    }\n",
       "\n",
       "    .dataframe tbody tr th {\n",
       "        vertical-align: top;\n",
       "    }\n",
       "</style>\n",
       "<table border=\"1\" class=\"dataframe\">\n",
       "  <thead>\n",
       "    <tr style=\"text-align: right;\">\n",
       "      <th></th>\n",
       "      <th>Department</th>\n",
       "      <th>Name</th>\n",
       "      <th>Status</th>\n",
       "      <th>State</th>\n",
       "      <th>Start</th>\n",
       "      <th>End</th>\n",
       "      <th>Date</th>\n",
       "    </tr>\n",
       "  </thead>\n",
       "  <tbody>\n",
       "    <tr>\n",
       "      <th>145</th>\n",
       "      <td>Commerce</td>\n",
       "      <td>Henry A. Wallace</td>\n",
       "      <td>sworn in</td>\n",
       "      <td>Iowa</td>\n",
       "      <td>March 2, 1945</td>\n",
       "      <td>September 20, 1946</td>\n",
       "      <td>1945-01-01</td>\n",
       "    </tr>\n",
       "    <tr>\n",
       "      <th>401</th>\n",
       "      <td>State</td>\n",
       "      <td>Joseph Grew</td>\n",
       "      <td>Acting</td>\n",
       "      <td>New Hampshire</td>\n",
       "      <td>June 28, 1945</td>\n",
       "      <td>July 3, 1945</td>\n",
       "      <td>1945-01-01</td>\n",
       "    </tr>\n",
       "  </tbody>\n",
       "</table>\n",
       "</div>"
      ],
      "text/plain": [
       "    Department              Name    Status          State          Start  \\\n",
       "145   Commerce  Henry A. Wallace  sworn in           Iowa  March 2, 1945   \n",
       "401      State       Joseph Grew    Acting  New Hampshire  June 28, 1945   \n",
       "\n",
       "                   End        Date  \n",
       "145  September 20, 1946 1945-01-01  \n",
       "401        July 3, 1945 1945-01-01  "
      ]
     },
     "execution_count": 54,
     "metadata": {},
     "output_type": "execute_result"
    }
   ],
   "source": [
    "df_WWII.head(2)"
   ]
  },
  {
   "cell_type": "code",
   "execution_count": 55,
   "metadata": {
    "scrolled": true
   },
   "outputs": [
    {
     "data": {
      "text/html": [
       "<div>\n",
       "<style>\n",
       "    .dataframe thead tr:only-child th {\n",
       "        text-align: right;\n",
       "    }\n",
       "\n",
       "    .dataframe thead th {\n",
       "        text-align: left;\n",
       "    }\n",
       "\n",
       "    .dataframe tbody tr th {\n",
       "        vertical-align: top;\n",
       "    }\n",
       "</style>\n",
       "<table border=\"1\" class=\"dataframe\">\n",
       "  <thead>\n",
       "    <tr style=\"text-align: right;\">\n",
       "      <th></th>\n",
       "      <th>Department</th>\n",
       "      <th>Name</th>\n",
       "      <th>Status</th>\n",
       "      <th>State</th>\n",
       "      <th>Start</th>\n",
       "      <th>End</th>\n",
       "      <th>Date</th>\n",
       "    </tr>\n",
       "  </thead>\n",
       "  <tbody>\n",
       "    <tr>\n",
       "      <th>401</th>\n",
       "      <td>State</td>\n",
       "      <td>Joseph Grew</td>\n",
       "      <td>Acting</td>\n",
       "      <td>New Hampshire</td>\n",
       "      <td>June 28, 1945</td>\n",
       "      <td>July 3, 1945</td>\n",
       "      <td>1945-01-01</td>\n",
       "    </tr>\n",
       "    <tr>\n",
       "      <th>284</th>\n",
       "      <td>Interior</td>\n",
       "      <td>Oscar L. Chapman</td>\n",
       "      <td>Acting</td>\n",
       "      <td>Colorado</td>\n",
       "      <td>February 15, 1946</td>\n",
       "      <td>March 18, 1946</td>\n",
       "      <td>1946-01-01</td>\n",
       "    </tr>\n",
       "    <tr>\n",
       "      <th>126</th>\n",
       "      <td>Commerce</td>\n",
       "      <td>Alfred Schindler</td>\n",
       "      <td>Acting</td>\n",
       "      <td>unknown</td>\n",
       "      <td>September 20, 1946</td>\n",
       "      <td>October 7, 1946</td>\n",
       "      <td>1946-01-01</td>\n",
       "    </tr>\n",
       "    <tr>\n",
       "      <th>402</th>\n",
       "      <td>State</td>\n",
       "      <td>Harrison F. Matthews</td>\n",
       "      <td>Acting</td>\n",
       "      <td>Maryland</td>\n",
       "      <td>January 20, 1953</td>\n",
       "      <td>January 21, 1953</td>\n",
       "      <td>1953-01-01</td>\n",
       "    </tr>\n",
       "    <tr>\n",
       "      <th>285</th>\n",
       "      <td>Interior</td>\n",
       "      <td>Clarence A. Davis</td>\n",
       "      <td>Acting</td>\n",
       "      <td>Nebraska</td>\n",
       "      <td>April 15, 1956</td>\n",
       "      <td>June 8, 1956</td>\n",
       "      <td>1956-01-01</td>\n",
       "    </tr>\n",
       "    <tr>\n",
       "      <th>127</th>\n",
       "      <td>Commerce</td>\n",
       "      <td>Lewis L. Strauss</td>\n",
       "      <td>Acting</td>\n",
       "      <td>West Virginia</td>\n",
       "      <td>November 13, 1958</td>\n",
       "      <td>June 30, 1959</td>\n",
       "      <td>1958-01-01</td>\n",
       "    </tr>\n",
       "    <tr>\n",
       "      <th>403</th>\n",
       "      <td>State</td>\n",
       "      <td>Livingston T. Merchant</td>\n",
       "      <td>Acting</td>\n",
       "      <td>District of Columbia</td>\n",
       "      <td>January 20, 1961</td>\n",
       "      <td>January 21, 1961</td>\n",
       "      <td>1961-01-01</td>\n",
       "    </tr>\n",
       "    <tr>\n",
       "      <th>404</th>\n",
       "      <td>State</td>\n",
       "      <td>Charles E. Bohlen</td>\n",
       "      <td>Acting</td>\n",
       "      <td>District of Columbia</td>\n",
       "      <td>January 20, 1969</td>\n",
       "      <td>January 22, 1969</td>\n",
       "      <td>1969-01-01</td>\n",
       "    </tr>\n",
       "    <tr>\n",
       "      <th>286</th>\n",
       "      <td>Interior</td>\n",
       "      <td>Fred J. Russell</td>\n",
       "      <td>Acting</td>\n",
       "      <td>California</td>\n",
       "      <td>November 25, 1970</td>\n",
       "      <td>January 29, 1971</td>\n",
       "      <td>1970-01-01</td>\n",
       "    </tr>\n",
       "    <tr>\n",
       "      <th>405</th>\n",
       "      <td>State</td>\n",
       "      <td>Kenneth Rush</td>\n",
       "      <td>Acting</td>\n",
       "      <td>Florida</td>\n",
       "      <td>September 3, 1973</td>\n",
       "      <td>September 22, 1973</td>\n",
       "      <td>1973-01-01</td>\n",
       "    </tr>\n",
       "    <tr>\n",
       "      <th>34</th>\n",
       "      <td>Attorney General</td>\n",
       "      <td>Robert Bork</td>\n",
       "      <td>Acting</td>\n",
       "      <td>Pennsylvania</td>\n",
       "      <td>October 20, 1973</td>\n",
       "      <td>January 4, 1974</td>\n",
       "      <td>1973-01-01</td>\n",
       "    </tr>\n",
       "    <tr>\n",
       "      <th>175</th>\n",
       "      <td>Defense</td>\n",
       "      <td>William P. Clements, Jr.</td>\n",
       "      <td>Acting</td>\n",
       "      <td>Texas</td>\n",
       "      <td>May 24, 1973</td>\n",
       "      <td>July 2, 1973</td>\n",
       "      <td>1973-01-01</td>\n",
       "    </tr>\n",
       "    <tr>\n",
       "      <th>287</th>\n",
       "      <td>Interior</td>\n",
       "      <td>D. Kent Frizzell</td>\n",
       "      <td>Acting</td>\n",
       "      <td>Kansas</td>\n",
       "      <td>April 30, 1975</td>\n",
       "      <td>June 12, 1975</td>\n",
       "      <td>1975-01-01</td>\n",
       "    </tr>\n",
       "    <tr>\n",
       "      <th>288</th>\n",
       "      <td>Interior</td>\n",
       "      <td>D. Kent Frizzell</td>\n",
       "      <td>Acting</td>\n",
       "      <td>Kansas</td>\n",
       "      <td>October 9, 1975</td>\n",
       "      <td>October 17, 1975</td>\n",
       "      <td>1975-01-01</td>\n",
       "    </tr>\n",
       "    <tr>\n",
       "      <th>35</th>\n",
       "      <td>Attorney General</td>\n",
       "      <td>Dick Thornburgh</td>\n",
       "      <td>Acting</td>\n",
       "      <td>Pennsylvania</td>\n",
       "      <td>January 20, 1977</td>\n",
       "      <td>January 26, 1977</td>\n",
       "      <td>1977-01-01</td>\n",
       "    </tr>\n",
       "    <tr>\n",
       "      <th>289</th>\n",
       "      <td>Interior</td>\n",
       "      <td>Alfred G. Albert</td>\n",
       "      <td>Acting</td>\n",
       "      <td>Pennsylvania</td>\n",
       "      <td>January 20, 1977</td>\n",
       "      <td>January 23, 1977</td>\n",
       "      <td>1977-01-01</td>\n",
       "    </tr>\n",
       "    <tr>\n",
       "      <th>406</th>\n",
       "      <td>State</td>\n",
       "      <td>Philip Habib</td>\n",
       "      <td>Acting</td>\n",
       "      <td>California</td>\n",
       "      <td>January 20, 1977</td>\n",
       "      <td>January 23, 1977</td>\n",
       "      <td>1977-01-01</td>\n",
       "    </tr>\n",
       "    <tr>\n",
       "      <th>128</th>\n",
       "      <td>Commerce</td>\n",
       "      <td>Luther H. Hodges, Jr.</td>\n",
       "      <td>Acting</td>\n",
       "      <td>North Carolina</td>\n",
       "      <td>October 31, 1979</td>\n",
       "      <td>January 9, 1980</td>\n",
       "      <td>1979-01-01</td>\n",
       "    </tr>\n",
       "    <tr>\n",
       "      <th>407</th>\n",
       "      <td>State</td>\n",
       "      <td>Warren Christopher</td>\n",
       "      <td>Acting</td>\n",
       "      <td>California</td>\n",
       "      <td>April 28, 1980</td>\n",
       "      <td>May 2, 1980</td>\n",
       "      <td>1980-01-01</td>\n",
       "    </tr>\n",
       "    <tr>\n",
       "      <th>408</th>\n",
       "      <td>State</td>\n",
       "      <td>David D. Newsom</td>\n",
       "      <td>Acting</td>\n",
       "      <td>California</td>\n",
       "      <td>May 2, 1980</td>\n",
       "      <td>May 3, 1980</td>\n",
       "      <td>1980-01-01</td>\n",
       "    </tr>\n",
       "    <tr>\n",
       "      <th>411</th>\n",
       "      <td>State</td>\n",
       "      <td>Warren Christopher</td>\n",
       "      <td>Acting</td>\n",
       "      <td>California</td>\n",
       "      <td>May 4, 1980</td>\n",
       "      <td>May 8, 1980</td>\n",
       "      <td>1980-01-01</td>\n",
       "    </tr>\n",
       "    <tr>\n",
       "      <th>410</th>\n",
       "      <td>State</td>\n",
       "      <td>David D. Newsom</td>\n",
       "      <td>Acting</td>\n",
       "      <td>California</td>\n",
       "      <td>May 3, 1980</td>\n",
       "      <td>May 4, 1980</td>\n",
       "      <td>1980-01-01</td>\n",
       "    </tr>\n",
       "    <tr>\n",
       "      <th>409</th>\n",
       "      <td>State</td>\n",
       "      <td>Richard N. Cooper</td>\n",
       "      <td>Acting</td>\n",
       "      <td>Washington</td>\n",
       "      <td>May 3, 1980</td>\n",
       "      <td>May 3, 1980</td>\n",
       "      <td>1980-01-01</td>\n",
       "    </tr>\n",
       "    <tr>\n",
       "      <th>290</th>\n",
       "      <td>Interior</td>\n",
       "      <td>J. J. Simonds III</td>\n",
       "      <td>Acting</td>\n",
       "      <td>New Jersey</td>\n",
       "      <td>November 8, 1983</td>\n",
       "      <td>November 18, 1983</td>\n",
       "      <td>1983-01-01</td>\n",
       "    </tr>\n",
       "    <tr>\n",
       "      <th>129</th>\n",
       "      <td>Commerce</td>\n",
       "      <td>Clarence J. Brown Jr.</td>\n",
       "      <td>Acting</td>\n",
       "      <td>Ohio</td>\n",
       "      <td>July 25, 1987</td>\n",
       "      <td>October 19, 1987</td>\n",
       "      <td>1987-01-01</td>\n",
       "    </tr>\n",
       "    <tr>\n",
       "      <th>176</th>\n",
       "      <td>Defense</td>\n",
       "      <td>William Howard Taft IV</td>\n",
       "      <td>Acting</td>\n",
       "      <td>Ohio</td>\n",
       "      <td>January 20, 1989</td>\n",
       "      <td>March 21, 1989</td>\n",
       "      <td>1989-01-01</td>\n",
       "    </tr>\n",
       "    <tr>\n",
       "      <th>291</th>\n",
       "      <td>Interior</td>\n",
       "      <td>Earl E. Gjelde</td>\n",
       "      <td>Acting</td>\n",
       "      <td>Virginia</td>\n",
       "      <td>January 20, 1989</td>\n",
       "      <td>February 3, 1989</td>\n",
       "      <td>1989-01-01</td>\n",
       "    </tr>\n",
       "    <tr>\n",
       "      <th>262</th>\n",
       "      <td>HUD</td>\n",
       "      <td>J. Michael Dorsey</td>\n",
       "      <td>Acting</td>\n",
       "      <td>unknown</td>\n",
       "      <td>January 20, 1989</td>\n",
       "      <td>February 13, 1989</td>\n",
       "      <td>1989-01-01</td>\n",
       "    </tr>\n",
       "    <tr>\n",
       "      <th>207</th>\n",
       "      <td>Education</td>\n",
       "      <td>Ted Sanders</td>\n",
       "      <td>Acting</td>\n",
       "      <td>Illinois</td>\n",
       "      <td>December 12, 1990</td>\n",
       "      <td>March 22, 1991</td>\n",
       "      <td>1990-01-01</td>\n",
       "    </tr>\n",
       "    <tr>\n",
       "      <th>592</th>\n",
       "      <td>VA</td>\n",
       "      <td>Anthony Principi</td>\n",
       "      <td>Acting</td>\n",
       "      <td>California</td>\n",
       "      <td>September 26, 1992</td>\n",
       "      <td>January 20, 1993</td>\n",
       "      <td>1992-01-01</td>\n",
       "    </tr>\n",
       "    <tr>\n",
       "      <th>...</th>\n",
       "      <td>...</td>\n",
       "      <td>...</td>\n",
       "      <td>...</td>\n",
       "      <td>...</td>\n",
       "      <td>...</td>\n",
       "      <td>...</td>\n",
       "      <td>...</td>\n",
       "    </tr>\n",
       "    <tr>\n",
       "      <th>595</th>\n",
       "      <td>VA</td>\n",
       "      <td>Gordon H. Mansfield</td>\n",
       "      <td>Acting</td>\n",
       "      <td>Florida</td>\n",
       "      <td>October 1, 2007</td>\n",
       "      <td>December 20, 2007</td>\n",
       "      <td>2007-01-01</td>\n",
       "    </tr>\n",
       "    <tr>\n",
       "      <th>38</th>\n",
       "      <td>Attorney General</td>\n",
       "      <td>Paul Clement</td>\n",
       "      <td>Acting</td>\n",
       "      <td>Washington, D.C.</td>\n",
       "      <td>September 17, 2007</td>\n",
       "      <td>September 18, 2007</td>\n",
       "      <td>2007-01-01</td>\n",
       "    </tr>\n",
       "    <tr>\n",
       "      <th>39</th>\n",
       "      <td>Attorney General</td>\n",
       "      <td>Peter Keisler</td>\n",
       "      <td>Acting</td>\n",
       "      <td>Washington, D.C.</td>\n",
       "      <td>September 18, 2007</td>\n",
       "      <td>November 9, 2007</td>\n",
       "      <td>2007-01-01</td>\n",
       "    </tr>\n",
       "    <tr>\n",
       "      <th>264</th>\n",
       "      <td>HUD</td>\n",
       "      <td>Roy A. Bernardi</td>\n",
       "      <td>Acting</td>\n",
       "      <td>New York</td>\n",
       "      <td>April 18, 2008</td>\n",
       "      <td>June 4, 2008</td>\n",
       "      <td>2008-01-01</td>\n",
       "    </tr>\n",
       "    <tr>\n",
       "      <th>349</th>\n",
       "      <td>Labor</td>\n",
       "      <td>Ed Hugler</td>\n",
       "      <td>Acting</td>\n",
       "      <td>Pennsylvania</td>\n",
       "      <td>February 2, 2009</td>\n",
       "      <td>February 24, 2009</td>\n",
       "      <td>2009-01-01</td>\n",
       "    </tr>\n",
       "    <tr>\n",
       "      <th>133</th>\n",
       "      <td>Commerce</td>\n",
       "      <td>Otto J. Wolff</td>\n",
       "      <td>Acting</td>\n",
       "      <td>Virginia</td>\n",
       "      <td>January 20, 2009</td>\n",
       "      <td>March 26, 2009</td>\n",
       "      <td>2009-01-01</td>\n",
       "    </tr>\n",
       "    <tr>\n",
       "      <th>510</th>\n",
       "      <td>Treasury</td>\n",
       "      <td>Stuart A. Levey</td>\n",
       "      <td>Acting</td>\n",
       "      <td>Ohio</td>\n",
       "      <td>Jan. 20,2009</td>\n",
       "      <td>Jan 26, 2009</td>\n",
       "      <td>2009-01-01</td>\n",
       "    </tr>\n",
       "    <tr>\n",
       "      <th>293</th>\n",
       "      <td>Interior</td>\n",
       "      <td>Lynn Scarlett</td>\n",
       "      <td>Acting</td>\n",
       "      <td>California</td>\n",
       "      <td>January 19, 2009</td>\n",
       "      <td>January 20, 2009</td>\n",
       "      <td>2009-01-01</td>\n",
       "    </tr>\n",
       "    <tr>\n",
       "      <th>40</th>\n",
       "      <td>Attorney General</td>\n",
       "      <td>Mark Filip</td>\n",
       "      <td>Acting</td>\n",
       "      <td>Illinois</td>\n",
       "      <td>January 20, 2009</td>\n",
       "      <td>February 3, 2009</td>\n",
       "      <td>2009-01-01</td>\n",
       "    </tr>\n",
       "    <tr>\n",
       "      <th>265</th>\n",
       "      <td>HUD</td>\n",
       "      <td>Brian D. Montgomery</td>\n",
       "      <td>Acting</td>\n",
       "      <td>Texas</td>\n",
       "      <td>January 20, 2009</td>\n",
       "      <td>January 26, 2009</td>\n",
       "      <td>2009-01-01</td>\n",
       "    </tr>\n",
       "    <tr>\n",
       "      <th>134</th>\n",
       "      <td>Commerce</td>\n",
       "      <td>Rebecca M. Blank</td>\n",
       "      <td>Acting</td>\n",
       "      <td>Minnesota</td>\n",
       "      <td>August 1, 2011</td>\n",
       "      <td>October 21, 2011</td>\n",
       "      <td>2011-01-01</td>\n",
       "    </tr>\n",
       "    <tr>\n",
       "      <th>135</th>\n",
       "      <td>Commerce</td>\n",
       "      <td>Rebecca M. Blank</td>\n",
       "      <td>Acting</td>\n",
       "      <td>Minnesota</td>\n",
       "      <td>June 11, 2012</td>\n",
       "      <td>June 1, 2013</td>\n",
       "      <td>2012-01-01</td>\n",
       "    </tr>\n",
       "    <tr>\n",
       "      <th>511</th>\n",
       "      <td>Treasury</td>\n",
       "      <td>Neal S. Wolin</td>\n",
       "      <td>Acting</td>\n",
       "      <td>Illinois</td>\n",
       "      <td>Jan 25, 2013</td>\n",
       "      <td>Feb 28, 2013</td>\n",
       "      <td>2013-01-01</td>\n",
       "    </tr>\n",
       "    <tr>\n",
       "      <th>136</th>\n",
       "      <td>Commerce</td>\n",
       "      <td>Cameron Kerry</td>\n",
       "      <td>Acting</td>\n",
       "      <td>Massachusetts</td>\n",
       "      <td>June 1, 2013</td>\n",
       "      <td>June 26, 2013</td>\n",
       "      <td>2013-01-01</td>\n",
       "    </tr>\n",
       "    <tr>\n",
       "      <th>255</th>\n",
       "      <td>Homeland Sec</td>\n",
       "      <td>Rand Beers</td>\n",
       "      <td>Acting</td>\n",
       "      <td>District of Columbia</td>\n",
       "      <td>September 6, 2013</td>\n",
       "      <td>December 16, 2013</td>\n",
       "      <td>2013-01-01</td>\n",
       "    </tr>\n",
       "    <tr>\n",
       "      <th>256</th>\n",
       "      <td>Homeland Sec</td>\n",
       "      <td>Jeh Johnson</td>\n",
       "      <td>Acting</td>\n",
       "      <td>New Jersey</td>\n",
       "      <td>December 23, 2013</td>\n",
       "      <td>January 20, 2017</td>\n",
       "      <td>2013-01-01</td>\n",
       "    </tr>\n",
       "    <tr>\n",
       "      <th>216</th>\n",
       "      <td>Energy</td>\n",
       "      <td>Daniel Poneman</td>\n",
       "      <td>Acting</td>\n",
       "      <td>Ohio</td>\n",
       "      <td>April 22, 2013</td>\n",
       "      <td>May 21, 2013</td>\n",
       "      <td>2013-01-01</td>\n",
       "    </tr>\n",
       "    <tr>\n",
       "      <th>596</th>\n",
       "      <td>VA</td>\n",
       "      <td>Sloan D. Gibson</td>\n",
       "      <td>Acting</td>\n",
       "      <td>Alabama</td>\n",
       "      <td>May 30, 2014</td>\n",
       "      <td>July 30, 2014</td>\n",
       "      <td>2014-01-01</td>\n",
       "    </tr>\n",
       "    <tr>\n",
       "      <th>294</th>\n",
       "      <td>Interior</td>\n",
       "      <td>Kevin Haugrud</td>\n",
       "      <td>Acting</td>\n",
       "      <td>unknown</td>\n",
       "      <td>January 20, 2017</td>\n",
       "      <td>March 1, 2017</td>\n",
       "      <td>2017-01-01</td>\n",
       "    </tr>\n",
       "    <tr>\n",
       "      <th>257</th>\n",
       "      <td>Homeland Sec</td>\n",
       "      <td>Elaine Duke</td>\n",
       "      <td>Acting</td>\n",
       "      <td>Virginia</td>\n",
       "      <td>July 31, 2017</td>\n",
       "      <td>present</td>\n",
       "      <td>2017-01-01</td>\n",
       "    </tr>\n",
       "    <tr>\n",
       "      <th>231</th>\n",
       "      <td>HHS</td>\n",
       "      <td>Norris Cochran</td>\n",
       "      <td>Acting</td>\n",
       "      <td>California</td>\n",
       "      <td>January 20, 2017</td>\n",
       "      <td>February 10, 2017</td>\n",
       "      <td>2017-01-01</td>\n",
       "    </tr>\n",
       "    <tr>\n",
       "      <th>512</th>\n",
       "      <td>Treasury</td>\n",
       "      <td>Adam Szubin</td>\n",
       "      <td>Acting</td>\n",
       "      <td>District of Columbia</td>\n",
       "      <td>Jan 20, 2017</td>\n",
       "      <td>Feb 13, 2017</td>\n",
       "      <td>2017-01-01</td>\n",
       "    </tr>\n",
       "    <tr>\n",
       "      <th>214</th>\n",
       "      <td>Education</td>\n",
       "      <td>Phil Rosenfelt</td>\n",
       "      <td>Acting</td>\n",
       "      <td>Virginia</td>\n",
       "      <td>January 20, 2017</td>\n",
       "      <td>February 7, 2017</td>\n",
       "      <td>2017-01-01</td>\n",
       "    </tr>\n",
       "    <tr>\n",
       "      <th>1</th>\n",
       "      <td>Agriculture</td>\n",
       "      <td>Mike Young</td>\n",
       "      <td>Acting</td>\n",
       "      <td>Colorado</td>\n",
       "      <td>January 20, 2017</td>\n",
       "      <td>April 25, 2017</td>\n",
       "      <td>2017-01-01</td>\n",
       "    </tr>\n",
       "    <tr>\n",
       "      <th>41</th>\n",
       "      <td>Attorney General</td>\n",
       "      <td>Sally Yates</td>\n",
       "      <td>Acting</td>\n",
       "      <td>Georgia</td>\n",
       "      <td>January 20, 2017</td>\n",
       "      <td>January 30, 2017</td>\n",
       "      <td>2017-01-01</td>\n",
       "    </tr>\n",
       "    <tr>\n",
       "      <th>414</th>\n",
       "      <td>State</td>\n",
       "      <td>Tom Shannon</td>\n",
       "      <td>Acting</td>\n",
       "      <td>Minnesota</td>\n",
       "      <td>January 20, 2017</td>\n",
       "      <td>February 1, 2017</td>\n",
       "      <td>2017-01-01</td>\n",
       "    </tr>\n",
       "    <tr>\n",
       "      <th>0</th>\n",
       "      <td>Agriculture</td>\n",
       "      <td>Michael Scuse</td>\n",
       "      <td>Acting</td>\n",
       "      <td>Delaware</td>\n",
       "      <td>January 13, 2017</td>\n",
       "      <td>January 20, 2017</td>\n",
       "      <td>2017-01-01</td>\n",
       "    </tr>\n",
       "    <tr>\n",
       "      <th>597</th>\n",
       "      <td>VA</td>\n",
       "      <td>Robert Snyder</td>\n",
       "      <td>Acting</td>\n",
       "      <td>West Virginia</td>\n",
       "      <td>January 20, 2017</td>\n",
       "      <td>February 14, 2017</td>\n",
       "      <td>2017-01-01</td>\n",
       "    </tr>\n",
       "    <tr>\n",
       "      <th>42</th>\n",
       "      <td>Attorney General</td>\n",
       "      <td>Dana Boente</td>\n",
       "      <td>Acting</td>\n",
       "      <td>Virginia</td>\n",
       "      <td>January 30, 2017</td>\n",
       "      <td>February 9, 2017</td>\n",
       "      <td>2017-01-01</td>\n",
       "    </tr>\n",
       "    <tr>\n",
       "      <th>504</th>\n",
       "      <td>Transportation</td>\n",
       "      <td>Michael Huerta</td>\n",
       "      <td>Acting</td>\n",
       "      <td>California</td>\n",
       "      <td>January 20, 2017</td>\n",
       "      <td>January 31, 2017</td>\n",
       "      <td>2017-01-01</td>\n",
       "    </tr>\n",
       "  </tbody>\n",
       "</table>\n",
       "<p>75 rows × 7 columns</p>\n",
       "</div>"
      ],
      "text/plain": [
       "            Department                      Name  Status  \\\n",
       "401              State               Joseph Grew  Acting   \n",
       "284           Interior          Oscar L. Chapman  Acting   \n",
       "126           Commerce          Alfred Schindler  Acting   \n",
       "402              State      Harrison F. Matthews  Acting   \n",
       "285           Interior         Clarence A. Davis  Acting   \n",
       "127           Commerce          Lewis L. Strauss  Acting   \n",
       "403              State    Livingston T. Merchant  Acting   \n",
       "404              State         Charles E. Bohlen  Acting   \n",
       "286           Interior           Fred J. Russell  Acting   \n",
       "405              State              Kenneth Rush  Acting   \n",
       "34   Attorney General                Robert Bork  Acting   \n",
       "175            Defense  William P. Clements, Jr.  Acting   \n",
       "287           Interior          D. Kent Frizzell  Acting   \n",
       "288           Interior          D. Kent Frizzell  Acting   \n",
       "35   Attorney General            Dick Thornburgh  Acting   \n",
       "289           Interior          Alfred G. Albert  Acting   \n",
       "406              State              Philip Habib  Acting   \n",
       "128           Commerce     Luther H. Hodges, Jr.  Acting   \n",
       "407              State        Warren Christopher  Acting   \n",
       "408              State           David D. Newsom  Acting   \n",
       "411              State        Warren Christopher  Acting   \n",
       "410              State           David D. Newsom  Acting   \n",
       "409              State         Richard N. Cooper  Acting   \n",
       "290           Interior         J. J. Simonds III  Acting   \n",
       "129           Commerce     Clarence J. Brown Jr.  Acting   \n",
       "176            Defense    William Howard Taft IV  Acting   \n",
       "291           Interior            Earl E. Gjelde  Acting   \n",
       "262                HUD         J. Michael Dorsey  Acting   \n",
       "207          Education               Ted Sanders  Acting   \n",
       "592                VA           Anthony Principi  Acting   \n",
       "..                 ...                       ...     ...   \n",
       "595                VA        Gordon H. Mansfield  Acting   \n",
       "38   Attorney General               Paul Clement  Acting   \n",
       "39   Attorney General              Peter Keisler  Acting   \n",
       "264                HUD           Roy A. Bernardi  Acting   \n",
       "349              Labor                 Ed Hugler  Acting   \n",
       "133           Commerce             Otto J. Wolff  Acting   \n",
       "510           Treasury           Stuart A. Levey  Acting   \n",
       "293           Interior             Lynn Scarlett  Acting   \n",
       "40   Attorney General                 Mark Filip  Acting   \n",
       "265                HUD       Brian D. Montgomery  Acting   \n",
       "134           Commerce          Rebecca M. Blank  Acting   \n",
       "135           Commerce          Rebecca M. Blank  Acting   \n",
       "511           Treasury             Neal S. Wolin  Acting   \n",
       "136           Commerce             Cameron Kerry  Acting   \n",
       "255       Homeland Sec                Rand Beers  Acting   \n",
       "256       Homeland Sec               Jeh Johnson  Acting   \n",
       "216            Energy             Daniel Poneman  Acting   \n",
       "596                VA            Sloan D. Gibson  Acting   \n",
       "294           Interior             Kevin Haugrud  Acting   \n",
       "257       Homeland Sec               Elaine Duke  Acting   \n",
       "231                HHS            Norris Cochran  Acting   \n",
       "512           Treasury               Adam Szubin  Acting   \n",
       "214          Education            Phil Rosenfelt  Acting   \n",
       "1          Agriculture                Mike Young  Acting   \n",
       "41   Attorney General                Sally Yates  Acting   \n",
       "414              State               Tom Shannon  Acting   \n",
       "0          Agriculture             Michael Scuse  Acting   \n",
       "597                VA              Robert Snyder  Acting   \n",
       "42   Attorney General                Dana Boente  Acting   \n",
       "504    Transportation             Michael Huerta  Acting   \n",
       "\n",
       "                    State               Start                End        Date  \n",
       "401         New Hampshire       June 28, 1945        July 3, 1945 1945-01-01  \n",
       "284              Colorado   February 15, 1946      March 18, 1946 1946-01-01  \n",
       "126               unknown  September 20, 1946     October 7, 1946 1946-01-01  \n",
       "402              Maryland    January 20, 1953    January 21, 1953 1953-01-01  \n",
       "285              Nebraska      April 15, 1956        June 8, 1956 1956-01-01  \n",
       "127         West Virginia   November 13, 1958       June 30, 1959 1958-01-01  \n",
       "403  District of Columbia    January 20, 1961    January 21, 1961 1961-01-01  \n",
       "404  District of Columbia    January 20, 1969    January 22, 1969 1969-01-01  \n",
       "286            California   November 25, 1970    January 29, 1971 1970-01-01  \n",
       "405               Florida   September 3, 1973  September 22, 1973 1973-01-01  \n",
       "34           Pennsylvania    October 20, 1973     January 4, 1974 1973-01-01  \n",
       "175                 Texas        May 24, 1973        July 2, 1973 1973-01-01  \n",
       "287                Kansas      April 30, 1975       June 12, 1975 1975-01-01  \n",
       "288                Kansas     October 9, 1975    October 17, 1975 1975-01-01  \n",
       "35           Pennsylvania    January 20, 1977    January 26, 1977 1977-01-01  \n",
       "289          Pennsylvania    January 20, 1977    January 23, 1977 1977-01-01  \n",
       "406            California    January 20, 1977    January 23, 1977 1977-01-01  \n",
       "128        North Carolina    October 31, 1979     January 9, 1980 1979-01-01  \n",
       "407            California      April 28, 1980         May 2, 1980 1980-01-01  \n",
       "408            California         May 2, 1980         May 3, 1980 1980-01-01  \n",
       "411            California         May 4, 1980         May 8, 1980 1980-01-01  \n",
       "410            California         May 3, 1980         May 4, 1980 1980-01-01  \n",
       "409            Washington         May 3, 1980         May 3, 1980 1980-01-01  \n",
       "290            New Jersey    November 8, 1983   November 18, 1983 1983-01-01  \n",
       "129                  Ohio       July 25, 1987    October 19, 1987 1987-01-01  \n",
       "176                  Ohio    January 20, 1989      March 21, 1989 1989-01-01  \n",
       "291              Virginia    January 20, 1989    February 3, 1989 1989-01-01  \n",
       "262               unknown    January 20, 1989   February 13, 1989 1989-01-01  \n",
       "207              Illinois   December 12, 1990      March 22, 1991 1990-01-01  \n",
       "592            California  September 26, 1992    January 20, 1993 1992-01-01  \n",
       "..                    ...                 ...                 ...        ...  \n",
       "595               Florida     October 1, 2007   December 20, 2007 2007-01-01  \n",
       "38       Washington, D.C.  September 17, 2007  September 18, 2007 2007-01-01  \n",
       "39       Washington, D.C.  September 18, 2007    November 9, 2007 2007-01-01  \n",
       "264              New York      April 18, 2008        June 4, 2008 2008-01-01  \n",
       "349          Pennsylvania    February 2, 2009   February 24, 2009 2009-01-01  \n",
       "133              Virginia    January 20, 2009      March 26, 2009 2009-01-01  \n",
       "510                  Ohio        Jan. 20,2009        Jan 26, 2009 2009-01-01  \n",
       "293            California    January 19, 2009    January 20, 2009 2009-01-01  \n",
       "40               Illinois    January 20, 2009    February 3, 2009 2009-01-01  \n",
       "265                 Texas    January 20, 2009    January 26, 2009 2009-01-01  \n",
       "134             Minnesota      August 1, 2011    October 21, 2011 2011-01-01  \n",
       "135             Minnesota       June 11, 2012        June 1, 2013 2012-01-01  \n",
       "511              Illinois        Jan 25, 2013        Feb 28, 2013 2013-01-01  \n",
       "136         Massachusetts        June 1, 2013       June 26, 2013 2013-01-01  \n",
       "255  District of Columbia   September 6, 2013   December 16, 2013 2013-01-01  \n",
       "256            New Jersey   December 23, 2013    January 20, 2017 2013-01-01  \n",
       "216                  Ohio      April 22, 2013        May 21, 2013 2013-01-01  \n",
       "596               Alabama        May 30, 2014       July 30, 2014 2014-01-01  \n",
       "294               unknown    January 20, 2017       March 1, 2017 2017-01-01  \n",
       "257              Virginia       July 31, 2017             present 2017-01-01  \n",
       "231            California    January 20, 2017   February 10, 2017 2017-01-01  \n",
       "512  District of Columbia        Jan 20, 2017        Feb 13, 2017 2017-01-01  \n",
       "214              Virginia    January 20, 2017    February 7, 2017 2017-01-01  \n",
       "1                Colorado    January 20, 2017      April 25, 2017 2017-01-01  \n",
       "41                Georgia    January 20, 2017    January 30, 2017 2017-01-01  \n",
       "414             Minnesota    January 20, 2017    February 1, 2017 2017-01-01  \n",
       "0                Delaware    January 13, 2017    January 20, 2017 2017-01-01  \n",
       "597         West Virginia    January 20, 2017   February 14, 2017 2017-01-01  \n",
       "42               Virginia    January 30, 2017    February 9, 2017 2017-01-01  \n",
       "504            California    January 20, 2017    January 31, 2017 2017-01-01  \n",
       "\n",
       "[75 rows x 7 columns]"
      ]
     },
     "execution_count": 55,
     "metadata": {},
     "output_type": "execute_result"
    }
   ],
   "source": [
    "df_acting = df_WWII[df_WWII['Status'] == 'Acting']\n",
    "df_acting.sort_values(by='Date')"
   ]
  },
  {
   "cell_type": "markdown",
   "metadata": {},
   "source": [
    "## CODE TO CREATE POST-WORLD WAR II TIMELINE \n",
    "### (Put into illustrator) "
   ]
  },
  {
   "cell_type": "code",
   "execution_count": null,
   "metadata": {
    "collapsed": true
   },
   "outputs": [],
   "source": []
  },
  {
   "cell_type": "code",
   "execution_count": null,
   "metadata": {
    "scrolled": true
   },
   "outputs": [],
   "source": [
    "df_state = df_WWII[df_WWII['Department'] == 'State']\n",
    "df_state.sort_values(by='Date') "
   ]
  },
  {
   "cell_type": "code",
   "execution_count": null,
   "metadata": {
    "collapsed": true,
    "scrolled": true
   },
   "outputs": [],
   "source": [
    "df_treasury = df_WWII[df_WWII['Department'] == 'Treasury']\n",
    "#df_treasury.sort_values(by='Date') "
   ]
  },
  {
   "cell_type": "code",
   "execution_count": null,
   "metadata": {
    "collapsed": true,
    "scrolled": true
   },
   "outputs": [],
   "source": [
    "df_defense = df_WWII[df_WWII['Department'] == 'Defense']\n",
    "#df_defense.sort_values(by='Date') "
   ]
  },
  {
   "cell_type": "code",
   "execution_count": null,
   "metadata": {
    "collapsed": true,
    "scrolled": true
   },
   "outputs": [],
   "source": [
    "df_ag = df_WWII[df_WWII['Department'] == 'Attorney General ']\n",
    "#df_ag.sort_values(by='Date') "
   ]
  },
  {
   "cell_type": "code",
   "execution_count": null,
   "metadata": {
    "collapsed": true,
    "scrolled": true
   },
   "outputs": [],
   "source": [
    "df_interior = df_WWII[df_WWII['Department'] == 'Interior']\n",
    "#df_interior.sort_values(by='Date') "
   ]
  },
  {
   "cell_type": "code",
   "execution_count": null,
   "metadata": {
    "collapsed": true,
    "scrolled": false
   },
   "outputs": [],
   "source": [
    "df_agriculture = df_WWII[df_WWII['Department'] == 'Agriculture']\n",
    "#df_agriculture.sort_values(by='Date') "
   ]
  },
  {
   "cell_type": "code",
   "execution_count": null,
   "metadata": {
    "collapsed": true,
    "scrolled": true
   },
   "outputs": [],
   "source": [
    "df_commerce = df_WWII[df_WWII['Department'] == 'Commerce']\n",
    "#df_commerce.sort_values(by='Date') "
   ]
  },
  {
   "cell_type": "code",
   "execution_count": null,
   "metadata": {
    "collapsed": true,
    "scrolled": false
   },
   "outputs": [],
   "source": [
    "df_labor = df_WWII[df_WWII['Department'] == 'Labor']\n",
    "#df_labor.sort_values(by='Date') "
   ]
  },
  {
   "cell_type": "code",
   "execution_count": null,
   "metadata": {
    "collapsed": true,
    "scrolled": true
   },
   "outputs": [],
   "source": [
    "df_hhs = df_WWII[df_WWII['Department'] == 'HHS']\n",
    "#df_hhs.sort_values(by='Date') "
   ]
  },
  {
   "cell_type": "code",
   "execution_count": null,
   "metadata": {
    "collapsed": true,
    "scrolled": true
   },
   "outputs": [],
   "source": [
    "df_hud = df_WWII[df_WWII['Department'] == 'HUD']\n",
    "#df_hud.sort_values(by='Date') "
   ]
  },
  {
   "cell_type": "code",
   "execution_count": null,
   "metadata": {
    "collapsed": true,
    "scrolled": true
   },
   "outputs": [],
   "source": [
    "df_energy = df_WWII[df_WWII['Department'] == 'Energy ']\n",
    "#df_energy.sort_values(by='Date') "
   ]
  },
  {
   "cell_type": "code",
   "execution_count": null,
   "metadata": {
    "collapsed": true,
    "scrolled": true
   },
   "outputs": [],
   "source": [
    "df_education = df_WWII[df_WWII['Department'] == 'Education']\n",
    "#df_education.sort_values(by='Date') "
   ]
  },
  {
   "cell_type": "code",
   "execution_count": null,
   "metadata": {
    "collapsed": true,
    "scrolled": true
   },
   "outputs": [],
   "source": [
    "df_va = df_WWII[df_WWII['Department'] == 'VA ']\n",
    "#df_va.sort_values(by='Date') "
   ]
  },
  {
   "cell_type": "code",
   "execution_count": null,
   "metadata": {
    "collapsed": true,
    "scrolled": true
   },
   "outputs": [],
   "source": [
    "df_hls = df_WWII[df_WWII['Department'] == 'Homeland Sec']\n",
    "#df_hls.sort_values(by='Date') "
   ]
  },
  {
   "cell_type": "code",
   "execution_count": null,
   "metadata": {
    "collapsed": true,
    "scrolled": true
   },
   "outputs": [],
   "source": [
    "df_transportation = df_WWII[df_WWII['Department'] == 'Transportation']\n",
    "#df_transportation.sort_values(by='Date')"
   ]
  },
  {
   "cell_type": "code",
   "execution_count": null,
   "metadata": {
    "collapsed": true,
    "scrolled": true
   },
   "outputs": [],
   "source": [
    "#df_WWII['Department'].value_counts().sum()"
   ]
  },
  {
   "cell_type": "markdown",
   "metadata": {},
   "source": [
    "## START EXPLORING CABINET TURNOVER BY PRESIDENT: \n",
    "### Isolating Numbers of Cabinet per President "
   ]
  },
  {
   "cell_type": "code",
   "execution_count": null,
   "metadata": {
    "collapsed": true,
    "scrolled": true
   },
   "outputs": [],
   "source": [
    "## Start with Obama \n",
    "# df1 = df[(df.a != -1) & (df.b != -1)] \n",
    "# https://stackoverflow.com/questions/22591174/pandas-multiple-conditions-while-indexing-data-frame-unexpected-behavior\n",
    "# https://pandas.pydata.org/pandas-docs/stable/generated/pandas.DataFrame.rename.html  "
   ]
  },
  {
   "cell_type": "code",
   "execution_count": null,
   "metadata": {
    "collapsed": true,
    "scrolled": true
   },
   "outputs": [],
   "source": [
    "df_obama = cabinet_df[(cabinet_df['Date'] >= '2009') & (cabinet_df['Date'] != '2017')]"
   ]
  },
  {
   "cell_type": "code",
   "execution_count": null,
   "metadata": {
    "collapsed": true,
    "scrolled": false
   },
   "outputs": [],
   "source": [
    "df_obama_dept = df_obama['Department'].value_counts() "
   ]
  },
  {
   "cell_type": "code",
   "execution_count": null,
   "metadata": {
    "collapsed": true,
    "scrolled": true
   },
   "outputs": [],
   "source": [
    "df_obama_dept = pd.DataFrame(df_obama_dept) "
   ]
  },
  {
   "cell_type": "code",
   "execution_count": null,
   "metadata": {
    "collapsed": true,
    "scrolled": true
   },
   "outputs": [],
   "source": [
    "df_obama_dept = df_obama_dept.rename(columns={\"Department\": \"Obama\"}) "
   ]
  },
  {
   "cell_type": "code",
   "execution_count": null,
   "metadata": {
    "collapsed": true,
    "scrolled": true
   },
   "outputs": [],
   "source": [
    "df_obama_dept.reset_index(inplace=True)"
   ]
  },
  {
   "cell_type": "code",
   "execution_count": null,
   "metadata": {
    "scrolled": false
   },
   "outputs": [],
   "source": [
    "df_obama_dept"
   ]
  },
  {
   "cell_type": "code",
   "execution_count": null,
   "metadata": {
    "collapsed": true,
    "scrolled": true
   },
   "outputs": [],
   "source": [
    "# Going back to W  "
   ]
  },
  {
   "cell_type": "code",
   "execution_count": null,
   "metadata": {
    "collapsed": true,
    "scrolled": true
   },
   "outputs": [],
   "source": [
    "df_wbush = cabinet_df[(cabinet_df['Date'] >= '2001') & (cabinet_df['Date'] <= '2008')]"
   ]
  },
  {
   "cell_type": "code",
   "execution_count": null,
   "metadata": {
    "collapsed": true,
    "scrolled": true
   },
   "outputs": [],
   "source": [
    "df_wbush_dept = df_wbush['Department'].value_counts() "
   ]
  },
  {
   "cell_type": "code",
   "execution_count": null,
   "metadata": {
    "collapsed": true,
    "scrolled": true
   },
   "outputs": [],
   "source": [
    "df_wbush_dept = pd.DataFrame(df_wbush_dept)"
   ]
  },
  {
   "cell_type": "code",
   "execution_count": null,
   "metadata": {
    "collapsed": true,
    "scrolled": true
   },
   "outputs": [],
   "source": [
    "df_wbush_dept = df_wbush_dept.rename(columns={\"Department\": \"W.Bush\"})  "
   ]
  },
  {
   "cell_type": "code",
   "execution_count": null,
   "metadata": {
    "collapsed": true,
    "scrolled": true
   },
   "outputs": [],
   "source": [
    "df_wbush_dept.reset_index(inplace=True)"
   ]
  },
  {
   "cell_type": "code",
   "execution_count": null,
   "metadata": {
    "scrolled": false
   },
   "outputs": [],
   "source": [
    "full_department = df_obama_dept.merge(df_wbush_dept, on='index',how='outer')\n",
    "full_department"
   ]
  },
  {
   "cell_type": "code",
   "execution_count": null,
   "metadata": {
    "collapsed": true,
    "scrolled": true
   },
   "outputs": [],
   "source": [
    "## Let's look at Clinton"
   ]
  },
  {
   "cell_type": "code",
   "execution_count": null,
   "metadata": {
    "collapsed": true,
    "scrolled": true
   },
   "outputs": [],
   "source": [
    "df_clinton = cabinet_df[(cabinet_df['Date'] >= '1993') & (cabinet_df['Date'] <= '2000')]"
   ]
  },
  {
   "cell_type": "code",
   "execution_count": null,
   "metadata": {
    "collapsed": true,
    "scrolled": true
   },
   "outputs": [],
   "source": [
    "df_clinton_dept = df_clinton['Department'].value_counts()"
   ]
  },
  {
   "cell_type": "code",
   "execution_count": null,
   "metadata": {
    "collapsed": true,
    "scrolled": true
   },
   "outputs": [],
   "source": [
    "df_clinton_dept = pd.DataFrame(df_clinton_dept)"
   ]
  },
  {
   "cell_type": "code",
   "execution_count": null,
   "metadata": {
    "collapsed": true,
    "scrolled": true
   },
   "outputs": [],
   "source": [
    "df_clinton_dept = df_clinton_dept.rename(columns={\"Department\": \"Clinton\"})  "
   ]
  },
  {
   "cell_type": "code",
   "execution_count": null,
   "metadata": {
    "collapsed": true,
    "scrolled": true
   },
   "outputs": [],
   "source": [
    "df_clinton_dept.reset_index(inplace=True)"
   ]
  },
  {
   "cell_type": "code",
   "execution_count": null,
   "metadata": {
    "scrolled": false
   },
   "outputs": [],
   "source": [
    "full_department = full_department.merge(df_clinton_dept, on='index', how='outer')\n",
    "full_department[['index', 'Obama','W.Bush','Clinton']]"
   ]
  },
  {
   "cell_type": "code",
   "execution_count": null,
   "metadata": {
    "collapsed": true,
    "scrolled": true
   },
   "outputs": [],
   "source": [
    "## Adding H W Bush"
   ]
  },
  {
   "cell_type": "code",
   "execution_count": null,
   "metadata": {
    "collapsed": true,
    "scrolled": true
   },
   "outputs": [],
   "source": [
    "df_hwbush = cabinet_df[(cabinet_df['Date'] >= '1989') & (cabinet_df['Date'] <= '1992')]"
   ]
  },
  {
   "cell_type": "code",
   "execution_count": null,
   "metadata": {
    "collapsed": true,
    "scrolled": true
   },
   "outputs": [],
   "source": [
    "df_hwbush_dept = df_hwbush['Department'].value_counts()"
   ]
  },
  {
   "cell_type": "code",
   "execution_count": null,
   "metadata": {
    "collapsed": true,
    "scrolled": true
   },
   "outputs": [],
   "source": [
    "df_hwbush_dept = pd.DataFrame(df_hwbush_dept) "
   ]
  },
  {
   "cell_type": "code",
   "execution_count": null,
   "metadata": {
    "collapsed": true,
    "scrolled": true
   },
   "outputs": [],
   "source": [
    "df_hwbush_dept = df_hwbush_dept.rename(columns={'Department':'H.W.Bush'})"
   ]
  },
  {
   "cell_type": "code",
   "execution_count": null,
   "metadata": {
    "collapsed": true,
    "scrolled": true
   },
   "outputs": [],
   "source": [
    "df_hwbush_dept.reset_index(inplace=True)"
   ]
  },
  {
   "cell_type": "code",
   "execution_count": null,
   "metadata": {
    "scrolled": true
   },
   "outputs": [],
   "source": [
    "full_department = full_department.merge(df_hwbush_dept, on='index', how='outer')\n",
    "full_department"
   ]
  },
  {
   "cell_type": "code",
   "execution_count": null,
   "metadata": {
    "collapsed": true,
    "scrolled": true
   },
   "outputs": [],
   "source": [
    "## Adding Reagan "
   ]
  },
  {
   "cell_type": "code",
   "execution_count": null,
   "metadata": {
    "collapsed": true,
    "scrolled": true
   },
   "outputs": [],
   "source": [
    "df_reagan = cabinet_df[(cabinet_df['Date'] >= '1981') & (cabinet_df['Date'] <= '1988')]"
   ]
  },
  {
   "cell_type": "code",
   "execution_count": null,
   "metadata": {
    "collapsed": true,
    "scrolled": true
   },
   "outputs": [],
   "source": [
    "df_reagan = df_reagan['Department'].value_counts()"
   ]
  },
  {
   "cell_type": "code",
   "execution_count": null,
   "metadata": {
    "collapsed": true,
    "scrolled": true
   },
   "outputs": [],
   "source": [
    "df_reagan_dept = pd.DataFrame(df_reagan) "
   ]
  },
  {
   "cell_type": "code",
   "execution_count": null,
   "metadata": {
    "collapsed": true,
    "scrolled": true
   },
   "outputs": [],
   "source": [
    "df_reagan_dept = df_reagan_dept.rename(columns={'Department':'Reagan'})"
   ]
  },
  {
   "cell_type": "code",
   "execution_count": null,
   "metadata": {
    "collapsed": true,
    "scrolled": true
   },
   "outputs": [],
   "source": [
    "df_reagan_dept.reset_index(inplace=True)"
   ]
  },
  {
   "cell_type": "code",
   "execution_count": null,
   "metadata": {
    "scrolled": true
   },
   "outputs": [],
   "source": [
    "full_department = full_department.merge(df_reagan_dept, on='index', how='outer')\n",
    "full_department"
   ]
  },
  {
   "cell_type": "code",
   "execution_count": null,
   "metadata": {
    "collapsed": true,
    "scrolled": true
   },
   "outputs": [],
   "source": [
    "## Adding Jimmy Carter "
   ]
  },
  {
   "cell_type": "code",
   "execution_count": null,
   "metadata": {
    "collapsed": true,
    "scrolled": true
   },
   "outputs": [],
   "source": [
    "df_carter = cabinet_df[(cabinet_df['Date'] >= '1977') & (cabinet_df['Date'] <= '1980')]"
   ]
  },
  {
   "cell_type": "code",
   "execution_count": null,
   "metadata": {
    "collapsed": true,
    "scrolled": true
   },
   "outputs": [],
   "source": [
    "df_carter = df_carter['Department'].value_counts()"
   ]
  },
  {
   "cell_type": "code",
   "execution_count": null,
   "metadata": {
    "collapsed": true,
    "scrolled": true
   },
   "outputs": [],
   "source": [
    "df_carter_dept = pd.DataFrame(df_carter) "
   ]
  },
  {
   "cell_type": "code",
   "execution_count": null,
   "metadata": {
    "collapsed": true,
    "scrolled": true
   },
   "outputs": [],
   "source": [
    "df_carter_dept = df_carter_dept.rename(columns={'Department':'Carter'})"
   ]
  },
  {
   "cell_type": "code",
   "execution_count": null,
   "metadata": {
    "collapsed": true,
    "scrolled": true
   },
   "outputs": [],
   "source": [
    "df_carter_dept.reset_index(inplace=True)"
   ]
  },
  {
   "cell_type": "code",
   "execution_count": null,
   "metadata": {
    "scrolled": true
   },
   "outputs": [],
   "source": [
    "full_department = full_department.merge(df_carter_dept, on='index', how='outer')\n",
    "full_department"
   ]
  },
  {
   "cell_type": "code",
   "execution_count": null,
   "metadata": {
    "collapsed": true,
    "scrolled": true
   },
   "outputs": [],
   "source": [
    "#Adding Ford "
   ]
  },
  {
   "cell_type": "code",
   "execution_count": null,
   "metadata": {
    "collapsed": true,
    "scrolled": true
   },
   "outputs": [],
   "source": [
    "df_ford = cabinet_df[(cabinet_df['Date'] >= '1974') & (cabinet_df['Date'] <= '1977')]"
   ]
  },
  {
   "cell_type": "code",
   "execution_count": null,
   "metadata": {
    "collapsed": true,
    "scrolled": true
   },
   "outputs": [],
   "source": [
    "df_ford = df_ford['Department'].value_counts()"
   ]
  },
  {
   "cell_type": "code",
   "execution_count": null,
   "metadata": {
    "collapsed": true,
    "scrolled": true
   },
   "outputs": [],
   "source": [
    "df_ford_dept = pd.DataFrame(df_ford) "
   ]
  },
  {
   "cell_type": "code",
   "execution_count": null,
   "metadata": {
    "collapsed": true,
    "scrolled": true
   },
   "outputs": [],
   "source": [
    "df_ford_dept = df_ford_dept.rename(columns={'Department':'Ford'})"
   ]
  },
  {
   "cell_type": "code",
   "execution_count": null,
   "metadata": {
    "collapsed": true,
    "scrolled": true
   },
   "outputs": [],
   "source": [
    "df_ford_dept.reset_index(inplace=True)"
   ]
  },
  {
   "cell_type": "code",
   "execution_count": null,
   "metadata": {
    "scrolled": true
   },
   "outputs": [],
   "source": [
    "full_department = full_department.merge(df_ford_dept, on='index', how='outer')\n",
    "full_department"
   ]
  },
  {
   "cell_type": "code",
   "execution_count": null,
   "metadata": {
    "collapsed": true,
    "scrolled": true
   },
   "outputs": [],
   "source": [
    "## Adding Nixon "
   ]
  },
  {
   "cell_type": "code",
   "execution_count": null,
   "metadata": {
    "collapsed": true,
    "scrolled": true
   },
   "outputs": [],
   "source": [
    "df_nixon = cabinet_df[(cabinet_df['Date'] >= '1969') & (cabinet_df['Date'] <= '1973')]"
   ]
  },
  {
   "cell_type": "code",
   "execution_count": null,
   "metadata": {
    "collapsed": true,
    "scrolled": true
   },
   "outputs": [],
   "source": [
    "df_nixon = df_nixon['Department'].value_counts()"
   ]
  },
  {
   "cell_type": "code",
   "execution_count": null,
   "metadata": {
    "collapsed": true,
    "scrolled": true
   },
   "outputs": [],
   "source": [
    "df_nixon_dept = pd.DataFrame(df_nixon) "
   ]
  },
  {
   "cell_type": "code",
   "execution_count": null,
   "metadata": {
    "collapsed": true,
    "scrolled": true
   },
   "outputs": [],
   "source": [
    "df_nixon_dept = df_nixon_dept.rename(columns={'Department':'Nixon'})"
   ]
  },
  {
   "cell_type": "code",
   "execution_count": null,
   "metadata": {
    "collapsed": true,
    "scrolled": true
   },
   "outputs": [],
   "source": [
    "df_nixon_dept.reset_index(inplace=True)"
   ]
  },
  {
   "cell_type": "code",
   "execution_count": null,
   "metadata": {
    "scrolled": true
   },
   "outputs": [],
   "source": [
    "full_department = full_department.merge(df_nixon_dept, on='index', how='outer')\n",
    "full_department"
   ]
  },
  {
   "cell_type": "code",
   "execution_count": null,
   "metadata": {
    "collapsed": true,
    "scrolled": true
   },
   "outputs": [],
   "source": [
    "## Adding Johnson"
   ]
  },
  {
   "cell_type": "code",
   "execution_count": null,
   "metadata": {
    "collapsed": true,
    "scrolled": true
   },
   "outputs": [],
   "source": [
    "df_johnson = cabinet_df[(cabinet_df['Date'] >= '1963') & (cabinet_df['Date'] <= '1968')]"
   ]
  },
  {
   "cell_type": "code",
   "execution_count": null,
   "metadata": {
    "collapsed": true,
    "scrolled": true
   },
   "outputs": [],
   "source": [
    "df_johnson = df_johnson['Department'].value_counts()"
   ]
  },
  {
   "cell_type": "code",
   "execution_count": null,
   "metadata": {
    "collapsed": true,
    "scrolled": true
   },
   "outputs": [],
   "source": [
    "df_johnson_dept = pd.DataFrame(df_johnson) "
   ]
  },
  {
   "cell_type": "code",
   "execution_count": null,
   "metadata": {
    "collapsed": true,
    "scrolled": true
   },
   "outputs": [],
   "source": [
    "df_johnson_dept = df_johnson_dept.rename(columns={'Department':'Johnson'})"
   ]
  },
  {
   "cell_type": "code",
   "execution_count": null,
   "metadata": {
    "collapsed": true,
    "scrolled": true
   },
   "outputs": [],
   "source": [
    "df_johnson_dept.reset_index(inplace=True)"
   ]
  },
  {
   "cell_type": "code",
   "execution_count": null,
   "metadata": {
    "scrolled": true
   },
   "outputs": [],
   "source": [
    "full_department = full_department.merge(df_johnson_dept, on='index', how='outer')\n",
    "full_department"
   ]
  },
  {
   "cell_type": "code",
   "execution_count": null,
   "metadata": {
    "collapsed": true,
    "scrolled": true
   },
   "outputs": [],
   "source": [
    "## Adding Kennedy "
   ]
  },
  {
   "cell_type": "code",
   "execution_count": null,
   "metadata": {
    "collapsed": true,
    "scrolled": true
   },
   "outputs": [],
   "source": [
    "df_kennedy = cabinet_df[(cabinet_df['Date'] >= '1961') & (cabinet_df['Date'] <= '1963')]"
   ]
  },
  {
   "cell_type": "code",
   "execution_count": null,
   "metadata": {
    "collapsed": true,
    "scrolled": true
   },
   "outputs": [],
   "source": [
    "df_kennedy = df_kennedy['Department'].value_counts()"
   ]
  },
  {
   "cell_type": "code",
   "execution_count": null,
   "metadata": {
    "collapsed": true,
    "scrolled": true
   },
   "outputs": [],
   "source": [
    "df_kennedy_dept = pd.DataFrame(df_kennedy) "
   ]
  },
  {
   "cell_type": "code",
   "execution_count": null,
   "metadata": {
    "collapsed": true,
    "scrolled": true
   },
   "outputs": [],
   "source": [
    "df_kennedy_dept = df_kennedy_dept.rename(columns={'Department':'Kennedy'}) "
   ]
  },
  {
   "cell_type": "code",
   "execution_count": null,
   "metadata": {
    "collapsed": true,
    "scrolled": true
   },
   "outputs": [],
   "source": [
    "df_kennedy_dept.reset_index(inplace=True)"
   ]
  },
  {
   "cell_type": "code",
   "execution_count": null,
   "metadata": {
    "scrolled": true
   },
   "outputs": [],
   "source": [
    "full_department = full_department.merge(df_kennedy_dept, on='index', how='outer')\n",
    "full_department"
   ]
  },
  {
   "cell_type": "code",
   "execution_count": null,
   "metadata": {
    "collapsed": true,
    "scrolled": true
   },
   "outputs": [],
   "source": [
    "## Adding Eisenhower "
   ]
  },
  {
   "cell_type": "code",
   "execution_count": null,
   "metadata": {
    "collapsed": true,
    "scrolled": true
   },
   "outputs": [],
   "source": [
    "df_eisenhower = cabinet_df[(cabinet_df['Date'] >= '1953') & (cabinet_df['Date'] <= '1960')]"
   ]
  },
  {
   "cell_type": "code",
   "execution_count": null,
   "metadata": {
    "collapsed": true,
    "scrolled": true
   },
   "outputs": [],
   "source": [
    "df_eisenhower = df_eisenhower['Department'].value_counts()"
   ]
  },
  {
   "cell_type": "code",
   "execution_count": null,
   "metadata": {
    "collapsed": true,
    "scrolled": true
   },
   "outputs": [],
   "source": [
    "df_eisenhower_dept = pd.DataFrame(df_eisenhower) "
   ]
  },
  {
   "cell_type": "code",
   "execution_count": null,
   "metadata": {
    "collapsed": true,
    "scrolled": true
   },
   "outputs": [],
   "source": [
    "df_eisenhower_dept = df_eisenhower_dept.rename(columns={'Department':'Eisenhower'}) "
   ]
  },
  {
   "cell_type": "code",
   "execution_count": null,
   "metadata": {
    "collapsed": true,
    "scrolled": true
   },
   "outputs": [],
   "source": [
    "df_eisenhower_dept.reset_index(inplace=True)"
   ]
  },
  {
   "cell_type": "code",
   "execution_count": null,
   "metadata": {
    "scrolled": true
   },
   "outputs": [],
   "source": [
    "full_department = full_department.merge(df_eisenhower_dept, on='index', how='outer')\n",
    "full_department"
   ]
  },
  {
   "cell_type": "code",
   "execution_count": null,
   "metadata": {
    "collapsed": true,
    "scrolled": true
   },
   "outputs": [],
   "source": [
    "## Adding Truman "
   ]
  },
  {
   "cell_type": "code",
   "execution_count": null,
   "metadata": {
    "collapsed": true,
    "scrolled": true
   },
   "outputs": [],
   "source": [
    "df_truman = cabinet_df[(cabinet_df['Date'] >= '1945') & (cabinet_df['Date'] <= '1952')] "
   ]
  },
  {
   "cell_type": "code",
   "execution_count": null,
   "metadata": {
    "collapsed": true,
    "scrolled": true
   },
   "outputs": [],
   "source": [
    "df_truman = df_truman['Department'].value_counts()"
   ]
  },
  {
   "cell_type": "code",
   "execution_count": null,
   "metadata": {
    "collapsed": true,
    "scrolled": true
   },
   "outputs": [],
   "source": [
    "df_truman_dept = pd.DataFrame(df_truman) "
   ]
  },
  {
   "cell_type": "code",
   "execution_count": null,
   "metadata": {
    "collapsed": true,
    "scrolled": true
   },
   "outputs": [],
   "source": [
    "df_truman_dept = df_truman_dept.rename(columns={'Department':'Truman'}) "
   ]
  },
  {
   "cell_type": "code",
   "execution_count": null,
   "metadata": {
    "collapsed": true,
    "scrolled": true
   },
   "outputs": [],
   "source": [
    "df_truman_dept.reset_index(inplace=True)"
   ]
  },
  {
   "cell_type": "code",
   "execution_count": null,
   "metadata": {
    "scrolled": true
   },
   "outputs": [],
   "source": [
    "full_department = full_department.merge(df_truman_dept, on='index', how='outer')\n",
    "full_department"
   ]
  },
  {
   "cell_type": "code",
   "execution_count": null,
   "metadata": {
    "collapsed": true,
    "scrolled": true
   },
   "outputs": [],
   "source": [
    "# https://stackoverflow.com/questions/21801507/cannot-fill-nan-with-zeros-in-a-pandas-dataframe \n",
    "full_department.fillna(0,inplace=True)"
   ]
  },
  {
   "cell_type": "code",
   "execution_count": null,
   "metadata": {
    "collapsed": true,
    "scrolled": true
   },
   "outputs": [],
   "source": [
    "# reset index: https://stackoverflow.com/questions/38542419/could-pandas-use-column-as-index \n",
    "full_department.set_index('index', inplace=True)"
   ]
  },
  {
   "cell_type": "code",
   "execution_count": null,
   "metadata": {
    "collapsed": true,
    "scrolled": false
   },
   "outputs": [],
   "source": [
    "full_department = full_department.astype(int,inplace=True)"
   ]
  },
  {
   "cell_type": "markdown",
   "metadata": {},
   "source": [
    "# Ok, let's compare each President with a bar chart "
   ]
  },
  {
   "cell_type": "code",
   "execution_count": null,
   "metadata": {
    "collapsed": true,
    "scrolled": true
   },
   "outputs": [],
   "source": [
    "# https://stackoverflow.com/questions/17787366/setting-yaxis-in-matplotlib-using-pandas "
   ]
  },
  {
   "cell_type": "code",
   "execution_count": null,
   "metadata": {
    "collapsed": true,
    "scrolled": false
   },
   "outputs": [],
   "source": [
    "ax = full_department['Obama'].plot(kind='bar',title='Obama Cabinet')\n",
    "ax.set_ylim(0,8)\n",
    "#plt.savefig('Obama.svg')"
   ]
  },
  {
   "cell_type": "code",
   "execution_count": null,
   "metadata": {
    "collapsed": true,
    "scrolled": true
   },
   "outputs": [],
   "source": [
    "ax1 = full_department['W.Bush'].sort_values(ascending=False).plot(kind='bar', title='George W. Bush Cabinet')\n",
    "ax1.set_ylim(0,8)\n",
    "#plt.savefig('WBush.svg')"
   ]
  },
  {
   "cell_type": "code",
   "execution_count": null,
   "metadata": {
    "collapsed": true,
    "scrolled": true
   },
   "outputs": [],
   "source": [
    "axagain = full_department['Clinton'].sort_values(ascending=False).plot(kind='bar', title='Clinton Cabinet')\n",
    "axagain.set_ylim(0,8)\n",
    "#plt.savefig('Clinton.svg')"
   ]
  },
  {
   "cell_type": "code",
   "execution_count": null,
   "metadata": {
    "collapsed": true,
    "scrolled": false
   },
   "outputs": [],
   "source": [
    "ax2 = full_department['H.W.Bush'].sort_values(ascending=False).plot(kind='bar',title='George H. W. Bush Cabinet')\n",
    "ax2.set_ylim(0,8)\n",
    "#plt.savefig('hwbush.svg')"
   ]
  },
  {
   "cell_type": "code",
   "execution_count": null,
   "metadata": {
    "collapsed": true,
    "scrolled": true
   },
   "outputs": [],
   "source": [
    "ax3 = full_department['Reagan'].sort_values(ascending=False).plot(kind='bar', title='Reagan Cabinet')\n",
    "ax3.set_ylim(0,8)\n",
    "#plt.savefig('Reagan.svg')"
   ]
  },
  {
   "cell_type": "code",
   "execution_count": null,
   "metadata": {
    "collapsed": true,
    "scrolled": true
   },
   "outputs": [],
   "source": [
    "ax4 = full_department['Carter'].sort_values(ascending=False).plot(kind='bar', title='Carter Cabinet')\n",
    "ax4.set_ylim(0,8)\n",
    "#plt.savefig('Carter.svg')"
   ]
  },
  {
   "cell_type": "code",
   "execution_count": null,
   "metadata": {
    "collapsed": true,
    "scrolled": true
   },
   "outputs": [],
   "source": [
    "ax5 = full_department['Ford'].sort_values(ascending=False).plot(kind='bar', title='Ford Cabinet')\n",
    "ax5.set_ylim(0,8)\n",
    "#plt.savefig('Ford.svg')"
   ]
  },
  {
   "cell_type": "code",
   "execution_count": null,
   "metadata": {
    "collapsed": true,
    "scrolled": true
   },
   "outputs": [],
   "source": [
    "ax6 = full_department['Nixon'].sort_values(ascending=False).plot(kind='bar',title='Nixon Cabinet')\n",
    "ax6.set_ylim(0,8)\n",
    "#plt.savefig('Nixon.svg')"
   ]
  },
  {
   "cell_type": "code",
   "execution_count": null,
   "metadata": {
    "collapsed": true,
    "scrolled": true
   },
   "outputs": [],
   "source": [
    "ax7 = full_department['Johnson'].sort_values(ascending=False).plot(kind='bar',title='Johnson Cabinet')\n",
    "ax7.set_ylim(0,8)\n",
    "#plt.savefig('Johnson.svg')"
   ]
  },
  {
   "cell_type": "code",
   "execution_count": null,
   "metadata": {
    "collapsed": true,
    "scrolled": true
   },
   "outputs": [],
   "source": [
    "ax8 = full_department['Kennedy'].sort_values(ascending=False).plot(kind='bar',title='Kennedy Cabinet')\n",
    "ax8.set_ylim(0,8)\n",
    "#plt.savefig('Kennedy.svg')"
   ]
  },
  {
   "cell_type": "code",
   "execution_count": null,
   "metadata": {
    "collapsed": true,
    "scrolled": true
   },
   "outputs": [],
   "source": [
    "ax9 = full_department['Eisenhower'].sort_values(ascending=False).plot(kind='bar',title='Eisenhower Cabinet')\n",
    "ax9.set_ylim(0,8)\n",
    "#plt.savefig('eisenhower.svg')"
   ]
  },
  {
   "cell_type": "code",
   "execution_count": null,
   "metadata": {
    "collapsed": true,
    "scrolled": true
   },
   "outputs": [],
   "source": [
    "ax10 = full_department['Truman'].sort_values(ascending=False).plot(kind='bar',title='Truman Cabinet')\n",
    "ax10.set_ylim(0,8)\n",
    "#plt.savefig('Truman.svg')"
   ]
  },
  {
   "cell_type": "markdown",
   "metadata": {
    "collapsed": true
   },
   "source": [
    "## Charting acting....to show what positions are the hardest to fill (most politically charged) --so more than one in an administration "
   ]
  },
  {
   "cell_type": "code",
   "execution_count": null,
   "metadata": {
    "collapsed": true,
    "scrolled": true
   },
   "outputs": [],
   "source": [
    "## Look at sworn in people...where there have been more than one person "
   ]
  },
  {
   "cell_type": "code",
   "execution_count": 65,
   "metadata": {
    "collapsed": true,
    "scrolled": false
   },
   "outputs": [],
   "source": [
    "cabinet_swornin = cabinet_df[cabinet_df['Status'] == 'sworn in']"
   ]
  },
  {
   "cell_type": "code",
   "execution_count": 66,
   "metadata": {
    "collapsed": true
   },
   "outputs": [],
   "source": [
    "cabinet_acting = cabinet_df[cabinet_df['Status'] == 'Acting']"
   ]
  },
  {
   "cell_type": "code",
   "execution_count": 67,
   "metadata": {},
   "outputs": [
    {
     "data": {
      "text/plain": [
       "State                34\n",
       "Interior             12\n",
       "Commerce             11\n",
       "Attorney General      9\n",
       "Treasury              7\n",
       "VA                    6\n",
       "Homeland Sec          4\n",
       "HUD                   4\n",
       "Defense               2\n",
       "Education             2\n",
       "Agriculture           2\n",
       "Transportation        1\n",
       "Energy                1\n",
       "Labor                 1\n",
       "HHS                   1\n",
       "Name: Department, dtype: int64"
      ]
     },
     "execution_count": 67,
     "metadata": {},
     "output_type": "execute_result"
    }
   ],
   "source": [
    "cabinet_acting['Department'].value_counts()"
   ]
  },
  {
   "cell_type": "code",
   "execution_count": 68,
   "metadata": {
    "scrolled": true
   },
   "outputs": [
    {
     "data": {
      "text/html": [
       "<div>\n",
       "<style>\n",
       "    .dataframe thead tr:only-child th {\n",
       "        text-align: right;\n",
       "    }\n",
       "\n",
       "    .dataframe thead th {\n",
       "        text-align: left;\n",
       "    }\n",
       "\n",
       "    .dataframe tbody tr th {\n",
       "        vertical-align: top;\n",
       "    }\n",
       "</style>\n",
       "<table border=\"1\" class=\"dataframe\">\n",
       "  <thead>\n",
       "    <tr style=\"text-align: right;\">\n",
       "      <th></th>\n",
       "      <th>Department</th>\n",
       "      <th>Name</th>\n",
       "      <th>Status</th>\n",
       "      <th>State</th>\n",
       "      <th>Start</th>\n",
       "      <th>End</th>\n",
       "      <th>Date</th>\n",
       "    </tr>\n",
       "  </thead>\n",
       "  <tbody>\n",
       "    <tr>\n",
       "      <th>0</th>\n",
       "      <td>Agriculture</td>\n",
       "      <td>Michael Scuse</td>\n",
       "      <td>Acting</td>\n",
       "      <td>Delaware</td>\n",
       "      <td>January 13, 2017</td>\n",
       "      <td>January 20, 2017</td>\n",
       "      <td>2017-01-01</td>\n",
       "    </tr>\n",
       "    <tr>\n",
       "      <th>1</th>\n",
       "      <td>Agriculture</td>\n",
       "      <td>Mike Young</td>\n",
       "      <td>Acting</td>\n",
       "      <td>Colorado</td>\n",
       "      <td>January 20, 2017</td>\n",
       "      <td>April 25, 2017</td>\n",
       "      <td>2017-01-01</td>\n",
       "    </tr>\n",
       "    <tr>\n",
       "      <th>34</th>\n",
       "      <td>Attorney General</td>\n",
       "      <td>Robert Bork</td>\n",
       "      <td>Acting</td>\n",
       "      <td>Pennsylvania</td>\n",
       "      <td>October 20, 1973</td>\n",
       "      <td>January 4, 1974</td>\n",
       "      <td>1973-01-01</td>\n",
       "    </tr>\n",
       "    <tr>\n",
       "      <th>35</th>\n",
       "      <td>Attorney General</td>\n",
       "      <td>Dick Thornburgh</td>\n",
       "      <td>Acting</td>\n",
       "      <td>Pennsylvania</td>\n",
       "      <td>January 20, 1977</td>\n",
       "      <td>January 26, 1977</td>\n",
       "      <td>1977-01-01</td>\n",
       "    </tr>\n",
       "    <tr>\n",
       "      <th>36</th>\n",
       "      <td>Attorney General</td>\n",
       "      <td>Stuart M. Gerson</td>\n",
       "      <td>Acting</td>\n",
       "      <td>Washington, D.C.</td>\n",
       "      <td>January 20, 1993</td>\n",
       "      <td>March 12, 0199</td>\n",
       "      <td>1993-01-01</td>\n",
       "    </tr>\n",
       "    <tr>\n",
       "      <th>37</th>\n",
       "      <td>Attorney General</td>\n",
       "      <td>Eric Holder</td>\n",
       "      <td>Acting</td>\n",
       "      <td>Washington, D.C.</td>\n",
       "      <td>January 20, 2001</td>\n",
       "      <td>February 2, 2001</td>\n",
       "      <td>2001-01-01</td>\n",
       "    </tr>\n",
       "    <tr>\n",
       "      <th>38</th>\n",
       "      <td>Attorney General</td>\n",
       "      <td>Paul Clement</td>\n",
       "      <td>Acting</td>\n",
       "      <td>Washington, D.C.</td>\n",
       "      <td>September 17, 2007</td>\n",
       "      <td>September 18, 2007</td>\n",
       "      <td>2007-01-01</td>\n",
       "    </tr>\n",
       "    <tr>\n",
       "      <th>39</th>\n",
       "      <td>Attorney General</td>\n",
       "      <td>Peter Keisler</td>\n",
       "      <td>Acting</td>\n",
       "      <td>Washington, D.C.</td>\n",
       "      <td>September 18, 2007</td>\n",
       "      <td>November 9, 2007</td>\n",
       "      <td>2007-01-01</td>\n",
       "    </tr>\n",
       "    <tr>\n",
       "      <th>40</th>\n",
       "      <td>Attorney General</td>\n",
       "      <td>Mark Filip</td>\n",
       "      <td>Acting</td>\n",
       "      <td>Illinois</td>\n",
       "      <td>January 20, 2009</td>\n",
       "      <td>February 3, 2009</td>\n",
       "      <td>2009-01-01</td>\n",
       "    </tr>\n",
       "    <tr>\n",
       "      <th>41</th>\n",
       "      <td>Attorney General</td>\n",
       "      <td>Sally Yates</td>\n",
       "      <td>Acting</td>\n",
       "      <td>Georgia</td>\n",
       "      <td>January 20, 2017</td>\n",
       "      <td>January 30, 2017</td>\n",
       "      <td>2017-01-01</td>\n",
       "    </tr>\n",
       "    <tr>\n",
       "      <th>42</th>\n",
       "      <td>Attorney General</td>\n",
       "      <td>Dana Boente</td>\n",
       "      <td>Acting</td>\n",
       "      <td>Virginia</td>\n",
       "      <td>January 30, 2017</td>\n",
       "      <td>February 9, 2017</td>\n",
       "      <td>2017-01-01</td>\n",
       "    </tr>\n",
       "    <tr>\n",
       "      <th>126</th>\n",
       "      <td>Commerce</td>\n",
       "      <td>Alfred Schindler</td>\n",
       "      <td>Acting</td>\n",
       "      <td>unknown</td>\n",
       "      <td>September 20, 1946</td>\n",
       "      <td>October 7, 1946</td>\n",
       "      <td>1946-01-01</td>\n",
       "    </tr>\n",
       "    <tr>\n",
       "      <th>127</th>\n",
       "      <td>Commerce</td>\n",
       "      <td>Lewis L. Strauss</td>\n",
       "      <td>Acting</td>\n",
       "      <td>West Virginia</td>\n",
       "      <td>November 13, 1958</td>\n",
       "      <td>June 30, 1959</td>\n",
       "      <td>1958-01-01</td>\n",
       "    </tr>\n",
       "    <tr>\n",
       "      <th>128</th>\n",
       "      <td>Commerce</td>\n",
       "      <td>Luther H. Hodges, Jr.</td>\n",
       "      <td>Acting</td>\n",
       "      <td>North Carolina</td>\n",
       "      <td>October 31, 1979</td>\n",
       "      <td>January 9, 1980</td>\n",
       "      <td>1979-01-01</td>\n",
       "    </tr>\n",
       "    <tr>\n",
       "      <th>129</th>\n",
       "      <td>Commerce</td>\n",
       "      <td>Clarence J. Brown Jr.</td>\n",
       "      <td>Acting</td>\n",
       "      <td>Ohio</td>\n",
       "      <td>July 25, 1987</td>\n",
       "      <td>October 19, 1987</td>\n",
       "      <td>1987-01-01</td>\n",
       "    </tr>\n",
       "    <tr>\n",
       "      <th>130</th>\n",
       "      <td>Commerce</td>\n",
       "      <td>Rockwell A. Schnabel</td>\n",
       "      <td>Acting</td>\n",
       "      <td>Netherlands</td>\n",
       "      <td>January 15, 1992</td>\n",
       "      <td>February 27, 1992</td>\n",
       "      <td>1992-01-01</td>\n",
       "    </tr>\n",
       "    <tr>\n",
       "      <th>131</th>\n",
       "      <td>Commerce</td>\n",
       "      <td>Mary L. Good</td>\n",
       "      <td>Acting</td>\n",
       "      <td>Texas</td>\n",
       "      <td>April 3, 1996</td>\n",
       "      <td>April 12, 1996</td>\n",
       "      <td>1996-01-01</td>\n",
       "    </tr>\n",
       "    <tr>\n",
       "      <th>132</th>\n",
       "      <td>Commerce</td>\n",
       "      <td>Robert L. Mallett</td>\n",
       "      <td>Acting</td>\n",
       "      <td>Georgia</td>\n",
       "      <td>July 19, 2000</td>\n",
       "      <td>July 21, 2000</td>\n",
       "      <td>2000-01-01</td>\n",
       "    </tr>\n",
       "    <tr>\n",
       "      <th>133</th>\n",
       "      <td>Commerce</td>\n",
       "      <td>Otto J. Wolff</td>\n",
       "      <td>Acting</td>\n",
       "      <td>Virginia</td>\n",
       "      <td>January 20, 2009</td>\n",
       "      <td>March 26, 2009</td>\n",
       "      <td>2009-01-01</td>\n",
       "    </tr>\n",
       "    <tr>\n",
       "      <th>134</th>\n",
       "      <td>Commerce</td>\n",
       "      <td>Rebecca M. Blank</td>\n",
       "      <td>Acting</td>\n",
       "      <td>Minnesota</td>\n",
       "      <td>August 1, 2011</td>\n",
       "      <td>October 21, 2011</td>\n",
       "      <td>2011-01-01</td>\n",
       "    </tr>\n",
       "    <tr>\n",
       "      <th>135</th>\n",
       "      <td>Commerce</td>\n",
       "      <td>Rebecca M. Blank</td>\n",
       "      <td>Acting</td>\n",
       "      <td>Minnesota</td>\n",
       "      <td>June 11, 2012</td>\n",
       "      <td>June 1, 2013</td>\n",
       "      <td>2012-01-01</td>\n",
       "    </tr>\n",
       "    <tr>\n",
       "      <th>136</th>\n",
       "      <td>Commerce</td>\n",
       "      <td>Cameron Kerry</td>\n",
       "      <td>Acting</td>\n",
       "      <td>Massachusetts</td>\n",
       "      <td>June 1, 2013</td>\n",
       "      <td>June 26, 2013</td>\n",
       "      <td>2013-01-01</td>\n",
       "    </tr>\n",
       "    <tr>\n",
       "      <th>175</th>\n",
       "      <td>Defense</td>\n",
       "      <td>William P. Clements, Jr.</td>\n",
       "      <td>Acting</td>\n",
       "      <td>Texas</td>\n",
       "      <td>May 24, 1973</td>\n",
       "      <td>July 2, 1973</td>\n",
       "      <td>1973-01-01</td>\n",
       "    </tr>\n",
       "    <tr>\n",
       "      <th>176</th>\n",
       "      <td>Defense</td>\n",
       "      <td>William Howard Taft IV</td>\n",
       "      <td>Acting</td>\n",
       "      <td>Ohio</td>\n",
       "      <td>January 20, 1989</td>\n",
       "      <td>March 21, 1989</td>\n",
       "      <td>1989-01-01</td>\n",
       "    </tr>\n",
       "    <tr>\n",
       "      <th>207</th>\n",
       "      <td>Education</td>\n",
       "      <td>Ted Sanders</td>\n",
       "      <td>Acting</td>\n",
       "      <td>Illinois</td>\n",
       "      <td>December 12, 1990</td>\n",
       "      <td>March 22, 1991</td>\n",
       "      <td>1990-01-01</td>\n",
       "    </tr>\n",
       "    <tr>\n",
       "      <th>214</th>\n",
       "      <td>Education</td>\n",
       "      <td>Phil Rosenfelt</td>\n",
       "      <td>Acting</td>\n",
       "      <td>Virginia</td>\n",
       "      <td>January 20, 2017</td>\n",
       "      <td>February 7, 2017</td>\n",
       "      <td>2017-01-01</td>\n",
       "    </tr>\n",
       "    <tr>\n",
       "      <th>216</th>\n",
       "      <td>Energy</td>\n",
       "      <td>Daniel Poneman</td>\n",
       "      <td>Acting</td>\n",
       "      <td>Ohio</td>\n",
       "      <td>April 22, 2013</td>\n",
       "      <td>May 21, 2013</td>\n",
       "      <td>2013-01-01</td>\n",
       "    </tr>\n",
       "    <tr>\n",
       "      <th>231</th>\n",
       "      <td>HHS</td>\n",
       "      <td>Norris Cochran</td>\n",
       "      <td>Acting</td>\n",
       "      <td>California</td>\n",
       "      <td>January 20, 2017</td>\n",
       "      <td>February 10, 2017</td>\n",
       "      <td>2017-01-01</td>\n",
       "    </tr>\n",
       "    <tr>\n",
       "      <th>254</th>\n",
       "      <td>Homeland Sec</td>\n",
       "      <td>James Loy</td>\n",
       "      <td>Acting</td>\n",
       "      <td>Pennsylvania</td>\n",
       "      <td>February 1, 2005</td>\n",
       "      <td>February 15, 2005</td>\n",
       "      <td>2005-01-01</td>\n",
       "    </tr>\n",
       "    <tr>\n",
       "      <th>255</th>\n",
       "      <td>Homeland Sec</td>\n",
       "      <td>Rand Beers</td>\n",
       "      <td>Acting</td>\n",
       "      <td>District of Columbia</td>\n",
       "      <td>September 6, 2013</td>\n",
       "      <td>December 16, 2013</td>\n",
       "      <td>2013-01-01</td>\n",
       "    </tr>\n",
       "    <tr>\n",
       "      <th>...</th>\n",
       "      <td>...</td>\n",
       "      <td>...</td>\n",
       "      <td>...</td>\n",
       "      <td>...</td>\n",
       "      <td>...</td>\n",
       "      <td>...</td>\n",
       "      <td>...</td>\n",
       "    </tr>\n",
       "    <tr>\n",
       "      <th>293</th>\n",
       "      <td>Interior</td>\n",
       "      <td>Lynn Scarlett</td>\n",
       "      <td>Acting</td>\n",
       "      <td>California</td>\n",
       "      <td>January 19, 2009</td>\n",
       "      <td>January 20, 2009</td>\n",
       "      <td>2009-01-01</td>\n",
       "    </tr>\n",
       "    <tr>\n",
       "      <th>294</th>\n",
       "      <td>Interior</td>\n",
       "      <td>Kevin Haugrud</td>\n",
       "      <td>Acting</td>\n",
       "      <td>unknown</td>\n",
       "      <td>January 20, 2017</td>\n",
       "      <td>March 1, 2017</td>\n",
       "      <td>2017-01-01</td>\n",
       "    </tr>\n",
       "    <tr>\n",
       "      <th>349</th>\n",
       "      <td>Labor</td>\n",
       "      <td>Ed Hugler</td>\n",
       "      <td>Acting</td>\n",
       "      <td>Pennsylvania</td>\n",
       "      <td>February 2, 2009</td>\n",
       "      <td>February 24, 2009</td>\n",
       "      <td>2009-01-01</td>\n",
       "    </tr>\n",
       "    <tr>\n",
       "      <th>401</th>\n",
       "      <td>State</td>\n",
       "      <td>Joseph Grew</td>\n",
       "      <td>Acting</td>\n",
       "      <td>New Hampshire</td>\n",
       "      <td>June 28, 1945</td>\n",
       "      <td>July 3, 1945</td>\n",
       "      <td>1945-01-01</td>\n",
       "    </tr>\n",
       "    <tr>\n",
       "      <th>402</th>\n",
       "      <td>State</td>\n",
       "      <td>Harrison F. Matthews</td>\n",
       "      <td>Acting</td>\n",
       "      <td>Maryland</td>\n",
       "      <td>January 20, 1953</td>\n",
       "      <td>January 21, 1953</td>\n",
       "      <td>1953-01-01</td>\n",
       "    </tr>\n",
       "    <tr>\n",
       "      <th>403</th>\n",
       "      <td>State</td>\n",
       "      <td>Livingston T. Merchant</td>\n",
       "      <td>Acting</td>\n",
       "      <td>District of Columbia</td>\n",
       "      <td>January 20, 1961</td>\n",
       "      <td>January 21, 1961</td>\n",
       "      <td>1961-01-01</td>\n",
       "    </tr>\n",
       "    <tr>\n",
       "      <th>404</th>\n",
       "      <td>State</td>\n",
       "      <td>Charles E. Bohlen</td>\n",
       "      <td>Acting</td>\n",
       "      <td>District of Columbia</td>\n",
       "      <td>January 20, 1969</td>\n",
       "      <td>January 22, 1969</td>\n",
       "      <td>1969-01-01</td>\n",
       "    </tr>\n",
       "    <tr>\n",
       "      <th>405</th>\n",
       "      <td>State</td>\n",
       "      <td>Kenneth Rush</td>\n",
       "      <td>Acting</td>\n",
       "      <td>Florida</td>\n",
       "      <td>September 3, 1973</td>\n",
       "      <td>September 22, 1973</td>\n",
       "      <td>1973-01-01</td>\n",
       "    </tr>\n",
       "    <tr>\n",
       "      <th>406</th>\n",
       "      <td>State</td>\n",
       "      <td>Philip Habib</td>\n",
       "      <td>Acting</td>\n",
       "      <td>California</td>\n",
       "      <td>January 20, 1977</td>\n",
       "      <td>January 23, 1977</td>\n",
       "      <td>1977-01-01</td>\n",
       "    </tr>\n",
       "    <tr>\n",
       "      <th>407</th>\n",
       "      <td>State</td>\n",
       "      <td>Warren Christopher</td>\n",
       "      <td>Acting</td>\n",
       "      <td>California</td>\n",
       "      <td>April 28, 1980</td>\n",
       "      <td>May 2, 1980</td>\n",
       "      <td>1980-01-01</td>\n",
       "    </tr>\n",
       "    <tr>\n",
       "      <th>408</th>\n",
       "      <td>State</td>\n",
       "      <td>David D. Newsom</td>\n",
       "      <td>Acting</td>\n",
       "      <td>California</td>\n",
       "      <td>May 2, 1980</td>\n",
       "      <td>May 3, 1980</td>\n",
       "      <td>1980-01-01</td>\n",
       "    </tr>\n",
       "    <tr>\n",
       "      <th>409</th>\n",
       "      <td>State</td>\n",
       "      <td>Richard N. Cooper</td>\n",
       "      <td>Acting</td>\n",
       "      <td>Washington</td>\n",
       "      <td>May 3, 1980</td>\n",
       "      <td>May 3, 1980</td>\n",
       "      <td>1980-01-01</td>\n",
       "    </tr>\n",
       "    <tr>\n",
       "      <th>410</th>\n",
       "      <td>State</td>\n",
       "      <td>David D. Newsom</td>\n",
       "      <td>Acting</td>\n",
       "      <td>California</td>\n",
       "      <td>May 3, 1980</td>\n",
       "      <td>May 4, 1980</td>\n",
       "      <td>1980-01-01</td>\n",
       "    </tr>\n",
       "    <tr>\n",
       "      <th>411</th>\n",
       "      <td>State</td>\n",
       "      <td>Warren Christopher</td>\n",
       "      <td>Acting</td>\n",
       "      <td>California</td>\n",
       "      <td>May 4, 1980</td>\n",
       "      <td>May 8, 1980</td>\n",
       "      <td>1980-01-01</td>\n",
       "    </tr>\n",
       "    <tr>\n",
       "      <th>412</th>\n",
       "      <td>State</td>\n",
       "      <td>Arnold Kanter</td>\n",
       "      <td>Acting</td>\n",
       "      <td>Virginia</td>\n",
       "      <td>January 20, 1993</td>\n",
       "      <td>January 20, 1993</td>\n",
       "      <td>1993-01-01</td>\n",
       "    </tr>\n",
       "    <tr>\n",
       "      <th>413</th>\n",
       "      <td>State</td>\n",
       "      <td>Frank G. Wisner</td>\n",
       "      <td>Acting</td>\n",
       "      <td>District of Columbia</td>\n",
       "      <td>January 20, 1993</td>\n",
       "      <td>January 20, 1993</td>\n",
       "      <td>1993-01-01</td>\n",
       "    </tr>\n",
       "    <tr>\n",
       "      <th>414</th>\n",
       "      <td>State</td>\n",
       "      <td>Tom Shannon</td>\n",
       "      <td>Acting</td>\n",
       "      <td>Minnesota</td>\n",
       "      <td>January 20, 2017</td>\n",
       "      <td>February 1, 2017</td>\n",
       "      <td>2017-01-01</td>\n",
       "    </tr>\n",
       "    <tr>\n",
       "      <th>504</th>\n",
       "      <td>Transportation</td>\n",
       "      <td>Michael Huerta</td>\n",
       "      <td>Acting</td>\n",
       "      <td>California</td>\n",
       "      <td>January 20, 2017</td>\n",
       "      <td>January 31, 2017</td>\n",
       "      <td>2017-01-01</td>\n",
       "    </tr>\n",
       "    <tr>\n",
       "      <th>507</th>\n",
       "      <td>Treasury</td>\n",
       "      <td>Frank N. Newman</td>\n",
       "      <td>Acting</td>\n",
       "      <td>Massachusetts</td>\n",
       "      <td>Dec. 22, 1994</td>\n",
       "      <td>Jan. 11, 1995</td>\n",
       "      <td>1994-01-01</td>\n",
       "    </tr>\n",
       "    <tr>\n",
       "      <th>508</th>\n",
       "      <td>Treasury</td>\n",
       "      <td>Kenneth W. Dam</td>\n",
       "      <td>Acting</td>\n",
       "      <td>Illinois</td>\n",
       "      <td>Dec. 31, 2002</td>\n",
       "      <td>February 3, 2003</td>\n",
       "      <td>2002-01-01</td>\n",
       "    </tr>\n",
       "    <tr>\n",
       "      <th>509</th>\n",
       "      <td>Treasury</td>\n",
       "      <td>Robert M. Kimmitt</td>\n",
       "      <td>Acting</td>\n",
       "      <td>Virginia</td>\n",
       "      <td>Jun. 30, 2006</td>\n",
       "      <td>July 10, 2006</td>\n",
       "      <td>2006-01-01</td>\n",
       "    </tr>\n",
       "    <tr>\n",
       "      <th>510</th>\n",
       "      <td>Treasury</td>\n",
       "      <td>Stuart A. Levey</td>\n",
       "      <td>Acting</td>\n",
       "      <td>Ohio</td>\n",
       "      <td>Jan. 20,2009</td>\n",
       "      <td>Jan 26, 2009</td>\n",
       "      <td>2009-01-01</td>\n",
       "    </tr>\n",
       "    <tr>\n",
       "      <th>511</th>\n",
       "      <td>Treasury</td>\n",
       "      <td>Neal S. Wolin</td>\n",
       "      <td>Acting</td>\n",
       "      <td>Illinois</td>\n",
       "      <td>Jan 25, 2013</td>\n",
       "      <td>Feb 28, 2013</td>\n",
       "      <td>2013-01-01</td>\n",
       "    </tr>\n",
       "    <tr>\n",
       "      <th>512</th>\n",
       "      <td>Treasury</td>\n",
       "      <td>Adam Szubin</td>\n",
       "      <td>Acting</td>\n",
       "      <td>District of Columbia</td>\n",
       "      <td>Jan 20, 2017</td>\n",
       "      <td>Feb 13, 2017</td>\n",
       "      <td>2017-01-01</td>\n",
       "    </tr>\n",
       "    <tr>\n",
       "      <th>592</th>\n",
       "      <td>VA</td>\n",
       "      <td>Anthony Principi</td>\n",
       "      <td>Acting</td>\n",
       "      <td>California</td>\n",
       "      <td>September 26, 1992</td>\n",
       "      <td>January 20, 1993</td>\n",
       "      <td>1992-01-01</td>\n",
       "    </tr>\n",
       "    <tr>\n",
       "      <th>593</th>\n",
       "      <td>VA</td>\n",
       "      <td>Hershel W. Gober</td>\n",
       "      <td>Acting</td>\n",
       "      <td>Arkansas</td>\n",
       "      <td>July 1, 1997</td>\n",
       "      <td>January 2, 1998</td>\n",
       "      <td>1997-01-01</td>\n",
       "    </tr>\n",
       "    <tr>\n",
       "      <th>594</th>\n",
       "      <td>VA</td>\n",
       "      <td>Hershel W. Gober</td>\n",
       "      <td>Acting</td>\n",
       "      <td>Arkansas</td>\n",
       "      <td>July 25, 2000</td>\n",
       "      <td>January 20, 2001</td>\n",
       "      <td>2000-01-01</td>\n",
       "    </tr>\n",
       "    <tr>\n",
       "      <th>595</th>\n",
       "      <td>VA</td>\n",
       "      <td>Gordon H. Mansfield</td>\n",
       "      <td>Acting</td>\n",
       "      <td>Florida</td>\n",
       "      <td>October 1, 2007</td>\n",
       "      <td>December 20, 2007</td>\n",
       "      <td>2007-01-01</td>\n",
       "    </tr>\n",
       "    <tr>\n",
       "      <th>596</th>\n",
       "      <td>VA</td>\n",
       "      <td>Sloan D. Gibson</td>\n",
       "      <td>Acting</td>\n",
       "      <td>Alabama</td>\n",
       "      <td>May 30, 2014</td>\n",
       "      <td>July 30, 2014</td>\n",
       "      <td>2014-01-01</td>\n",
       "    </tr>\n",
       "    <tr>\n",
       "      <th>597</th>\n",
       "      <td>VA</td>\n",
       "      <td>Robert Snyder</td>\n",
       "      <td>Acting</td>\n",
       "      <td>West Virginia</td>\n",
       "      <td>January 20, 2017</td>\n",
       "      <td>February 14, 2017</td>\n",
       "      <td>2017-01-01</td>\n",
       "    </tr>\n",
       "  </tbody>\n",
       "</table>\n",
       "<p>75 rows × 7 columns</p>\n",
       "</div>"
      ],
      "text/plain": [
       "            Department                      Name  Status  \\\n",
       "0          Agriculture             Michael Scuse  Acting   \n",
       "1          Agriculture                Mike Young  Acting   \n",
       "34   Attorney General                Robert Bork  Acting   \n",
       "35   Attorney General            Dick Thornburgh  Acting   \n",
       "36   Attorney General           Stuart M. Gerson  Acting   \n",
       "37   Attorney General                Eric Holder  Acting   \n",
       "38   Attorney General               Paul Clement  Acting   \n",
       "39   Attorney General              Peter Keisler  Acting   \n",
       "40   Attorney General                 Mark Filip  Acting   \n",
       "41   Attorney General                Sally Yates  Acting   \n",
       "42   Attorney General                Dana Boente  Acting   \n",
       "126           Commerce          Alfred Schindler  Acting   \n",
       "127           Commerce          Lewis L. Strauss  Acting   \n",
       "128           Commerce     Luther H. Hodges, Jr.  Acting   \n",
       "129           Commerce     Clarence J. Brown Jr.  Acting   \n",
       "130           Commerce      Rockwell A. Schnabel  Acting   \n",
       "131           Commerce              Mary L. Good  Acting   \n",
       "132           Commerce         Robert L. Mallett  Acting   \n",
       "133           Commerce             Otto J. Wolff  Acting   \n",
       "134           Commerce          Rebecca M. Blank  Acting   \n",
       "135           Commerce          Rebecca M. Blank  Acting   \n",
       "136           Commerce             Cameron Kerry  Acting   \n",
       "175            Defense  William P. Clements, Jr.  Acting   \n",
       "176            Defense    William Howard Taft IV  Acting   \n",
       "207          Education               Ted Sanders  Acting   \n",
       "214          Education            Phil Rosenfelt  Acting   \n",
       "216            Energy             Daniel Poneman  Acting   \n",
       "231                HHS            Norris Cochran  Acting   \n",
       "254       Homeland Sec                 James Loy  Acting   \n",
       "255       Homeland Sec                Rand Beers  Acting   \n",
       "..                 ...                       ...     ...   \n",
       "293           Interior             Lynn Scarlett  Acting   \n",
       "294           Interior             Kevin Haugrud  Acting   \n",
       "349              Labor                 Ed Hugler  Acting   \n",
       "401              State               Joseph Grew  Acting   \n",
       "402              State      Harrison F. Matthews  Acting   \n",
       "403              State    Livingston T. Merchant  Acting   \n",
       "404              State         Charles E. Bohlen  Acting   \n",
       "405              State              Kenneth Rush  Acting   \n",
       "406              State              Philip Habib  Acting   \n",
       "407              State        Warren Christopher  Acting   \n",
       "408              State           David D. Newsom  Acting   \n",
       "409              State         Richard N. Cooper  Acting   \n",
       "410              State           David D. Newsom  Acting   \n",
       "411              State        Warren Christopher  Acting   \n",
       "412              State             Arnold Kanter  Acting   \n",
       "413              State           Frank G. Wisner  Acting   \n",
       "414              State               Tom Shannon  Acting   \n",
       "504    Transportation             Michael Huerta  Acting   \n",
       "507           Treasury           Frank N. Newman  Acting   \n",
       "508           Treasury            Kenneth W. Dam  Acting   \n",
       "509           Treasury         Robert M. Kimmitt  Acting   \n",
       "510           Treasury           Stuart A. Levey  Acting   \n",
       "511           Treasury             Neal S. Wolin  Acting   \n",
       "512           Treasury               Adam Szubin  Acting   \n",
       "592                VA           Anthony Principi  Acting   \n",
       "593                VA           Hershel W. Gober  Acting   \n",
       "594                VA           Hershel W. Gober  Acting   \n",
       "595                VA        Gordon H. Mansfield  Acting   \n",
       "596                VA            Sloan D. Gibson  Acting   \n",
       "597                VA              Robert Snyder  Acting   \n",
       "\n",
       "                    State               Start                End        Date  \n",
       "0                Delaware    January 13, 2017    January 20, 2017 2017-01-01  \n",
       "1                Colorado    January 20, 2017      April 25, 2017 2017-01-01  \n",
       "34           Pennsylvania    October 20, 1973     January 4, 1974 1973-01-01  \n",
       "35           Pennsylvania    January 20, 1977    January 26, 1977 1977-01-01  \n",
       "36       Washington, D.C.    January 20, 1993      March 12, 0199 1993-01-01  \n",
       "37       Washington, D.C.    January 20, 2001    February 2, 2001 2001-01-01  \n",
       "38       Washington, D.C.  September 17, 2007  September 18, 2007 2007-01-01  \n",
       "39       Washington, D.C.  September 18, 2007    November 9, 2007 2007-01-01  \n",
       "40               Illinois    January 20, 2009    February 3, 2009 2009-01-01  \n",
       "41                Georgia    January 20, 2017    January 30, 2017 2017-01-01  \n",
       "42               Virginia    January 30, 2017    February 9, 2017 2017-01-01  \n",
       "126               unknown  September 20, 1946     October 7, 1946 1946-01-01  \n",
       "127         West Virginia   November 13, 1958       June 30, 1959 1958-01-01  \n",
       "128        North Carolina    October 31, 1979     January 9, 1980 1979-01-01  \n",
       "129                  Ohio       July 25, 1987    October 19, 1987 1987-01-01  \n",
       "130           Netherlands    January 15, 1992   February 27, 1992 1992-01-01  \n",
       "131                 Texas       April 3, 1996      April 12, 1996 1996-01-01  \n",
       "132               Georgia       July 19, 2000       July 21, 2000 2000-01-01  \n",
       "133              Virginia    January 20, 2009      March 26, 2009 2009-01-01  \n",
       "134             Minnesota      August 1, 2011    October 21, 2011 2011-01-01  \n",
       "135             Minnesota       June 11, 2012        June 1, 2013 2012-01-01  \n",
       "136         Massachusetts        June 1, 2013       June 26, 2013 2013-01-01  \n",
       "175                 Texas        May 24, 1973        July 2, 1973 1973-01-01  \n",
       "176                  Ohio    January 20, 1989      March 21, 1989 1989-01-01  \n",
       "207              Illinois   December 12, 1990      March 22, 1991 1990-01-01  \n",
       "214              Virginia    January 20, 2017    February 7, 2017 2017-01-01  \n",
       "216                  Ohio      April 22, 2013        May 21, 2013 2013-01-01  \n",
       "231            California    January 20, 2017   February 10, 2017 2017-01-01  \n",
       "254          Pennsylvania    February 1, 2005   February 15, 2005 2005-01-01  \n",
       "255  District of Columbia   September 6, 2013   December 16, 2013 2013-01-01  \n",
       "..                    ...                 ...                 ...        ...  \n",
       "293            California    January 19, 2009    January 20, 2009 2009-01-01  \n",
       "294               unknown    January 20, 2017       March 1, 2017 2017-01-01  \n",
       "349          Pennsylvania    February 2, 2009   February 24, 2009 2009-01-01  \n",
       "401         New Hampshire       June 28, 1945        July 3, 1945 1945-01-01  \n",
       "402              Maryland    January 20, 1953    January 21, 1953 1953-01-01  \n",
       "403  District of Columbia    January 20, 1961    January 21, 1961 1961-01-01  \n",
       "404  District of Columbia    January 20, 1969    January 22, 1969 1969-01-01  \n",
       "405               Florida   September 3, 1973  September 22, 1973 1973-01-01  \n",
       "406            California    January 20, 1977    January 23, 1977 1977-01-01  \n",
       "407            California      April 28, 1980         May 2, 1980 1980-01-01  \n",
       "408            California         May 2, 1980         May 3, 1980 1980-01-01  \n",
       "409            Washington         May 3, 1980         May 3, 1980 1980-01-01  \n",
       "410            California         May 3, 1980         May 4, 1980 1980-01-01  \n",
       "411            California         May 4, 1980         May 8, 1980 1980-01-01  \n",
       "412              Virginia    January 20, 1993    January 20, 1993 1993-01-01  \n",
       "413  District of Columbia    January 20, 1993    January 20, 1993 1993-01-01  \n",
       "414             Minnesota    January 20, 2017    February 1, 2017 2017-01-01  \n",
       "504            California    January 20, 2017    January 31, 2017 2017-01-01  \n",
       "507         Massachusetts       Dec. 22, 1994       Jan. 11, 1995 1994-01-01  \n",
       "508              Illinois       Dec. 31, 2002    February 3, 2003 2002-01-01  \n",
       "509              Virginia       Jun. 30, 2006       July 10, 2006 2006-01-01  \n",
       "510                  Ohio        Jan. 20,2009        Jan 26, 2009 2009-01-01  \n",
       "511              Illinois        Jan 25, 2013        Feb 28, 2013 2013-01-01  \n",
       "512  District of Columbia        Jan 20, 2017        Feb 13, 2017 2017-01-01  \n",
       "592            California  September 26, 1992    January 20, 1993 1992-01-01  \n",
       "593              Arkansas        July 1, 1997     January 2, 1998 1997-01-01  \n",
       "594              Arkansas       July 25, 2000    January 20, 2001 2000-01-01  \n",
       "595               Florida     October 1, 2007   December 20, 2007 2007-01-01  \n",
       "596               Alabama        May 30, 2014       July 30, 2014 2014-01-01  \n",
       "597         West Virginia    January 20, 2017   February 14, 2017 2017-01-01  \n",
       "\n",
       "[75 rows x 7 columns]"
      ]
     },
     "execution_count": 68,
     "metadata": {},
     "output_type": "execute_result"
    }
   ],
   "source": [
    "#this completed cabinet_swornin gives us just post WWII cabinet. Now chart to show variability \n",
    "cabinet_acting = cabinet_acting[(cabinet_acting['Date'] > '1944')]\n",
    "cabinet_acting"
   ]
  },
  {
   "cell_type": "code",
   "execution_count": null,
   "metadata": {},
   "outputs": [],
   "source": [
    "#cabinet_swornin['Department'].value_counts()"
   ]
  },
  {
   "cell_type": "code",
   "execution_count": 69,
   "metadata": {
    "collapsed": true
   },
   "outputs": [],
   "source": [
    "cabinet_acting_test = cabinet_acting"
   ]
  },
  {
   "cell_type": "code",
   "execution_count": 70,
   "metadata": {
    "collapsed": true,
    "scrolled": true
   },
   "outputs": [],
   "source": [
    "cabinet_acting_test.set_index('Date',inplace=True) "
   ]
  },
  {
   "cell_type": "code",
   "execution_count": 71,
   "metadata": {
    "collapsed": true,
    "scrolled": true
   },
   "outputs": [],
   "source": [
    "#cabinet_acting_test = cabinet_acting_test[['Status']] \n",
    "cabinet_acting_test = cabinet_acting_test['Status'].replace('sworn in',1)"
   ]
  },
  {
   "cell_type": "code",
   "execution_count": 72,
   "metadata": {
    "scrolled": true
   },
   "outputs": [
    {
     "ename": "TypeError",
     "evalue": "Empty 'DataFrame': no numeric data to plot",
     "output_type": "error",
     "traceback": [
      "\u001b[0;31m---------------------------------------------------------------------------\u001b[0m",
      "\u001b[0;31mTypeError\u001b[0m                                 Traceback (most recent call last)",
      "\u001b[0;32m<ipython-input-72-598113b831d4>\u001b[0m in \u001b[0;36m<module>\u001b[0;34m()\u001b[0m\n\u001b[0;32m----> 1\u001b[0;31m \u001b[0max\u001b[0m \u001b[0;34m=\u001b[0m \u001b[0mcabinet_acting_test\u001b[0m\u001b[0;34m.\u001b[0m\u001b[0mresample\u001b[0m\u001b[0;34m(\u001b[0m\u001b[0;34m'A'\u001b[0m\u001b[0;34m)\u001b[0m\u001b[0;34m.\u001b[0m\u001b[0msum\u001b[0m\u001b[0;34m(\u001b[0m\u001b[0;34m)\u001b[0m\u001b[0;34m.\u001b[0m\u001b[0mplot\u001b[0m\u001b[0;34m(\u001b[0m\u001b[0mkind\u001b[0m\u001b[0;34m=\u001b[0m\u001b[0;34m'bar'\u001b[0m\u001b[0;34m)\u001b[0m\u001b[0;34m\u001b[0m\u001b[0m\n\u001b[0m\u001b[1;32m      2\u001b[0m \u001b[0;31m#plt.savefig('seeifthisissomething.svg')\u001b[0m\u001b[0;34m\u001b[0m\u001b[0;34m\u001b[0m\u001b[0m\n",
      "\u001b[0;32m/usr/local/lib/python3.6/site-packages/pandas/plotting/_core.py\u001b[0m in \u001b[0;36m__call__\u001b[0;34m(self, kind, ax, figsize, use_index, title, grid, legend, style, logx, logy, loglog, xticks, yticks, xlim, ylim, rot, fontsize, colormap, table, yerr, xerr, label, secondary_y, **kwds)\u001b[0m\n\u001b[1;32m   2441\u001b[0m                            \u001b[0mcolormap\u001b[0m\u001b[0;34m=\u001b[0m\u001b[0mcolormap\u001b[0m\u001b[0;34m,\u001b[0m \u001b[0mtable\u001b[0m\u001b[0;34m=\u001b[0m\u001b[0mtable\u001b[0m\u001b[0;34m,\u001b[0m \u001b[0myerr\u001b[0m\u001b[0;34m=\u001b[0m\u001b[0myerr\u001b[0m\u001b[0;34m,\u001b[0m\u001b[0;34m\u001b[0m\u001b[0m\n\u001b[1;32m   2442\u001b[0m                            \u001b[0mxerr\u001b[0m\u001b[0;34m=\u001b[0m\u001b[0mxerr\u001b[0m\u001b[0;34m,\u001b[0m \u001b[0mlabel\u001b[0m\u001b[0;34m=\u001b[0m\u001b[0mlabel\u001b[0m\u001b[0;34m,\u001b[0m \u001b[0msecondary_y\u001b[0m\u001b[0;34m=\u001b[0m\u001b[0msecondary_y\u001b[0m\u001b[0;34m,\u001b[0m\u001b[0;34m\u001b[0m\u001b[0m\n\u001b[0;32m-> 2443\u001b[0;31m                            **kwds)\n\u001b[0m\u001b[1;32m   2444\u001b[0m     \u001b[0m__call__\u001b[0m\u001b[0;34m.\u001b[0m\u001b[0m__doc__\u001b[0m \u001b[0;34m=\u001b[0m \u001b[0mplot_series\u001b[0m\u001b[0;34m.\u001b[0m\u001b[0m__doc__\u001b[0m\u001b[0;34m\u001b[0m\u001b[0m\n\u001b[1;32m   2445\u001b[0m \u001b[0;34m\u001b[0m\u001b[0m\n",
      "\u001b[0;32m/usr/local/lib/python3.6/site-packages/pandas/plotting/_core.py\u001b[0m in \u001b[0;36mplot_series\u001b[0;34m(data, kind, ax, figsize, use_index, title, grid, legend, style, logx, logy, loglog, xticks, yticks, xlim, ylim, rot, fontsize, colormap, table, yerr, xerr, label, secondary_y, **kwds)\u001b[0m\n\u001b[1;32m   1882\u001b[0m                  \u001b[0myerr\u001b[0m\u001b[0;34m=\u001b[0m\u001b[0myerr\u001b[0m\u001b[0;34m,\u001b[0m \u001b[0mxerr\u001b[0m\u001b[0;34m=\u001b[0m\u001b[0mxerr\u001b[0m\u001b[0;34m,\u001b[0m\u001b[0;34m\u001b[0m\u001b[0m\n\u001b[1;32m   1883\u001b[0m                  \u001b[0mlabel\u001b[0m\u001b[0;34m=\u001b[0m\u001b[0mlabel\u001b[0m\u001b[0;34m,\u001b[0m \u001b[0msecondary_y\u001b[0m\u001b[0;34m=\u001b[0m\u001b[0msecondary_y\u001b[0m\u001b[0;34m,\u001b[0m\u001b[0;34m\u001b[0m\u001b[0m\n\u001b[0;32m-> 1884\u001b[0;31m                  **kwds)\n\u001b[0m\u001b[1;32m   1885\u001b[0m \u001b[0;34m\u001b[0m\u001b[0m\n\u001b[1;32m   1886\u001b[0m \u001b[0;34m\u001b[0m\u001b[0m\n",
      "\u001b[0;32m/usr/local/lib/python3.6/site-packages/pandas/plotting/_core.py\u001b[0m in \u001b[0;36m_plot\u001b[0;34m(data, x, y, subplots, ax, kind, **kwds)\u001b[0m\n\u001b[1;32m   1682\u001b[0m         \u001b[0mplot_obj\u001b[0m \u001b[0;34m=\u001b[0m \u001b[0mklass\u001b[0m\u001b[0;34m(\u001b[0m\u001b[0mdata\u001b[0m\u001b[0;34m,\u001b[0m \u001b[0msubplots\u001b[0m\u001b[0;34m=\u001b[0m\u001b[0msubplots\u001b[0m\u001b[0;34m,\u001b[0m \u001b[0max\u001b[0m\u001b[0;34m=\u001b[0m\u001b[0max\u001b[0m\u001b[0;34m,\u001b[0m \u001b[0mkind\u001b[0m\u001b[0;34m=\u001b[0m\u001b[0mkind\u001b[0m\u001b[0;34m,\u001b[0m \u001b[0;34m**\u001b[0m\u001b[0mkwds\u001b[0m\u001b[0;34m)\u001b[0m\u001b[0;34m\u001b[0m\u001b[0m\n\u001b[1;32m   1683\u001b[0m \u001b[0;34m\u001b[0m\u001b[0m\n\u001b[0;32m-> 1684\u001b[0;31m     \u001b[0mplot_obj\u001b[0m\u001b[0;34m.\u001b[0m\u001b[0mgenerate\u001b[0m\u001b[0;34m(\u001b[0m\u001b[0;34m)\u001b[0m\u001b[0;34m\u001b[0m\u001b[0m\n\u001b[0m\u001b[1;32m   1685\u001b[0m     \u001b[0mplot_obj\u001b[0m\u001b[0;34m.\u001b[0m\u001b[0mdraw\u001b[0m\u001b[0;34m(\u001b[0m\u001b[0;34m)\u001b[0m\u001b[0;34m\u001b[0m\u001b[0m\n\u001b[1;32m   1686\u001b[0m     \u001b[0;32mreturn\u001b[0m \u001b[0mplot_obj\u001b[0m\u001b[0;34m.\u001b[0m\u001b[0mresult\u001b[0m\u001b[0;34m\u001b[0m\u001b[0m\n",
      "\u001b[0;32m/usr/local/lib/python3.6/site-packages/pandas/plotting/_core.py\u001b[0m in \u001b[0;36mgenerate\u001b[0;34m(self)\u001b[0m\n\u001b[1;32m    236\u001b[0m     \u001b[0;32mdef\u001b[0m \u001b[0mgenerate\u001b[0m\u001b[0;34m(\u001b[0m\u001b[0mself\u001b[0m\u001b[0;34m)\u001b[0m\u001b[0;34m:\u001b[0m\u001b[0;34m\u001b[0m\u001b[0m\n\u001b[1;32m    237\u001b[0m         \u001b[0mself\u001b[0m\u001b[0;34m.\u001b[0m\u001b[0m_args_adjust\u001b[0m\u001b[0;34m(\u001b[0m\u001b[0;34m)\u001b[0m\u001b[0;34m\u001b[0m\u001b[0m\n\u001b[0;32m--> 238\u001b[0;31m         \u001b[0mself\u001b[0m\u001b[0;34m.\u001b[0m\u001b[0m_compute_plot_data\u001b[0m\u001b[0;34m(\u001b[0m\u001b[0;34m)\u001b[0m\u001b[0;34m\u001b[0m\u001b[0m\n\u001b[0m\u001b[1;32m    239\u001b[0m         \u001b[0mself\u001b[0m\u001b[0;34m.\u001b[0m\u001b[0m_setup_subplots\u001b[0m\u001b[0;34m(\u001b[0m\u001b[0;34m)\u001b[0m\u001b[0;34m\u001b[0m\u001b[0m\n\u001b[1;32m    240\u001b[0m         \u001b[0mself\u001b[0m\u001b[0;34m.\u001b[0m\u001b[0m_make_plot\u001b[0m\u001b[0;34m(\u001b[0m\u001b[0;34m)\u001b[0m\u001b[0;34m\u001b[0m\u001b[0m\n",
      "\u001b[0;32m/usr/local/lib/python3.6/site-packages/pandas/plotting/_core.py\u001b[0m in \u001b[0;36m_compute_plot_data\u001b[0;34m(self)\u001b[0m\n\u001b[1;32m    345\u001b[0m         \u001b[0;32mif\u001b[0m \u001b[0mis_empty\u001b[0m\u001b[0;34m:\u001b[0m\u001b[0;34m\u001b[0m\u001b[0m\n\u001b[1;32m    346\u001b[0m             raise TypeError('Empty {0!r}: no numeric data to '\n\u001b[0;32m--> 347\u001b[0;31m                             'plot'.format(numeric_data.__class__.__name__))\n\u001b[0m\u001b[1;32m    348\u001b[0m \u001b[0;34m\u001b[0m\u001b[0m\n\u001b[1;32m    349\u001b[0m         \u001b[0mself\u001b[0m\u001b[0;34m.\u001b[0m\u001b[0mdata\u001b[0m \u001b[0;34m=\u001b[0m \u001b[0mnumeric_data\u001b[0m\u001b[0;34m\u001b[0m\u001b[0m\n",
      "\u001b[0;31mTypeError\u001b[0m: Empty 'DataFrame': no numeric data to plot"
     ]
    }
   ],
   "source": [
    "ax = cabinet_acting_test.resample('A').sum().plot(kind='bar')\n",
    "#plt.savefig('seeifthisissomething.svg')"
   ]
  },
  {
   "cell_type": "code",
   "execution_count": null,
   "metadata": {
    "scrolled": true
   },
   "outputs": [],
   "source": [
    "#ax = sns.swarmplot(y='Department', x='Date ', data=cabinet_swornin, hue='Department',size=7)\n",
    "#plt.savefig('TryThisSwarmPlot.svg')\n"
   ]
  },
  {
   "cell_type": "code",
   "execution_count": null,
   "metadata": {
    "scrolled": false
   },
   "outputs": [],
   "source": [
    "cabinet_acting = cabinet_df[cabinet_df['Status'] == 'Acting']\n",
    "cabinet_acting['Department'].value_counts()"
   ]
  },
  {
   "cell_type": "code",
   "execution_count": null,
   "metadata": {
    "collapsed": true
   },
   "outputs": [],
   "source": [
    "cabinet_acting = "
   ]
  },
  {
   "cell_type": "code",
   "execution_count": 73,
   "metadata": {
    "scrolled": true
   },
   "outputs": [
    {
     "data": {
      "text/html": [
       "<div>\n",
       "<style>\n",
       "    .dataframe thead tr:only-child th {\n",
       "        text-align: right;\n",
       "    }\n",
       "\n",
       "    .dataframe thead th {\n",
       "        text-align: left;\n",
       "    }\n",
       "\n",
       "    .dataframe tbody tr th {\n",
       "        vertical-align: top;\n",
       "    }\n",
       "</style>\n",
       "<table border=\"1\" class=\"dataframe\">\n",
       "  <thead>\n",
       "    <tr style=\"text-align: right;\">\n",
       "      <th></th>\n",
       "      <th>Department</th>\n",
       "      <th>Name</th>\n",
       "      <th>Status</th>\n",
       "      <th>State</th>\n",
       "      <th>Start</th>\n",
       "      <th>End</th>\n",
       "    </tr>\n",
       "    <tr>\n",
       "      <th>Date</th>\n",
       "      <th></th>\n",
       "      <th></th>\n",
       "      <th></th>\n",
       "      <th></th>\n",
       "      <th></th>\n",
       "      <th></th>\n",
       "    </tr>\n",
       "  </thead>\n",
       "  <tbody>\n",
       "    <tr>\n",
       "      <th>2017-01-01</th>\n",
       "      <td>Agriculture</td>\n",
       "      <td>Michael Scuse</td>\n",
       "      <td>Acting</td>\n",
       "      <td>Delaware</td>\n",
       "      <td>January 13, 2017</td>\n",
       "      <td>January 20, 2017</td>\n",
       "    </tr>\n",
       "    <tr>\n",
       "      <th>2017-01-01</th>\n",
       "      <td>Agriculture</td>\n",
       "      <td>Mike Young</td>\n",
       "      <td>Acting</td>\n",
       "      <td>Colorado</td>\n",
       "      <td>January 20, 2017</td>\n",
       "      <td>April 25, 2017</td>\n",
       "    </tr>\n",
       "    <tr>\n",
       "      <th>1973-01-01</th>\n",
       "      <td>Attorney General</td>\n",
       "      <td>Robert Bork</td>\n",
       "      <td>Acting</td>\n",
       "      <td>Pennsylvania</td>\n",
       "      <td>October 20, 1973</td>\n",
       "      <td>January 4, 1974</td>\n",
       "    </tr>\n",
       "    <tr>\n",
       "      <th>1977-01-01</th>\n",
       "      <td>Attorney General</td>\n",
       "      <td>Dick Thornburgh</td>\n",
       "      <td>Acting</td>\n",
       "      <td>Pennsylvania</td>\n",
       "      <td>January 20, 1977</td>\n",
       "      <td>January 26, 1977</td>\n",
       "    </tr>\n",
       "    <tr>\n",
       "      <th>1993-01-01</th>\n",
       "      <td>Attorney General</td>\n",
       "      <td>Stuart M. Gerson</td>\n",
       "      <td>Acting</td>\n",
       "      <td>Washington, D.C.</td>\n",
       "      <td>January 20, 1993</td>\n",
       "      <td>March 12, 0199</td>\n",
       "    </tr>\n",
       "    <tr>\n",
       "      <th>2001-01-01</th>\n",
       "      <td>Attorney General</td>\n",
       "      <td>Eric Holder</td>\n",
       "      <td>Acting</td>\n",
       "      <td>Washington, D.C.</td>\n",
       "      <td>January 20, 2001</td>\n",
       "      <td>February 2, 2001</td>\n",
       "    </tr>\n",
       "    <tr>\n",
       "      <th>2007-01-01</th>\n",
       "      <td>Attorney General</td>\n",
       "      <td>Paul Clement</td>\n",
       "      <td>Acting</td>\n",
       "      <td>Washington, D.C.</td>\n",
       "      <td>September 17, 2007</td>\n",
       "      <td>September 18, 2007</td>\n",
       "    </tr>\n",
       "    <tr>\n",
       "      <th>2007-01-01</th>\n",
       "      <td>Attorney General</td>\n",
       "      <td>Peter Keisler</td>\n",
       "      <td>Acting</td>\n",
       "      <td>Washington, D.C.</td>\n",
       "      <td>September 18, 2007</td>\n",
       "      <td>November 9, 2007</td>\n",
       "    </tr>\n",
       "    <tr>\n",
       "      <th>2009-01-01</th>\n",
       "      <td>Attorney General</td>\n",
       "      <td>Mark Filip</td>\n",
       "      <td>Acting</td>\n",
       "      <td>Illinois</td>\n",
       "      <td>January 20, 2009</td>\n",
       "      <td>February 3, 2009</td>\n",
       "    </tr>\n",
       "    <tr>\n",
       "      <th>2017-01-01</th>\n",
       "      <td>Attorney General</td>\n",
       "      <td>Sally Yates</td>\n",
       "      <td>Acting</td>\n",
       "      <td>Georgia</td>\n",
       "      <td>January 20, 2017</td>\n",
       "      <td>January 30, 2017</td>\n",
       "    </tr>\n",
       "    <tr>\n",
       "      <th>2017-01-01</th>\n",
       "      <td>Attorney General</td>\n",
       "      <td>Dana Boente</td>\n",
       "      <td>Acting</td>\n",
       "      <td>Virginia</td>\n",
       "      <td>January 30, 2017</td>\n",
       "      <td>February 9, 2017</td>\n",
       "    </tr>\n",
       "    <tr>\n",
       "      <th>1946-01-01</th>\n",
       "      <td>Commerce</td>\n",
       "      <td>Alfred Schindler</td>\n",
       "      <td>Acting</td>\n",
       "      <td>unknown</td>\n",
       "      <td>September 20, 1946</td>\n",
       "      <td>October 7, 1946</td>\n",
       "    </tr>\n",
       "    <tr>\n",
       "      <th>1958-01-01</th>\n",
       "      <td>Commerce</td>\n",
       "      <td>Lewis L. Strauss</td>\n",
       "      <td>Acting</td>\n",
       "      <td>West Virginia</td>\n",
       "      <td>November 13, 1958</td>\n",
       "      <td>June 30, 1959</td>\n",
       "    </tr>\n",
       "    <tr>\n",
       "      <th>1979-01-01</th>\n",
       "      <td>Commerce</td>\n",
       "      <td>Luther H. Hodges, Jr.</td>\n",
       "      <td>Acting</td>\n",
       "      <td>North Carolina</td>\n",
       "      <td>October 31, 1979</td>\n",
       "      <td>January 9, 1980</td>\n",
       "    </tr>\n",
       "    <tr>\n",
       "      <th>1987-01-01</th>\n",
       "      <td>Commerce</td>\n",
       "      <td>Clarence J. Brown Jr.</td>\n",
       "      <td>Acting</td>\n",
       "      <td>Ohio</td>\n",
       "      <td>July 25, 1987</td>\n",
       "      <td>October 19, 1987</td>\n",
       "    </tr>\n",
       "    <tr>\n",
       "      <th>1992-01-01</th>\n",
       "      <td>Commerce</td>\n",
       "      <td>Rockwell A. Schnabel</td>\n",
       "      <td>Acting</td>\n",
       "      <td>Netherlands</td>\n",
       "      <td>January 15, 1992</td>\n",
       "      <td>February 27, 1992</td>\n",
       "    </tr>\n",
       "    <tr>\n",
       "      <th>1996-01-01</th>\n",
       "      <td>Commerce</td>\n",
       "      <td>Mary L. Good</td>\n",
       "      <td>Acting</td>\n",
       "      <td>Texas</td>\n",
       "      <td>April 3, 1996</td>\n",
       "      <td>April 12, 1996</td>\n",
       "    </tr>\n",
       "    <tr>\n",
       "      <th>2000-01-01</th>\n",
       "      <td>Commerce</td>\n",
       "      <td>Robert L. Mallett</td>\n",
       "      <td>Acting</td>\n",
       "      <td>Georgia</td>\n",
       "      <td>July 19, 2000</td>\n",
       "      <td>July 21, 2000</td>\n",
       "    </tr>\n",
       "    <tr>\n",
       "      <th>2009-01-01</th>\n",
       "      <td>Commerce</td>\n",
       "      <td>Otto J. Wolff</td>\n",
       "      <td>Acting</td>\n",
       "      <td>Virginia</td>\n",
       "      <td>January 20, 2009</td>\n",
       "      <td>March 26, 2009</td>\n",
       "    </tr>\n",
       "    <tr>\n",
       "      <th>2011-01-01</th>\n",
       "      <td>Commerce</td>\n",
       "      <td>Rebecca M. Blank</td>\n",
       "      <td>Acting</td>\n",
       "      <td>Minnesota</td>\n",
       "      <td>August 1, 2011</td>\n",
       "      <td>October 21, 2011</td>\n",
       "    </tr>\n",
       "    <tr>\n",
       "      <th>2012-01-01</th>\n",
       "      <td>Commerce</td>\n",
       "      <td>Rebecca M. Blank</td>\n",
       "      <td>Acting</td>\n",
       "      <td>Minnesota</td>\n",
       "      <td>June 11, 2012</td>\n",
       "      <td>June 1, 2013</td>\n",
       "    </tr>\n",
       "    <tr>\n",
       "      <th>2013-01-01</th>\n",
       "      <td>Commerce</td>\n",
       "      <td>Cameron Kerry</td>\n",
       "      <td>Acting</td>\n",
       "      <td>Massachusetts</td>\n",
       "      <td>June 1, 2013</td>\n",
       "      <td>June 26, 2013</td>\n",
       "    </tr>\n",
       "    <tr>\n",
       "      <th>1973-01-01</th>\n",
       "      <td>Defense</td>\n",
       "      <td>William P. Clements, Jr.</td>\n",
       "      <td>Acting</td>\n",
       "      <td>Texas</td>\n",
       "      <td>May 24, 1973</td>\n",
       "      <td>July 2, 1973</td>\n",
       "    </tr>\n",
       "    <tr>\n",
       "      <th>1989-01-01</th>\n",
       "      <td>Defense</td>\n",
       "      <td>William Howard Taft IV</td>\n",
       "      <td>Acting</td>\n",
       "      <td>Ohio</td>\n",
       "      <td>January 20, 1989</td>\n",
       "      <td>March 21, 1989</td>\n",
       "    </tr>\n",
       "    <tr>\n",
       "      <th>1990-01-01</th>\n",
       "      <td>Education</td>\n",
       "      <td>Ted Sanders</td>\n",
       "      <td>Acting</td>\n",
       "      <td>Illinois</td>\n",
       "      <td>December 12, 1990</td>\n",
       "      <td>March 22, 1991</td>\n",
       "    </tr>\n",
       "    <tr>\n",
       "      <th>2017-01-01</th>\n",
       "      <td>Education</td>\n",
       "      <td>Phil Rosenfelt</td>\n",
       "      <td>Acting</td>\n",
       "      <td>Virginia</td>\n",
       "      <td>January 20, 2017</td>\n",
       "      <td>February 7, 2017</td>\n",
       "    </tr>\n",
       "    <tr>\n",
       "      <th>2013-01-01</th>\n",
       "      <td>Energy</td>\n",
       "      <td>Daniel Poneman</td>\n",
       "      <td>Acting</td>\n",
       "      <td>Ohio</td>\n",
       "      <td>April 22, 2013</td>\n",
       "      <td>May 21, 2013</td>\n",
       "    </tr>\n",
       "    <tr>\n",
       "      <th>2017-01-01</th>\n",
       "      <td>HHS</td>\n",
       "      <td>Norris Cochran</td>\n",
       "      <td>Acting</td>\n",
       "      <td>California</td>\n",
       "      <td>January 20, 2017</td>\n",
       "      <td>February 10, 2017</td>\n",
       "    </tr>\n",
       "    <tr>\n",
       "      <th>2005-01-01</th>\n",
       "      <td>Homeland Sec</td>\n",
       "      <td>James Loy</td>\n",
       "      <td>Acting</td>\n",
       "      <td>Pennsylvania</td>\n",
       "      <td>February 1, 2005</td>\n",
       "      <td>February 15, 2005</td>\n",
       "    </tr>\n",
       "    <tr>\n",
       "      <th>2013-01-01</th>\n",
       "      <td>Homeland Sec</td>\n",
       "      <td>Rand Beers</td>\n",
       "      <td>Acting</td>\n",
       "      <td>District of Columbia</td>\n",
       "      <td>September 6, 2013</td>\n",
       "      <td>December 16, 2013</td>\n",
       "    </tr>\n",
       "    <tr>\n",
       "      <th>...</th>\n",
       "      <td>...</td>\n",
       "      <td>...</td>\n",
       "      <td>...</td>\n",
       "      <td>...</td>\n",
       "      <td>...</td>\n",
       "      <td>...</td>\n",
       "    </tr>\n",
       "    <tr>\n",
       "      <th>2009-01-01</th>\n",
       "      <td>Interior</td>\n",
       "      <td>Lynn Scarlett</td>\n",
       "      <td>Acting</td>\n",
       "      <td>California</td>\n",
       "      <td>January 19, 2009</td>\n",
       "      <td>January 20, 2009</td>\n",
       "    </tr>\n",
       "    <tr>\n",
       "      <th>2017-01-01</th>\n",
       "      <td>Interior</td>\n",
       "      <td>Kevin Haugrud</td>\n",
       "      <td>Acting</td>\n",
       "      <td>unknown</td>\n",
       "      <td>January 20, 2017</td>\n",
       "      <td>March 1, 2017</td>\n",
       "    </tr>\n",
       "    <tr>\n",
       "      <th>2009-01-01</th>\n",
       "      <td>Labor</td>\n",
       "      <td>Ed Hugler</td>\n",
       "      <td>Acting</td>\n",
       "      <td>Pennsylvania</td>\n",
       "      <td>February 2, 2009</td>\n",
       "      <td>February 24, 2009</td>\n",
       "    </tr>\n",
       "    <tr>\n",
       "      <th>1945-01-01</th>\n",
       "      <td>State</td>\n",
       "      <td>Joseph Grew</td>\n",
       "      <td>Acting</td>\n",
       "      <td>New Hampshire</td>\n",
       "      <td>June 28, 1945</td>\n",
       "      <td>July 3, 1945</td>\n",
       "    </tr>\n",
       "    <tr>\n",
       "      <th>1953-01-01</th>\n",
       "      <td>State</td>\n",
       "      <td>Harrison F. Matthews</td>\n",
       "      <td>Acting</td>\n",
       "      <td>Maryland</td>\n",
       "      <td>January 20, 1953</td>\n",
       "      <td>January 21, 1953</td>\n",
       "    </tr>\n",
       "    <tr>\n",
       "      <th>1961-01-01</th>\n",
       "      <td>State</td>\n",
       "      <td>Livingston T. Merchant</td>\n",
       "      <td>Acting</td>\n",
       "      <td>District of Columbia</td>\n",
       "      <td>January 20, 1961</td>\n",
       "      <td>January 21, 1961</td>\n",
       "    </tr>\n",
       "    <tr>\n",
       "      <th>1969-01-01</th>\n",
       "      <td>State</td>\n",
       "      <td>Charles E. Bohlen</td>\n",
       "      <td>Acting</td>\n",
       "      <td>District of Columbia</td>\n",
       "      <td>January 20, 1969</td>\n",
       "      <td>January 22, 1969</td>\n",
       "    </tr>\n",
       "    <tr>\n",
       "      <th>1973-01-01</th>\n",
       "      <td>State</td>\n",
       "      <td>Kenneth Rush</td>\n",
       "      <td>Acting</td>\n",
       "      <td>Florida</td>\n",
       "      <td>September 3, 1973</td>\n",
       "      <td>September 22, 1973</td>\n",
       "    </tr>\n",
       "    <tr>\n",
       "      <th>1977-01-01</th>\n",
       "      <td>State</td>\n",
       "      <td>Philip Habib</td>\n",
       "      <td>Acting</td>\n",
       "      <td>California</td>\n",
       "      <td>January 20, 1977</td>\n",
       "      <td>January 23, 1977</td>\n",
       "    </tr>\n",
       "    <tr>\n",
       "      <th>1980-01-01</th>\n",
       "      <td>State</td>\n",
       "      <td>Warren Christopher</td>\n",
       "      <td>Acting</td>\n",
       "      <td>California</td>\n",
       "      <td>April 28, 1980</td>\n",
       "      <td>May 2, 1980</td>\n",
       "    </tr>\n",
       "    <tr>\n",
       "      <th>1980-01-01</th>\n",
       "      <td>State</td>\n",
       "      <td>David D. Newsom</td>\n",
       "      <td>Acting</td>\n",
       "      <td>California</td>\n",
       "      <td>May 2, 1980</td>\n",
       "      <td>May 3, 1980</td>\n",
       "    </tr>\n",
       "    <tr>\n",
       "      <th>1980-01-01</th>\n",
       "      <td>State</td>\n",
       "      <td>Richard N. Cooper</td>\n",
       "      <td>Acting</td>\n",
       "      <td>Washington</td>\n",
       "      <td>May 3, 1980</td>\n",
       "      <td>May 3, 1980</td>\n",
       "    </tr>\n",
       "    <tr>\n",
       "      <th>1980-01-01</th>\n",
       "      <td>State</td>\n",
       "      <td>David D. Newsom</td>\n",
       "      <td>Acting</td>\n",
       "      <td>California</td>\n",
       "      <td>May 3, 1980</td>\n",
       "      <td>May 4, 1980</td>\n",
       "    </tr>\n",
       "    <tr>\n",
       "      <th>1980-01-01</th>\n",
       "      <td>State</td>\n",
       "      <td>Warren Christopher</td>\n",
       "      <td>Acting</td>\n",
       "      <td>California</td>\n",
       "      <td>May 4, 1980</td>\n",
       "      <td>May 8, 1980</td>\n",
       "    </tr>\n",
       "    <tr>\n",
       "      <th>1993-01-01</th>\n",
       "      <td>State</td>\n",
       "      <td>Arnold Kanter</td>\n",
       "      <td>Acting</td>\n",
       "      <td>Virginia</td>\n",
       "      <td>January 20, 1993</td>\n",
       "      <td>January 20, 1993</td>\n",
       "    </tr>\n",
       "    <tr>\n",
       "      <th>1993-01-01</th>\n",
       "      <td>State</td>\n",
       "      <td>Frank G. Wisner</td>\n",
       "      <td>Acting</td>\n",
       "      <td>District of Columbia</td>\n",
       "      <td>January 20, 1993</td>\n",
       "      <td>January 20, 1993</td>\n",
       "    </tr>\n",
       "    <tr>\n",
       "      <th>2017-01-01</th>\n",
       "      <td>State</td>\n",
       "      <td>Tom Shannon</td>\n",
       "      <td>Acting</td>\n",
       "      <td>Minnesota</td>\n",
       "      <td>January 20, 2017</td>\n",
       "      <td>February 1, 2017</td>\n",
       "    </tr>\n",
       "    <tr>\n",
       "      <th>2017-01-01</th>\n",
       "      <td>Transportation</td>\n",
       "      <td>Michael Huerta</td>\n",
       "      <td>Acting</td>\n",
       "      <td>California</td>\n",
       "      <td>January 20, 2017</td>\n",
       "      <td>January 31, 2017</td>\n",
       "    </tr>\n",
       "    <tr>\n",
       "      <th>1994-01-01</th>\n",
       "      <td>Treasury</td>\n",
       "      <td>Frank N. Newman</td>\n",
       "      <td>Acting</td>\n",
       "      <td>Massachusetts</td>\n",
       "      <td>Dec. 22, 1994</td>\n",
       "      <td>Jan. 11, 1995</td>\n",
       "    </tr>\n",
       "    <tr>\n",
       "      <th>2002-01-01</th>\n",
       "      <td>Treasury</td>\n",
       "      <td>Kenneth W. Dam</td>\n",
       "      <td>Acting</td>\n",
       "      <td>Illinois</td>\n",
       "      <td>Dec. 31, 2002</td>\n",
       "      <td>February 3, 2003</td>\n",
       "    </tr>\n",
       "    <tr>\n",
       "      <th>2006-01-01</th>\n",
       "      <td>Treasury</td>\n",
       "      <td>Robert M. Kimmitt</td>\n",
       "      <td>Acting</td>\n",
       "      <td>Virginia</td>\n",
       "      <td>Jun. 30, 2006</td>\n",
       "      <td>July 10, 2006</td>\n",
       "    </tr>\n",
       "    <tr>\n",
       "      <th>2009-01-01</th>\n",
       "      <td>Treasury</td>\n",
       "      <td>Stuart A. Levey</td>\n",
       "      <td>Acting</td>\n",
       "      <td>Ohio</td>\n",
       "      <td>Jan. 20,2009</td>\n",
       "      <td>Jan 26, 2009</td>\n",
       "    </tr>\n",
       "    <tr>\n",
       "      <th>2013-01-01</th>\n",
       "      <td>Treasury</td>\n",
       "      <td>Neal S. Wolin</td>\n",
       "      <td>Acting</td>\n",
       "      <td>Illinois</td>\n",
       "      <td>Jan 25, 2013</td>\n",
       "      <td>Feb 28, 2013</td>\n",
       "    </tr>\n",
       "    <tr>\n",
       "      <th>2017-01-01</th>\n",
       "      <td>Treasury</td>\n",
       "      <td>Adam Szubin</td>\n",
       "      <td>Acting</td>\n",
       "      <td>District of Columbia</td>\n",
       "      <td>Jan 20, 2017</td>\n",
       "      <td>Feb 13, 2017</td>\n",
       "    </tr>\n",
       "    <tr>\n",
       "      <th>1992-01-01</th>\n",
       "      <td>VA</td>\n",
       "      <td>Anthony Principi</td>\n",
       "      <td>Acting</td>\n",
       "      <td>California</td>\n",
       "      <td>September 26, 1992</td>\n",
       "      <td>January 20, 1993</td>\n",
       "    </tr>\n",
       "    <tr>\n",
       "      <th>1997-01-01</th>\n",
       "      <td>VA</td>\n",
       "      <td>Hershel W. Gober</td>\n",
       "      <td>Acting</td>\n",
       "      <td>Arkansas</td>\n",
       "      <td>July 1, 1997</td>\n",
       "      <td>January 2, 1998</td>\n",
       "    </tr>\n",
       "    <tr>\n",
       "      <th>2000-01-01</th>\n",
       "      <td>VA</td>\n",
       "      <td>Hershel W. Gober</td>\n",
       "      <td>Acting</td>\n",
       "      <td>Arkansas</td>\n",
       "      <td>July 25, 2000</td>\n",
       "      <td>January 20, 2001</td>\n",
       "    </tr>\n",
       "    <tr>\n",
       "      <th>2007-01-01</th>\n",
       "      <td>VA</td>\n",
       "      <td>Gordon H. Mansfield</td>\n",
       "      <td>Acting</td>\n",
       "      <td>Florida</td>\n",
       "      <td>October 1, 2007</td>\n",
       "      <td>December 20, 2007</td>\n",
       "    </tr>\n",
       "    <tr>\n",
       "      <th>2014-01-01</th>\n",
       "      <td>VA</td>\n",
       "      <td>Sloan D. Gibson</td>\n",
       "      <td>Acting</td>\n",
       "      <td>Alabama</td>\n",
       "      <td>May 30, 2014</td>\n",
       "      <td>July 30, 2014</td>\n",
       "    </tr>\n",
       "    <tr>\n",
       "      <th>2017-01-01</th>\n",
       "      <td>VA</td>\n",
       "      <td>Robert Snyder</td>\n",
       "      <td>Acting</td>\n",
       "      <td>West Virginia</td>\n",
       "      <td>January 20, 2017</td>\n",
       "      <td>February 14, 2017</td>\n",
       "    </tr>\n",
       "  </tbody>\n",
       "</table>\n",
       "<p>75 rows × 6 columns</p>\n",
       "</div>"
      ],
      "text/plain": [
       "                   Department                      Name  Status  \\\n",
       "Date                                                              \n",
       "2017-01-01        Agriculture             Michael Scuse  Acting   \n",
       "2017-01-01        Agriculture                Mike Young  Acting   \n",
       "1973-01-01  Attorney General                Robert Bork  Acting   \n",
       "1977-01-01  Attorney General            Dick Thornburgh  Acting   \n",
       "1993-01-01  Attorney General           Stuart M. Gerson  Acting   \n",
       "2001-01-01  Attorney General                Eric Holder  Acting   \n",
       "2007-01-01  Attorney General               Paul Clement  Acting   \n",
       "2007-01-01  Attorney General              Peter Keisler  Acting   \n",
       "2009-01-01  Attorney General                 Mark Filip  Acting   \n",
       "2017-01-01  Attorney General                Sally Yates  Acting   \n",
       "2017-01-01  Attorney General                Dana Boente  Acting   \n",
       "1946-01-01           Commerce          Alfred Schindler  Acting   \n",
       "1958-01-01           Commerce          Lewis L. Strauss  Acting   \n",
       "1979-01-01           Commerce     Luther H. Hodges, Jr.  Acting   \n",
       "1987-01-01           Commerce     Clarence J. Brown Jr.  Acting   \n",
       "1992-01-01           Commerce      Rockwell A. Schnabel  Acting   \n",
       "1996-01-01           Commerce              Mary L. Good  Acting   \n",
       "2000-01-01           Commerce         Robert L. Mallett  Acting   \n",
       "2009-01-01           Commerce             Otto J. Wolff  Acting   \n",
       "2011-01-01           Commerce          Rebecca M. Blank  Acting   \n",
       "2012-01-01           Commerce          Rebecca M. Blank  Acting   \n",
       "2013-01-01           Commerce             Cameron Kerry  Acting   \n",
       "1973-01-01            Defense  William P. Clements, Jr.  Acting   \n",
       "1989-01-01            Defense    William Howard Taft IV  Acting   \n",
       "1990-01-01          Education               Ted Sanders  Acting   \n",
       "2017-01-01          Education            Phil Rosenfelt  Acting   \n",
       "2013-01-01            Energy             Daniel Poneman  Acting   \n",
       "2017-01-01                HHS            Norris Cochran  Acting   \n",
       "2005-01-01       Homeland Sec                 James Loy  Acting   \n",
       "2013-01-01       Homeland Sec                Rand Beers  Acting   \n",
       "...                       ...                       ...     ...   \n",
       "2009-01-01           Interior             Lynn Scarlett  Acting   \n",
       "2017-01-01           Interior             Kevin Haugrud  Acting   \n",
       "2009-01-01              Labor                 Ed Hugler  Acting   \n",
       "1945-01-01              State               Joseph Grew  Acting   \n",
       "1953-01-01              State      Harrison F. Matthews  Acting   \n",
       "1961-01-01              State    Livingston T. Merchant  Acting   \n",
       "1969-01-01              State         Charles E. Bohlen  Acting   \n",
       "1973-01-01              State              Kenneth Rush  Acting   \n",
       "1977-01-01              State              Philip Habib  Acting   \n",
       "1980-01-01              State        Warren Christopher  Acting   \n",
       "1980-01-01              State           David D. Newsom  Acting   \n",
       "1980-01-01              State         Richard N. Cooper  Acting   \n",
       "1980-01-01              State           David D. Newsom  Acting   \n",
       "1980-01-01              State        Warren Christopher  Acting   \n",
       "1993-01-01              State             Arnold Kanter  Acting   \n",
       "1993-01-01              State           Frank G. Wisner  Acting   \n",
       "2017-01-01              State               Tom Shannon  Acting   \n",
       "2017-01-01    Transportation             Michael Huerta  Acting   \n",
       "1994-01-01           Treasury           Frank N. Newman  Acting   \n",
       "2002-01-01           Treasury            Kenneth W. Dam  Acting   \n",
       "2006-01-01           Treasury         Robert M. Kimmitt  Acting   \n",
       "2009-01-01           Treasury           Stuart A. Levey  Acting   \n",
       "2013-01-01           Treasury             Neal S. Wolin  Acting   \n",
       "2017-01-01           Treasury               Adam Szubin  Acting   \n",
       "1992-01-01                VA           Anthony Principi  Acting   \n",
       "1997-01-01                VA           Hershel W. Gober  Acting   \n",
       "2000-01-01                VA           Hershel W. Gober  Acting   \n",
       "2007-01-01                VA        Gordon H. Mansfield  Acting   \n",
       "2014-01-01                VA            Sloan D. Gibson  Acting   \n",
       "2017-01-01                VA              Robert Snyder  Acting   \n",
       "\n",
       "                           State               Start                End   \n",
       "Date                                                                      \n",
       "2017-01-01              Delaware    January 13, 2017    January 20, 2017  \n",
       "2017-01-01              Colorado    January 20, 2017      April 25, 2017  \n",
       "1973-01-01          Pennsylvania    October 20, 1973     January 4, 1974  \n",
       "1977-01-01          Pennsylvania    January 20, 1977    January 26, 1977  \n",
       "1993-01-01      Washington, D.C.    January 20, 1993      March 12, 0199  \n",
       "2001-01-01      Washington, D.C.    January 20, 2001    February 2, 2001  \n",
       "2007-01-01      Washington, D.C.  September 17, 2007  September 18, 2007  \n",
       "2007-01-01      Washington, D.C.  September 18, 2007    November 9, 2007  \n",
       "2009-01-01              Illinois    January 20, 2009    February 3, 2009  \n",
       "2017-01-01               Georgia    January 20, 2017    January 30, 2017  \n",
       "2017-01-01              Virginia    January 30, 2017    February 9, 2017  \n",
       "1946-01-01               unknown  September 20, 1946     October 7, 1946  \n",
       "1958-01-01         West Virginia   November 13, 1958       June 30, 1959  \n",
       "1979-01-01        North Carolina    October 31, 1979     January 9, 1980  \n",
       "1987-01-01                  Ohio       July 25, 1987    October 19, 1987  \n",
       "1992-01-01           Netherlands    January 15, 1992   February 27, 1992  \n",
       "1996-01-01                 Texas       April 3, 1996      April 12, 1996  \n",
       "2000-01-01               Georgia       July 19, 2000       July 21, 2000  \n",
       "2009-01-01              Virginia    January 20, 2009      March 26, 2009  \n",
       "2011-01-01             Minnesota      August 1, 2011    October 21, 2011  \n",
       "2012-01-01             Minnesota       June 11, 2012        June 1, 2013  \n",
       "2013-01-01         Massachusetts        June 1, 2013       June 26, 2013  \n",
       "1973-01-01                 Texas        May 24, 1973        July 2, 1973  \n",
       "1989-01-01                  Ohio    January 20, 1989      March 21, 1989  \n",
       "1990-01-01              Illinois   December 12, 1990      March 22, 1991  \n",
       "2017-01-01              Virginia    January 20, 2017    February 7, 2017  \n",
       "2013-01-01                  Ohio      April 22, 2013        May 21, 2013  \n",
       "2017-01-01            California    January 20, 2017   February 10, 2017  \n",
       "2005-01-01          Pennsylvania    February 1, 2005   February 15, 2005  \n",
       "2013-01-01  District of Columbia   September 6, 2013   December 16, 2013  \n",
       "...                          ...                 ...                 ...  \n",
       "2009-01-01            California    January 19, 2009    January 20, 2009  \n",
       "2017-01-01               unknown    January 20, 2017       March 1, 2017  \n",
       "2009-01-01          Pennsylvania    February 2, 2009   February 24, 2009  \n",
       "1945-01-01         New Hampshire       June 28, 1945        July 3, 1945  \n",
       "1953-01-01              Maryland    January 20, 1953    January 21, 1953  \n",
       "1961-01-01  District of Columbia    January 20, 1961    January 21, 1961  \n",
       "1969-01-01  District of Columbia    January 20, 1969    January 22, 1969  \n",
       "1973-01-01               Florida   September 3, 1973  September 22, 1973  \n",
       "1977-01-01            California    January 20, 1977    January 23, 1977  \n",
       "1980-01-01            California      April 28, 1980         May 2, 1980  \n",
       "1980-01-01            California         May 2, 1980         May 3, 1980  \n",
       "1980-01-01            Washington         May 3, 1980         May 3, 1980  \n",
       "1980-01-01            California         May 3, 1980         May 4, 1980  \n",
       "1980-01-01            California         May 4, 1980         May 8, 1980  \n",
       "1993-01-01              Virginia    January 20, 1993    January 20, 1993  \n",
       "1993-01-01  District of Columbia    January 20, 1993    January 20, 1993  \n",
       "2017-01-01             Minnesota    January 20, 2017    February 1, 2017  \n",
       "2017-01-01            California    January 20, 2017    January 31, 2017  \n",
       "1994-01-01         Massachusetts       Dec. 22, 1994       Jan. 11, 1995  \n",
       "2002-01-01              Illinois       Dec. 31, 2002    February 3, 2003  \n",
       "2006-01-01              Virginia       Jun. 30, 2006       July 10, 2006  \n",
       "2009-01-01                  Ohio        Jan. 20,2009        Jan 26, 2009  \n",
       "2013-01-01              Illinois        Jan 25, 2013        Feb 28, 2013  \n",
       "2017-01-01  District of Columbia        Jan 20, 2017        Feb 13, 2017  \n",
       "1992-01-01            California  September 26, 1992    January 20, 1993  \n",
       "1997-01-01              Arkansas        July 1, 1997     January 2, 1998  \n",
       "2000-01-01              Arkansas       July 25, 2000    January 20, 2001  \n",
       "2007-01-01               Florida     October 1, 2007   December 20, 2007  \n",
       "2014-01-01               Alabama        May 30, 2014       July 30, 2014  \n",
       "2017-01-01         West Virginia    January 20, 2017   February 14, 2017  \n",
       "\n",
       "[75 rows x 6 columns]"
      ]
     },
     "execution_count": 73,
     "metadata": {},
     "output_type": "execute_result"
    }
   ],
   "source": [
    "cabinet_acting"
   ]
  },
  {
   "cell_type": "code",
   "execution_count": 75,
   "metadata": {
    "scrolled": false
   },
   "outputs": [
    {
     "data": {
      "text/html": [
       "<div>\n",
       "<style>\n",
       "    .dataframe thead tr:only-child th {\n",
       "        text-align: right;\n",
       "    }\n",
       "\n",
       "    .dataframe thead th {\n",
       "        text-align: left;\n",
       "    }\n",
       "\n",
       "    .dataframe tbody tr th {\n",
       "        vertical-align: top;\n",
       "    }\n",
       "</style>\n",
       "<table border=\"1\" class=\"dataframe\">\n",
       "  <thead>\n",
       "    <tr style=\"text-align: right;\">\n",
       "      <th></th>\n",
       "      <th>Department</th>\n",
       "      <th>Name</th>\n",
       "      <th>Status</th>\n",
       "      <th>State</th>\n",
       "      <th>Start</th>\n",
       "      <th>End</th>\n",
       "    </tr>\n",
       "    <tr>\n",
       "      <th>Date</th>\n",
       "      <th></th>\n",
       "      <th></th>\n",
       "      <th></th>\n",
       "      <th></th>\n",
       "      <th></th>\n",
       "      <th></th>\n",
       "    </tr>\n",
       "  </thead>\n",
       "  <tbody>\n",
       "    <tr>\n",
       "      <th>2006-01-01</th>\n",
       "      <td>Interior</td>\n",
       "      <td>Lynn Scarlett</td>\n",
       "      <td>Acting</td>\n",
       "      <td>California</td>\n",
       "      <td>April 1, 2006</td>\n",
       "      <td>May 26, 2006</td>\n",
       "    </tr>\n",
       "    <tr>\n",
       "      <th>1956-01-01</th>\n",
       "      <td>Interior</td>\n",
       "      <td>Clarence A. Davis</td>\n",
       "      <td>Acting</td>\n",
       "      <td>Nebraska</td>\n",
       "      <td>April 15, 1956</td>\n",
       "      <td>June 8, 1956</td>\n",
       "    </tr>\n",
       "    <tr>\n",
       "      <th>2008-01-01</th>\n",
       "      <td>HUD</td>\n",
       "      <td>Roy A. Bernardi</td>\n",
       "      <td>Acting</td>\n",
       "      <td>New York</td>\n",
       "      <td>April 18, 2008</td>\n",
       "      <td>June 4, 2008</td>\n",
       "    </tr>\n",
       "    <tr>\n",
       "      <th>2013-01-01</th>\n",
       "      <td>Energy</td>\n",
       "      <td>Daniel Poneman</td>\n",
       "      <td>Acting</td>\n",
       "      <td>Ohio</td>\n",
       "      <td>April 22, 2013</td>\n",
       "      <td>May 21, 2013</td>\n",
       "    </tr>\n",
       "    <tr>\n",
       "      <th>1980-01-01</th>\n",
       "      <td>State</td>\n",
       "      <td>Warren Christopher</td>\n",
       "      <td>Acting</td>\n",
       "      <td>California</td>\n",
       "      <td>April 28, 1980</td>\n",
       "      <td>May 2, 1980</td>\n",
       "    </tr>\n",
       "    <tr>\n",
       "      <th>1996-01-01</th>\n",
       "      <td>Commerce</td>\n",
       "      <td>Mary L. Good</td>\n",
       "      <td>Acting</td>\n",
       "      <td>Texas</td>\n",
       "      <td>April 3, 1996</td>\n",
       "      <td>April 12, 1996</td>\n",
       "    </tr>\n",
       "    <tr>\n",
       "      <th>1975-01-01</th>\n",
       "      <td>Interior</td>\n",
       "      <td>D. Kent Frizzell</td>\n",
       "      <td>Acting</td>\n",
       "      <td>Kansas</td>\n",
       "      <td>April 30, 1975</td>\n",
       "      <td>June 12, 1975</td>\n",
       "    </tr>\n",
       "    <tr>\n",
       "      <th>2011-01-01</th>\n",
       "      <td>Commerce</td>\n",
       "      <td>Rebecca M. Blank</td>\n",
       "      <td>Acting</td>\n",
       "      <td>Minnesota</td>\n",
       "      <td>August 1, 2011</td>\n",
       "      <td>October 21, 2011</td>\n",
       "    </tr>\n",
       "    <tr>\n",
       "      <th>1994-01-01</th>\n",
       "      <td>Treasury</td>\n",
       "      <td>Frank N. Newman</td>\n",
       "      <td>Acting</td>\n",
       "      <td>Massachusetts</td>\n",
       "      <td>Dec. 22, 1994</td>\n",
       "      <td>Jan. 11, 1995</td>\n",
       "    </tr>\n",
       "    <tr>\n",
       "      <th>2002-01-01</th>\n",
       "      <td>Treasury</td>\n",
       "      <td>Kenneth W. Dam</td>\n",
       "      <td>Acting</td>\n",
       "      <td>Illinois</td>\n",
       "      <td>Dec. 31, 2002</td>\n",
       "      <td>February 3, 2003</td>\n",
       "    </tr>\n",
       "  </tbody>\n",
       "</table>\n",
       "</div>"
      ],
      "text/plain": [
       "           Department                Name  Status          State  \\\n",
       "Date                                                               \n",
       "2006-01-01   Interior       Lynn Scarlett  Acting     California   \n",
       "1956-01-01   Interior   Clarence A. Davis  Acting       Nebraska   \n",
       "2008-01-01        HUD     Roy A. Bernardi  Acting       New York   \n",
       "2013-01-01    Energy       Daniel Poneman  Acting           Ohio   \n",
       "1980-01-01      State  Warren Christopher  Acting     California   \n",
       "1996-01-01   Commerce        Mary L. Good  Acting          Texas   \n",
       "1975-01-01   Interior    D. Kent Frizzell  Acting         Kansas   \n",
       "2011-01-01   Commerce    Rebecca M. Blank  Acting      Minnesota   \n",
       "1994-01-01   Treasury     Frank N. Newman  Acting  Massachusetts   \n",
       "2002-01-01   Treasury      Kenneth W. Dam  Acting       Illinois   \n",
       "\n",
       "                     Start              End   \n",
       "Date                                          \n",
       "2006-01-01   April 1, 2006      May 26, 2006  \n",
       "1956-01-01  April 15, 1956      June 8, 1956  \n",
       "2008-01-01  April 18, 2008      June 4, 2008  \n",
       "2013-01-01  April 22, 2013      May 21, 2013  \n",
       "1980-01-01  April 28, 1980       May 2, 1980  \n",
       "1996-01-01   April 3, 1996    April 12, 1996  \n",
       "1975-01-01  April 30, 1975     June 12, 1975  \n",
       "2011-01-01  August 1, 2011  October 21, 2011  \n",
       "1994-01-01   Dec. 22, 1994     Jan. 11, 1995  \n",
       "2002-01-01   Dec. 31, 2002  February 3, 2003  "
      ]
     },
     "execution_count": 75,
     "metadata": {},
     "output_type": "execute_result"
    }
   ],
   "source": [
    "cabinet_acting.sort_values(by='Start', ascending=True).head(10)"
   ]
  },
  {
   "cell_type": "code",
   "execution_count": null,
   "metadata": {
    "scrolled": false
   },
   "outputs": [],
   "source": []
  },
  {
   "cell_type": "code",
   "execution_count": 77,
   "metadata": {
    "scrolled": true
   },
   "outputs": [
    {
     "data": {
      "text/html": [
       "<div>\n",
       "<style>\n",
       "    .dataframe thead tr:only-child th {\n",
       "        text-align: right;\n",
       "    }\n",
       "\n",
       "    .dataframe thead th {\n",
       "        text-align: left;\n",
       "    }\n",
       "\n",
       "    .dataframe tbody tr th {\n",
       "        vertical-align: top;\n",
       "    }\n",
       "</style>\n",
       "<table border=\"1\" class=\"dataframe\">\n",
       "  <thead>\n",
       "    <tr style=\"text-align: right;\">\n",
       "      <th></th>\n",
       "      <th>Department</th>\n",
       "      <th>Name</th>\n",
       "      <th>Status</th>\n",
       "      <th>State</th>\n",
       "      <th>Start</th>\n",
       "      <th>End</th>\n",
       "    </tr>\n",
       "    <tr>\n",
       "      <th>Date</th>\n",
       "      <th></th>\n",
       "      <th></th>\n",
       "      <th></th>\n",
       "      <th></th>\n",
       "      <th></th>\n",
       "      <th></th>\n",
       "    </tr>\n",
       "  </thead>\n",
       "  <tbody>\n",
       "    <tr>\n",
       "      <th>2014-01-01</th>\n",
       "      <td>VA</td>\n",
       "      <td>Sloan D. Gibson</td>\n",
       "      <td>Acting</td>\n",
       "      <td>Alabama</td>\n",
       "      <td>May 30, 2014</td>\n",
       "      <td>July 30, 2014</td>\n",
       "    </tr>\n",
       "    <tr>\n",
       "      <th>2017-01-01</th>\n",
       "      <td>VA</td>\n",
       "      <td>Robert Snyder</td>\n",
       "      <td>Acting</td>\n",
       "      <td>West Virginia</td>\n",
       "      <td>January 20, 2017</td>\n",
       "      <td>February 14, 2017</td>\n",
       "    </tr>\n",
       "  </tbody>\n",
       "</table>\n",
       "</div>"
      ],
      "text/plain": [
       "           Department             Name  Status          State  \\\n",
       "Date                                                            \n",
       "2014-01-01        VA   Sloan D. Gibson  Acting        Alabama   \n",
       "2017-01-01        VA     Robert Snyder  Acting  West Virginia   \n",
       "\n",
       "                       Start               End   \n",
       "Date                                             \n",
       "2014-01-01      May 30, 2014      July 30, 2014  \n",
       "2017-01-01  January 20, 2017  February 14, 2017  "
      ]
     },
     "execution_count": 77,
     "metadata": {},
     "output_type": "execute_result"
    }
   ],
   "source": [
    "sample_cabinet = cabinet_acting\n",
    "sample_cabinet.tail(2)\n"
   ]
  },
  {
   "cell_type": "code",
   "execution_count": null,
   "metadata": {
    "scrolled": true
   },
   "outputs": [],
   "source": []
  },
  {
   "cell_type": "code",
   "execution_count": 79,
   "metadata": {
    "collapsed": true,
    "scrolled": false
   },
   "outputs": [],
   "source": [
    "sample_cabinet1 = sample_cabinet[['Status']] \n",
    "sample_cabinet1 = sample_cabinet1['Status'].replace('Acting',1)\n"
   ]
  },
  {
   "cell_type": "code",
   "execution_count": 80,
   "metadata": {
    "scrolled": true
   },
   "outputs": [
    {
     "data": {
      "text/plain": [
       "Date\n",
       "2017-01-01    1\n",
       "2017-01-01    1\n",
       "1973-01-01    1\n",
       "1977-01-01    1\n",
       "1993-01-01    1\n",
       "2001-01-01    1\n",
       "2007-01-01    1\n",
       "2007-01-01    1\n",
       "2009-01-01    1\n",
       "2017-01-01    1\n",
       "2017-01-01    1\n",
       "1946-01-01    1\n",
       "1958-01-01    1\n",
       "1979-01-01    1\n",
       "1987-01-01    1\n",
       "1992-01-01    1\n",
       "1996-01-01    1\n",
       "2000-01-01    1\n",
       "2009-01-01    1\n",
       "2011-01-01    1\n",
       "2012-01-01    1\n",
       "2013-01-01    1\n",
       "1973-01-01    1\n",
       "1989-01-01    1\n",
       "1990-01-01    1\n",
       "2017-01-01    1\n",
       "2013-01-01    1\n",
       "2017-01-01    1\n",
       "2005-01-01    1\n",
       "2013-01-01    1\n",
       "             ..\n",
       "2009-01-01    1\n",
       "2017-01-01    1\n",
       "2009-01-01    1\n",
       "1945-01-01    1\n",
       "1953-01-01    1\n",
       "1961-01-01    1\n",
       "1969-01-01    1\n",
       "1973-01-01    1\n",
       "1977-01-01    1\n",
       "1980-01-01    1\n",
       "1980-01-01    1\n",
       "1980-01-01    1\n",
       "1980-01-01    1\n",
       "1980-01-01    1\n",
       "1993-01-01    1\n",
       "1993-01-01    1\n",
       "2017-01-01    1\n",
       "2017-01-01    1\n",
       "1994-01-01    1\n",
       "2002-01-01    1\n",
       "2006-01-01    1\n",
       "2009-01-01    1\n",
       "2013-01-01    1\n",
       "2017-01-01    1\n",
       "1992-01-01    1\n",
       "1997-01-01    1\n",
       "2000-01-01    1\n",
       "2007-01-01    1\n",
       "2014-01-01    1\n",
       "2017-01-01    1\n",
       "Name: Status, Length: 75, dtype: int64"
      ]
     },
     "execution_count": 80,
     "metadata": {},
     "output_type": "execute_result"
    }
   ],
   "source": [
    "sample_cabinet1"
   ]
  },
  {
   "cell_type": "code",
   "execution_count": 82,
   "metadata": {
    "scrolled": false
   },
   "outputs": [
    {
     "data": {
      "image/png": "[encoded data removed]",
      "text/plain": [
       "<matplotlib.figure.Figure at 0x116149b70>"
      ]
     },
     "metadata": {},
     "output_type": "display_data"
    }
   ],
   "source": [
    "ax =sample_cabinet1.resample('A').sum().plot(kind='bar',title='Number of Acting Cabinet Members')\n",
    "#ax.set_xlim(1945,2017)\n",
    "plt.savefig(\"YoThisIsIt.svg\")"
   ]
  },
  {
   "cell_type": "code",
   "execution_count": null,
   "metadata": {
    "collapsed": true,
    "scrolled": true
   },
   "outputs": [],
   "source": []
  },
  {
   "cell_type": "code",
   "execution_count": null,
   "metadata": {
    "collapsed": true,
    "scrolled": true
   },
   "outputs": [],
   "source": []
  },
  {
   "cell_type": "code",
   "execution_count": null,
   "metadata": {
    "scrolled": false
   },
   "outputs": [],
   "source": [
    "full_department.loc['Commerce'].plot(kind='bar')"
   ]
  },
  {
   "cell_type": "code",
   "execution_count": null,
   "metadata": {
    "collapsed": true,
    "scrolled": true
   },
   "outputs": [],
   "source": []
  },
  {
   "cell_type": "code",
   "execution_count": null,
   "metadata": {
    "collapsed": true,
    "scrolled": true
   },
   "outputs": [],
   "source": [
    "# https://seaborn.pydata.org/generated/seaborn.swarmplot.html\n",
    "ax = sns.swarmplot(y='Department', x='Date', data=cabinet_df, hue='Department')\n",
    "#plt.savefig(\"dotmap.svg\")"
   ]
  },
  {
   "cell_type": "code",
   "execution_count": null,
   "metadata": {
    "collapsed": true,
    "scrolled": false
   },
   "outputs": [],
   "source": [
    "#df_ag = df_true[df_true['Department'] == 'Attorney General ']\n",
    "#df_ag\n",
    "#df_ag['State'].value_counts().head(10).plot(kind='bar')"
   ]
  },
  {
   "cell_type": "markdown",
   "metadata": {
    "collapsed": true
   },
   "source": [
    "# Looking at States of Origin "
   ]
  },
  {
   "cell_type": "code",
   "execution_count": null,
   "metadata": {
    "scrolled": true
   },
   "outputs": [],
   "source": [
    "df_treasury = cabinet_df[cabinet_df['Department'] == 'Treasury']\n",
    "df_treasury\n",
    "df_treasury['State'].value_counts().head(10).plot(kind='bar')"
   ]
  },
  {
   "cell_type": "code",
   "execution_count": null,
   "metadata": {
    "collapsed": true,
    "scrolled": true
   },
   "outputs": [],
   "source": [
    "df_interior = df_true[df_true['Department'] == 'Interior']\n",
    "df_interior\n",
    "df_ag['State'].value_counts().head(10).plot(kind='bar')"
   ]
  },
  {
   "cell_type": "code",
   "execution_count": null,
   "metadata": {
    "collapsed": true,
    "scrolled": true
   },
   "outputs": [],
   "source": [
    "df_commerce = df_true[df_true['Department'] == 'Commerce']\n",
    "df_commerce\n",
    "df_commerce['State'].value_counts().head(10).plot(kind='bar')"
   ]
  },
  {
   "cell_type": "code",
   "execution_count": null,
   "metadata": {
    "collapsed": true,
    "scrolled": true
   },
   "outputs": [],
   "source": [
    "df_agriculture = df_true[df_true['Department'] == 'Agriculture']\n",
    "df_agriculture\n",
    "df_agriculture['State'].value_counts().head(10).plot(kind='bar')"
   ]
  },
  {
   "cell_type": "code",
   "execution_count": null,
   "metadata": {
    "collapsed": true,
    "scrolled": true
   },
   "outputs": [],
   "source": [
    "df_labor = df_true[df_true['Department'] == 'Labor']\n",
    "df_labor\n",
    "df_labor['State'].value_counts().head(10).plot(kind='bar')"
   ]
  },
  {
   "cell_type": "code",
   "execution_count": null,
   "metadata": {
    "collapsed": true,
    "scrolled": true
   },
   "outputs": [],
   "source": [
    "df_defense = df_true[df_true['Department'] == 'Defense']\n",
    "df_defense\n",
    "df_defense['State'].value_counts().head(10).plot(kind='bar')"
   ]
  },
  {
   "cell_type": "code",
   "execution_count": null,
   "metadata": {
    "collapsed": true,
    "scrolled": true
   },
   "outputs": [],
   "source": [
    "df_hhs = df_true[df_true['Department'] == 'HHS']\n",
    "df_hhs\n",
    "df_hhs['State'].value_counts().head(10).plot(kind='bar')"
   ]
  },
  {
   "cell_type": "code",
   "execution_count": null,
   "metadata": {
    "collapsed": true,
    "scrolled": true
   },
   "outputs": [],
   "source": [
    "df_hud = df_true[df_true['Department'] == 'HUD']\n",
    "df_hud\n",
    "df_hud['State'].value_counts().head(10).plot(kind='bar')"
   ]
  },
  {
   "cell_type": "code",
   "execution_count": null,
   "metadata": {
    "collapsed": true,
    "scrolled": true
   },
   "outputs": [],
   "source": [
    "df_energy = df_true[df_true['Department'] == 'Energy ']\n",
    "df_energy\n",
    "df_energy['State'].value_counts().head(10).plot(kind='bar') "
   ]
  },
  {
   "cell_type": "code",
   "execution_count": null,
   "metadata": {
    "collapsed": true,
    "scrolled": true
   },
   "outputs": [],
   "source": [
    "df_va = df_true[df_true['Department'] == 'VA ']\n",
    "df_va\n",
    "df_va['State'].value_counts().head(10).plot(kind='bar')"
   ]
  },
  {
   "cell_type": "code",
   "execution_count": null,
   "metadata": {
    "collapsed": true,
    "scrolled": true
   },
   "outputs": [],
   "source": [
    "df_hls = df_true[df_true['Department'] == 'Homeland Sec'] \n",
    "df_hls\n",
    "df_hls['State'].value_counts().head(10).plot(kind='bar')"
   ]
  },
  {
   "cell_type": "code",
   "execution_count": null,
   "metadata": {
    "collapsed": true,
    "scrolled": true
   },
   "outputs": [],
   "source": []
  },
  {
   "cell_type": "code",
   "execution_count": null,
   "metadata": {
    "collapsed": true,
    "scrolled": false
   },
   "outputs": [],
   "source": [
    "df_acting = cabinet_df[cabinet_df['Status'] == 'Acting']\n",
    "df_acting['Department'].value_counts()"
   ]
  },
  {
   "cell_type": "code",
   "execution_count": null,
   "metadata": {
    "collapsed": true,
    "scrolled": true
   },
   "outputs": [],
   "source": []
  },
  {
   "cell_type": "code",
   "execution_count": null,
   "metadata": {
    "collapsed": true,
    "scrolled": true
   },
   "outputs": [],
   "source": []
  },
  {
   "cell_type": "code",
   "execution_count": null,
   "metadata": {
    "collapsed": true,
    "scrolled": true
   },
   "outputs": [],
   "source": []
  },
  {
   "cell_type": "code",
   "execution_count": null,
   "metadata": {
    "collapsed": true,
    "scrolled": true
   },
   "outputs": [],
   "source": []
  },
  {
   "cell_type": "code",
   "execution_count": null,
   "metadata": {
    "collapsed": true,
    "scrolled": false
   },
   "outputs": [],
   "source": [
    "df_true['State'].value_counts()"
   ]
  },
  {
   "cell_type": "code",
   "execution_count": null,
   "metadata": {
    "collapsed": true,
    "scrolled": true
   },
   "outputs": [],
   "source": [
    "defense_cabinet = cabinet_df[cabinet_df['Department'] == 'Defense']\n",
    "defense_cabinet"
   ]
  },
  {
   "cell_type": "markdown",
   "metadata": {
    "collapsed": true
   },
   "source": [
    "## CALCULATING VOLITITY BY TIME IN OFFICE "
   ]
  },
  {
   "cell_type": "code",
   "execution_count": null,
   "metadata": {
    "scrolled": true
   },
   "outputs": [],
   "source": [
    "df_obama['Status'].value_counts()"
   ]
  },
  {
   "cell_type": "code",
   "execution_count": null,
   "metadata": {
    "scrolled": true
   },
   "outputs": [],
   "source": [
    "df_wbush['Status'].value_counts()"
   ]
  },
  {
   "cell_type": "code",
   "execution_count": null,
   "metadata": {
    "scrolled": true
   },
   "outputs": [],
   "source": [
    "df_clinton['Status'].value_counts()"
   ]
  },
  {
   "cell_type": "code",
   "execution_count": null,
   "metadata": {
    "scrolled": true
   },
   "outputs": [],
   "source": [
    "df_hwbush['Status'].value_counts()"
   ]
  },
  {
   "cell_type": "code",
   "execution_count": null,
   "metadata": {
    "collapsed": true,
    "scrolled": true
   },
   "outputs": [],
   "source": [
    "df_reagan2 = cabinet_df[(cabinet_df['Date'] >= '1981') & (cabinet_df['Date'] <= '1988')]"
   ]
  },
  {
   "cell_type": "code",
   "execution_count": null,
   "metadata": {},
   "outputs": [],
   "source": [
    "df_reagan2['Status'].value_counts()"
   ]
  },
  {
   "cell_type": "code",
   "execution_count": null,
   "metadata": {
    "scrolled": true
   },
   "outputs": [],
   "source": [
    "df_carter2 = cabinet_df[(cabinet_df['Date'] >= '1977') & (cabinet_df['Date'] <= '1980')]\n",
    "df_carter2['Status'].value_counts()"
   ]
  },
  {
   "cell_type": "code",
   "execution_count": null,
   "metadata": {},
   "outputs": [],
   "source": [
    "df_ford2 = cabinet_df[(cabinet_df['Date'] >= '1974') & (cabinet_df['Date'] <= '1977')]\n",
    "df_ford2['Status'].value_counts()"
   ]
  },
  {
   "cell_type": "code",
   "execution_count": null,
   "metadata": {},
   "outputs": [],
   "source": [
    "df_nixon2 = cabinet_df[(cabinet_df['Date'] >= '1969') & (cabinet_df['Date'] <= '1973')]\n",
    "df_nixon2['Status'].value_counts()"
   ]
  },
  {
   "cell_type": "code",
   "execution_count": null,
   "metadata": {},
   "outputs": [],
   "source": [
    "df_johnson2 = cabinet_df[(cabinet_df['Date'] >= '1963') & (cabinet_df['Date'] <= '1968')]\n",
    "df_johnson2['Status'].value_counts()"
   ]
  },
  {
   "cell_type": "code",
   "execution_count": null,
   "metadata": {},
   "outputs": [],
   "source": [
    "df_kennedy2 = cabinet_df[(cabinet_df['Date'] >= '1961') & (cabinet_df['Date'] <= '1963')]\n",
    "df_kennedy2['Status'].value_counts()"
   ]
  },
  {
   "cell_type": "code",
   "execution_count": null,
   "metadata": {},
   "outputs": [],
   "source": [
    "df_eisenhower2 = cabinet_df[(cabinet_df['Date'] >= '1953') & (cabinet_df['Date'] <= '1960')]\n",
    "df_eisenhower2['Status'].value_counts()"
   ]
  },
  {
   "cell_type": "code",
   "execution_count": null,
   "metadata": {},
   "outputs": [],
   "source": [
    "df_truman2 = cabinet_df[(cabinet_df['Date'] >= '1945') & (cabinet_df['Date'] <= '1952')]\n",
    "df_truman2['Status'].value_counts()"
   ]
  },
  {
   "cell_type": "code",
   "execution_count": null,
   "metadata": {
    "collapsed": true
   },
   "outputs": [],
   "source": []
  }
 ],
 "metadata": {
  "kernelspec": {
   "display_name": "Python 3",
   "language": "python",
   "name": "python3"
  },
  "language_info": {
   "codemirror_mode": {
    "name": "ipython",
    "version": 3
   },
   "file_extension": ".py",
   "mimetype": "text/x-python",
   "name": "python",
   "nbconvert_exporter": "python",
   "pygments_lexer": "ipython3",
   "version": "3.6.1"
  }
 },
 "nbformat": 4,
 "nbformat_minor": 2
}
