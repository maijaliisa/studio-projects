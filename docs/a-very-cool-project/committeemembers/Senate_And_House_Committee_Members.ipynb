{
 "cells": [
  {
   "cell_type": "code",
   "execution_count": 30,
   "metadata": {
    "collapsed": true
   },
   "outputs": [],
   "source": [
    "import pandas as pd\n",
    "from bs4 import BeautifulSoup\n",
    "import requests \n",
    "import re"
   ]
  },
  {
   "cell_type": "code",
   "execution_count": 39,
   "metadata": {},
   "outputs": [],
   "source": [
    "r = requests.get('https://www.agriculture.senate.gov/about/membership')\n"
   ]
  },
  {
   "cell_type": "code",
   "execution_count": 40,
   "metadata": {
    "collapsed": true
   },
   "outputs": [],
   "source": [
    "soup = BeautifulSoup(r.text, 'html.parser')"
   ]
  },
  {
   "cell_type": "code",
   "execution_count": 73,
   "metadata": {},
   "outputs": [
    {
     "data": {
      "text/plain": [
       "[<span class=\"name sansbold\"> Pat Roberts</span>,\n",
       " <span class=\"name sansbold\"> Thad Cochran</span>,\n",
       " <span class=\"name sansbold\"> Mitch McConnell</span>,\n",
       " <span class=\"name sansbold\"> John Boozman</span>,\n",
       " <span class=\"name sansbold\"> John Hoeven</span>,\n",
       " <span class=\"name sansbold\"> Joni Ernst</span>,\n",
       " <span class=\"name sansbold\"> Charles Grassley</span>,\n",
       " <span class=\"name sansbold\"> John Thune</span>,\n",
       " <span class=\"name sansbold\"> Steve Daines</span>,\n",
       " <span class=\"name sansbold\"> David Perdue</span>,\n",
       " <span class=\"name sansbold\"> Luther Strange</span>,\n",
       " <span class=\"name sansbold\"> Debbie Stabenow</span>,\n",
       " <span class=\"name sansbold\"> Patrick Leahy</span>,\n",
       " <span class=\"name sansbold\"> Sherrod Brown</span>,\n",
       " <span class=\"name sansbold\"> Amy Klobuchar</span>,\n",
       " <span class=\"name sansbold\"> Michael Bennet</span>,\n",
       " <span class=\"name sansbold\"> Kirsten Gillibrand</span>,\n",
       " <span class=\"name sansbold\"> Joe Donnelly</span>,\n",
       " <span class=\"name sansbold\"> Heidi Heitkamp</span>,\n",
       " <span class=\"name sansbold\"> Robert P. Casey, Jr.</span>,\n",
       " <span class=\"name sansbold\"> Chris Van Hollen</span>]"
      ]
     },
     "execution_count": 73,
     "metadata": {},
     "output_type": "execute_result"
    }
   ],
   "source": [
    "results = soup.find_all('span',{'class':'name sansbold'})#17:80\n",
    "results"
   ]
  },
  {
   "cell_type": "code",
   "execution_count": 74,
   "metadata": {
    "collapsed": true
   },
   "outputs": [],
   "source": [
    "results2 = soup.find_all('span',{'class':'party'})"
   ]
  },
  {
   "cell_type": "code",
   "execution_count": 75,
   "metadata": {},
   "outputs": [
    {
     "data": {
      "text/plain": [
       "[<span class=\"party\">(Republican - Kansas)</span>,\n",
       " <span class=\"party\">(Republican - Mississippi)</span>,\n",
       " <span class=\"party\">(Republican - Kentucky)</span>,\n",
       " <span class=\"party\">(Republican - Arkansas)</span>,\n",
       " <span class=\"party\">(Republican - North Dakota)</span>,\n",
       " <span class=\"party\">(Republican - Iowa)</span>,\n",
       " <span class=\"party\">(Republican - Iowa)</span>,\n",
       " <span class=\"party\">(Republican - South Dakota)</span>,\n",
       " <span class=\"party\">(Republican - Montana)</span>,\n",
       " <span class=\"party\">(Republican - Georgia)</span>,\n",
       " <span class=\"party\">(Republican - Alabama)</span>,\n",
       " <span class=\"party\">(Democrat - Michigan)</span>,\n",
       " <span class=\"party\">(Democrat - Vermont)</span>,\n",
       " <span class=\"party\">(Democrat - Ohio)</span>,\n",
       " <span class=\"party\">(Democrat - Minnesota)</span>,\n",
       " <span class=\"party\">(Democrat - Colorado)</span>,\n",
       " <span class=\"party\">(Democrat - New York)</span>,\n",
       " <span class=\"party\">(Democrat - Indiana)</span>,\n",
       " <span class=\"party\">(Democrat - North Dakota)</span>,\n",
       " <span class=\"party\">(Democrat - Pennsylvania)</span>,\n",
       " <span class=\"party\">(Democrat - Maryland)</span>]"
      ]
     },
     "execution_count": 75,
     "metadata": {},
     "output_type": "execute_result"
    }
   ],
   "source": [
    "results2"
   ]
  },
  {
   "cell_type": "code",
   "execution_count": 82,
   "metadata": {},
   "outputs": [
    {
     "name": "stdout",
     "output_type": "stream",
     "text": [
      "[<span class=\"name sansbold\"> Pat Roberts</span>, <span class=\"name sansbold\"> Thad Cochran</span>, <span class=\"name sansbold\"> Mitch McConnell</span>, <span class=\"name sansbold\"> John Boozman</span>, <span class=\"name sansbold\"> John Hoeven</span>, <span class=\"name sansbold\"> Joni Ernst</span>, <span class=\"name sansbold\"> Charles Grassley</span>, <span class=\"name sansbold\"> John Thune</span>, <span class=\"name sansbold\"> Steve Daines</span>, <span class=\"name sansbold\"> David Perdue</span>, <span class=\"name sansbold\"> Luther Strange</span>, <span class=\"name sansbold\"> Debbie Stabenow</span>, <span class=\"name sansbold\"> Patrick Leahy</span>, <span class=\"name sansbold\"> Sherrod Brown</span>, <span class=\"name sansbold\"> Amy Klobuchar</span>, <span class=\"name sansbold\"> Michael Bennet</span>, <span class=\"name sansbold\"> Kirsten Gillibrand</span>, <span class=\"name sansbold\"> Joe Donnelly</span>, <span class=\"name sansbold\"> Heidi Heitkamp</span>, <span class=\"name sansbold\"> Robert P. Casey, Jr.</span>, <span class=\"name sansbold\"> Chris Van Hollen</span>]\n",
      "[<span class=\"party\">(Republican - Kansas)</span>, <span class=\"party\">(Republican - Mississippi)</span>, <span class=\"party\">(Republican - Kentucky)</span>, <span class=\"party\">(Republican - Arkansas)</span>, <span class=\"party\">(Republican - North Dakota)</span>, <span class=\"party\">(Republican - Iowa)</span>, <span class=\"party\">(Republican - Iowa)</span>, <span class=\"party\">(Republican - South Dakota)</span>, <span class=\"party\">(Republican - Montana)</span>, <span class=\"party\">(Republican - Georgia)</span>, <span class=\"party\">(Republican - Alabama)</span>, <span class=\"party\">(Democrat - Michigan)</span>, <span class=\"party\">(Democrat - Vermont)</span>, <span class=\"party\">(Democrat - Ohio)</span>, <span class=\"party\">(Democrat - Minnesota)</span>, <span class=\"party\">(Democrat - Colorado)</span>, <span class=\"party\">(Democrat - New York)</span>, <span class=\"party\">(Democrat - Indiana)</span>, <span class=\"party\">(Democrat - North Dakota)</span>, <span class=\"party\">(Democrat - Pennsylvania)</span>, <span class=\"party\">(Democrat - Maryland)</span>]\n",
      "-------\n",
      "[<span class=\"name sansbold\"> Pat Roberts</span>, <span class=\"name sansbold\"> Thad Cochran</span>, <span class=\"name sansbold\"> Mitch McConnell</span>, <span class=\"name sansbold\"> John Boozman</span>, <span class=\"name sansbold\"> John Hoeven</span>, <span class=\"name sansbold\"> Joni Ernst</span>, <span class=\"name sansbold\"> Charles Grassley</span>, <span class=\"name sansbold\"> John Thune</span>, <span class=\"name sansbold\"> Steve Daines</span>, <span class=\"name sansbold\"> David Perdue</span>, <span class=\"name sansbold\"> Luther Strange</span>, <span class=\"name sansbold\"> Debbie Stabenow</span>, <span class=\"name sansbold\"> Patrick Leahy</span>, <span class=\"name sansbold\"> Sherrod Brown</span>, <span class=\"name sansbold\"> Amy Klobuchar</span>, <span class=\"name sansbold\"> Michael Bennet</span>, <span class=\"name sansbold\"> Kirsten Gillibrand</span>, <span class=\"name sansbold\"> Joe Donnelly</span>, <span class=\"name sansbold\"> Heidi Heitkamp</span>, <span class=\"name sansbold\"> Robert P. Casey, Jr.</span>, <span class=\"name sansbold\"> Chris Van Hollen</span>]\n",
      "[<span class=\"party\">(Republican - Kansas)</span>, <span class=\"party\">(Republican - Mississippi)</span>, <span class=\"party\">(Republican - Kentucky)</span>, <span class=\"party\">(Republican - Arkansas)</span>, <span class=\"party\">(Republican - North Dakota)</span>, <span class=\"party\">(Republican - Iowa)</span>, <span class=\"party\">(Republican - Iowa)</span>, <span class=\"party\">(Republican - South Dakota)</span>, <span class=\"party\">(Republican - Montana)</span>, <span class=\"party\">(Republican - Georgia)</span>, <span class=\"party\">(Republican - Alabama)</span>, <span class=\"party\">(Democrat - Michigan)</span>, <span class=\"party\">(Democrat - Vermont)</span>, <span class=\"party\">(Democrat - Ohio)</span>, <span class=\"party\">(Democrat - Minnesota)</span>, <span class=\"party\">(Democrat - Colorado)</span>, <span class=\"party\">(Democrat - New York)</span>, <span class=\"party\">(Democrat - Indiana)</span>, <span class=\"party\">(Democrat - North Dakota)</span>, <span class=\"party\">(Democrat - Pennsylvania)</span>, <span class=\"party\">(Democrat - Maryland)</span>]\n",
      "-------\n",
      "[<span class=\"name sansbold\"> Pat Roberts</span>, <span class=\"name sansbold\"> Thad Cochran</span>, <span class=\"name sansbold\"> Mitch McConnell</span>, <span class=\"name sansbold\"> John Boozman</span>, <span class=\"name sansbold\"> John Hoeven</span>, <span class=\"name sansbold\"> Joni Ernst</span>, <span class=\"name sansbold\"> Charles Grassley</span>, <span class=\"name sansbold\"> John Thune</span>, <span class=\"name sansbold\"> Steve Daines</span>, <span class=\"name sansbold\"> David Perdue</span>, <span class=\"name sansbold\"> Luther Strange</span>, <span class=\"name sansbold\"> Debbie Stabenow</span>, <span class=\"name sansbold\"> Patrick Leahy</span>, <span class=\"name sansbold\"> Sherrod Brown</span>, <span class=\"name sansbold\"> Amy Klobuchar</span>, <span class=\"name sansbold\"> Michael Bennet</span>, <span class=\"name sansbold\"> Kirsten Gillibrand</span>, <span class=\"name sansbold\"> Joe Donnelly</span>, <span class=\"name sansbold\"> Heidi Heitkamp</span>, <span class=\"name sansbold\"> Robert P. Casey, Jr.</span>, <span class=\"name sansbold\"> Chris Van Hollen</span>]\n",
      "[<span class=\"party\">(Republican - Kansas)</span>, <span class=\"party\">(Republican - Mississippi)</span>, <span class=\"party\">(Republican - Kentucky)</span>, <span class=\"party\">(Republican - Arkansas)</span>, <span class=\"party\">(Republican - North Dakota)</span>, <span class=\"party\">(Republican - Iowa)</span>, <span class=\"party\">(Republican - Iowa)</span>, <span class=\"party\">(Republican - South Dakota)</span>, <span class=\"party\">(Republican - Montana)</span>, <span class=\"party\">(Republican - Georgia)</span>, <span class=\"party\">(Republican - Alabama)</span>, <span class=\"party\">(Democrat - Michigan)</span>, <span class=\"party\">(Democrat - Vermont)</span>, <span class=\"party\">(Democrat - Ohio)</span>, <span class=\"party\">(Democrat - Minnesota)</span>, <span class=\"party\">(Democrat - Colorado)</span>, <span class=\"party\">(Democrat - New York)</span>, <span class=\"party\">(Democrat - Indiana)</span>, <span class=\"party\">(Democrat - North Dakota)</span>, <span class=\"party\">(Democrat - Pennsylvania)</span>, <span class=\"party\">(Democrat - Maryland)</span>]\n",
      "-------\n",
      "[<span class=\"name sansbold\"> Pat Roberts</span>, <span class=\"name sansbold\"> Thad Cochran</span>, <span class=\"name sansbold\"> Mitch McConnell</span>, <span class=\"name sansbold\"> John Boozman</span>, <span class=\"name sansbold\"> John Hoeven</span>, <span class=\"name sansbold\"> Joni Ernst</span>, <span class=\"name sansbold\"> Charles Grassley</span>, <span class=\"name sansbold\"> John Thune</span>, <span class=\"name sansbold\"> Steve Daines</span>, <span class=\"name sansbold\"> David Perdue</span>, <span class=\"name sansbold\"> Luther Strange</span>, <span class=\"name sansbold\"> Debbie Stabenow</span>, <span class=\"name sansbold\"> Patrick Leahy</span>, <span class=\"name sansbold\"> Sherrod Brown</span>, <span class=\"name sansbold\"> Amy Klobuchar</span>, <span class=\"name sansbold\"> Michael Bennet</span>, <span class=\"name sansbold\"> Kirsten Gillibrand</span>, <span class=\"name sansbold\"> Joe Donnelly</span>, <span class=\"name sansbold\"> Heidi Heitkamp</span>, <span class=\"name sansbold\"> Robert P. Casey, Jr.</span>, <span class=\"name sansbold\"> Chris Van Hollen</span>]\n",
      "[<span class=\"party\">(Republican - Kansas)</span>, <span class=\"party\">(Republican - Mississippi)</span>, <span class=\"party\">(Republican - Kentucky)</span>, <span class=\"party\">(Republican - Arkansas)</span>, <span class=\"party\">(Republican - North Dakota)</span>, <span class=\"party\">(Republican - Iowa)</span>, <span class=\"party\">(Republican - Iowa)</span>, <span class=\"party\">(Republican - South Dakota)</span>, <span class=\"party\">(Republican - Montana)</span>, <span class=\"party\">(Republican - Georgia)</span>, <span class=\"party\">(Republican - Alabama)</span>, <span class=\"party\">(Democrat - Michigan)</span>, <span class=\"party\">(Democrat - Vermont)</span>, <span class=\"party\">(Democrat - Ohio)</span>, <span class=\"party\">(Democrat - Minnesota)</span>, <span class=\"party\">(Democrat - Colorado)</span>, <span class=\"party\">(Democrat - New York)</span>, <span class=\"party\">(Democrat - Indiana)</span>, <span class=\"party\">(Democrat - North Dakota)</span>, <span class=\"party\">(Democrat - Pennsylvania)</span>, <span class=\"party\">(Democrat - Maryland)</span>]\n",
      "-------\n",
      "[<span class=\"name sansbold\"> Pat Roberts</span>, <span class=\"name sansbold\"> Thad Cochran</span>, <span class=\"name sansbold\"> Mitch McConnell</span>, <span class=\"name sansbold\"> John Boozman</span>, <span class=\"name sansbold\"> John Hoeven</span>, <span class=\"name sansbold\"> Joni Ernst</span>, <span class=\"name sansbold\"> Charles Grassley</span>, <span class=\"name sansbold\"> John Thune</span>, <span class=\"name sansbold\"> Steve Daines</span>, <span class=\"name sansbold\"> David Perdue</span>, <span class=\"name sansbold\"> Luther Strange</span>, <span class=\"name sansbold\"> Debbie Stabenow</span>, <span class=\"name sansbold\"> Patrick Leahy</span>, <span class=\"name sansbold\"> Sherrod Brown</span>, <span class=\"name sansbold\"> Amy Klobuchar</span>, <span class=\"name sansbold\"> Michael Bennet</span>, <span class=\"name sansbold\"> Kirsten Gillibrand</span>, <span class=\"name sansbold\"> Joe Donnelly</span>, <span class=\"name sansbold\"> Heidi Heitkamp</span>, <span class=\"name sansbold\"> Robert P. Casey, Jr.</span>, <span class=\"name sansbold\"> Chris Van Hollen</span>]\n",
      "[<span class=\"party\">(Republican - Kansas)</span>, <span class=\"party\">(Republican - Mississippi)</span>, <span class=\"party\">(Republican - Kentucky)</span>, <span class=\"party\">(Republican - Arkansas)</span>, <span class=\"party\">(Republican - North Dakota)</span>, <span class=\"party\">(Republican - Iowa)</span>, <span class=\"party\">(Republican - Iowa)</span>, <span class=\"party\">(Republican - South Dakota)</span>, <span class=\"party\">(Republican - Montana)</span>, <span class=\"party\">(Republican - Georgia)</span>, <span class=\"party\">(Republican - Alabama)</span>, <span class=\"party\">(Democrat - Michigan)</span>, <span class=\"party\">(Democrat - Vermont)</span>, <span class=\"party\">(Democrat - Ohio)</span>, <span class=\"party\">(Democrat - Minnesota)</span>, <span class=\"party\">(Democrat - Colorado)</span>, <span class=\"party\">(Democrat - New York)</span>, <span class=\"party\">(Democrat - Indiana)</span>, <span class=\"party\">(Democrat - North Dakota)</span>, <span class=\"party\">(Democrat - Pennsylvania)</span>, <span class=\"party\">(Democrat - Maryland)</span>]\n",
      "-------\n",
      "[<span class=\"name sansbold\"> Pat Roberts</span>, <span class=\"name sansbold\"> Thad Cochran</span>, <span class=\"name sansbold\"> Mitch McConnell</span>, <span class=\"name sansbold\"> John Boozman</span>, <span class=\"name sansbold\"> John Hoeven</span>, <span class=\"name sansbold\"> Joni Ernst</span>, <span class=\"name sansbold\"> Charles Grassley</span>, <span class=\"name sansbold\"> John Thune</span>, <span class=\"name sansbold\"> Steve Daines</span>, <span class=\"name sansbold\"> David Perdue</span>, <span class=\"name sansbold\"> Luther Strange</span>, <span class=\"name sansbold\"> Debbie Stabenow</span>, <span class=\"name sansbold\"> Patrick Leahy</span>, <span class=\"name sansbold\"> Sherrod Brown</span>, <span class=\"name sansbold\"> Amy Klobuchar</span>, <span class=\"name sansbold\"> Michael Bennet</span>, <span class=\"name sansbold\"> Kirsten Gillibrand</span>, <span class=\"name sansbold\"> Joe Donnelly</span>, <span class=\"name sansbold\"> Heidi Heitkamp</span>, <span class=\"name sansbold\"> Robert P. Casey, Jr.</span>, <span class=\"name sansbold\"> Chris Van Hollen</span>]\n",
      "[<span class=\"party\">(Republican - Kansas)</span>, <span class=\"party\">(Republican - Mississippi)</span>, <span class=\"party\">(Republican - Kentucky)</span>, <span class=\"party\">(Republican - Arkansas)</span>, <span class=\"party\">(Republican - North Dakota)</span>, <span class=\"party\">(Republican - Iowa)</span>, <span class=\"party\">(Republican - Iowa)</span>, <span class=\"party\">(Republican - South Dakota)</span>, <span class=\"party\">(Republican - Montana)</span>, <span class=\"party\">(Republican - Georgia)</span>, <span class=\"party\">(Republican - Alabama)</span>, <span class=\"party\">(Democrat - Michigan)</span>, <span class=\"party\">(Democrat - Vermont)</span>, <span class=\"party\">(Democrat - Ohio)</span>, <span class=\"party\">(Democrat - Minnesota)</span>, <span class=\"party\">(Democrat - Colorado)</span>, <span class=\"party\">(Democrat - New York)</span>, <span class=\"party\">(Democrat - Indiana)</span>, <span class=\"party\">(Democrat - North Dakota)</span>, <span class=\"party\">(Democrat - Pennsylvania)</span>, <span class=\"party\">(Democrat - Maryland)</span>]\n",
      "-------\n",
      "[<span class=\"name sansbold\"> Pat Roberts</span>, <span class=\"name sansbold\"> Thad Cochran</span>, <span class=\"name sansbold\"> Mitch McConnell</span>, <span class=\"name sansbold\"> John Boozman</span>, <span class=\"name sansbold\"> John Hoeven</span>, <span class=\"name sansbold\"> Joni Ernst</span>, <span class=\"name sansbold\"> Charles Grassley</span>, <span class=\"name sansbold\"> John Thune</span>, <span class=\"name sansbold\"> Steve Daines</span>, <span class=\"name sansbold\"> David Perdue</span>, <span class=\"name sansbold\"> Luther Strange</span>, <span class=\"name sansbold\"> Debbie Stabenow</span>, <span class=\"name sansbold\"> Patrick Leahy</span>, <span class=\"name sansbold\"> Sherrod Brown</span>, <span class=\"name sansbold\"> Amy Klobuchar</span>, <span class=\"name sansbold\"> Michael Bennet</span>, <span class=\"name sansbold\"> Kirsten Gillibrand</span>, <span class=\"name sansbold\"> Joe Donnelly</span>, <span class=\"name sansbold\"> Heidi Heitkamp</span>, <span class=\"name sansbold\"> Robert P. Casey, Jr.</span>, <span class=\"name sansbold\"> Chris Van Hollen</span>]\n",
      "[<span class=\"party\">(Republican - Kansas)</span>, <span class=\"party\">(Republican - Mississippi)</span>, <span class=\"party\">(Republican - Kentucky)</span>, <span class=\"party\">(Republican - Arkansas)</span>, <span class=\"party\">(Republican - North Dakota)</span>, <span class=\"party\">(Republican - Iowa)</span>, <span class=\"party\">(Republican - Iowa)</span>, <span class=\"party\">(Republican - South Dakota)</span>, <span class=\"party\">(Republican - Montana)</span>, <span class=\"party\">(Republican - Georgia)</span>, <span class=\"party\">(Republican - Alabama)</span>, <span class=\"party\">(Democrat - Michigan)</span>, <span class=\"party\">(Democrat - Vermont)</span>, <span class=\"party\">(Democrat - Ohio)</span>, <span class=\"party\">(Democrat - Minnesota)</span>, <span class=\"party\">(Democrat - Colorado)</span>, <span class=\"party\">(Democrat - New York)</span>, <span class=\"party\">(Democrat - Indiana)</span>, <span class=\"party\">(Democrat - North Dakota)</span>, <span class=\"party\">(Democrat - Pennsylvania)</span>, <span class=\"party\">(Democrat - Maryland)</span>]\n",
      "-------\n",
      "[<span class=\"name sansbold\"> Pat Roberts</span>, <span class=\"name sansbold\"> Thad Cochran</span>, <span class=\"name sansbold\"> Mitch McConnell</span>, <span class=\"name sansbold\"> John Boozman</span>, <span class=\"name sansbold\"> John Hoeven</span>, <span class=\"name sansbold\"> Joni Ernst</span>, <span class=\"name sansbold\"> Charles Grassley</span>, <span class=\"name sansbold\"> John Thune</span>, <span class=\"name sansbold\"> Steve Daines</span>, <span class=\"name sansbold\"> David Perdue</span>, <span class=\"name sansbold\"> Luther Strange</span>, <span class=\"name sansbold\"> Debbie Stabenow</span>, <span class=\"name sansbold\"> Patrick Leahy</span>, <span class=\"name sansbold\"> Sherrod Brown</span>, <span class=\"name sansbold\"> Amy Klobuchar</span>, <span class=\"name sansbold\"> Michael Bennet</span>, <span class=\"name sansbold\"> Kirsten Gillibrand</span>, <span class=\"name sansbold\"> Joe Donnelly</span>, <span class=\"name sansbold\"> Heidi Heitkamp</span>, <span class=\"name sansbold\"> Robert P. Casey, Jr.</span>, <span class=\"name sansbold\"> Chris Van Hollen</span>]\n",
      "[<span class=\"party\">(Republican - Kansas)</span>, <span class=\"party\">(Republican - Mississippi)</span>, <span class=\"party\">(Republican - Kentucky)</span>, <span class=\"party\">(Republican - Arkansas)</span>, <span class=\"party\">(Republican - North Dakota)</span>, <span class=\"party\">(Republican - Iowa)</span>, <span class=\"party\">(Republican - Iowa)</span>, <span class=\"party\">(Republican - South Dakota)</span>, <span class=\"party\">(Republican - Montana)</span>, <span class=\"party\">(Republican - Georgia)</span>, <span class=\"party\">(Republican - Alabama)</span>, <span class=\"party\">(Democrat - Michigan)</span>, <span class=\"party\">(Democrat - Vermont)</span>, <span class=\"party\">(Democrat - Ohio)</span>, <span class=\"party\">(Democrat - Minnesota)</span>, <span class=\"party\">(Democrat - Colorado)</span>, <span class=\"party\">(Democrat - New York)</span>, <span class=\"party\">(Democrat - Indiana)</span>, <span class=\"party\">(Democrat - North Dakota)</span>, <span class=\"party\">(Democrat - Pennsylvania)</span>, <span class=\"party\">(Democrat - Maryland)</span>]\n",
      "-------\n",
      "[<span class=\"name sansbold\"> Pat Roberts</span>, <span class=\"name sansbold\"> Thad Cochran</span>, <span class=\"name sansbold\"> Mitch McConnell</span>, <span class=\"name sansbold\"> John Boozman</span>, <span class=\"name sansbold\"> John Hoeven</span>, <span class=\"name sansbold\"> Joni Ernst</span>, <span class=\"name sansbold\"> Charles Grassley</span>, <span class=\"name sansbold\"> John Thune</span>, <span class=\"name sansbold\"> Steve Daines</span>, <span class=\"name sansbold\"> David Perdue</span>, <span class=\"name sansbold\"> Luther Strange</span>, <span class=\"name sansbold\"> Debbie Stabenow</span>, <span class=\"name sansbold\"> Patrick Leahy</span>, <span class=\"name sansbold\"> Sherrod Brown</span>, <span class=\"name sansbold\"> Amy Klobuchar</span>, <span class=\"name sansbold\"> Michael Bennet</span>, <span class=\"name sansbold\"> Kirsten Gillibrand</span>, <span class=\"name sansbold\"> Joe Donnelly</span>, <span class=\"name sansbold\"> Heidi Heitkamp</span>, <span class=\"name sansbold\"> Robert P. Casey, Jr.</span>, <span class=\"name sansbold\"> Chris Van Hollen</span>]\n",
      "[<span class=\"party\">(Republican - Kansas)</span>, <span class=\"party\">(Republican - Mississippi)</span>, <span class=\"party\">(Republican - Kentucky)</span>, <span class=\"party\">(Republican - Arkansas)</span>, <span class=\"party\">(Republican - North Dakota)</span>, <span class=\"party\">(Republican - Iowa)</span>, <span class=\"party\">(Republican - Iowa)</span>, <span class=\"party\">(Republican - South Dakota)</span>, <span class=\"party\">(Republican - Montana)</span>, <span class=\"party\">(Republican - Georgia)</span>, <span class=\"party\">(Republican - Alabama)</span>, <span class=\"party\">(Democrat - Michigan)</span>, <span class=\"party\">(Democrat - Vermont)</span>, <span class=\"party\">(Democrat - Ohio)</span>, <span class=\"party\">(Democrat - Minnesota)</span>, <span class=\"party\">(Democrat - Colorado)</span>, <span class=\"party\">(Democrat - New York)</span>, <span class=\"party\">(Democrat - Indiana)</span>, <span class=\"party\">(Democrat - North Dakota)</span>, <span class=\"party\">(Democrat - Pennsylvania)</span>, <span class=\"party\">(Democrat - Maryland)</span>]\n",
      "-------\n",
      "[<span class=\"name sansbold\"> Pat Roberts</span>, <span class=\"name sansbold\"> Thad Cochran</span>, <span class=\"name sansbold\"> Mitch McConnell</span>, <span class=\"name sansbold\"> John Boozman</span>, <span class=\"name sansbold\"> John Hoeven</span>, <span class=\"name sansbold\"> Joni Ernst</span>, <span class=\"name sansbold\"> Charles Grassley</span>, <span class=\"name sansbold\"> John Thune</span>, <span class=\"name sansbold\"> Steve Daines</span>, <span class=\"name sansbold\"> David Perdue</span>, <span class=\"name sansbold\"> Luther Strange</span>, <span class=\"name sansbold\"> Debbie Stabenow</span>, <span class=\"name sansbold\"> Patrick Leahy</span>, <span class=\"name sansbold\"> Sherrod Brown</span>, <span class=\"name sansbold\"> Amy Klobuchar</span>, <span class=\"name sansbold\"> Michael Bennet</span>, <span class=\"name sansbold\"> Kirsten Gillibrand</span>, <span class=\"name sansbold\"> Joe Donnelly</span>, <span class=\"name sansbold\"> Heidi Heitkamp</span>, <span class=\"name sansbold\"> Robert P. Casey, Jr.</span>, <span class=\"name sansbold\"> Chris Van Hollen</span>]\n",
      "[<span class=\"party\">(Republican - Kansas)</span>, <span class=\"party\">(Republican - Mississippi)</span>, <span class=\"party\">(Republican - Kentucky)</span>, <span class=\"party\">(Republican - Arkansas)</span>, <span class=\"party\">(Republican - North Dakota)</span>, <span class=\"party\">(Republican - Iowa)</span>, <span class=\"party\">(Republican - Iowa)</span>, <span class=\"party\">(Republican - South Dakota)</span>, <span class=\"party\">(Republican - Montana)</span>, <span class=\"party\">(Republican - Georgia)</span>, <span class=\"party\">(Republican - Alabama)</span>, <span class=\"party\">(Democrat - Michigan)</span>, <span class=\"party\">(Democrat - Vermont)</span>, <span class=\"party\">(Democrat - Ohio)</span>, <span class=\"party\">(Democrat - Minnesota)</span>, <span class=\"party\">(Democrat - Colorado)</span>, <span class=\"party\">(Democrat - New York)</span>, <span class=\"party\">(Democrat - Indiana)</span>, <span class=\"party\">(Democrat - North Dakota)</span>, <span class=\"party\">(Democrat - Pennsylvania)</span>, <span class=\"party\">(Democrat - Maryland)</span>]\n",
      "-------\n",
      "[<span class=\"name sansbold\"> Pat Roberts</span>, <span class=\"name sansbold\"> Thad Cochran</span>, <span class=\"name sansbold\"> Mitch McConnell</span>, <span class=\"name sansbold\"> John Boozman</span>, <span class=\"name sansbold\"> John Hoeven</span>, <span class=\"name sansbold\"> Joni Ernst</span>, <span class=\"name sansbold\"> Charles Grassley</span>, <span class=\"name sansbold\"> John Thune</span>, <span class=\"name sansbold\"> Steve Daines</span>, <span class=\"name sansbold\"> David Perdue</span>, <span class=\"name sansbold\"> Luther Strange</span>, <span class=\"name sansbold\"> Debbie Stabenow</span>, <span class=\"name sansbold\"> Patrick Leahy</span>, <span class=\"name sansbold\"> Sherrod Brown</span>, <span class=\"name sansbold\"> Amy Klobuchar</span>, <span class=\"name sansbold\"> Michael Bennet</span>, <span class=\"name sansbold\"> Kirsten Gillibrand</span>, <span class=\"name sansbold\"> Joe Donnelly</span>, <span class=\"name sansbold\"> Heidi Heitkamp</span>, <span class=\"name sansbold\"> Robert P. Casey, Jr.</span>, <span class=\"name sansbold\"> Chris Van Hollen</span>]\n",
      "[<span class=\"party\">(Republican - Kansas)</span>, <span class=\"party\">(Republican - Mississippi)</span>, <span class=\"party\">(Republican - Kentucky)</span>, <span class=\"party\">(Republican - Arkansas)</span>, <span class=\"party\">(Republican - North Dakota)</span>, <span class=\"party\">(Republican - Iowa)</span>, <span class=\"party\">(Republican - Iowa)</span>, <span class=\"party\">(Republican - South Dakota)</span>, <span class=\"party\">(Republican - Montana)</span>, <span class=\"party\">(Republican - Georgia)</span>, <span class=\"party\">(Republican - Alabama)</span>, <span class=\"party\">(Democrat - Michigan)</span>, <span class=\"party\">(Democrat - Vermont)</span>, <span class=\"party\">(Democrat - Ohio)</span>, <span class=\"party\">(Democrat - Minnesota)</span>, <span class=\"party\">(Democrat - Colorado)</span>, <span class=\"party\">(Democrat - New York)</span>, <span class=\"party\">(Democrat - Indiana)</span>, <span class=\"party\">(Democrat - North Dakota)</span>, <span class=\"party\">(Democrat - Pennsylvania)</span>, <span class=\"party\">(Democrat - Maryland)</span>]\n",
      "-------\n",
      "[<span class=\"name sansbold\"> Pat Roberts</span>, <span class=\"name sansbold\"> Thad Cochran</span>, <span class=\"name sansbold\"> Mitch McConnell</span>, <span class=\"name sansbold\"> John Boozman</span>, <span class=\"name sansbold\"> John Hoeven</span>, <span class=\"name sansbold\"> Joni Ernst</span>, <span class=\"name sansbold\"> Charles Grassley</span>, <span class=\"name sansbold\"> John Thune</span>, <span class=\"name sansbold\"> Steve Daines</span>, <span class=\"name sansbold\"> David Perdue</span>, <span class=\"name sansbold\"> Luther Strange</span>, <span class=\"name sansbold\"> Debbie Stabenow</span>, <span class=\"name sansbold\"> Patrick Leahy</span>, <span class=\"name sansbold\"> Sherrod Brown</span>, <span class=\"name sansbold\"> Amy Klobuchar</span>, <span class=\"name sansbold\"> Michael Bennet</span>, <span class=\"name sansbold\"> Kirsten Gillibrand</span>, <span class=\"name sansbold\"> Joe Donnelly</span>, <span class=\"name sansbold\"> Heidi Heitkamp</span>, <span class=\"name sansbold\"> Robert P. Casey, Jr.</span>, <span class=\"name sansbold\"> Chris Van Hollen</span>]\n",
      "[<span class=\"party\">(Republican - Kansas)</span>, <span class=\"party\">(Republican - Mississippi)</span>, <span class=\"party\">(Republican - Kentucky)</span>, <span class=\"party\">(Republican - Arkansas)</span>, <span class=\"party\">(Republican - North Dakota)</span>, <span class=\"party\">(Republican - Iowa)</span>, <span class=\"party\">(Republican - Iowa)</span>, <span class=\"party\">(Republican - South Dakota)</span>, <span class=\"party\">(Republican - Montana)</span>, <span class=\"party\">(Republican - Georgia)</span>, <span class=\"party\">(Republican - Alabama)</span>, <span class=\"party\">(Democrat - Michigan)</span>, <span class=\"party\">(Democrat - Vermont)</span>, <span class=\"party\">(Democrat - Ohio)</span>, <span class=\"party\">(Democrat - Minnesota)</span>, <span class=\"party\">(Democrat - Colorado)</span>, <span class=\"party\">(Democrat - New York)</span>, <span class=\"party\">(Democrat - Indiana)</span>, <span class=\"party\">(Democrat - North Dakota)</span>, <span class=\"party\">(Democrat - Pennsylvania)</span>, <span class=\"party\">(Democrat - Maryland)</span>]\n",
      "-------\n",
      "[<span class=\"name sansbold\"> Pat Roberts</span>, <span class=\"name sansbold\"> Thad Cochran</span>, <span class=\"name sansbold\"> Mitch McConnell</span>, <span class=\"name sansbold\"> John Boozman</span>, <span class=\"name sansbold\"> John Hoeven</span>, <span class=\"name sansbold\"> Joni Ernst</span>, <span class=\"name sansbold\"> Charles Grassley</span>, <span class=\"name sansbold\"> John Thune</span>, <span class=\"name sansbold\"> Steve Daines</span>, <span class=\"name sansbold\"> David Perdue</span>, <span class=\"name sansbold\"> Luther Strange</span>, <span class=\"name sansbold\"> Debbie Stabenow</span>, <span class=\"name sansbold\"> Patrick Leahy</span>, <span class=\"name sansbold\"> Sherrod Brown</span>, <span class=\"name sansbold\"> Amy Klobuchar</span>, <span class=\"name sansbold\"> Michael Bennet</span>, <span class=\"name sansbold\"> Kirsten Gillibrand</span>, <span class=\"name sansbold\"> Joe Donnelly</span>, <span class=\"name sansbold\"> Heidi Heitkamp</span>, <span class=\"name sansbold\"> Robert P. Casey, Jr.</span>, <span class=\"name sansbold\"> Chris Van Hollen</span>]\n",
      "[<span class=\"party\">(Republican - Kansas)</span>, <span class=\"party\">(Republican - Mississippi)</span>, <span class=\"party\">(Republican - Kentucky)</span>, <span class=\"party\">(Republican - Arkansas)</span>, <span class=\"party\">(Republican - North Dakota)</span>, <span class=\"party\">(Republican - Iowa)</span>, <span class=\"party\">(Republican - Iowa)</span>, <span class=\"party\">(Republican - South Dakota)</span>, <span class=\"party\">(Republican - Montana)</span>, <span class=\"party\">(Republican - Georgia)</span>, <span class=\"party\">(Republican - Alabama)</span>, <span class=\"party\">(Democrat - Michigan)</span>, <span class=\"party\">(Democrat - Vermont)</span>, <span class=\"party\">(Democrat - Ohio)</span>, <span class=\"party\">(Democrat - Minnesota)</span>, <span class=\"party\">(Democrat - Colorado)</span>, <span class=\"party\">(Democrat - New York)</span>, <span class=\"party\">(Democrat - Indiana)</span>, <span class=\"party\">(Democrat - North Dakota)</span>, <span class=\"party\">(Democrat - Pennsylvania)</span>, <span class=\"party\">(Democrat - Maryland)</span>]\n",
      "-------\n",
      "[<span class=\"name sansbold\"> Pat Roberts</span>, <span class=\"name sansbold\"> Thad Cochran</span>, <span class=\"name sansbold\"> Mitch McConnell</span>, <span class=\"name sansbold\"> John Boozman</span>, <span class=\"name sansbold\"> John Hoeven</span>, <span class=\"name sansbold\"> Joni Ernst</span>, <span class=\"name sansbold\"> Charles Grassley</span>, <span class=\"name sansbold\"> John Thune</span>, <span class=\"name sansbold\"> Steve Daines</span>, <span class=\"name sansbold\"> David Perdue</span>, <span class=\"name sansbold\"> Luther Strange</span>, <span class=\"name sansbold\"> Debbie Stabenow</span>, <span class=\"name sansbold\"> Patrick Leahy</span>, <span class=\"name sansbold\"> Sherrod Brown</span>, <span class=\"name sansbold\"> Amy Klobuchar</span>, <span class=\"name sansbold\"> Michael Bennet</span>, <span class=\"name sansbold\"> Kirsten Gillibrand</span>, <span class=\"name sansbold\"> Joe Donnelly</span>, <span class=\"name sansbold\"> Heidi Heitkamp</span>, <span class=\"name sansbold\"> Robert P. Casey, Jr.</span>, <span class=\"name sansbold\"> Chris Van Hollen</span>]\n",
      "[<span class=\"party\">(Republican - Kansas)</span>, <span class=\"party\">(Republican - Mississippi)</span>, <span class=\"party\">(Republican - Kentucky)</span>, <span class=\"party\">(Republican - Arkansas)</span>, <span class=\"party\">(Republican - North Dakota)</span>, <span class=\"party\">(Republican - Iowa)</span>, <span class=\"party\">(Republican - Iowa)</span>, <span class=\"party\">(Republican - South Dakota)</span>, <span class=\"party\">(Republican - Montana)</span>, <span class=\"party\">(Republican - Georgia)</span>, <span class=\"party\">(Republican - Alabama)</span>, <span class=\"party\">(Democrat - Michigan)</span>, <span class=\"party\">(Democrat - Vermont)</span>, <span class=\"party\">(Democrat - Ohio)</span>, <span class=\"party\">(Democrat - Minnesota)</span>, <span class=\"party\">(Democrat - Colorado)</span>, <span class=\"party\">(Democrat - New York)</span>, <span class=\"party\">(Democrat - Indiana)</span>, <span class=\"party\">(Democrat - North Dakota)</span>, <span class=\"party\">(Democrat - Pennsylvania)</span>, <span class=\"party\">(Democrat - Maryland)</span>]\n",
      "-------\n",
      "[<span class=\"name sansbold\"> Pat Roberts</span>, <span class=\"name sansbold\"> Thad Cochran</span>, <span class=\"name sansbold\"> Mitch McConnell</span>, <span class=\"name sansbold\"> John Boozman</span>, <span class=\"name sansbold\"> John Hoeven</span>, <span class=\"name sansbold\"> Joni Ernst</span>, <span class=\"name sansbold\"> Charles Grassley</span>, <span class=\"name sansbold\"> John Thune</span>, <span class=\"name sansbold\"> Steve Daines</span>, <span class=\"name sansbold\"> David Perdue</span>, <span class=\"name sansbold\"> Luther Strange</span>, <span class=\"name sansbold\"> Debbie Stabenow</span>, <span class=\"name sansbold\"> Patrick Leahy</span>, <span class=\"name sansbold\"> Sherrod Brown</span>, <span class=\"name sansbold\"> Amy Klobuchar</span>, <span class=\"name sansbold\"> Michael Bennet</span>, <span class=\"name sansbold\"> Kirsten Gillibrand</span>, <span class=\"name sansbold\"> Joe Donnelly</span>, <span class=\"name sansbold\"> Heidi Heitkamp</span>, <span class=\"name sansbold\"> Robert P. Casey, Jr.</span>, <span class=\"name sansbold\"> Chris Van Hollen</span>]\n",
      "[<span class=\"party\">(Republican - Kansas)</span>, <span class=\"party\">(Republican - Mississippi)</span>, <span class=\"party\">(Republican - Kentucky)</span>, <span class=\"party\">(Republican - Arkansas)</span>, <span class=\"party\">(Republican - North Dakota)</span>, <span class=\"party\">(Republican - Iowa)</span>, <span class=\"party\">(Republican - Iowa)</span>, <span class=\"party\">(Republican - South Dakota)</span>, <span class=\"party\">(Republican - Montana)</span>, <span class=\"party\">(Republican - Georgia)</span>, <span class=\"party\">(Republican - Alabama)</span>, <span class=\"party\">(Democrat - Michigan)</span>, <span class=\"party\">(Democrat - Vermont)</span>, <span class=\"party\">(Democrat - Ohio)</span>, <span class=\"party\">(Democrat - Minnesota)</span>, <span class=\"party\">(Democrat - Colorado)</span>, <span class=\"party\">(Democrat - New York)</span>, <span class=\"party\">(Democrat - Indiana)</span>, <span class=\"party\">(Democrat - North Dakota)</span>, <span class=\"party\">(Democrat - Pennsylvania)</span>, <span class=\"party\">(Democrat - Maryland)</span>]\n",
      "-------\n",
      "[<span class=\"name sansbold\"> Pat Roberts</span>, <span class=\"name sansbold\"> Thad Cochran</span>, <span class=\"name sansbold\"> Mitch McConnell</span>, <span class=\"name sansbold\"> John Boozman</span>, <span class=\"name sansbold\"> John Hoeven</span>, <span class=\"name sansbold\"> Joni Ernst</span>, <span class=\"name sansbold\"> Charles Grassley</span>, <span class=\"name sansbold\"> John Thune</span>, <span class=\"name sansbold\"> Steve Daines</span>, <span class=\"name sansbold\"> David Perdue</span>, <span class=\"name sansbold\"> Luther Strange</span>, <span class=\"name sansbold\"> Debbie Stabenow</span>, <span class=\"name sansbold\"> Patrick Leahy</span>, <span class=\"name sansbold\"> Sherrod Brown</span>, <span class=\"name sansbold\"> Amy Klobuchar</span>, <span class=\"name sansbold\"> Michael Bennet</span>, <span class=\"name sansbold\"> Kirsten Gillibrand</span>, <span class=\"name sansbold\"> Joe Donnelly</span>, <span class=\"name sansbold\"> Heidi Heitkamp</span>, <span class=\"name sansbold\"> Robert P. Casey, Jr.</span>, <span class=\"name sansbold\"> Chris Van Hollen</span>]\n",
      "[<span class=\"party\">(Republican - Kansas)</span>, <span class=\"party\">(Republican - Mississippi)</span>, <span class=\"party\">(Republican - Kentucky)</span>, <span class=\"party\">(Republican - Arkansas)</span>, <span class=\"party\">(Republican - North Dakota)</span>, <span class=\"party\">(Republican - Iowa)</span>, <span class=\"party\">(Republican - Iowa)</span>, <span class=\"party\">(Republican - South Dakota)</span>, <span class=\"party\">(Republican - Montana)</span>, <span class=\"party\">(Republican - Georgia)</span>, <span class=\"party\">(Republican - Alabama)</span>, <span class=\"party\">(Democrat - Michigan)</span>, <span class=\"party\">(Democrat - Vermont)</span>, <span class=\"party\">(Democrat - Ohio)</span>, <span class=\"party\">(Democrat - Minnesota)</span>, <span class=\"party\">(Democrat - Colorado)</span>, <span class=\"party\">(Democrat - New York)</span>, <span class=\"party\">(Democrat - Indiana)</span>, <span class=\"party\">(Democrat - North Dakota)</span>, <span class=\"party\">(Democrat - Pennsylvania)</span>, <span class=\"party\">(Democrat - Maryland)</span>]\n",
      "-------\n",
      "[<span class=\"name sansbold\"> Pat Roberts</span>, <span class=\"name sansbold\"> Thad Cochran</span>, <span class=\"name sansbold\"> Mitch McConnell</span>, <span class=\"name sansbold\"> John Boozman</span>, <span class=\"name sansbold\"> John Hoeven</span>, <span class=\"name sansbold\"> Joni Ernst</span>, <span class=\"name sansbold\"> Charles Grassley</span>, <span class=\"name sansbold\"> John Thune</span>, <span class=\"name sansbold\"> Steve Daines</span>, <span class=\"name sansbold\"> David Perdue</span>, <span class=\"name sansbold\"> Luther Strange</span>, <span class=\"name sansbold\"> Debbie Stabenow</span>, <span class=\"name sansbold\"> Patrick Leahy</span>, <span class=\"name sansbold\"> Sherrod Brown</span>, <span class=\"name sansbold\"> Amy Klobuchar</span>, <span class=\"name sansbold\"> Michael Bennet</span>, <span class=\"name sansbold\"> Kirsten Gillibrand</span>, <span class=\"name sansbold\"> Joe Donnelly</span>, <span class=\"name sansbold\"> Heidi Heitkamp</span>, <span class=\"name sansbold\"> Robert P. Casey, Jr.</span>, <span class=\"name sansbold\"> Chris Van Hollen</span>]\n",
      "[<span class=\"party\">(Republican - Kansas)</span>, <span class=\"party\">(Republican - Mississippi)</span>, <span class=\"party\">(Republican - Kentucky)</span>, <span class=\"party\">(Republican - Arkansas)</span>, <span class=\"party\">(Republican - North Dakota)</span>, <span class=\"party\">(Republican - Iowa)</span>, <span class=\"party\">(Republican - Iowa)</span>, <span class=\"party\">(Republican - South Dakota)</span>, <span class=\"party\">(Republican - Montana)</span>, <span class=\"party\">(Republican - Georgia)</span>, <span class=\"party\">(Republican - Alabama)</span>, <span class=\"party\">(Democrat - Michigan)</span>, <span class=\"party\">(Democrat - Vermont)</span>, <span class=\"party\">(Democrat - Ohio)</span>, <span class=\"party\">(Democrat - Minnesota)</span>, <span class=\"party\">(Democrat - Colorado)</span>, <span class=\"party\">(Democrat - New York)</span>, <span class=\"party\">(Democrat - Indiana)</span>, <span class=\"party\">(Democrat - North Dakota)</span>, <span class=\"party\">(Democrat - Pennsylvania)</span>, <span class=\"party\">(Democrat - Maryland)</span>]\n",
      "-------\n",
      "[<span class=\"name sansbold\"> Pat Roberts</span>, <span class=\"name sansbold\"> Thad Cochran</span>, <span class=\"name sansbold\"> Mitch McConnell</span>, <span class=\"name sansbold\"> John Boozman</span>, <span class=\"name sansbold\"> John Hoeven</span>, <span class=\"name sansbold\"> Joni Ernst</span>, <span class=\"name sansbold\"> Charles Grassley</span>, <span class=\"name sansbold\"> John Thune</span>, <span class=\"name sansbold\"> Steve Daines</span>, <span class=\"name sansbold\"> David Perdue</span>, <span class=\"name sansbold\"> Luther Strange</span>, <span class=\"name sansbold\"> Debbie Stabenow</span>, <span class=\"name sansbold\"> Patrick Leahy</span>, <span class=\"name sansbold\"> Sherrod Brown</span>, <span class=\"name sansbold\"> Amy Klobuchar</span>, <span class=\"name sansbold\"> Michael Bennet</span>, <span class=\"name sansbold\"> Kirsten Gillibrand</span>, <span class=\"name sansbold\"> Joe Donnelly</span>, <span class=\"name sansbold\"> Heidi Heitkamp</span>, <span class=\"name sansbold\"> Robert P. Casey, Jr.</span>, <span class=\"name sansbold\"> Chris Van Hollen</span>]\n",
      "[<span class=\"party\">(Republican - Kansas)</span>, <span class=\"party\">(Republican - Mississippi)</span>, <span class=\"party\">(Republican - Kentucky)</span>, <span class=\"party\">(Republican - Arkansas)</span>, <span class=\"party\">(Republican - North Dakota)</span>, <span class=\"party\">(Republican - Iowa)</span>, <span class=\"party\">(Republican - Iowa)</span>, <span class=\"party\">(Republican - South Dakota)</span>, <span class=\"party\">(Republican - Montana)</span>, <span class=\"party\">(Republican - Georgia)</span>, <span class=\"party\">(Republican - Alabama)</span>, <span class=\"party\">(Democrat - Michigan)</span>, <span class=\"party\">(Democrat - Vermont)</span>, <span class=\"party\">(Democrat - Ohio)</span>, <span class=\"party\">(Democrat - Minnesota)</span>, <span class=\"party\">(Democrat - Colorado)</span>, <span class=\"party\">(Democrat - New York)</span>, <span class=\"party\">(Democrat - Indiana)</span>, <span class=\"party\">(Democrat - North Dakota)</span>, <span class=\"party\">(Democrat - Pennsylvania)</span>, <span class=\"party\">(Democrat - Maryland)</span>]\n",
      "-------\n",
      "[<span class=\"name sansbold\"> Pat Roberts</span>, <span class=\"name sansbold\"> Thad Cochran</span>, <span class=\"name sansbold\"> Mitch McConnell</span>, <span class=\"name sansbold\"> John Boozman</span>, <span class=\"name sansbold\"> John Hoeven</span>, <span class=\"name sansbold\"> Joni Ernst</span>, <span class=\"name sansbold\"> Charles Grassley</span>, <span class=\"name sansbold\"> John Thune</span>, <span class=\"name sansbold\"> Steve Daines</span>, <span class=\"name sansbold\"> David Perdue</span>, <span class=\"name sansbold\"> Luther Strange</span>, <span class=\"name sansbold\"> Debbie Stabenow</span>, <span class=\"name sansbold\"> Patrick Leahy</span>, <span class=\"name sansbold\"> Sherrod Brown</span>, <span class=\"name sansbold\"> Amy Klobuchar</span>, <span class=\"name sansbold\"> Michael Bennet</span>, <span class=\"name sansbold\"> Kirsten Gillibrand</span>, <span class=\"name sansbold\"> Joe Donnelly</span>, <span class=\"name sansbold\"> Heidi Heitkamp</span>, <span class=\"name sansbold\"> Robert P. Casey, Jr.</span>, <span class=\"name sansbold\"> Chris Van Hollen</span>]\n",
      "[<span class=\"party\">(Republican - Kansas)</span>, <span class=\"party\">(Republican - Mississippi)</span>, <span class=\"party\">(Republican - Kentucky)</span>, <span class=\"party\">(Republican - Arkansas)</span>, <span class=\"party\">(Republican - North Dakota)</span>, <span class=\"party\">(Republican - Iowa)</span>, <span class=\"party\">(Republican - Iowa)</span>, <span class=\"party\">(Republican - South Dakota)</span>, <span class=\"party\">(Republican - Montana)</span>, <span class=\"party\">(Republican - Georgia)</span>, <span class=\"party\">(Republican - Alabama)</span>, <span class=\"party\">(Democrat - Michigan)</span>, <span class=\"party\">(Democrat - Vermont)</span>, <span class=\"party\">(Democrat - Ohio)</span>, <span class=\"party\">(Democrat - Minnesota)</span>, <span class=\"party\">(Democrat - Colorado)</span>, <span class=\"party\">(Democrat - New York)</span>, <span class=\"party\">(Democrat - Indiana)</span>, <span class=\"party\">(Democrat - North Dakota)</span>, <span class=\"party\">(Democrat - Pennsylvania)</span>, <span class=\"party\">(Democrat - Maryland)</span>]\n",
      "-------\n",
      "[<span class=\"name sansbold\"> Pat Roberts</span>, <span class=\"name sansbold\"> Thad Cochran</span>, <span class=\"name sansbold\"> Mitch McConnell</span>, <span class=\"name sansbold\"> John Boozman</span>, <span class=\"name sansbold\"> John Hoeven</span>, <span class=\"name sansbold\"> Joni Ernst</span>, <span class=\"name sansbold\"> Charles Grassley</span>, <span class=\"name sansbold\"> John Thune</span>, <span class=\"name sansbold\"> Steve Daines</span>, <span class=\"name sansbold\"> David Perdue</span>, <span class=\"name sansbold\"> Luther Strange</span>, <span class=\"name sansbold\"> Debbie Stabenow</span>, <span class=\"name sansbold\"> Patrick Leahy</span>, <span class=\"name sansbold\"> Sherrod Brown</span>, <span class=\"name sansbold\"> Amy Klobuchar</span>, <span class=\"name sansbold\"> Michael Bennet</span>, <span class=\"name sansbold\"> Kirsten Gillibrand</span>, <span class=\"name sansbold\"> Joe Donnelly</span>, <span class=\"name sansbold\"> Heidi Heitkamp</span>, <span class=\"name sansbold\"> Robert P. Casey, Jr.</span>, <span class=\"name sansbold\"> Chris Van Hollen</span>]\n",
      "[<span class=\"party\">(Republican - Kansas)</span>, <span class=\"party\">(Republican - Mississippi)</span>, <span class=\"party\">(Republican - Kentucky)</span>, <span class=\"party\">(Republican - Arkansas)</span>, <span class=\"party\">(Republican - North Dakota)</span>, <span class=\"party\">(Republican - Iowa)</span>, <span class=\"party\">(Republican - Iowa)</span>, <span class=\"party\">(Republican - South Dakota)</span>, <span class=\"party\">(Republican - Montana)</span>, <span class=\"party\">(Republican - Georgia)</span>, <span class=\"party\">(Republican - Alabama)</span>, <span class=\"party\">(Democrat - Michigan)</span>, <span class=\"party\">(Democrat - Vermont)</span>, <span class=\"party\">(Democrat - Ohio)</span>, <span class=\"party\">(Democrat - Minnesota)</span>, <span class=\"party\">(Democrat - Colorado)</span>, <span class=\"party\">(Democrat - New York)</span>, <span class=\"party\">(Democrat - Indiana)</span>, <span class=\"party\">(Democrat - North Dakota)</span>, <span class=\"party\">(Democrat - Pennsylvania)</span>, <span class=\"party\">(Democrat - Maryland)</span>]\n",
      "-------\n",
      "[<span class=\"name sansbold\"> Pat Roberts</span>, <span class=\"name sansbold\"> Thad Cochran</span>, <span class=\"name sansbold\"> Mitch McConnell</span>, <span class=\"name sansbold\"> John Boozman</span>, <span class=\"name sansbold\"> John Hoeven</span>, <span class=\"name sansbold\"> Joni Ernst</span>, <span class=\"name sansbold\"> Charles Grassley</span>, <span class=\"name sansbold\"> John Thune</span>, <span class=\"name sansbold\"> Steve Daines</span>, <span class=\"name sansbold\"> David Perdue</span>, <span class=\"name sansbold\"> Luther Strange</span>, <span class=\"name sansbold\"> Debbie Stabenow</span>, <span class=\"name sansbold\"> Patrick Leahy</span>, <span class=\"name sansbold\"> Sherrod Brown</span>, <span class=\"name sansbold\"> Amy Klobuchar</span>, <span class=\"name sansbold\"> Michael Bennet</span>, <span class=\"name sansbold\"> Kirsten Gillibrand</span>, <span class=\"name sansbold\"> Joe Donnelly</span>, <span class=\"name sansbold\"> Heidi Heitkamp</span>, <span class=\"name sansbold\"> Robert P. Casey, Jr.</span>, <span class=\"name sansbold\"> Chris Van Hollen</span>]\n",
      "[<span class=\"party\">(Republican - Kansas)</span>, <span class=\"party\">(Republican - Mississippi)</span>, <span class=\"party\">(Republican - Kentucky)</span>, <span class=\"party\">(Republican - Arkansas)</span>, <span class=\"party\">(Republican - North Dakota)</span>, <span class=\"party\">(Republican - Iowa)</span>, <span class=\"party\">(Republican - Iowa)</span>, <span class=\"party\">(Republican - South Dakota)</span>, <span class=\"party\">(Republican - Montana)</span>, <span class=\"party\">(Republican - Georgia)</span>, <span class=\"party\">(Republican - Alabama)</span>, <span class=\"party\">(Democrat - Michigan)</span>, <span class=\"party\">(Democrat - Vermont)</span>, <span class=\"party\">(Democrat - Ohio)</span>, <span class=\"party\">(Democrat - Minnesota)</span>, <span class=\"party\">(Democrat - Colorado)</span>, <span class=\"party\">(Democrat - New York)</span>, <span class=\"party\">(Democrat - Indiana)</span>, <span class=\"party\">(Democrat - North Dakota)</span>, <span class=\"party\">(Democrat - Pennsylvania)</span>, <span class=\"party\">(Democrat - Maryland)</span>]\n",
      "-------\n"
     ]
    }
   ],
   "source": [
    "for result in results:\n",
    "    print(results)\n",
    "    print(results2)\n",
    "    print('-------')\n"
   ]
  },
  {
   "cell_type": "code",
   "execution_count": 78,
   "metadata": {},
   "outputs": [],
   "source": [
    "#full_list = []\n",
    "#for name in results:\n",
    "#    name = (name + results2)\n",
    "#    print(name)\n",
    "#    full_list.append(name)"
   ]
  },
  {
   "cell_type": "code",
   "execution_count": null,
   "metadata": {
    "collapsed": true
   },
   "outputs": [],
   "source": []
  },
  {
   "cell_type": "code",
   "execution_count": 2,
   "metadata": {},
   "outputs": [
    {
     "name": "stdout",
     "output_type": "stream",
     "text": [
      "<!DOCTYPE html PUBLIC \"-//W3C//DTD XHTML 1.0 Transitional//EN\" \"http://www.w3.org/TR/xhtml1/DTD/xhtml1-transitional.dtd\">\n",
      "<!-- [if lt IE 7]> <html class=\"ie6 oldie\"> <![endif] -->\n",
      "<!-- [if IE 7]>    <html class=\"ie7 oldie\"> <![endif] -->\n",
      "<!-- [if IE 8]>    <html class=\"ie8 oldie\"> <![endif] -->\n",
      "<!-- [if gt IE 8]> <! --><html class=\"\">\n",
      "    <!-- <![endif] -->\n",
      "    <head>\n",
      "        <META http-equiv=\"Content-Type\" content=\"text/html; charset=iso-8859-1\">\n",
      "        <meta charset=\"UTF-8\">\n",
      "        <meta con\n"
     ]
    }
   ],
   "source": [
    "r = requests.get('https://www.senate.gov/general/committee_membership/committee_memberships_JCSE.htm')\n",
    "print(r.text[0:500])"
   ]
  },
  {
   "cell_type": "code",
   "execution_count": 3,
   "metadata": {
    "collapsed": true
   },
   "outputs": [],
   "source": [
    "soup = BeautifulSoup(r.text, 'html.parser')"
   ]
  },
  {
   "cell_type": "code",
   "execution_count": 24,
   "metadata": {},
   "outputs": [
    {
     "data": {
      "text/plain": [
       "'\\n\\nWicker, Roger F. (MS)\\n\\t\\t\\t\\t\\t\\n\\t\\t\\t\\t\\t, Cochairman\\n\\nBoozman, John (AR)\\n\\t\\t\\t\\t\\t\\n\\t\\t\\t\\t\\t\\nRubio, Marco (FL)\\n\\t\\t\\t\\t\\t\\n\\t\\t\\t\\t\\t\\nTillis, Thom (NC)\\n\\t\\t\\t\\t\\t\\n\\t\\t\\t\\t\\t\\nGardner, Cory (CO)\\n\\t\\t\\t\\t\\t\\n\\t\\t\\t\\t\\t\\nCardin, Benjamin L. (MD)Whitehouse, Sheldon (RI)Udall, Tom (NM)Shaheen, Jeanne (NH)\\n\\n'"
      ]
     },
     "execution_count": 24,
     "metadata": {},
     "output_type": "execute_result"
    }
   ],
   "source": [
    "results = soup.find_all('tr')[3].text\n",
    "results"
   ]
  },
  {
   "cell_type": "code",
   "execution_count": 28,
   "metadata": {},
   "outputs": [
    {
     "data": {
      "text/plain": [
       "'Wicker, Roger F. (MS)\\t\\t\\t\\t\\t\\t\\t\\t\\t\\t, CochairmanBoozman, John (AR)\\t\\t\\t\\t\\t\\t\\t\\t\\t\\tRubio, Marco (FL)\\t\\t\\t\\t\\t\\t\\t\\t\\t\\tTillis, Thom (NC)\\t\\t\\t\\t\\t\\t\\t\\t\\t\\tGardner, Cory (CO)\\t\\t\\t\\t\\t\\t\\t\\t\\t\\tCardin, Benjamin L. (MD)Whitehouse, Sheldon (RI)Udall, Tom (NM)Shaheen, Jeanne (NH)'"
      ]
     },
     "execution_count": 28,
     "metadata": {},
     "output_type": "execute_result"
    }
   ],
   "source": [
    "results.replace('\\n', '')"
   ]
  },
  {
   "cell_type": "code",
   "execution_count": 29,
   "metadata": {},
   "outputs": [
    {
     "data": {
      "text/plain": [
       "'\\n\\nWicker, Roger F. (MS)\\n\\n, Cochairman\\n\\nBoozman, John (AR)\\n\\n\\nRubio, Marco (FL)\\n\\n\\nTillis, Thom (NC)\\n\\n\\nGardner, Cory (CO)\\n\\n\\nCardin, Benjamin L. (MD)Whitehouse, Sheldon (RI)Udall, Tom (NM)Shaheen, Jeanne (NH)\\n\\n'"
      ]
     },
     "execution_count": 29,
     "metadata": {},
     "output_type": "execute_result"
    }
   ],
   "source": [
    "results.replace('\\t', '')"
   ]
  },
  {
   "cell_type": "code",
   "execution_count": 32,
   "metadata": {
    "scrolled": false
   },
   "outputs": [
    {
     "name": "stdout",
     "output_type": "stream",
     "text": [
      "\n",
      "\n",
      "Wicker, Roger F. (MS)\n",
      "\t\t\t\t\t\n",
      "\t\t\t\t\t, Cochairman\n",
      "\n",
      "Boozman, John (AR)\n",
      "\t\t\t\t\t\n",
      "\t\t\t\t\t\n",
      "Rubio, Marco (FL)\n",
      "\t\t\t\t\t\n",
      "\t\t\t\t\t\n",
      "Tillis, Thom (NC)\n",
      "\t\t\t\t\t\n",
      "\t\t\t\t\t\n",
      "Gardner, Cory (CO)\n",
      "\t\t\t\t\t\n",
      "\t\t\t\t\t\n",
      "Cardin, Benjamin L. (MD)Whitehouse, Sheldon (RI)Udall, Tom (NM)Shaheen, Jeanne (NH)\n",
      "\n",
      "\n"
     ]
    }
   ],
   "source": [
    "string=results\n",
    "for ch in ['\\w']:\n",
    "    if ch in string:\n",
    "        string=string.replace(ch, ' ')\n",
    "\n",
    "print(string)\n"
   ]
  },
  {
   "cell_type": "code",
   "execution_count": 35,
   "metadata": {},
   "outputs": [],
   "source": [
    "#full_list = []\n",
    "#coopeuro = results\n",
    "#for name in coopeuro:\n",
    "#    name = (name + ', Cooperation in Europe')\n",
    "#    print(name)\n",
    "#    full_list.append(name)"
   ]
  },
  {
   "cell_type": "code",
   "execution_count": null,
   "metadata": {
    "collapsed": true
   },
   "outputs": [],
   "source": []
  }
 ],
 "metadata": {
  "kernelspec": {
   "display_name": "Python 3",
   "language": "python",
   "name": "python3"
  },
  "language_info": {
   "codemirror_mode": {
    "name": "ipython",
    "version": 3
   },
   "file_extension": ".py",
   "mimetype": "text/x-python",
   "name": "python",
   "nbconvert_exporter": "python",
   "pygments_lexer": "ipython3",
   "version": "3.6.1"
  }
 },
 "nbformat": 4,
 "nbformat_minor": 2
}
