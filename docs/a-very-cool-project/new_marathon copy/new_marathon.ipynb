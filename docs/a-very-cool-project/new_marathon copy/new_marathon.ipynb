{
 "cells": [
  {
   "cell_type": "markdown",
   "metadata": {},
   "source": [
    "# How far do people travel to compete in America's most iconic marathons? "
   ]
  },
  {
   "cell_type": "code",
   "execution_count": 1,
   "metadata": {
    "collapsed": true
   },
   "outputs": [],
   "source": [
    "import pandas as pd\n",
    "%matplotlib inline"
   ]
  },
  {
   "cell_type": "code",
   "execution_count": 2,
   "metadata": {
    "collapsed": true
   },
   "outputs": [],
   "source": [
    "df = pd.read_csv('boston_marathon_results_2016.csv')"
   ]
  },
  {
   "cell_type": "code",
   "execution_count": 3,
   "metadata": {
    "collapsed": true
   },
   "outputs": [],
   "source": [
    "df_boston = df[['Name', 'Age', 'M/F', 'City', 'State', 'Country', 'Gender', 'Official Time']]"
   ]
  },
  {
   "cell_type": "markdown",
   "metadata": {},
   "source": [
    "## Boston Women "
   ]
  },
  {
   "cell_type": "code",
   "execution_count": 4,
   "metadata": {
    "collapsed": true,
    "scrolled": false
   },
   "outputs": [],
   "source": [
    "boston_women = df_boston[df_boston['M/F'] == 'F']  "
   ]
  },
  {
   "cell_type": "code",
   "execution_count": 5,
   "metadata": {},
   "outputs": [
    {
     "data": {
      "text/plain": [
       "12167"
      ]
     },
     "execution_count": 5,
     "metadata": {},
     "output_type": "execute_result"
    }
   ],
   "source": [
    "len(boston_women)\n",
    "#There were 12,167 female finishers of the 2016 Boston Marathon "
   ]
  },
  {
   "cell_type": "code",
   "execution_count": 49,
   "metadata": {},
   "outputs": [
    {
     "data": {
      "text/plain": [
       "1688"
      ]
     },
     "execution_count": 49,
     "metadata": {},
     "output_type": "execute_result"
    }
   ],
   "source": [
    "boston_int = boston_women[boston_women['Country'] != \"USA\"]\n",
    "len(boston_int)"
   ]
  },
  {
   "cell_type": "code",
   "execution_count": 6,
   "metadata": {
    "scrolled": true
   },
   "outputs": [
    {
     "data": {
      "text/plain": [
       "MA    2451\n",
       "CA     877\n",
       "NY     638\n",
       "TX     471\n",
       "PA     428\n",
       "ON     390\n",
       "IL     380\n",
       "FL     332\n",
       "OH     325\n",
       "MI     314\n",
       "VA     278\n",
       "MN     276\n",
       "NC     255\n",
       "CO     242\n",
       "UT     225\n",
       "WA     225\n",
       "NJ     208\n",
       "CT     203\n",
       "WI     188\n",
       "QC     187\n",
       "NH     172\n",
       "MD     167\n",
       "GA     160\n",
       "OR     150\n",
       "IN     134\n",
       "TN     132\n",
       "BC     120\n",
       "AZ     117\n",
       "MO     113\n",
       "AB     104\n",
       "      ... \n",
       "VT      54\n",
       "ID      54\n",
       "IA      53\n",
       "NS      51\n",
       "NV      39\n",
       "OK      39\n",
       "KS      37\n",
       "NE      36\n",
       "LA      35\n",
       "HI      35\n",
       "NM      31\n",
       "AR      28\n",
       "SD      25\n",
       "AK      24\n",
       "DE      23\n",
       "NB      23\n",
       "NL      21\n",
       "ND      19\n",
       "WV      19\n",
       "MT      16\n",
       "PR      15\n",
       "MB      14\n",
       "SK      14\n",
       "MS      11\n",
       "WY       9\n",
       "PE       6\n",
       "YT       4\n",
       "GU       3\n",
       "AE       2\n",
       "AP       1\n",
       "Name: State, Length: 66, dtype: int64"
      ]
     },
     "execution_count": 6,
     "metadata": {},
     "output_type": "execute_result"
    }
   ],
   "source": [
    "boston_women['State'].value_counts()#.plot(kind='bar')"
   ]
  },
  {
   "cell_type": "code",
   "execution_count": 7,
   "metadata": {
    "collapsed": true
   },
   "outputs": [],
   "source": [
    "traveling_boston_women = boston_women[boston_women['State'] != 'MA']"
   ]
  },
  {
   "cell_type": "code",
   "execution_count": 8,
   "metadata": {
    "collapsed": true,
    "scrolled": true
   },
   "outputs": [],
   "source": [
    "traveling_boston_women = traveling_boston_women[traveling_boston_women['Country'] == 'USA']"
   ]
  },
  {
   "cell_type": "code",
   "execution_count": 9,
   "metadata": {},
   "outputs": [
    {
     "data": {
      "text/plain": [
       "<matplotlib.axes._subplots.AxesSubplot at 0x10d1a6e48>"
      ]
     },
     "execution_count": 9,
     "metadata": {},
     "output_type": "execute_result"
    },
    {
     "data": {
      "image/png": "[encoded data removed]",
      "text/plain": [
       "<matplotlib.figure.Figure at 0x10d1a63c8>"
      ]
     },
     "metadata": {},
     "output_type": "display_data"
    }
   ],
   "source": [
    "traveling_boston_women['State'].value_counts().head(25).plot(kind='bar')"
   ]
  },
  {
   "cell_type": "code",
   "execution_count": 39,
   "metadata": {
    "scrolled": true
   },
   "outputs": [
    {
     "data": {
      "text/plain": [
       "CA    877\n",
       "NY    638\n",
       "TX    471\n",
       "PA    428\n",
       "IL    380\n",
       "FL    332\n",
       "OH    325\n",
       "MI    314\n",
       "VA    278\n",
       "MN    276\n",
       "NC    255\n",
       "CO    242\n",
       "UT    225\n",
       "WA    225\n",
       "NJ    208\n",
       "CT    203\n",
       "WI    188\n",
       "NH    172\n",
       "MD    167\n",
       "GA    160\n",
       "OR    150\n",
       "IN    134\n",
       "TN    132\n",
       "AZ    117\n",
       "MO    113\n",
       "ME     84\n",
       "DC     82\n",
       "SC     76\n",
       "KY     58\n",
       "AL     55\n",
       "RI     55\n",
       "VT     54\n",
       "ID     54\n",
       "IA     53\n",
       "NV     39\n",
       "OK     39\n",
       "KS     37\n",
       "NE     36\n",
       "LA     35\n",
       "HI     35\n",
       "NM     31\n",
       "AR     28\n",
       "SD     25\n",
       "AK     24\n",
       "DE     23\n",
       "WV     19\n",
       "ND     19\n",
       "MT     16\n",
       "PR     15\n",
       "MS     11\n",
       "WY      9\n",
       "GU      3\n",
       "AE      2\n",
       "AP      1\n",
       "Name: State, dtype: int64"
      ]
     },
     "execution_count": 39,
     "metadata": {},
     "output_type": "execute_result"
    }
   ],
   "source": [
    "traveling_boston_women['State'].value_counts()"
   ]
  },
  {
   "cell_type": "code",
   "execution_count": 10,
   "metadata": {
    "collapsed": true
   },
   "outputs": [],
   "source": [
    "### 20% of female finishers were from Massachusetts.... \n",
    "### 86% of female finishers were from within the USA "
   ]
  },
  {
   "cell_type": "markdown",
   "metadata": {},
   "source": [
    "## Boston Men "
   ]
  },
  {
   "cell_type": "code",
   "execution_count": 11,
   "metadata": {
    "scrolled": true
   },
   "outputs": [
    {
     "data": {
      "text/plain": [
       "60"
      ]
     },
     "execution_count": 11,
     "metadata": {},
     "output_type": "execute_result"
    }
   ],
   "source": [
    "len(boston_women['Country'].value_counts())\n",
    "### With 60 countries "
   ]
  },
  {
   "cell_type": "code",
   "execution_count": 12,
   "metadata": {
    "collapsed": true
   },
   "outputs": [],
   "source": [
    "boston_men = df_boston[df_boston['M/F'] == 'M']"
   ]
  },
  {
   "cell_type": "code",
   "execution_count": 13,
   "metadata": {},
   "outputs": [
    {
     "data": {
      "text/plain": [
       "14463"
      ]
     },
     "execution_count": 13,
     "metadata": {},
     "output_type": "execute_result"
    }
   ],
   "source": [
    "len(boston_men)"
   ]
  },
  {
   "cell_type": "code",
   "execution_count": 53,
   "metadata": {},
   "outputs": [
    {
     "data": {
      "text/plain": [
       "3293"
      ]
     },
     "execution_count": 53,
     "metadata": {},
     "output_type": "execute_result"
    }
   ],
   "source": [
    "boston_int = boston_men[boston_men['Country'] != 'USA']\n",
    "len(boston_int)\n"
   ]
  },
  {
   "cell_type": "code",
   "execution_count": 14,
   "metadata": {
    "scrolled": true
   },
   "outputs": [
    {
     "data": {
      "text/plain": [
       "MA    2185\n",
       "CA    1053\n",
       "NY     754\n",
       "TX     503\n",
       "ON     496\n",
       "PA     467\n",
       "IL     463\n",
       "OH     405\n",
       "QC     367\n",
       "MI     360\n",
       "FL     351\n",
       "VA     310\n",
       "NC     298\n",
       "MN     288\n",
       "NJ     288\n",
       "CO     246\n",
       "WA     227\n",
       "CT     224\n",
       "MD     219\n",
       "WI     202\n",
       "NH     189\n",
       "GA     186\n",
       "UT     171\n",
       "IN     154\n",
       "OR     148\n",
       "AZ     140\n",
       "TN     127\n",
       "MO     115\n",
       "Name: State, dtype: int64"
      ]
     },
     "execution_count": 14,
     "metadata": {},
     "output_type": "execute_result"
    }
   ],
   "source": [
    "# all the states that sent at least 100 men to Boston \n",
    "boston_men['State'].value_counts().head(28)#.plot(kind='bar',figsize=(10,10))"
   ]
  },
  {
   "cell_type": "code",
   "execution_count": 15,
   "metadata": {
    "scrolled": true
   },
   "outputs": [
    {
     "data": {
      "text/plain": [
       "USA    11170\n",
       "CAN     1200\n",
       "GBR      244\n",
       "MEX      172\n",
       "GER      136\n",
       "JPN      129\n",
       "ITA      123\n",
       "CHN       92\n",
       "AUS       89\n",
       "BRA       89\n",
       "FRA       78\n",
       "KOR       77\n",
       "ESP       64\n",
       "SWE       59\n",
       "HKG       54\n",
       "SUI       51\n",
       "DEN       49\n",
       "NED       48\n",
       "IRL       46\n",
       "COL       46\n",
       "TWN       37\n",
       "CHI       35\n",
       "BEL       24\n",
       "FIN       23\n",
       "SIN       23\n",
       "POL       21\n",
       "AUT       21\n",
       "NOR       18\n",
       "CRC       16\n",
       "ARG       15\n",
       "       ...  \n",
       "PHI        5\n",
       "SLO        5\n",
       "BER        5\n",
       "GRE        4\n",
       "LUX        4\n",
       "ESA        3\n",
       "UKR        3\n",
       "EST        2\n",
       "HUN        2\n",
       "SRB        2\n",
       "HON        2\n",
       "DOM        2\n",
       "LTU        2\n",
       "INA        2\n",
       "URU        2\n",
       "JOR        1\n",
       "ROU        1\n",
       "AND        1\n",
       "CRO        1\n",
       "PAK        1\n",
       "JAM        1\n",
       "CAY        1\n",
       "ZIM        1\n",
       "MAS        1\n",
       "VIE        1\n",
       "LAT        1\n",
       "MAR        1\n",
       "UGA        1\n",
       "ALB        1\n",
       "FLK        1\n",
       "Name: Country, Length: 77, dtype: int64"
      ]
     },
     "execution_count": 15,
     "metadata": {},
     "output_type": "execute_result"
    }
   ],
   "source": [
    "boston_men['Country'].value_counts()"
   ]
  },
  {
   "cell_type": "code",
   "execution_count": 16,
   "metadata": {
    "collapsed": true
   },
   "outputs": [],
   "source": [
    "## Drop MA just to look at travelers"
   ]
  },
  {
   "cell_type": "code",
   "execution_count": 17,
   "metadata": {
    "collapsed": true
   },
   "outputs": [],
   "source": [
    "traveling_boston_men = boston_men[boston_men['State'] != 'MA']"
   ]
  },
  {
   "cell_type": "code",
   "execution_count": 18,
   "metadata": {
    "scrolled": true
   },
   "outputs": [
    {
     "data": {
      "text/plain": [
       "<matplotlib.axes._subplots.AxesSubplot at 0x111324e48>"
      ]
     },
     "execution_count": 18,
     "metadata": {},
     "output_type": "execute_result"
    },
    {
     "data": {
      "image/png": "[encoded data removed]",
      "text/plain": [
       "<matplotlib.figure.Figure at 0x1112d3e80>"
      ]
     },
     "metadata": {},
     "output_type": "display_data"
    }
   ],
   "source": [
    "traveling_boston_men['State'].value_counts().head(27).plot(kind='bar',title='Men Who Traveled to Boston')"
   ]
  },
  {
   "cell_type": "code",
   "execution_count": 34,
   "metadata": {
    "scrolled": true
   },
   "outputs": [],
   "source": [
    "traveling_boston_men = traveling_boston_men[traveling_boston_men['Country'] == 'USA']"
   ]
  },
  {
   "cell_type": "code",
   "execution_count": 35,
   "metadata": {
    "scrolled": true
   },
   "outputs": [
    {
     "data": {
      "text/html": [
       "<div>\n",
       "<style>\n",
       "    .dataframe thead tr:only-child th {\n",
       "        text-align: right;\n",
       "    }\n",
       "\n",
       "    .dataframe thead th {\n",
       "        text-align: left;\n",
       "    }\n",
       "\n",
       "    .dataframe tbody tr th {\n",
       "        vertical-align: top;\n",
       "    }\n",
       "</style>\n",
       "<table border=\"1\" class=\"dataframe\">\n",
       "  <thead>\n",
       "    <tr style=\"text-align: right;\">\n",
       "      <th></th>\n",
       "      <th>Name</th>\n",
       "      <th>Age</th>\n",
       "      <th>M/F</th>\n",
       "      <th>City</th>\n",
       "      <th>State</th>\n",
       "      <th>Country</th>\n",
       "      <th>Gender</th>\n",
       "      <th>Official Time</th>\n",
       "    </tr>\n",
       "  </thead>\n",
       "  <tbody>\n",
       "    <tr>\n",
       "      <th>9</th>\n",
       "      <td>Hine, Zachary</td>\n",
       "      <td>28</td>\n",
       "      <td>M</td>\n",
       "      <td>Dallas</td>\n",
       "      <td>TX</td>\n",
       "      <td>USA</td>\n",
       "      <td>10</td>\n",
       "      <td>2:21:37</td>\n",
       "    </tr>\n",
       "    <tr>\n",
       "      <th>12</th>\n",
       "      <td>Burrell, Ian</td>\n",
       "      <td>31</td>\n",
       "      <td>M</td>\n",
       "      <td>Colorado Springs</td>\n",
       "      <td>CO</td>\n",
       "      <td>USA</td>\n",
       "      <td>13</td>\n",
       "      <td>2:22:22</td>\n",
       "    </tr>\n",
       "    <tr>\n",
       "      <th>14</th>\n",
       "      <td>Okuti, Harbert</td>\n",
       "      <td>30</td>\n",
       "      <td>M</td>\n",
       "      <td>New Paltz</td>\n",
       "      <td>NY</td>\n",
       "      <td>USA</td>\n",
       "      <td>15</td>\n",
       "      <td>2:24:46</td>\n",
       "    </tr>\n",
       "    <tr>\n",
       "      <th>16</th>\n",
       "      <td>Wells, Clint</td>\n",
       "      <td>40</td>\n",
       "      <td>M</td>\n",
       "      <td>Boulder</td>\n",
       "      <td>CO</td>\n",
       "      <td>USA</td>\n",
       "      <td>17</td>\n",
       "      <td>2:24:55</td>\n",
       "    </tr>\n",
       "    <tr>\n",
       "      <th>20</th>\n",
       "      <td>Williams, Andy</td>\n",
       "      <td>28</td>\n",
       "      <td>M</td>\n",
       "      <td>Wolcottville</td>\n",
       "      <td>IN</td>\n",
       "      <td>USA</td>\n",
       "      <td>21</td>\n",
       "      <td>2:27:07</td>\n",
       "    </tr>\n",
       "    <tr>\n",
       "      <th>23</th>\n",
       "      <td>Eustance, Tyler J.</td>\n",
       "      <td>23</td>\n",
       "      <td>M</td>\n",
       "      <td>Binghamton</td>\n",
       "      <td>NY</td>\n",
       "      <td>USA</td>\n",
       "      <td>24</td>\n",
       "      <td>2:27:53</td>\n",
       "    </tr>\n",
       "    <tr>\n",
       "      <th>24</th>\n",
       "      <td>Sanabria, Alvaro</td>\n",
       "      <td>26</td>\n",
       "      <td>M</td>\n",
       "      <td>Kearney</td>\n",
       "      <td>NE</td>\n",
       "      <td>USA</td>\n",
       "      <td>25</td>\n",
       "      <td>2:28:14</td>\n",
       "    </tr>\n",
       "    <tr>\n",
       "      <th>25</th>\n",
       "      <td>Maravilla, Jorge</td>\n",
       "      <td>38</td>\n",
       "      <td>M</td>\n",
       "      <td>Mill Valley</td>\n",
       "      <td>CA</td>\n",
       "      <td>USA</td>\n",
       "      <td>26</td>\n",
       "      <td>2:28:26</td>\n",
       "    </tr>\n",
       "    <tr>\n",
       "      <th>27</th>\n",
       "      <td>Villescas, Dylan M</td>\n",
       "      <td>24</td>\n",
       "      <td>M</td>\n",
       "      <td>Las Cruces</td>\n",
       "      <td>NM</td>\n",
       "      <td>USA</td>\n",
       "      <td>28</td>\n",
       "      <td>2:29:09</td>\n",
       "    </tr>\n",
       "    <tr>\n",
       "      <th>29</th>\n",
       "      <td>Ornelas, Zachary</td>\n",
       "      <td>24</td>\n",
       "      <td>M</td>\n",
       "      <td>Ann Arbor</td>\n",
       "      <td>MI</td>\n",
       "      <td>USA</td>\n",
       "      <td>29</td>\n",
       "      <td>2:29:23</td>\n",
       "    </tr>\n",
       "    <tr>\n",
       "      <th>30</th>\n",
       "      <td>Bromka, Peter M</td>\n",
       "      <td>34</td>\n",
       "      <td>M</td>\n",
       "      <td>Portland</td>\n",
       "      <td>OR</td>\n",
       "      <td>USA</td>\n",
       "      <td>30</td>\n",
       "      <td>2:29:32</td>\n",
       "    </tr>\n",
       "    <tr>\n",
       "      <th>31</th>\n",
       "      <td>Coon, Craig R.</td>\n",
       "      <td>28</td>\n",
       "      <td>M</td>\n",
       "      <td>Malta</td>\n",
       "      <td>NY</td>\n",
       "      <td>USA</td>\n",
       "      <td>31</td>\n",
       "      <td>2:29:51</td>\n",
       "    </tr>\n",
       "    <tr>\n",
       "      <th>33</th>\n",
       "      <td>Wolfe, Brandon T.</td>\n",
       "      <td>24</td>\n",
       "      <td>M</td>\n",
       "      <td>Pasadena</td>\n",
       "      <td>CA</td>\n",
       "      <td>USA</td>\n",
       "      <td>32</td>\n",
       "      <td>2:30:22</td>\n",
       "    </tr>\n",
       "    <tr>\n",
       "      <th>37</th>\n",
       "      <td>Reaves, Patrick</td>\n",
       "      <td>31</td>\n",
       "      <td>M</td>\n",
       "      <td>Portland</td>\n",
       "      <td>OR</td>\n",
       "      <td>USA</td>\n",
       "      <td>35</td>\n",
       "      <td>2:31:14</td>\n",
       "    </tr>\n",
       "    <tr>\n",
       "      <th>38</th>\n",
       "      <td>Ash, Alan</td>\n",
       "      <td>24</td>\n",
       "      <td>M</td>\n",
       "      <td>Atmore</td>\n",
       "      <td>AL</td>\n",
       "      <td>USA</td>\n",
       "      <td>36</td>\n",
       "      <td>2:31:16</td>\n",
       "    </tr>\n",
       "    <tr>\n",
       "      <th>39</th>\n",
       "      <td>Mckay, David R.</td>\n",
       "      <td>29</td>\n",
       "      <td>M</td>\n",
       "      <td>Washington</td>\n",
       "      <td>DC</td>\n",
       "      <td>USA</td>\n",
       "      <td>37</td>\n",
       "      <td>2:31:24</td>\n",
       "    </tr>\n",
       "    <tr>\n",
       "      <th>40</th>\n",
       "      <td>Wardian, Michael</td>\n",
       "      <td>42</td>\n",
       "      <td>M</td>\n",
       "      <td>Arlington</td>\n",
       "      <td>VA</td>\n",
       "      <td>USA</td>\n",
       "      <td>38</td>\n",
       "      <td>2:31:39</td>\n",
       "    </tr>\n",
       "    <tr>\n",
       "      <th>44</th>\n",
       "      <td>Leuchanka, Aliaksandr</td>\n",
       "      <td>24</td>\n",
       "      <td>M</td>\n",
       "      <td>Newmarket</td>\n",
       "      <td>NH</td>\n",
       "      <td>USA</td>\n",
       "      <td>41</td>\n",
       "      <td>2:32:37</td>\n",
       "    </tr>\n",
       "    <tr>\n",
       "      <th>46</th>\n",
       "      <td>Guillen, Ramiro C.</td>\n",
       "      <td>33</td>\n",
       "      <td>M</td>\n",
       "      <td>Goleta</td>\n",
       "      <td>CA</td>\n",
       "      <td>USA</td>\n",
       "      <td>43</td>\n",
       "      <td>2:32:45</td>\n",
       "    </tr>\n",
       "    <tr>\n",
       "      <th>47</th>\n",
       "      <td>Krieg, Sam</td>\n",
       "      <td>39</td>\n",
       "      <td>M</td>\n",
       "      <td>Pocatello</td>\n",
       "      <td>ID</td>\n",
       "      <td>USA</td>\n",
       "      <td>44</td>\n",
       "      <td>2:33:03</td>\n",
       "    </tr>\n",
       "    <tr>\n",
       "      <th>49</th>\n",
       "      <td>Vangampleare, Stephen</td>\n",
       "      <td>25</td>\n",
       "      <td>M</td>\n",
       "      <td>Colorado Springs</td>\n",
       "      <td>CO</td>\n",
       "      <td>USA</td>\n",
       "      <td>45</td>\n",
       "      <td>2:33:19</td>\n",
       "    </tr>\n",
       "    <tr>\n",
       "      <th>50</th>\n",
       "      <td>Mauro, Alex A.</td>\n",
       "      <td>22</td>\n",
       "      <td>M</td>\n",
       "      <td>Eugene</td>\n",
       "      <td>OR</td>\n",
       "      <td>USA</td>\n",
       "      <td>46</td>\n",
       "      <td>2:33:23</td>\n",
       "    </tr>\n",
       "    <tr>\n",
       "      <th>51</th>\n",
       "      <td>Turner, Wesley C</td>\n",
       "      <td>29</td>\n",
       "      <td>M</td>\n",
       "      <td>Danville</td>\n",
       "      <td>VA</td>\n",
       "      <td>USA</td>\n",
       "      <td>47</td>\n",
       "      <td>2:33:35</td>\n",
       "    </tr>\n",
       "    <tr>\n",
       "      <th>58</th>\n",
       "      <td>Larson, Kyle</td>\n",
       "      <td>26</td>\n",
       "      <td>M</td>\n",
       "      <td>Chicago</td>\n",
       "      <td>IL</td>\n",
       "      <td>USA</td>\n",
       "      <td>52</td>\n",
       "      <td>2:34:15</td>\n",
       "    </tr>\n",
       "    <tr>\n",
       "      <th>59</th>\n",
       "      <td>Fellows, Donovan</td>\n",
       "      <td>37</td>\n",
       "      <td>M</td>\n",
       "      <td>Lake Elmo</td>\n",
       "      <td>MN</td>\n",
       "      <td>USA</td>\n",
       "      <td>53</td>\n",
       "      <td>2:34:17</td>\n",
       "    </tr>\n",
       "    <tr>\n",
       "      <th>60</th>\n",
       "      <td>Madrid, Javier</td>\n",
       "      <td>26</td>\n",
       "      <td>M</td>\n",
       "      <td>Yucaipa</td>\n",
       "      <td>CA</td>\n",
       "      <td>USA</td>\n",
       "      <td>54</td>\n",
       "      <td>2:34:19</td>\n",
       "    </tr>\n",
       "    <tr>\n",
       "      <th>63</th>\n",
       "      <td>Kowalski, Justin</td>\n",
       "      <td>30</td>\n",
       "      <td>M</td>\n",
       "      <td>South Bend</td>\n",
       "      <td>IN</td>\n",
       "      <td>USA</td>\n",
       "      <td>57</td>\n",
       "      <td>2:34:35</td>\n",
       "    </tr>\n",
       "    <tr>\n",
       "      <th>65</th>\n",
       "      <td>Brigham, John M.</td>\n",
       "      <td>30</td>\n",
       "      <td>M</td>\n",
       "      <td>Mobile</td>\n",
       "      <td>AL</td>\n",
       "      <td>USA</td>\n",
       "      <td>58</td>\n",
       "      <td>2:34:41</td>\n",
       "    </tr>\n",
       "    <tr>\n",
       "      <th>66</th>\n",
       "      <td>Briskman, Jonathan</td>\n",
       "      <td>24</td>\n",
       "      <td>M</td>\n",
       "      <td>Menlo Park</td>\n",
       "      <td>CA</td>\n",
       "      <td>USA</td>\n",
       "      <td>59</td>\n",
       "      <td>2:34:43</td>\n",
       "    </tr>\n",
       "    <tr>\n",
       "      <th>69</th>\n",
       "      <td>Kaiser, Ryan</td>\n",
       "      <td>37</td>\n",
       "      <td>M</td>\n",
       "      <td>Bend</td>\n",
       "      <td>OR</td>\n",
       "      <td>USA</td>\n",
       "      <td>61</td>\n",
       "      <td>2:35:00</td>\n",
       "    </tr>\n",
       "    <tr>\n",
       "      <th>...</th>\n",
       "      <td>...</td>\n",
       "      <td>...</td>\n",
       "      <td>...</td>\n",
       "      <td>...</td>\n",
       "      <td>...</td>\n",
       "      <td>...</td>\n",
       "      <td>...</td>\n",
       "      <td>...</td>\n",
       "    </tr>\n",
       "    <tr>\n",
       "      <th>26518</th>\n",
       "      <td>Paronish, William J.</td>\n",
       "      <td>60</td>\n",
       "      <td>M</td>\n",
       "      <td>Elmora</td>\n",
       "      <td>PA</td>\n",
       "      <td>USA</td>\n",
       "      <td>14415</td>\n",
       "      <td>5:59:54</td>\n",
       "    </tr>\n",
       "    <tr>\n",
       "      <th>26523</th>\n",
       "      <td>Perrin, Carter J.</td>\n",
       "      <td>24</td>\n",
       "      <td>M</td>\n",
       "      <td>Madison</td>\n",
       "      <td>WI</td>\n",
       "      <td>USA</td>\n",
       "      <td>14416</td>\n",
       "      <td>6:00:13</td>\n",
       "    </tr>\n",
       "    <tr>\n",
       "      <th>26526</th>\n",
       "      <td>Mullery, James</td>\n",
       "      <td>51</td>\n",
       "      <td>M</td>\n",
       "      <td>Summit</td>\n",
       "      <td>NJ</td>\n",
       "      <td>USA</td>\n",
       "      <td>14417</td>\n",
       "      <td>6:00:15</td>\n",
       "    </tr>\n",
       "    <tr>\n",
       "      <th>26527</th>\n",
       "      <td>Lee, Bothwell</td>\n",
       "      <td>63</td>\n",
       "      <td>M</td>\n",
       "      <td>Washington</td>\n",
       "      <td>DC</td>\n",
       "      <td>USA</td>\n",
       "      <td>14418</td>\n",
       "      <td>6:00:16</td>\n",
       "    </tr>\n",
       "    <tr>\n",
       "      <th>26528</th>\n",
       "      <td>Mollica, Gabriel</td>\n",
       "      <td>24</td>\n",
       "      <td>M</td>\n",
       "      <td>Garden City</td>\n",
       "      <td>NY</td>\n",
       "      <td>USA</td>\n",
       "      <td>14419</td>\n",
       "      <td>6:00:17</td>\n",
       "    </tr>\n",
       "    <tr>\n",
       "      <th>26529</th>\n",
       "      <td>Grobenski, Zvonimir</td>\n",
       "      <td>70</td>\n",
       "      <td>M</td>\n",
       "      <td>Bonita Springs</td>\n",
       "      <td>FL</td>\n",
       "      <td>USA</td>\n",
       "      <td>14420</td>\n",
       "      <td>6:00:17</td>\n",
       "    </tr>\n",
       "    <tr>\n",
       "      <th>26530</th>\n",
       "      <td>Cox, Kevin</td>\n",
       "      <td>34</td>\n",
       "      <td>M</td>\n",
       "      <td>New York</td>\n",
       "      <td>NY</td>\n",
       "      <td>USA</td>\n",
       "      <td>14421</td>\n",
       "      <td>6:00:17</td>\n",
       "    </tr>\n",
       "    <tr>\n",
       "      <th>26532</th>\n",
       "      <td>Gurland, Joshua D.</td>\n",
       "      <td>45</td>\n",
       "      <td>M</td>\n",
       "      <td>Bethesda</td>\n",
       "      <td>MD</td>\n",
       "      <td>USA</td>\n",
       "      <td>14422</td>\n",
       "      <td>6:00:28</td>\n",
       "    </tr>\n",
       "    <tr>\n",
       "      <th>26536</th>\n",
       "      <td>Brown, Matt</td>\n",
       "      <td>39</td>\n",
       "      <td>M</td>\n",
       "      <td>North Aurora</td>\n",
       "      <td>IL</td>\n",
       "      <td>USA</td>\n",
       "      <td>14423</td>\n",
       "      <td>6:00:43</td>\n",
       "    </tr>\n",
       "    <tr>\n",
       "      <th>26542</th>\n",
       "      <td>Forest, Michael J.</td>\n",
       "      <td>52</td>\n",
       "      <td>M</td>\n",
       "      <td>Tampa</td>\n",
       "      <td>FL</td>\n",
       "      <td>USA</td>\n",
       "      <td>14428</td>\n",
       "      <td>6:01:16</td>\n",
       "    </tr>\n",
       "    <tr>\n",
       "      <th>26557</th>\n",
       "      <td>Hidalgo, Alan</td>\n",
       "      <td>30</td>\n",
       "      <td>M</td>\n",
       "      <td>South Gate</td>\n",
       "      <td>CA</td>\n",
       "      <td>USA</td>\n",
       "      <td>14431</td>\n",
       "      <td>6:01:59</td>\n",
       "    </tr>\n",
       "    <tr>\n",
       "      <th>26561</th>\n",
       "      <td>Campbell, John N.</td>\n",
       "      <td>68</td>\n",
       "      <td>M</td>\n",
       "      <td>Grand Rapids</td>\n",
       "      <td>MI</td>\n",
       "      <td>USA</td>\n",
       "      <td>14433</td>\n",
       "      <td>6:02:04</td>\n",
       "    </tr>\n",
       "    <tr>\n",
       "      <th>26562</th>\n",
       "      <td>Khawandanah, Mohamad</td>\n",
       "      <td>33</td>\n",
       "      <td>M</td>\n",
       "      <td>Oklahoma City</td>\n",
       "      <td>OK</td>\n",
       "      <td>USA</td>\n",
       "      <td>14434</td>\n",
       "      <td>6:02:11</td>\n",
       "    </tr>\n",
       "    <tr>\n",
       "      <th>26572</th>\n",
       "      <td>Palumbo, Joseph J.</td>\n",
       "      <td>30</td>\n",
       "      <td>M</td>\n",
       "      <td>Spotswood</td>\n",
       "      <td>NJ</td>\n",
       "      <td>USA</td>\n",
       "      <td>14437</td>\n",
       "      <td>6:03:30</td>\n",
       "    </tr>\n",
       "    <tr>\n",
       "      <th>26577</th>\n",
       "      <td>Martone, Michael N.</td>\n",
       "      <td>45</td>\n",
       "      <td>M</td>\n",
       "      <td>Pelham</td>\n",
       "      <td>NH</td>\n",
       "      <td>USA</td>\n",
       "      <td>14439</td>\n",
       "      <td>6:03:45</td>\n",
       "    </tr>\n",
       "    <tr>\n",
       "      <th>26580</th>\n",
       "      <td>Woodward, Jeremy L.</td>\n",
       "      <td>37</td>\n",
       "      <td>M</td>\n",
       "      <td>Concord</td>\n",
       "      <td>NH</td>\n",
       "      <td>USA</td>\n",
       "      <td>14440</td>\n",
       "      <td>6:03:57</td>\n",
       "    </tr>\n",
       "    <tr>\n",
       "      <th>26582</th>\n",
       "      <td>Devlin, James</td>\n",
       "      <td>40</td>\n",
       "      <td>M</td>\n",
       "      <td>Merrimack</td>\n",
       "      <td>NH</td>\n",
       "      <td>USA</td>\n",
       "      <td>14441</td>\n",
       "      <td>6:04:03</td>\n",
       "    </tr>\n",
       "    <tr>\n",
       "      <th>26597</th>\n",
       "      <td>Wright, Trent</td>\n",
       "      <td>43</td>\n",
       "      <td>M</td>\n",
       "      <td>Claremont</td>\n",
       "      <td>NC</td>\n",
       "      <td>USA</td>\n",
       "      <td>14448</td>\n",
       "      <td>6:07:48</td>\n",
       "    </tr>\n",
       "    <tr>\n",
       "      <th>26598</th>\n",
       "      <td>Smith, Christopher C.</td>\n",
       "      <td>81</td>\n",
       "      <td>M</td>\n",
       "      <td>Honolulu</td>\n",
       "      <td>HI</td>\n",
       "      <td>USA</td>\n",
       "      <td>14449</td>\n",
       "      <td>6:08:10</td>\n",
       "    </tr>\n",
       "    <tr>\n",
       "      <th>26600</th>\n",
       "      <td>Reed, Stephen D.</td>\n",
       "      <td>68</td>\n",
       "      <td>M</td>\n",
       "      <td>Wiscasset</td>\n",
       "      <td>ME</td>\n",
       "      <td>USA</td>\n",
       "      <td>14450</td>\n",
       "      <td>6:08:28</td>\n",
       "    </tr>\n",
       "    <tr>\n",
       "      <th>26608</th>\n",
       "      <td>Pierce, Randy L.</td>\n",
       "      <td>49</td>\n",
       "      <td>M</td>\n",
       "      <td>Nashua</td>\n",
       "      <td>NH</td>\n",
       "      <td>USA</td>\n",
       "      <td>14451</td>\n",
       "      <td>6:19:02</td>\n",
       "    </tr>\n",
       "    <tr>\n",
       "      <th>26609</th>\n",
       "      <td>Vorvick, Philip N.</td>\n",
       "      <td>56</td>\n",
       "      <td>M</td>\n",
       "      <td>Portland</td>\n",
       "      <td>OR</td>\n",
       "      <td>USA</td>\n",
       "      <td>14452</td>\n",
       "      <td>6:19:26</td>\n",
       "    </tr>\n",
       "    <tr>\n",
       "      <th>26612</th>\n",
       "      <td>Lehew, Bob</td>\n",
       "      <td>73</td>\n",
       "      <td>M</td>\n",
       "      <td>Estero</td>\n",
       "      <td>FL</td>\n",
       "      <td>USA</td>\n",
       "      <td>14454</td>\n",
       "      <td>6:21:30</td>\n",
       "    </tr>\n",
       "    <tr>\n",
       "      <th>26614</th>\n",
       "      <td>Carling, Richard J.</td>\n",
       "      <td>78</td>\n",
       "      <td>M</td>\n",
       "      <td>Salt Lake City</td>\n",
       "      <td>UT</td>\n",
       "      <td>USA</td>\n",
       "      <td>14455</td>\n",
       "      <td>6:28:33</td>\n",
       "    </tr>\n",
       "    <tr>\n",
       "      <th>26618</th>\n",
       "      <td>Leroy, Stefan</td>\n",
       "      <td>24</td>\n",
       "      <td>M</td>\n",
       "      <td>New York</td>\n",
       "      <td>NY</td>\n",
       "      <td>USA</td>\n",
       "      <td>14458</td>\n",
       "      <td>6:43:49</td>\n",
       "    </tr>\n",
       "    <tr>\n",
       "      <th>26621</th>\n",
       "      <td>Gomez, Raymond</td>\n",
       "      <td>58</td>\n",
       "      <td>M</td>\n",
       "      <td>Arlington Heights</td>\n",
       "      <td>IL</td>\n",
       "      <td>USA</td>\n",
       "      <td>14459</td>\n",
       "      <td>6:57:00</td>\n",
       "    </tr>\n",
       "    <tr>\n",
       "      <th>26622</th>\n",
       "      <td>Rigsby, Scott</td>\n",
       "      <td>47</td>\n",
       "      <td>M</td>\n",
       "      <td>Atlanta</td>\n",
       "      <td>GA</td>\n",
       "      <td>USA</td>\n",
       "      <td>14460</td>\n",
       "      <td>6:58:04</td>\n",
       "    </tr>\n",
       "    <tr>\n",
       "      <th>26624</th>\n",
       "      <td>Hall, Steven J</td>\n",
       "      <td>43</td>\n",
       "      <td>M</td>\n",
       "      <td>Yardley</td>\n",
       "      <td>PA</td>\n",
       "      <td>USA</td>\n",
       "      <td>14461</td>\n",
       "      <td>7:22:23</td>\n",
       "    </tr>\n",
       "    <tr>\n",
       "      <th>26627</th>\n",
       "      <td>Ganem, William J.</td>\n",
       "      <td>39</td>\n",
       "      <td>M</td>\n",
       "      <td>Reedsburg</td>\n",
       "      <td>WI</td>\n",
       "      <td>USA</td>\n",
       "      <td>14462</td>\n",
       "      <td>8:23:27</td>\n",
       "    </tr>\n",
       "    <tr>\n",
       "      <th>26628</th>\n",
       "      <td>Farler, Daryl R.</td>\n",
       "      <td>35</td>\n",
       "      <td>M</td>\n",
       "      <td>Franklin</td>\n",
       "      <td>TN</td>\n",
       "      <td>USA</td>\n",
       "      <td>14463</td>\n",
       "      <td>8:25:09</td>\n",
       "    </tr>\n",
       "  </tbody>\n",
       "</table>\n",
       "<p>8985 rows × 8 columns</p>\n",
       "</div>"
      ],
      "text/plain": [
       "                        Name  Age M/F               City State Country  \\\n",
       "9              Hine, Zachary   28   M             Dallas    TX     USA   \n",
       "12              Burrell, Ian   31   M   Colorado Springs    CO     USA   \n",
       "14            Okuti, Harbert   30   M          New Paltz    NY     USA   \n",
       "16              Wells, Clint   40   M            Boulder    CO     USA   \n",
       "20            Williams, Andy   28   M       Wolcottville    IN     USA   \n",
       "23        Eustance, Tyler J.   23   M         Binghamton    NY     USA   \n",
       "24          Sanabria, Alvaro   26   M            Kearney    NE     USA   \n",
       "25          Maravilla, Jorge   38   M        Mill Valley    CA     USA   \n",
       "27        Villescas, Dylan M   24   M         Las Cruces    NM     USA   \n",
       "29          Ornelas, Zachary   24   M          Ann Arbor    MI     USA   \n",
       "30           Bromka, Peter M   34   M           Portland    OR     USA   \n",
       "31            Coon, Craig R.   28   M              Malta    NY     USA   \n",
       "33         Wolfe, Brandon T.   24   M           Pasadena    CA     USA   \n",
       "37           Reaves, Patrick   31   M           Portland    OR     USA   \n",
       "38                 Ash, Alan   24   M             Atmore    AL     USA   \n",
       "39           Mckay, David R.   29   M         Washington    DC     USA   \n",
       "40          Wardian, Michael   42   M          Arlington    VA     USA   \n",
       "44     Leuchanka, Aliaksandr   24   M          Newmarket    NH     USA   \n",
       "46        Guillen, Ramiro C.   33   M             Goleta    CA     USA   \n",
       "47                Krieg, Sam   39   M          Pocatello    ID     USA   \n",
       "49     Vangampleare, Stephen   25   M   Colorado Springs    CO     USA   \n",
       "50            Mauro, Alex A.   22   M             Eugene    OR     USA   \n",
       "51          Turner, Wesley C   29   M           Danville    VA     USA   \n",
       "58              Larson, Kyle   26   M            Chicago    IL     USA   \n",
       "59          Fellows, Donovan   37   M          Lake Elmo    MN     USA   \n",
       "60            Madrid, Javier   26   M            Yucaipa    CA     USA   \n",
       "63          Kowalski, Justin   30   M         South Bend    IN     USA   \n",
       "65          Brigham, John M.   30   M             Mobile    AL     USA   \n",
       "66        Briskman, Jonathan   24   M         Menlo Park    CA     USA   \n",
       "69              Kaiser, Ryan   37   M               Bend    OR     USA   \n",
       "...                      ...  ...  ..                ...   ...     ...   \n",
       "26518   Paronish, William J.   60   M             Elmora    PA     USA   \n",
       "26523      Perrin, Carter J.   24   M            Madison    WI     USA   \n",
       "26526         Mullery, James   51   M             Summit    NJ     USA   \n",
       "26527          Lee, Bothwell   63   M         Washington    DC     USA   \n",
       "26528       Mollica, Gabriel   24   M        Garden City    NY     USA   \n",
       "26529    Grobenski, Zvonimir   70   M     Bonita Springs    FL     USA   \n",
       "26530             Cox, Kevin   34   M           New York    NY     USA   \n",
       "26532     Gurland, Joshua D.   45   M           Bethesda    MD     USA   \n",
       "26536            Brown, Matt   39   M       North Aurora    IL     USA   \n",
       "26542     Forest, Michael J.   52   M              Tampa    FL     USA   \n",
       "26557          Hidalgo, Alan   30   M         South Gate    CA     USA   \n",
       "26561      Campbell, John N.   68   M       Grand Rapids    MI     USA   \n",
       "26562   Khawandanah, Mohamad   33   M      Oklahoma City    OK     USA   \n",
       "26572     Palumbo, Joseph J.   30   M          Spotswood    NJ     USA   \n",
       "26577    Martone, Michael N.   45   M             Pelham    NH     USA   \n",
       "26580    Woodward, Jeremy L.   37   M            Concord    NH     USA   \n",
       "26582          Devlin, James   40   M          Merrimack    NH     USA   \n",
       "26597          Wright, Trent   43   M          Claremont    NC     USA   \n",
       "26598  Smith, Christopher C.   81   M           Honolulu    HI     USA   \n",
       "26600       Reed, Stephen D.   68   M          Wiscasset    ME     USA   \n",
       "26608       Pierce, Randy L.   49   M             Nashua    NH     USA   \n",
       "26609     Vorvick, Philip N.   56   M           Portland    OR     USA   \n",
       "26612             Lehew, Bob   73   M             Estero    FL     USA   \n",
       "26614    Carling, Richard J.   78   M     Salt Lake City    UT     USA   \n",
       "26618          Leroy, Stefan   24   M           New York    NY     USA   \n",
       "26621         Gomez, Raymond   58   M  Arlington Heights    IL     USA   \n",
       "26622          Rigsby, Scott   47   M            Atlanta    GA     USA   \n",
       "26624         Hall, Steven J   43   M            Yardley    PA     USA   \n",
       "26627      Ganem, William J.   39   M          Reedsburg    WI     USA   \n",
       "26628       Farler, Daryl R.   35   M           Franklin    TN     USA   \n",
       "\n",
       "       Gender Official Time  \n",
       "9          10       2:21:37  \n",
       "12         13       2:22:22  \n",
       "14         15       2:24:46  \n",
       "16         17       2:24:55  \n",
       "20         21       2:27:07  \n",
       "23         24       2:27:53  \n",
       "24         25       2:28:14  \n",
       "25         26       2:28:26  \n",
       "27         28       2:29:09  \n",
       "29         29       2:29:23  \n",
       "30         30       2:29:32  \n",
       "31         31       2:29:51  \n",
       "33         32       2:30:22  \n",
       "37         35       2:31:14  \n",
       "38         36       2:31:16  \n",
       "39         37       2:31:24  \n",
       "40         38       2:31:39  \n",
       "44         41       2:32:37  \n",
       "46         43       2:32:45  \n",
       "47         44       2:33:03  \n",
       "49         45       2:33:19  \n",
       "50         46       2:33:23  \n",
       "51         47       2:33:35  \n",
       "58         52       2:34:15  \n",
       "59         53       2:34:17  \n",
       "60         54       2:34:19  \n",
       "63         57       2:34:35  \n",
       "65         58       2:34:41  \n",
       "66         59       2:34:43  \n",
       "69         61       2:35:00  \n",
       "...       ...           ...  \n",
       "26518   14415       5:59:54  \n",
       "26523   14416       6:00:13  \n",
       "26526   14417       6:00:15  \n",
       "26527   14418       6:00:16  \n",
       "26528   14419       6:00:17  \n",
       "26529   14420       6:00:17  \n",
       "26530   14421       6:00:17  \n",
       "26532   14422       6:00:28  \n",
       "26536   14423       6:00:43  \n",
       "26542   14428       6:01:16  \n",
       "26557   14431       6:01:59  \n",
       "26561   14433       6:02:04  \n",
       "26562   14434       6:02:11  \n",
       "26572   14437       6:03:30  \n",
       "26577   14439       6:03:45  \n",
       "26580   14440       6:03:57  \n",
       "26582   14441       6:04:03  \n",
       "26597   14448       6:07:48  \n",
       "26598   14449       6:08:10  \n",
       "26600   14450       6:08:28  \n",
       "26608   14451       6:19:02  \n",
       "26609   14452       6:19:26  \n",
       "26612   14454       6:21:30  \n",
       "26614   14455       6:28:33  \n",
       "26618   14458       6:43:49  \n",
       "26621   14459       6:57:00  \n",
       "26622   14460       6:58:04  \n",
       "26624   14461       7:22:23  \n",
       "26627   14462       8:23:27  \n",
       "26628   14463       8:25:09  \n",
       "\n",
       "[8985 rows x 8 columns]"
      ]
     },
     "execution_count": 35,
     "metadata": {},
     "output_type": "execute_result"
    }
   ],
   "source": [
    "traveling_boston_men"
   ]
  },
  {
   "cell_type": "code",
   "execution_count": 36,
   "metadata": {
    "scrolled": true
   },
   "outputs": [
    {
     "data": {
      "text/plain": [
       "CA    1053\n",
       "NY     754\n",
       "TX     503\n",
       "PA     467\n",
       "IL     463\n",
       "OH     405\n",
       "MI     360\n",
       "FL     351\n",
       "VA     310\n",
       "NC     298\n",
       "MN     288\n",
       "NJ     288\n",
       "CO     246\n",
       "WA     227\n",
       "CT     224\n",
       "MD     219\n",
       "WI     202\n",
       "NH     189\n",
       "GA     186\n",
       "UT     171\n",
       "IN     154\n",
       "OR     148\n",
       "AZ     140\n",
       "TN     127\n",
       "MO     115\n",
       "ME      87\n",
       "KY      85\n",
       "IA      81\n",
       "RI      80\n",
       "DC      76\n",
       "SC      72\n",
       "AL      66\n",
       "KS      64\n",
       "OK      52\n",
       "LA      43\n",
       "NE      37\n",
       "VT      36\n",
       "NM      35\n",
       "ID      33\n",
       "WV      32\n",
       "NV      31\n",
       "DE      29\n",
       "AK      27\n",
       "AR      26\n",
       "HI      23\n",
       "ND      19\n",
       "MT      16\n",
       "SD      13\n",
       "WY      12\n",
       "MS      10\n",
       "PR       8\n",
       "AE       2\n",
       "GU       1\n",
       "VI       1\n",
       "Name: State, dtype: int64"
      ]
     },
     "execution_count": 36,
     "metadata": {},
     "output_type": "execute_result"
    }
   ],
   "source": [
    "traveling_boston_men['State'].value_counts()"
   ]
  },
  {
   "cell_type": "code",
   "execution_count": 19,
   "metadata": {
    "collapsed": true
   },
   "outputs": [],
   "source": [
    "### 15% of male finishers were from Boston \n",
    "### 77% of male finishers were from the United States "
   ]
  },
  {
   "cell_type": "markdown",
   "metadata": {},
   "source": [
    "## Now let's look at Chicago"
   ]
  },
  {
   "cell_type": "code",
   "execution_count": 20,
   "metadata": {
    "scrolled": true
   },
   "outputs": [
    {
     "data": {
      "text/plain": [
       "IL                 8428\n",
       "NY                  836\n",
       "CA                  753\n",
       "TX                  593\n",
       "IN                  570\n",
       "MA                  507\n",
       "MI                  496\n",
       "FL                  435\n",
       "WI                  384\n",
       "OH                  311\n",
       "GA                  275\n",
       "ON                  268\n",
       "PA                  250\n",
       "NJ                  245\n",
       "VA                  219\n",
       "NC                  214\n",
       "MO                  205\n",
       "CO                  203\n",
       "MN                  202\n",
       "IA                  202\n",
       "MD                  150\n",
       "KY                  140\n",
       "WA                  131\n",
       "TN                  128\n",
       "DC                  114\n",
       "CT                   95\n",
       "KS                   89\n",
       "QC                   84\n",
       "AZ                   79\n",
       "Mexico               67\n",
       "                   ... \n",
       "CASCAIS               1\n",
       "Inverness             1\n",
       "Jyderup               1\n",
       "Lyngby                1\n",
       "Ma?opolska            1\n",
       "Lubelskie             1\n",
       "Aberde...             1\n",
       "Remuera               1\n",
       "Rosscommon            1\n",
       "Staffordshire         1\n",
       "Rodovre               1\n",
       "PAN...                1\n",
       "Herefordshire         1\n",
       "Sta?vring             1\n",
       "Minato-Ku             1\n",
       "IL.                   1\n",
       "HaiDian               1\n",
       "Me...                 1\n",
       "SURREY                1\n",
       "Western Aust...       1\n",
       "Mexic...              1\n",
       "Guipu...              1\n",
       "Koto-Ku               1\n",
       "Rep ...               1\n",
       "Sheun...              1\n",
       "ALBACETE              1\n",
       "Sergipe               1\n",
       "Garza Ga...           1\n",
       "Miramar               1\n",
       "Mazowsze              1\n",
       "Name: State, Length: 1142, dtype: int64"
      ]
     },
     "execution_count": 20,
     "metadata": {},
     "output_type": "execute_result"
    }
   ],
   "source": [
    "chicago = pd.read_csv('ChicagoMarathonMen.csv')\n",
    "chicago['State'].value_counts()"
   ]
  },
  {
   "cell_type": "code",
   "execution_count": 21,
   "metadata": {
    "scrolled": true
   },
   "outputs": [
    {
     "data": {
      "text/plain": [
       "22000"
      ]
     },
     "execution_count": 21,
     "metadata": {},
     "output_type": "execute_result"
    }
   ],
   "source": [
    "len(chicago)"
   ]
  },
  {
   "cell_type": "code",
   "execution_count": 22,
   "metadata": {
    "collapsed": true
   },
   "outputs": [],
   "source": [
    "chicago_usa_men = chicago[chicago['Name'].str.contains('USA')]"
   ]
  },
  {
   "cell_type": "code",
   "execution_count": 23,
   "metadata": {
    "scrolled": true
   },
   "outputs": [
    {
     "data": {
      "text/plain": [
       "15392"
      ]
     },
     "execution_count": 23,
     "metadata": {},
     "output_type": "execute_result"
    }
   ],
   "source": [
    "len(chicago_usa_men)"
   ]
  },
  {
   "cell_type": "code",
   "execution_count": 24,
   "metadata": {
    "scrolled": true
   },
   "outputs": [
    {
     "data": {
      "text/plain": [
       "IL                  7652\n",
       "NY                   661\n",
       "CA                   658\n",
       "IN                   524\n",
       "TX                   511\n",
       "MA                   441\n",
       "MI                   440\n",
       "FL                   372\n",
       "WI                   365\n",
       "OH                   290\n",
       "GA                   249\n",
       "PA                   235\n",
       "NJ                   213\n",
       "VA                   206\n",
       "MN                   192\n",
       "NC                   191\n",
       "MO                   189\n",
       "IA                   186\n",
       "CO                   185\n",
       "MD                   133\n",
       "KY                   132\n",
       "TN                   120\n",
       "WA                   119\n",
       "DC                    96\n",
       "CT                    86\n",
       "KS                    83\n",
       "AZ                    75\n",
       "OK                    63\n",
       "SC                    54\n",
       "OR                    50\n",
       "                    ... \n",
       "Hong K...              1\n",
       "Taiwan                 1\n",
       "MEXICO...              1\n",
       "Washington             1\n",
       "Massachus...           1\n",
       "Mexico city            1\n",
       "il                     1\n",
       "Tokyo-to               1\n",
       "QC                     1\n",
       "Distrito Federal       1\n",
       "WY                     1\n",
       "Guangdong              1\n",
       "illinois               1\n",
       "Puebla                 1\n",
       "AA                     1\n",
       "Tokyo                  1\n",
       "Minnesota              1\n",
       "McHenry                1\n",
       "SA...                  1\n",
       "Middlesex              1\n",
       "London                 1\n",
       "USA                    1\n",
       "Ar                     1\n",
       "Indiana                1\n",
       "Hong Kong              1\n",
       "BS                     1\n",
       "Ohio                   1\n",
       "Pr 00954-0...          1\n",
       "zacatecas              1\n",
       "Atsugi...              1\n",
       "Name: State, Length: 102, dtype: int64"
      ]
     },
     "execution_count": 24,
     "metadata": {},
     "output_type": "execute_result"
    }
   ],
   "source": [
    "chicago_usa_men['State'].value_counts()"
   ]
  },
  {
   "cell_type": "code",
   "execution_count": 25,
   "metadata": {
    "collapsed": true
   },
   "outputs": [],
   "source": [
    "### 50% of male finishers at Chicago were from Illinois \n",
    "### 70% of Chicago male finishers were from the US "
   ]
  },
  {
   "cell_type": "code",
   "execution_count": 26,
   "metadata": {},
   "outputs": [
    {
     "data": {
      "text/plain": [
       "18000"
      ]
     },
     "execution_count": 26,
     "metadata": {},
     "output_type": "execute_result"
    }
   ],
   "source": [
    "chicago_women = pd.read_csv('ChicagoMarathonWomen.csv')\n",
    "len(chicago_women)"
   ]
  },
  {
   "cell_type": "code",
   "execution_count": 27,
   "metadata": {
    "collapsed": true,
    "scrolled": true
   },
   "outputs": [],
   "source": [
    "chicago_women_usa = chicago_women[chicago_women['Age'].str.contains('USA')]"
   ]
  },
  {
   "cell_type": "code",
   "execution_count": 28,
   "metadata": {},
   "outputs": [
    {
     "data": {
      "text/plain": [
       "14938"
      ]
     },
     "execution_count": 28,
     "metadata": {},
     "output_type": "execute_result"
    }
   ],
   "source": [
    "len(chicago_women_usa)"
   ]
  },
  {
   "cell_type": "code",
   "execution_count": 29,
   "metadata": {
    "scrolled": true
   },
   "outputs": [
    {
     "data": {
      "text/plain": [
       "IL                 6442\n",
       "NY                  726\n",
       "CA                  709\n",
       "MA                  629\n",
       "TX                  597\n",
       "IN                  503\n",
       "FL                  458\n",
       "MI                  443\n",
       "WI                  360\n",
       "OH                  301\n",
       "GA                  256\n",
       "CO                  255\n",
       "NC                  243\n",
       "IA                  241\n",
       "MO                  235\n",
       "PA                  212\n",
       "VA                  208\n",
       "NJ                  203\n",
       "MN                  173\n",
       "TN                  165\n",
       "MD                  152\n",
       "DC                  117\n",
       "WA                  112\n",
       "CT                   95\n",
       "KS                   90\n",
       "KY                   83\n",
       "OK                   77\n",
       "OR                   75\n",
       "AZ                   69\n",
       "SC                   67\n",
       "                   ... \n",
       "Michigan              3\n",
       "WY                    3\n",
       "BC                    1\n",
       "Ny                    1\n",
       "California            1\n",
       "Texas                 1\n",
       "Cook                  1\n",
       "Washington            1\n",
       "New York...           1\n",
       "NorthCa...            1\n",
       "Panama                1\n",
       "Puerto Rico           1\n",
       "Wi                    1\n",
       "Mexico City           1\n",
       "Tn                    1\n",
       "Georgia               1\n",
       "Dc                    1\n",
       "Ia                    1\n",
       "GU                    1\n",
       "Missouri              1\n",
       "Segovia               1\n",
       "Buckinghamshire       1\n",
       "NS                    1\n",
       "Florida               1\n",
       "Co                    1\n",
       "Il                    1\n",
       "Lazio                 1\n",
       "D.C.                  1\n",
       "Jalisco               1\n",
       "AE                    1\n",
       "Name: State, Length: 87, dtype: int64"
      ]
     },
     "execution_count": 29,
     "metadata": {},
     "output_type": "execute_result"
    }
   ],
   "source": [
    "chicago_women_usa['State'].value_counts()"
   ]
  },
  {
   "cell_type": "code",
   "execution_count": 30,
   "metadata": {
    "collapsed": true
   },
   "outputs": [],
   "source": [
    "### 43% of Chicago women finishers are from Illinois \n",
    "### 83% of Chicago women finishers were from the USA "
   ]
  },
  {
   "cell_type": "code",
   "execution_count": 40,
   "metadata": {},
   "outputs": [
    {
     "data": {
      "text/html": [
       "<div>\n",
       "<style>\n",
       "    .dataframe thead tr:only-child th {\n",
       "        text-align: right;\n",
       "    }\n",
       "\n",
       "    .dataframe thead th {\n",
       "        text-align: left;\n",
       "    }\n",
       "\n",
       "    .dataframe tbody tr th {\n",
       "        vertical-align: top;\n",
       "    }\n",
       "</style>\n",
       "<table border=\"1\" class=\"dataframe\">\n",
       "  <thead>\n",
       "    <tr style=\"text-align: right;\">\n",
       "      <th></th>\n",
       "      <th>Name</th>\n",
       "      <th>Age</th>\n",
       "      <th>Total Time</th>\n",
       "      <th>City</th>\n",
       "      <th>State</th>\n",
       "      <th>Gender</th>\n",
       "    </tr>\n",
       "  </thead>\n",
       "  <tbody>\n",
       "    <tr>\n",
       "      <th>0</th>\n",
       "      <td>JACKELINE CORONA</td>\n",
       "      <td>16.0</td>\n",
       "      <td>3:31:39</td>\n",
       "      <td>LOS ANGELES</td>\n",
       "      <td>CA</td>\n",
       "      <td>W</td>\n",
       "    </tr>\n",
       "    <tr>\n",
       "      <th>1</th>\n",
       "      <td>LAUREN FAHMY</td>\n",
       "      <td>19.0</td>\n",
       "      <td>3:46:40</td>\n",
       "      <td>MADISON</td>\n",
       "      <td>WI</td>\n",
       "      <td>W</td>\n",
       "    </tr>\n",
       "    <tr>\n",
       "      <th>2</th>\n",
       "      <td>LEIA WANG</td>\n",
       "      <td>19.0</td>\n",
       "      <td>3:46:50</td>\n",
       "      <td>LOS ANGELES</td>\n",
       "      <td>CA</td>\n",
       "      <td>W</td>\n",
       "    </tr>\n",
       "    <tr>\n",
       "      <th>3</th>\n",
       "      <td>CHRISTOPHER GOMEZ</td>\n",
       "      <td>17.0</td>\n",
       "      <td>3:49:35</td>\n",
       "      <td>LA</td>\n",
       "      <td>CA</td>\n",
       "      <td>W</td>\n",
       "    </tr>\n",
       "    <tr>\n",
       "      <th>4</th>\n",
       "      <td>JULIA DALECIO</td>\n",
       "      <td>19.0</td>\n",
       "      <td>3:52:57</td>\n",
       "      <td>RANCHO MIRAGE</td>\n",
       "      <td>CA</td>\n",
       "      <td>W</td>\n",
       "    </tr>\n",
       "  </tbody>\n",
       "</table>\n",
       "</div>"
      ],
      "text/plain": [
       "                Name   Age Total Time           City State Gender\n",
       "0   JACKELINE CORONA  16.0    3:31:39    LOS ANGELES    CA      W\n",
       "1       LAUREN FAHMY  19.0    3:46:40        MADISON    WI      W\n",
       "2          LEIA WANG  19.0    3:46:50    LOS ANGELES    CA      W\n",
       "3  CHRISTOPHER GOMEZ  17.0    3:49:35             LA    CA      W\n",
       "4      JULIA DALECIO  19.0    3:52:57  RANCHO MIRAGE    CA      W"
      ]
     },
     "execution_count": 40,
     "metadata": {},
     "output_type": "execute_result"
    }
   ],
   "source": [
    "df = pd.read_csv('LAMarathonWomen.csv')\n",
    "df.head()"
   ]
  },
  {
   "cell_type": "code",
   "execution_count": 45,
   "metadata": {},
   "outputs": [
    {
     "data": {
      "text/plain": [
       "CA                           6426\n",
       "NY                             68\n",
       "TX                             59\n",
       "MEXICO                         46\n",
       "JAPAN                          45\n",
       "CO                             45\n",
       "IL                             37\n",
       "CANADA                         32\n",
       "OR                             32\n",
       "WA                             30\n",
       "AZ                             28\n",
       "MA                             24\n",
       "NV                             24\n",
       "FL                             20\n",
       "NJ                             16\n",
       "OH                             15\n",
       "PA                             15\n",
       "UNITED KINGDOM                 13\n",
       "UT                             12\n",
       "GA                             11\n",
       "VA                             11\n",
       "CHINA                          10\n",
       "GERMANY                        10\n",
       "IN                             10\n",
       "ID                              9\n",
       "AUSTRALIA                       9\n",
       "MN                              9\n",
       "MD                              8\n",
       "HI                              8\n",
       "NC                              8\n",
       "                             ... \n",
       "ARGENTINA                       1\n",
       "ESTONIA                         1\n",
       "WV                              1\n",
       "OSAKA                           1\n",
       "US MINOR OUTLYING ISLANDS       1\n",
       "HUNGARY                         1\n",
       "IRELAND                         1\n",
       "FRENCH POLYNESIA                1\n",
       "BELGIUM                         1\n",
       "FUKUOKA-S                       1\n",
       "CHILE                           1\n",
       "RIZAL                           1\n",
       "VT                              1\n",
       "THAILAND                        1\n",
       "HONDURAS                        1\n",
       "AK                              1\n",
       "NEW CALEDONIA                   1\n",
       "ICELAND                         1\n",
       "ITALY                           1\n",
       "NORWAY                          1\n",
       "VIC                             1\n",
       "SWITZERLAND                     1\n",
       "PERU                            1\n",
       "TN                              1\n",
       "ND                              1\n",
       "NICARAGUA                       1\n",
       "TOKYO                           1\n",
       "RUSSIAN FEDERATION              1\n",
       "QUERETARO                       1\n",
       "US                              1\n",
       "Name: State, Length: 99, dtype: int64"
      ]
     },
     "execution_count": 45,
     "metadata": {},
     "output_type": "execute_result"
    }
   ],
   "source": [
    "df['State'].value_counts()"
   ]
  },
  {
   "cell_type": "code",
   "execution_count": null,
   "metadata": {
    "collapsed": true
   },
   "outputs": [],
   "source": []
  },
  {
   "cell_type": "code",
   "execution_count": null,
   "metadata": {
    "collapsed": true
   },
   "outputs": [],
   "source": []
  },
  {
   "cell_type": "code",
   "execution_count": null,
   "metadata": {
    "collapsed": true
   },
   "outputs": [],
   "source": []
  },
  {
   "cell_type": "code",
   "execution_count": null,
   "metadata": {
    "collapsed": true
   },
   "outputs": [],
   "source": []
  },
  {
   "cell_type": "code",
   "execution_count": null,
   "metadata": {
    "collapsed": true
   },
   "outputs": [],
   "source": []
  },
  {
   "cell_type": "code",
   "execution_count": null,
   "metadata": {
    "collapsed": true
   },
   "outputs": [],
   "source": []
  },
  {
   "cell_type": "code",
   "execution_count": null,
   "metadata": {
    "collapsed": true
   },
   "outputs": [],
   "source": []
  }
 ],
 "metadata": {
  "kernelspec": {
   "display_name": "Python 3",
   "language": "python",
   "name": "python3"
  },
  "language_info": {
   "codemirror_mode": {
    "name": "ipython",
    "version": 3
   },
   "file_extension": ".py",
   "mimetype": "text/x-python",
   "name": "python",
   "nbconvert_exporter": "python",
   "pygments_lexer": "ipython3",
   "version": "3.6.1"
  }
 },
 "nbformat": 4,
 "nbformat_minor": 2
}
